{
 "cells": [
  {
   "cell_type": "markdown",
   "metadata": {},
   "source": [
    "[Relationships](https://docs.sqlalchemy.org/en/20/orm/basic_relationships.html) \\\n",
    "[QuickStart](https://docs.sqlalchemy.org/en/20/orm/quickstart.html)"
   ]
  },
  {
   "cell_type": "code",
   "execution_count": 32,
   "metadata": {},
   "outputs": [],
   "source": [
    "import os.path as path\n",
    "import os\n",
    "\n",
    "from sqlalchemy import Column, Float, ForeignKey, Integer, String, Table, select, event\n",
    "from sqlalchemy.engine import Engine, create_engine\n",
    "from sqlalchemy.ext.associationproxy import association_proxy\n",
    "from sqlalchemy.orm import DeclarativeBase, Session, relationship"
   ]
  },
  {
   "cell_type": "code",
   "execution_count": 33,
   "metadata": {},
   "outputs": [],
   "source": [
    "@event.listens_for(Engine, \"connect\")\n",
    "def set_sqlite_pragma(dbapi_connection, connection_record):\n",
    "    cursor = dbapi_connection.cursor()\n",
    "    cursor.execute(\"PRAGMA foreign_keys=ON\")\n",
    "    cursor.close()"
   ]
  },
  {
   "cell_type": "code",
   "execution_count": 34,
   "metadata": {},
   "outputs": [],
   "source": [
    "class Base(DeclarativeBase):\n",
    "    pass\n",
    "\n",
    "\n",
    "cashflows_tags_table = Table(\n",
    "    \"cashflows_tags\",\n",
    "    Base.metadata,\n",
    "    Column(\"cashflow_id\", ForeignKey(\"cashflows.id\"), primary_key=True),\n",
    "    Column(\"tag_id\", ForeignKey(\"tags.id\"), primary_key=True),\n",
    ")\n",
    "\n",
    "\n",
    "class Tag(Base):\n",
    "    __tablename__ = \"tags\"\n",
    "\n",
    "    id = Column(Integer, primary_key=True)\n",
    "    tag = Column(String, nullable=False, unique=True)\n",
    "\n",
    "    cash = relationship(\n",
    "        \"Cashflow\", secondary=cashflows_tags_table, back_populates=\"tags\"\n",
    "    )\n",
    "\n",
    "\n",
    "class Cashflow(Base):\n",
    "    __tablename__ = \"cashflows\"\n",
    "\n",
    "    id = Column(Integer, primary_key=True)\n",
    "    amount = Column(Float, nullable=False)\n",
    "    description = Column(String, nullable=False)\n",
    "\n",
    "    # Many to Many\n",
    "    tags = relationship(\"Tag\", secondary=cashflows_tags_table, back_populates=\"cash\")\n",
    "    templates = association_proxy(\"tags\", \"amount\")"
   ]
  },
  {
   "cell_type": "code",
   "execution_count": 35,
   "metadata": {},
   "outputs": [
    {
     "name": "stdout",
     "output_type": "stream",
     "text": [
      "2024-02-21 22:13:51,680 INFO sqlalchemy.engine.Engine BEGIN (implicit)\n",
      "2024-02-21 22:13:51,681 INFO sqlalchemy.engine.Engine PRAGMA main.table_info(\"cashflows_tags\")\n",
      "2024-02-21 22:13:51,681 INFO sqlalchemy.engine.Engine [raw sql] ()\n",
      "2024-02-21 22:13:51,682 INFO sqlalchemy.engine.Engine PRAGMA temp.table_info(\"cashflows_tags\")\n",
      "2024-02-21 22:13:51,683 INFO sqlalchemy.engine.Engine [raw sql] ()\n",
      "2024-02-21 22:13:51,684 INFO sqlalchemy.engine.Engine PRAGMA main.table_info(\"tags\")\n",
      "2024-02-21 22:13:51,684 INFO sqlalchemy.engine.Engine [raw sql] ()\n",
      "2024-02-21 22:13:51,684 INFO sqlalchemy.engine.Engine PRAGMA temp.table_info(\"tags\")\n",
      "2024-02-21 22:13:51,685 INFO sqlalchemy.engine.Engine [raw sql] ()\n",
      "2024-02-21 22:13:51,685 INFO sqlalchemy.engine.Engine PRAGMA main.table_info(\"cashflows\")\n",
      "2024-02-21 22:13:51,686 INFO sqlalchemy.engine.Engine [raw sql] ()\n",
      "2024-02-21 22:13:51,686 INFO sqlalchemy.engine.Engine PRAGMA temp.table_info(\"cashflows\")\n",
      "2024-02-21 22:13:51,687 INFO sqlalchemy.engine.Engine [raw sql] ()\n",
      "2024-02-21 22:13:51,688 INFO sqlalchemy.engine.Engine \n",
      "CREATE TABLE tags (\n",
      "\tid INTEGER NOT NULL, \n",
      "\ttag VARCHAR NOT NULL, \n",
      "\tPRIMARY KEY (id), \n",
      "\tUNIQUE (tag)\n",
      ")\n",
      "\n",
      "\n",
      "2024-02-21 22:13:51,688 INFO sqlalchemy.engine.Engine [no key 0.00035s] ()\n",
      "2024-02-21 22:13:51,744 INFO sqlalchemy.engine.Engine \n",
      "CREATE TABLE cashflows (\n",
      "\tid INTEGER NOT NULL, \n",
      "\tamount FLOAT NOT NULL, \n",
      "\tdescription VARCHAR NOT NULL, \n",
      "\tPRIMARY KEY (id)\n",
      ")\n",
      "\n",
      "\n",
      "2024-02-21 22:13:51,745 INFO sqlalchemy.engine.Engine [no key 0.00079s] ()\n",
      "2024-02-21 22:13:51,817 INFO sqlalchemy.engine.Engine \n",
      "CREATE TABLE cashflows_tags (\n",
      "\tcashflow_id INTEGER NOT NULL, \n",
      "\ttag_id INTEGER NOT NULL, \n",
      "\tPRIMARY KEY (cashflow_id, tag_id), \n",
      "\tFOREIGN KEY(cashflow_id) REFERENCES cashflows (id), \n",
      "\tFOREIGN KEY(tag_id) REFERENCES tags (id)\n",
      ")\n",
      "\n",
      "\n",
      "2024-02-21 22:13:51,817 INFO sqlalchemy.engine.Engine [no key 0.00056s] ()\n",
      "2024-02-21 22:13:51,899 INFO sqlalchemy.engine.Engine COMMIT\n"
     ]
    }
   ],
   "source": [
    "engine = create_engine(f\"sqlite://\", echo=True)\n",
    "\n",
    "# db = path.join(path.abspath(\"\"), \"test.db\")\n",
    "# if path.exists(db):\n",
    "#     os.remove(db)\n",
    "# engine = create_engine(f\"sqlite:///{db}\", echo=True)\n",
    "\n",
    "Base.metadata.create_all(engine)"
   ]
  },
  {
   "cell_type": "code",
   "execution_count": 36,
   "metadata": {},
   "outputs": [
    {
     "name": "stdout",
     "output_type": "stream",
     "text": [
      "2024-02-21 22:13:51,909 INFO sqlalchemy.engine.Engine BEGIN (implicit)\n",
      "2024-02-21 22:13:51,911 INFO sqlalchemy.engine.Engine INSERT INTO cashflows (id, amount, description) VALUES (?, ?, ?)\n",
      "2024-02-21 22:13:51,911 INFO sqlalchemy.engine.Engine [generated in 0.00077s] [(1, 100.0, 'cash1'), (2, 100.0, 'cash1'), (3, 100.0, 'cash1')]\n",
      "2024-02-21 22:13:51,914 INFO sqlalchemy.engine.Engine INSERT INTO tags (id, tag) VALUES (?, ?)\n",
      "2024-02-21 22:13:51,914 INFO sqlalchemy.engine.Engine [generated in 0.00058s] [(1, 'Tag1'), (2, 'Tag2'), (3, 'Tag3')]\n",
      "2024-02-21 22:13:51,915 INFO sqlalchemy.engine.Engine INSERT INTO cashflows_tags (cashflow_id, tag_id) VALUES (?, ?)\n",
      "2024-02-21 22:13:51,915 INFO sqlalchemy.engine.Engine [generated in 0.00037s] [(2, 2), (3, 3), (1, 1)]\n",
      "2024-02-21 22:13:51,916 INFO sqlalchemy.engine.Engine COMMIT\n",
      "2024-02-21 22:13:51,974 INFO sqlalchemy.engine.Engine BEGIN (implicit)\n",
      "2024-02-21 22:13:51,976 INFO sqlalchemy.engine.Engine SELECT cashflows.id AS cashflows_id, cashflows.amount AS cashflows_amount, cashflows.description AS cashflows_description \n",
      "FROM cashflows \n",
      "WHERE cashflows.id = ?\n",
      "2024-02-21 22:13:51,976 INFO sqlalchemy.engine.Engine [generated in 0.00068s] (1,)\n",
      "Amount: 100.0\n",
      "2024-02-21 22:13:51,977 INFO sqlalchemy.engine.Engine SELECT cashflows.id AS cashflows_id, cashflows.amount AS cashflows_amount, cashflows.description AS cashflows_description \n",
      "FROM cashflows \n",
      "WHERE cashflows.id = ?\n",
      "2024-02-21 22:13:51,978 INFO sqlalchemy.engine.Engine [cached since 0.002278s ago] (2,)\n",
      "Amount: 100.0\n",
      "2024-02-21 22:13:51,978 INFO sqlalchemy.engine.Engine SELECT cashflows.id AS cashflows_id, cashflows.amount AS cashflows_amount, cashflows.description AS cashflows_description \n",
      "FROM cashflows \n",
      "WHERE cashflows.id = ?\n",
      "2024-02-21 22:13:51,979 INFO sqlalchemy.engine.Engine [cached since 0.003579s ago] (3,)\n",
      "Amount: 100.0\n",
      "2024-02-21 22:13:51,980 INFO sqlalchemy.engine.Engine ROLLBACK\n"
     ]
    }
   ],
   "source": [
    "with Session(engine) as session:\n",
    "\n",
    "    tags = [Tag(id=1, tag=\"Tag1\"), Tag(id=2, tag=\"Tag2\"), Tag(id=3, tag=\"Tag3\")]\n",
    "\n",
    "    cash = [\n",
    "        Cashflow(id=1, amount=100, description=\"cash1\"),\n",
    "        Cashflow(id=2, amount=100, description=\"cash1\"),\n",
    "        Cashflow(id=3, amount=100, description=\"cash1\"),\n",
    "    ]\n",
    "\n",
    "    for t, c in zip(tags, cash):\n",
    "        c.tags.append(t)\n",
    "\n",
    "    session.add_all(tags)\n",
    "    session.add_all(cash)\n",
    "    session.commit()\n",
    "    \n",
    "    for c in cash:\n",
    "        print(f\"Amount: {c.amount}\")"
   ]
  },
  {
   "cell_type": "code",
   "execution_count": 37,
   "metadata": {},
   "outputs": [
    {
     "name": "stdout",
     "output_type": "stream",
     "text": [
      "2024-02-21 22:13:51,986 INFO sqlalchemy.engine.Engine BEGIN (implicit)\n",
      "2024-02-21 22:13:51,987 INFO sqlalchemy.engine.Engine SELECT tags.id AS tags_id, tags.tag AS tags_tag \n",
      "FROM tags \n",
      "WHERE tags.id = ?\n",
      "2024-02-21 22:13:51,988 INFO sqlalchemy.engine.Engine [generated in 0.00069s] (1,)\n",
      "2024-02-21 22:13:51,990 INFO sqlalchemy.engine.Engine SELECT cashflows.id AS cashflows_id, cashflows.amount AS cashflows_amount, cashflows.description AS cashflows_description \n",
      "FROM cashflows, cashflows_tags \n",
      "WHERE ? = cashflows_tags.tag_id AND cashflows.id = cashflows_tags.cashflow_id\n",
      "2024-02-21 22:13:51,990 INFO sqlalchemy.engine.Engine [generated in 0.00045s] (1,)\n",
      "2024-02-21 22:13:51,992 INFO sqlalchemy.engine.Engine DELETE FROM cashflows_tags WHERE cashflows_tags.cashflow_id = ? AND cashflows_tags.tag_id = ?\n",
      "2024-02-21 22:13:51,992 INFO sqlalchemy.engine.Engine [generated in 0.00037s] (1, 1)\n",
      "2024-02-21 22:13:51,994 INFO sqlalchemy.engine.Engine DELETE FROM tags WHERE tags.id = ?\n",
      "2024-02-21 22:13:51,994 INFO sqlalchemy.engine.Engine [generated in 0.00036s] (1,)\n",
      "2024-02-21 22:13:51,995 INFO sqlalchemy.engine.Engine COMMIT\n"
     ]
    }
   ],
   "source": [
    "with Session(engine) as session:\n",
    "    tag = session.get(Tag, 1)\n",
    "\n",
    "    session.delete(tag)\n",
    "    session.commit()"
   ]
  },
  {
   "cell_type": "code",
   "execution_count": 38,
   "metadata": {},
   "outputs": [
    {
     "name": "stdout",
     "output_type": "stream",
     "text": [
      "2024-02-21 22:13:52,047 INFO sqlalchemy.engine.Engine BEGIN (implicit)\n",
      "2024-02-21 22:13:52,048 INFO sqlalchemy.engine.Engine SELECT cashflows.id AS cashflows_id, cashflows.amount AS cashflows_amount, cashflows.description AS cashflows_description \n",
      "FROM cashflows \n",
      "WHERE cashflows.id = ?\n",
      "2024-02-21 22:13:52,049 INFO sqlalchemy.engine.Engine [generated in 0.00059s] (3,)\n",
      "2024-02-21 22:13:52,051 INFO sqlalchemy.engine.Engine SELECT tags.id AS tags_id, tags.tag AS tags_tag \n",
      "FROM tags, cashflows_tags \n",
      "WHERE ? = cashflows_tags.cashflow_id AND tags.id = cashflows_tags.tag_id\n",
      "2024-02-21 22:13:52,051 INFO sqlalchemy.engine.Engine [generated in 0.00093s] (3,)\n",
      "2024-02-21 22:13:52,052 INFO sqlalchemy.engine.Engine DELETE FROM cashflows_tags WHERE cashflows_tags.cashflow_id = ? AND cashflows_tags.tag_id = ?\n",
      "2024-02-21 22:13:52,053 INFO sqlalchemy.engine.Engine [cached since 0.06138s ago] (3, 3)\n",
      "2024-02-21 22:13:52,055 INFO sqlalchemy.engine.Engine DELETE FROM cashflows WHERE cashflows.id = ?\n",
      "2024-02-21 22:13:52,055 INFO sqlalchemy.engine.Engine [generated in 0.00059s] (3,)\n",
      "2024-02-21 22:13:52,056 INFO sqlalchemy.engine.Engine COMMIT\n"
     ]
    }
   ],
   "source": [
    "with Session(engine) as session:\n",
    "    cash = session.get(Cashflow, 3)\n",
    "    session.delete(cash)\n",
    "    session.commit()"
   ]
  },
  {
   "cell_type": "code",
   "execution_count": 39,
   "metadata": {},
   "outputs": [
    {
     "name": "stdout",
     "output_type": "stream",
     "text": [
      "2024-02-21 22:13:52,130 INFO sqlalchemy.engine.Engine BEGIN (implicit)\n",
      "2024-02-21 22:13:52,131 INFO sqlalchemy.engine.Engine SELECT cashflows.id AS cashflows_id, cashflows.amount AS cashflows_amount, cashflows.description AS cashflows_description \n",
      "FROM cashflows \n",
      "WHERE cashflows.id = ?\n",
      "2024-02-21 22:13:52,131 INFO sqlalchemy.engine.Engine [cached since 0.08355s ago] (1,)\n",
      "2024-02-21 22:13:52,132 INFO sqlalchemy.engine.Engine SELECT tags.id AS tags_id, tags.tag AS tags_tag \n",
      "FROM tags \n",
      "WHERE tags.id = ?\n",
      "2024-02-21 22:13:52,133 INFO sqlalchemy.engine.Engine [cached since 0.146s ago] (2,)\n",
      "2024-02-21 22:13:52,134 INFO sqlalchemy.engine.Engine SELECT tags.id AS tags_id, tags.tag AS tags_tag \n",
      "FROM tags, cashflows_tags \n",
      "WHERE ? = cashflows_tags.cashflow_id AND tags.id = cashflows_tags.tag_id\n",
      "2024-02-21 22:13:52,134 INFO sqlalchemy.engine.Engine [cached since 0.08439s ago] (1,)\n",
      "[]\n",
      "[]\n",
      "2024-02-21 22:13:52,136 INFO sqlalchemy.engine.Engine SELECT cashflows.id AS cashflows_id, cashflows.amount AS cashflows_amount, cashflows.description AS cashflows_description \n",
      "FROM cashflows, cashflows_tags \n",
      "WHERE ? = cashflows_tags.tag_id AND cashflows.id = cashflows_tags.cashflow_id\n",
      "2024-02-21 22:13:52,136 INFO sqlalchemy.engine.Engine [cached since 0.1464s ago] (2,)\n",
      "[<__main__.Cashflow object at 0x0000016498D61350>]\n",
      "2024-02-21 22:13:52,137 INFO sqlalchemy.engine.Engine ROLLBACK\n"
     ]
    }
   ],
   "source": [
    "with Session(engine) as session:\n",
    "    cash = session.get(Cashflow, 1)\n",
    "    tag = session.get(Tag, 2)\n",
    "\n",
    "    print(cash.templates)\n",
    "    print(cash.tags)\n",
    "    print(tag.cash)"
   ]
  }
 ],
 "metadata": {
  "kernelspec": {
   "display_name": "playground",
   "language": "python",
   "name": "python3"
  },
  "language_info": {
   "codemirror_mode": {
    "name": "ipython",
    "version": 3
   },
   "file_extension": ".py",
   "mimetype": "text/x-python",
   "name": "python",
   "nbconvert_exporter": "python",
   "pygments_lexer": "ipython3",
   "version": "3.11.7"
  }
 },
 "nbformat": 4,
 "nbformat_minor": 2
}
