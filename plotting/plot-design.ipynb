{
 "cells": [
  {
   "cell_type": "markdown",
   "metadata": {},
   "source": [
    "## Imports"
   ]
  },
  {
   "cell_type": "code",
   "execution_count": 199,
   "metadata": {},
   "outputs": [],
   "source": [
    "import cProfile\n",
    "import json\n",
    "from pathlib import Path\n",
    "\n",
    "import pandas as pd\n",
    "\n",
    "from design.plots import Plot2D, Plot3D, PlotHeatmap, Subplots"
   ]
  },
  {
   "cell_type": "code",
   "execution_count": 200,
   "metadata": {},
   "outputs": [
    {
     "data": {
      "application/vnd.plotly.v1+json": {
       "config": {
        "plotlyServerURL": "https://plot.ly"
       },
       "data": [
        {
         "type": "scatter",
         "x": [
          1,
          2,
          3,
          4,
          5,
          6,
          7,
          8,
          9,
          10,
          11,
          12
         ],
         "y": [
          28.8,
          28.5,
          37,
          56.8,
          69.7,
          79.7,
          78.5,
          77.8,
          74.1,
          62.6,
          45.3,
          39.9
         ]
        }
       ],
       "layout": {
        "template": {
         "data": {
          "bar": [
           {
            "error_x": {
             "color": "#2a3f5f"
            },
            "error_y": {
             "color": "#2a3f5f"
            },
            "marker": {
             "line": {
              "color": "#E5ECF6",
              "width": 0.5
             },
             "pattern": {
              "fillmode": "overlay",
              "size": 10,
              "solidity": 0.2
             }
            },
            "type": "bar"
           }
          ],
          "barpolar": [
           {
            "marker": {
             "line": {
              "color": "#E5ECF6",
              "width": 0.5
             },
             "pattern": {
              "fillmode": "overlay",
              "size": 10,
              "solidity": 0.2
             }
            },
            "type": "barpolar"
           }
          ],
          "carpet": [
           {
            "aaxis": {
             "endlinecolor": "#2a3f5f",
             "gridcolor": "white",
             "linecolor": "white",
             "minorgridcolor": "white",
             "startlinecolor": "#2a3f5f"
            },
            "baxis": {
             "endlinecolor": "#2a3f5f",
             "gridcolor": "white",
             "linecolor": "white",
             "minorgridcolor": "white",
             "startlinecolor": "#2a3f5f"
            },
            "type": "carpet"
           }
          ],
          "choropleth": [
           {
            "colorbar": {
             "outlinewidth": 0,
             "ticks": ""
            },
            "type": "choropleth"
           }
          ],
          "contour": [
           {
            "colorbar": {
             "outlinewidth": 0,
             "ticks": ""
            },
            "colorscale": [
             [
              0,
              "#0d0887"
             ],
             [
              0.1111111111111111,
              "#46039f"
             ],
             [
              0.2222222222222222,
              "#7201a8"
             ],
             [
              0.3333333333333333,
              "#9c179e"
             ],
             [
              0.4444444444444444,
              "#bd3786"
             ],
             [
              0.5555555555555556,
              "#d8576b"
             ],
             [
              0.6666666666666666,
              "#ed7953"
             ],
             [
              0.7777777777777778,
              "#fb9f3a"
             ],
             [
              0.8888888888888888,
              "#fdca26"
             ],
             [
              1,
              "#f0f921"
             ]
            ],
            "type": "contour"
           }
          ],
          "contourcarpet": [
           {
            "colorbar": {
             "outlinewidth": 0,
             "ticks": ""
            },
            "type": "contourcarpet"
           }
          ],
          "heatmap": [
           {
            "colorbar": {
             "outlinewidth": 0,
             "ticks": ""
            },
            "colorscale": [
             [
              0,
              "#0d0887"
             ],
             [
              0.1111111111111111,
              "#46039f"
             ],
             [
              0.2222222222222222,
              "#7201a8"
             ],
             [
              0.3333333333333333,
              "#9c179e"
             ],
             [
              0.4444444444444444,
              "#bd3786"
             ],
             [
              0.5555555555555556,
              "#d8576b"
             ],
             [
              0.6666666666666666,
              "#ed7953"
             ],
             [
              0.7777777777777778,
              "#fb9f3a"
             ],
             [
              0.8888888888888888,
              "#fdca26"
             ],
             [
              1,
              "#f0f921"
             ]
            ],
            "type": "heatmap"
           }
          ],
          "heatmapgl": [
           {
            "colorbar": {
             "outlinewidth": 0,
             "ticks": ""
            },
            "colorscale": [
             [
              0,
              "#0d0887"
             ],
             [
              0.1111111111111111,
              "#46039f"
             ],
             [
              0.2222222222222222,
              "#7201a8"
             ],
             [
              0.3333333333333333,
              "#9c179e"
             ],
             [
              0.4444444444444444,
              "#bd3786"
             ],
             [
              0.5555555555555556,
              "#d8576b"
             ],
             [
              0.6666666666666666,
              "#ed7953"
             ],
             [
              0.7777777777777778,
              "#fb9f3a"
             ],
             [
              0.8888888888888888,
              "#fdca26"
             ],
             [
              1,
              "#f0f921"
             ]
            ],
            "type": "heatmapgl"
           }
          ],
          "histogram": [
           {
            "marker": {
             "pattern": {
              "fillmode": "overlay",
              "size": 10,
              "solidity": 0.2
             }
            },
            "type": "histogram"
           }
          ],
          "histogram2d": [
           {
            "colorbar": {
             "outlinewidth": 0,
             "ticks": ""
            },
            "colorscale": [
             [
              0,
              "#0d0887"
             ],
             [
              0.1111111111111111,
              "#46039f"
             ],
             [
              0.2222222222222222,
              "#7201a8"
             ],
             [
              0.3333333333333333,
              "#9c179e"
             ],
             [
              0.4444444444444444,
              "#bd3786"
             ],
             [
              0.5555555555555556,
              "#d8576b"
             ],
             [
              0.6666666666666666,
              "#ed7953"
             ],
             [
              0.7777777777777778,
              "#fb9f3a"
             ],
             [
              0.8888888888888888,
              "#fdca26"
             ],
             [
              1,
              "#f0f921"
             ]
            ],
            "type": "histogram2d"
           }
          ],
          "histogram2dcontour": [
           {
            "colorbar": {
             "outlinewidth": 0,
             "ticks": ""
            },
            "colorscale": [
             [
              0,
              "#0d0887"
             ],
             [
              0.1111111111111111,
              "#46039f"
             ],
             [
              0.2222222222222222,
              "#7201a8"
             ],
             [
              0.3333333333333333,
              "#9c179e"
             ],
             [
              0.4444444444444444,
              "#bd3786"
             ],
             [
              0.5555555555555556,
              "#d8576b"
             ],
             [
              0.6666666666666666,
              "#ed7953"
             ],
             [
              0.7777777777777778,
              "#fb9f3a"
             ],
             [
              0.8888888888888888,
              "#fdca26"
             ],
             [
              1,
              "#f0f921"
             ]
            ],
            "type": "histogram2dcontour"
           }
          ],
          "mesh3d": [
           {
            "colorbar": {
             "outlinewidth": 0,
             "ticks": ""
            },
            "type": "mesh3d"
           }
          ],
          "parcoords": [
           {
            "line": {
             "colorbar": {
              "outlinewidth": 0,
              "ticks": ""
             }
            },
            "type": "parcoords"
           }
          ],
          "pie": [
           {
            "automargin": true,
            "type": "pie"
           }
          ],
          "scatter": [
           {
            "fillpattern": {
             "fillmode": "overlay",
             "size": 10,
             "solidity": 0.2
            },
            "type": "scatter"
           }
          ],
          "scatter3d": [
           {
            "line": {
             "colorbar": {
              "outlinewidth": 0,
              "ticks": ""
             }
            },
            "marker": {
             "colorbar": {
              "outlinewidth": 0,
              "ticks": ""
             }
            },
            "type": "scatter3d"
           }
          ],
          "scattercarpet": [
           {
            "marker": {
             "colorbar": {
              "outlinewidth": 0,
              "ticks": ""
             }
            },
            "type": "scattercarpet"
           }
          ],
          "scattergeo": [
           {
            "marker": {
             "colorbar": {
              "outlinewidth": 0,
              "ticks": ""
             }
            },
            "type": "scattergeo"
           }
          ],
          "scattergl": [
           {
            "marker": {
             "colorbar": {
              "outlinewidth": 0,
              "ticks": ""
             }
            },
            "type": "scattergl"
           }
          ],
          "scattermapbox": [
           {
            "marker": {
             "colorbar": {
              "outlinewidth": 0,
              "ticks": ""
             }
            },
            "type": "scattermapbox"
           }
          ],
          "scatterpolar": [
           {
            "marker": {
             "colorbar": {
              "outlinewidth": 0,
              "ticks": ""
             }
            },
            "type": "scatterpolar"
           }
          ],
          "scatterpolargl": [
           {
            "marker": {
             "colorbar": {
              "outlinewidth": 0,
              "ticks": ""
             }
            },
            "type": "scatterpolargl"
           }
          ],
          "scatterternary": [
           {
            "marker": {
             "colorbar": {
              "outlinewidth": 0,
              "ticks": ""
             }
            },
            "type": "scatterternary"
           }
          ],
          "surface": [
           {
            "colorbar": {
             "outlinewidth": 0,
             "ticks": ""
            },
            "colorscale": [
             [
              0,
              "#0d0887"
             ],
             [
              0.1111111111111111,
              "#46039f"
             ],
             [
              0.2222222222222222,
              "#7201a8"
             ],
             [
              0.3333333333333333,
              "#9c179e"
             ],
             [
              0.4444444444444444,
              "#bd3786"
             ],
             [
              0.5555555555555556,
              "#d8576b"
             ],
             [
              0.6666666666666666,
              "#ed7953"
             ],
             [
              0.7777777777777778,
              "#fb9f3a"
             ],
             [
              0.8888888888888888,
              "#fdca26"
             ],
             [
              1,
              "#f0f921"
             ]
            ],
            "type": "surface"
           }
          ],
          "table": [
           {
            "cells": {
             "fill": {
              "color": "#EBF0F8"
             },
             "line": {
              "color": "white"
             }
            },
            "header": {
             "fill": {
              "color": "#C8D4E3"
             },
             "line": {
              "color": "white"
             }
            },
            "type": "table"
           }
          ]
         },
         "layout": {
          "annotationdefaults": {
           "arrowcolor": "#2a3f5f",
           "arrowhead": 0,
           "arrowwidth": 1
          },
          "autotypenumbers": "strict",
          "coloraxis": {
           "colorbar": {
            "outlinewidth": 0,
            "ticks": ""
           }
          },
          "colorscale": {
           "diverging": [
            [
             0,
             "#8e0152"
            ],
            [
             0.1,
             "#c51b7d"
            ],
            [
             0.2,
             "#de77ae"
            ],
            [
             0.3,
             "#f1b6da"
            ],
            [
             0.4,
             "#fde0ef"
            ],
            [
             0.5,
             "#f7f7f7"
            ],
            [
             0.6,
             "#e6f5d0"
            ],
            [
             0.7,
             "#b8e186"
            ],
            [
             0.8,
             "#7fbc41"
            ],
            [
             0.9,
             "#4d9221"
            ],
            [
             1,
             "#276419"
            ]
           ],
           "sequential": [
            [
             0,
             "#0d0887"
            ],
            [
             0.1111111111111111,
             "#46039f"
            ],
            [
             0.2222222222222222,
             "#7201a8"
            ],
            [
             0.3333333333333333,
             "#9c179e"
            ],
            [
             0.4444444444444444,
             "#bd3786"
            ],
            [
             0.5555555555555556,
             "#d8576b"
            ],
            [
             0.6666666666666666,
             "#ed7953"
            ],
            [
             0.7777777777777778,
             "#fb9f3a"
            ],
            [
             0.8888888888888888,
             "#fdca26"
            ],
            [
             1,
             "#f0f921"
            ]
           ],
           "sequentialminus": [
            [
             0,
             "#0d0887"
            ],
            [
             0.1111111111111111,
             "#46039f"
            ],
            [
             0.2222222222222222,
             "#7201a8"
            ],
            [
             0.3333333333333333,
             "#9c179e"
            ],
            [
             0.4444444444444444,
             "#bd3786"
            ],
            [
             0.5555555555555556,
             "#d8576b"
            ],
            [
             0.6666666666666666,
             "#ed7953"
            ],
            [
             0.7777777777777778,
             "#fb9f3a"
            ],
            [
             0.8888888888888888,
             "#fdca26"
            ],
            [
             1,
             "#f0f921"
            ]
           ]
          },
          "colorway": [
           "#636efa",
           "#EF553B",
           "#00cc96",
           "#ab63fa",
           "#FFA15A",
           "#19d3f3",
           "#FF6692",
           "#B6E880",
           "#FF97FF",
           "#FECB52"
          ],
          "font": {
           "color": "#2a3f5f"
          },
          "geo": {
           "bgcolor": "white",
           "lakecolor": "white",
           "landcolor": "#E5ECF6",
           "showlakes": true,
           "showland": true,
           "subunitcolor": "white"
          },
          "hoverlabel": {
           "align": "left"
          },
          "hovermode": "closest",
          "mapbox": {
           "style": "light"
          },
          "paper_bgcolor": "white",
          "plot_bgcolor": "#E5ECF6",
          "polar": {
           "angularaxis": {
            "gridcolor": "white",
            "linecolor": "white",
            "ticks": ""
           },
           "bgcolor": "#E5ECF6",
           "radialaxis": {
            "gridcolor": "white",
            "linecolor": "white",
            "ticks": ""
           }
          },
          "scene": {
           "xaxis": {
            "backgroundcolor": "#E5ECF6",
            "gridcolor": "white",
            "gridwidth": 2,
            "linecolor": "white",
            "showbackground": true,
            "ticks": "",
            "zerolinecolor": "white"
           },
           "yaxis": {
            "backgroundcolor": "#E5ECF6",
            "gridcolor": "white",
            "gridwidth": 2,
            "linecolor": "white",
            "showbackground": true,
            "ticks": "",
            "zerolinecolor": "white"
           },
           "zaxis": {
            "backgroundcolor": "#E5ECF6",
            "gridcolor": "white",
            "gridwidth": 2,
            "linecolor": "white",
            "showbackground": true,
            "ticks": "",
            "zerolinecolor": "white"
           }
          },
          "shapedefaults": {
           "line": {
            "color": "#2a3f5f"
           }
          },
          "ternary": {
           "aaxis": {
            "gridcolor": "white",
            "linecolor": "white",
            "ticks": ""
           },
           "baxis": {
            "gridcolor": "white",
            "linecolor": "white",
            "ticks": ""
           },
           "bgcolor": "#E5ECF6",
           "caxis": {
            "gridcolor": "white",
            "linecolor": "white",
            "ticks": ""
           }
          },
          "title": {
           "x": 0.05
          },
          "xaxis": {
           "automargin": true,
           "gridcolor": "white",
           "linecolor": "white",
           "ticks": "",
           "title": {
            "standoff": 15
           },
           "zerolinecolor": "white",
           "zerolinewidth": 2
          },
          "yaxis": {
           "automargin": true,
           "gridcolor": "white",
           "linecolor": "white",
           "ticks": "",
           "title": {
            "standoff": 15
           },
           "zerolinecolor": "white",
           "zerolinewidth": 2
          }
         }
        },
        "xaxis": {
         "tickmode": "array",
         "ticktext": [
          "One",
          "Three",
          "Five",
          "Seven",
          "Nine",
          "Eleven"
         ],
         "tickvals": [
          1,
          3,
          5,
          7,
          9,
          11
         ]
        }
       }
      }
     },
     "metadata": {},
     "output_type": "display_data"
    }
   ],
   "source": [
    "import plotly.graph_objects as go\n",
    "fig = go.Figure(\n",
    "    go.Scatter(\n",
    "        x=[1, 2, 3, 4, 5, 6, 7, 8, 9, 10, 11, 12],\n",
    "        y=[28.8, 28.5, 37, 56.8, 69.7, 79.7, 78.5, 77.8, 74.1, 62.6, 45.3, 39.9],\n",
    "    )\n",
    ")\n",
    "\n",
    "fig.update_layout(\n",
    "    xaxis1=dict(\n",
    "        tickmode=\"array\",\n",
    "        tickvals=[1, 3, 5, 7, 9, 11],\n",
    "        ticktext=[\"One\", \"Three\", \"Five\", \"Seven\", \"Nine\", \"Eleven\"],\n",
    "    )\n",
    ")\n",
    "\n",
    "fig.show()"
   ]
  },
  {
   "cell_type": "markdown",
   "metadata": {},
   "source": [
    "## Flags"
   ]
  },
  {
   "cell_type": "code",
   "execution_count": 201,
   "metadata": {},
   "outputs": [],
   "source": [
    "render_plots = True\n",
    "generate = False"
   ]
  },
  {
   "cell_type": "markdown",
   "metadata": {},
   "source": [
    "## Path Setup"
   ]
  },
  {
   "cell_type": "code",
   "execution_count": 202,
   "metadata": {},
   "outputs": [],
   "source": [
    "working_dir = Path().resolve()\n",
    "data_dir = working_dir / \"data\"\n",
    "template_dir = working_dir / \"templates\"\n",
    "\n",
    "# Single plots\n",
    "template_2d = json.loads(Path(template_dir, \"template_2d.json\").read_text())\n",
    "data_2d = pd.read_csv(Path(data_dir, \"data_2d.csv\"))\n",
    "\n",
    "template_3d = json.loads(Path(template_dir, \"template_3d.json\").read_text())\n",
    "data_3d = pd.read_csv(Path(data_dir, \"data_3d.csv\"))\n",
    "\n",
    "template_heat = json.loads(Path(template_dir, \"template_heatmap.json\").read_text())\n",
    "data_heat = pd.read_csv(Path(data_dir, \"data_heatmap.csv\"))\n",
    "\n",
    "template_discrete = json.loads(Path(template_dir, \"template_discrete.json\").read_text())\n",
    "data_discrete = pd.read_csv(Path(data_dir, \"data_discrete.csv\"))\n",
    "\n",
    "# Subplots\n",
    "template_2d_ticks = json.loads(Path(template_dir, \"template_2d_ticks.json\").read_text())\n",
    "\n",
    "template_3d_ticks = json.loads(Path(template_dir, \"template_3d_ticks.json\").read_text())\n",
    "\n",
    "template_subplot_2d = json.loads(\n",
    "    Path(template_dir, \"template_subplot_2d.json\").read_text()\n",
    ")\n",
    "template_subplot_2d_multiple = json.loads(\n",
    "    Path(template_dir, \"template_subplot_2d multiple.json\").read_text()\n",
    ")\n",
    "template_subplot_3d = json.loads(\n",
    "    Path(template_dir, \"template_subplot_3d.json\").read_text()\n",
    ")\n",
    "template_mixed_322 = json.loads(\n",
    "    Path(template_dir, \"template_mixed_322.json\").read_text()\n",
    ")\n",
    "\n",
    "templates = {\n",
    "    \"2d\": template_2d,\n",
    "    \"3d\": template_3d,\n",
    "    \"ticks_2d\": template_2d_ticks,\n",
    "    \"ticks_3d\": template_3d_ticks,\n",
    "    \"heatmap\": template_heat,\n",
    "    \"discrete\": template_discrete,\n",
    "    \"subplot_2d\": template_subplot_2d,\n",
    "    \"subplot_2d_multiple\": template_subplot_2d_multiple,\n",
    "    \"subplot_3d\": template_subplot_3d,\n",
    "    \"mixed_3-2-2\": template_mixed_322,\n",
    "}\n",
    "data = {\n",
    "    \"2d\": data_2d,\n",
    "    \"3d\": data_3d,\n",
    "    \"ticks_2d\": data_2d,\n",
    "    \"ticks_3d\": data_3d,\n",
    "    \"heatmap\": data_heat,\n",
    "    \"discrete\": data_discrete,\n",
    "    \"subplot_2d\": data_2d,\n",
    "    \"subplot_2d_multiple\": data_2d,\n",
    "    \"subplot_3d\": data_3d,\n",
    "    \"mixed_3-2-2\": data_3d,\n",
    "}"
   ]
  },
  {
   "cell_type": "markdown",
   "metadata": {},
   "source": [
    " ## 2D Plots"
   ]
  },
  {
   "cell_type": "code",
   "execution_count": 203,
   "metadata": {},
   "outputs": [
    {
     "data": {
      "text/html": [
       "        <script type=\"text/javascript\">\n",
       "        window.PlotlyConfig = {MathJaxConfig: 'local'};\n",
       "        if (window.MathJax && window.MathJax.Hub && window.MathJax.Hub.Config) {window.MathJax.Hub.Config({SVG: {font: \"STIX-Web\"}});}\n",
       "        if (typeof require !== 'undefined') {\n",
       "        require.undef(\"plotly\");\n",
       "        requirejs.config({\n",
       "            paths: {\n",
       "                'plotly': ['https://cdn.plot.ly/plotly-2.29.1.min']\n",
       "            }\n",
       "        });\n",
       "        require(['plotly'], function(Plotly) {\n",
       "            window._Plotly = Plotly;\n",
       "        });\n",
       "        }\n",
       "        </script>\n",
       "        "
      ]
     },
     "metadata": {},
     "output_type": "display_data"
    },
    {
     "data": {
      "text/html": [
       "<div>                            <div id=\"a2253f05-758c-4a8d-ab55-141315a5127b\" class=\"plotly-graph-div\" style=\"height:500px; width:650px;\"></div>            <script type=\"text/javascript\">                require([\"plotly\"], function(Plotly) {                    window.PLOTLYENV=window.PLOTLYENV || {};                                    if (document.getElementById(\"a2253f05-758c-4a8d-ab55-141315a5127b\")) {                    Plotly.newPlot(                        \"a2253f05-758c-4a8d-ab55-141315a5127b\",                        [{\"connectgaps\":true,\"line\":{\"dash\":\"solid\",\"width\":2},\"marker\":{\"size\":5,\"symbol\":\"circle\"},\"mode\":\"lines\",\"showlegend\":true,\"x\":[0,1,2,3,4,5],\"y\":[100,110,120,130,140,150],\"type\":\"scatter\"},{\"connectgaps\":true,\"line\":{\"dash\":\"solid\",\"width\":2},\"marker\":{\"size\":5,\"symbol\":\"circle\"},\"mode\":\"lines\",\"showlegend\":true,\"x\":[0,1,2,3,4,5],\"y\":[10,20,30,40,50,60],\"type\":\"scatter\"},{\"connectgaps\":true,\"line\":{\"dash\":\"dash\",\"width\":2},\"marker\":{\"size\":5,\"symbol\":\"circle\"},\"mode\":\"lines\",\"showlegend\":true,\"x\":[0,1,2,3,4,5],\"y\":[1,2,3,4,5,6],\"type\":\"scatter\"}],                        {\"template\":{\"data\":{\"histogram2dcontour\":[{\"type\":\"histogram2dcontour\",\"colorbar\":{\"outlinewidth\":1,\"ticks\":\"outside\",\"tickcolor\":\"rgb(36,36,36)\"},\"colorscale\":[[0.0,\"#440154\"],[0.1111111111111111,\"#482878\"],[0.2222222222222222,\"#3e4989\"],[0.3333333333333333,\"#31688e\"],[0.4444444444444444,\"#26828e\"],[0.5555555555555556,\"#1f9e89\"],[0.6666666666666666,\"#35b779\"],[0.7777777777777778,\"#6ece58\"],[0.8888888888888888,\"#b5de2b\"],[1.0,\"#fde725\"]]}],\"choropleth\":[{\"type\":\"choropleth\",\"colorbar\":{\"outlinewidth\":1,\"ticks\":\"outside\",\"tickcolor\":\"rgb(36,36,36)\"}}],\"histogram2d\":[{\"type\":\"histogram2d\",\"colorbar\":{\"outlinewidth\":1,\"ticks\":\"outside\",\"tickcolor\":\"rgb(36,36,36)\"},\"colorscale\":[[0.0,\"#440154\"],[0.1111111111111111,\"#482878\"],[0.2222222222222222,\"#3e4989\"],[0.3333333333333333,\"#31688e\"],[0.4444444444444444,\"#26828e\"],[0.5555555555555556,\"#1f9e89\"],[0.6666666666666666,\"#35b779\"],[0.7777777777777778,\"#6ece58\"],[0.8888888888888888,\"#b5de2b\"],[1.0,\"#fde725\"]]}],\"heatmap\":[{\"type\":\"heatmap\",\"colorbar\":{\"outlinewidth\":1,\"ticks\":\"outside\",\"tickcolor\":\"rgb(36,36,36)\"},\"colorscale\":[[0.0,\"#440154\"],[0.1111111111111111,\"#482878\"],[0.2222222222222222,\"#3e4989\"],[0.3333333333333333,\"#31688e\"],[0.4444444444444444,\"#26828e\"],[0.5555555555555556,\"#1f9e89\"],[0.6666666666666666,\"#35b779\"],[0.7777777777777778,\"#6ece58\"],[0.8888888888888888,\"#b5de2b\"],[1.0,\"#fde725\"]]}],\"heatmapgl\":[{\"type\":\"heatmapgl\",\"colorbar\":{\"outlinewidth\":1,\"ticks\":\"outside\",\"tickcolor\":\"rgb(36,36,36)\"},\"colorscale\":[[0.0,\"#440154\"],[0.1111111111111111,\"#482878\"],[0.2222222222222222,\"#3e4989\"],[0.3333333333333333,\"#31688e\"],[0.4444444444444444,\"#26828e\"],[0.5555555555555556,\"#1f9e89\"],[0.6666666666666666,\"#35b779\"],[0.7777777777777778,\"#6ece58\"],[0.8888888888888888,\"#b5de2b\"],[1.0,\"#fde725\"]]}],\"contourcarpet\":[{\"type\":\"contourcarpet\",\"colorbar\":{\"outlinewidth\":1,\"ticks\":\"outside\",\"tickcolor\":\"rgb(36,36,36)\"}}],\"contour\":[{\"type\":\"contour\",\"colorbar\":{\"outlinewidth\":1,\"ticks\":\"outside\",\"tickcolor\":\"rgb(36,36,36)\"},\"colorscale\":[[0.0,\"#440154\"],[0.1111111111111111,\"#482878\"],[0.2222222222222222,\"#3e4989\"],[0.3333333333333333,\"#31688e\"],[0.4444444444444444,\"#26828e\"],[0.5555555555555556,\"#1f9e89\"],[0.6666666666666666,\"#35b779\"],[0.7777777777777778,\"#6ece58\"],[0.8888888888888888,\"#b5de2b\"],[1.0,\"#fde725\"]]}],\"surface\":[{\"type\":\"surface\",\"colorbar\":{\"outlinewidth\":1,\"ticks\":\"outside\",\"tickcolor\":\"rgb(36,36,36)\"},\"colorscale\":[[0.0,\"#440154\"],[0.1111111111111111,\"#482878\"],[0.2222222222222222,\"#3e4989\"],[0.3333333333333333,\"#31688e\"],[0.4444444444444444,\"#26828e\"],[0.5555555555555556,\"#1f9e89\"],[0.6666666666666666,\"#35b779\"],[0.7777777777777778,\"#6ece58\"],[0.8888888888888888,\"#b5de2b\"],[1.0,\"#fde725\"]]}],\"mesh3d\":[{\"type\":\"mesh3d\",\"colorbar\":{\"outlinewidth\":1,\"ticks\":\"outside\",\"tickcolor\":\"rgb(36,36,36)\"}}],\"scatter\":[{\"fillpattern\":{\"fillmode\":\"overlay\",\"size\":10,\"solidity\":0.2},\"type\":\"scatter\"}],\"parcoords\":[{\"type\":\"parcoords\",\"line\":{\"colorbar\":{\"outlinewidth\":1,\"ticks\":\"outside\",\"tickcolor\":\"rgb(36,36,36)\"}}}],\"scatterpolargl\":[{\"type\":\"scatterpolargl\",\"marker\":{\"colorbar\":{\"outlinewidth\":1,\"ticks\":\"outside\",\"tickcolor\":\"rgb(36,36,36)\"}}}],\"bar\":[{\"error_x\":{\"color\":\"rgb(36,36,36)\"},\"error_y\":{\"color\":\"rgb(36,36,36)\"},\"marker\":{\"line\":{\"color\":\"white\",\"width\":0.5},\"pattern\":{\"fillmode\":\"overlay\",\"size\":10,\"solidity\":0.2}},\"type\":\"bar\"}],\"scattergeo\":[{\"type\":\"scattergeo\",\"marker\":{\"colorbar\":{\"outlinewidth\":1,\"ticks\":\"outside\",\"tickcolor\":\"rgb(36,36,36)\"}}}],\"scatterpolar\":[{\"type\":\"scatterpolar\",\"marker\":{\"colorbar\":{\"outlinewidth\":1,\"ticks\":\"outside\",\"tickcolor\":\"rgb(36,36,36)\"}}}],\"histogram\":[{\"marker\":{\"pattern\":{\"fillmode\":\"overlay\",\"size\":10,\"solidity\":0.2},\"line\":{\"color\":\"white\",\"width\":0.6}},\"type\":\"histogram\"}],\"scattergl\":[{\"type\":\"scattergl\",\"marker\":{\"colorbar\":{\"outlinewidth\":1,\"ticks\":\"outside\",\"tickcolor\":\"rgb(36,36,36)\"}}}],\"scatter3d\":[{\"type\":\"scatter3d\",\"line\":{\"colorbar\":{\"outlinewidth\":1,\"ticks\":\"outside\",\"tickcolor\":\"rgb(36,36,36)\"}},\"marker\":{\"colorbar\":{\"outlinewidth\":1,\"ticks\":\"outside\",\"tickcolor\":\"rgb(36,36,36)\"}}}],\"scattermapbox\":[{\"type\":\"scattermapbox\",\"marker\":{\"colorbar\":{\"outlinewidth\":1,\"ticks\":\"outside\",\"tickcolor\":\"rgb(36,36,36)\"}}}],\"scatterternary\":[{\"type\":\"scatterternary\",\"marker\":{\"colorbar\":{\"outlinewidth\":1,\"ticks\":\"outside\",\"tickcolor\":\"rgb(36,36,36)\"}}}],\"scattercarpet\":[{\"type\":\"scattercarpet\",\"marker\":{\"colorbar\":{\"outlinewidth\":1,\"ticks\":\"outside\",\"tickcolor\":\"rgb(36,36,36)\"}}}],\"carpet\":[{\"aaxis\":{\"endlinecolor\":\"rgb(36,36,36)\",\"gridcolor\":\"white\",\"linecolor\":\"white\",\"minorgridcolor\":\"white\",\"startlinecolor\":\"rgb(36,36,36)\"},\"baxis\":{\"endlinecolor\":\"rgb(36,36,36)\",\"gridcolor\":\"white\",\"linecolor\":\"white\",\"minorgridcolor\":\"white\",\"startlinecolor\":\"rgb(36,36,36)\"},\"type\":\"carpet\"}],\"table\":[{\"cells\":{\"fill\":{\"color\":\"rgb(237,237,237)\"},\"line\":{\"color\":\"white\"}},\"header\":{\"fill\":{\"color\":\"rgb(217,217,217)\"},\"line\":{\"color\":\"white\"}},\"type\":\"table\"}],\"barpolar\":[{\"marker\":{\"line\":{\"color\":\"white\",\"width\":0.5},\"pattern\":{\"fillmode\":\"overlay\",\"size\":10,\"solidity\":0.2}},\"type\":\"barpolar\"}],\"pie\":[{\"automargin\":true,\"type\":\"pie\"}]},\"layout\":{\"autotypenumbers\":\"strict\",\"colorway\":[\"#1F77B4\",\"#FF7F0E\",\"#2CA02C\",\"#D62728\",\"#9467BD\",\"#8C564B\",\"#E377C2\",\"#7F7F7F\",\"#BCBD22\",\"#17BECF\"],\"font\":{\"color\":\"rgb(36,36,36)\"},\"hovermode\":\"closest\",\"hoverlabel\":{\"align\":\"left\"},\"paper_bgcolor\":\"white\",\"plot_bgcolor\":\"white\",\"polar\":{\"bgcolor\":\"white\",\"angularaxis\":{\"gridcolor\":\"rgb(232,232,232)\",\"linecolor\":\"rgb(36,36,36)\",\"ticks\":\"outside\",\"showgrid\":false,\"showline\":true},\"radialaxis\":{\"gridcolor\":\"rgb(232,232,232)\",\"linecolor\":\"rgb(36,36,36)\",\"ticks\":\"outside\",\"showgrid\":false,\"showline\":true}},\"ternary\":{\"bgcolor\":\"white\",\"aaxis\":{\"gridcolor\":\"rgb(232,232,232)\",\"linecolor\":\"rgb(36,36,36)\",\"ticks\":\"outside\",\"showgrid\":false,\"showline\":true},\"baxis\":{\"gridcolor\":\"rgb(232,232,232)\",\"linecolor\":\"rgb(36,36,36)\",\"ticks\":\"outside\",\"showgrid\":false,\"showline\":true},\"caxis\":{\"gridcolor\":\"rgb(232,232,232)\",\"linecolor\":\"rgb(36,36,36)\",\"ticks\":\"outside\",\"showgrid\":false,\"showline\":true}},\"coloraxis\":{\"colorbar\":{\"outlinewidth\":1,\"ticks\":\"outside\",\"tickcolor\":\"rgb(36,36,36)\"}},\"colorscale\":{\"sequential\":[[0.0,\"#440154\"],[0.1111111111111111,\"#482878\"],[0.2222222222222222,\"#3e4989\"],[0.3333333333333333,\"#31688e\"],[0.4444444444444444,\"#26828e\"],[0.5555555555555556,\"#1f9e89\"],[0.6666666666666666,\"#35b779\"],[0.7777777777777778,\"#6ece58\"],[0.8888888888888888,\"#b5de2b\"],[1.0,\"#fde725\"]],\"sequentialminus\":[[0.0,\"#440154\"],[0.1111111111111111,\"#482878\"],[0.2222222222222222,\"#3e4989\"],[0.3333333333333333,\"#31688e\"],[0.4444444444444444,\"#26828e\"],[0.5555555555555556,\"#1f9e89\"],[0.6666666666666666,\"#35b779\"],[0.7777777777777778,\"#6ece58\"],[0.8888888888888888,\"#b5de2b\"],[1.0,\"#fde725\"]],\"diverging\":[[0.0,\"rgb(103,0,31)\"],[0.1,\"rgb(178,24,43)\"],[0.2,\"rgb(214,96,77)\"],[0.3,\"rgb(244,165,130)\"],[0.4,\"rgb(253,219,199)\"],[0.5,\"rgb(247,247,247)\"],[0.6,\"rgb(209,229,240)\"],[0.7,\"rgb(146,197,222)\"],[0.8,\"rgb(67,147,195)\"],[0.9,\"rgb(33,102,172)\"],[1.0,\"rgb(5,48,97)\"]]},\"xaxis\":{\"gridcolor\":\"rgb(232,232,232)\",\"linecolor\":\"rgb(36,36,36)\",\"ticks\":\"outside\",\"title\":{\"standoff\":15},\"zerolinecolor\":\"rgb(36,36,36)\",\"automargin\":true,\"zerolinewidth\":2,\"showgrid\":false,\"showline\":true,\"zeroline\":false},\"yaxis\":{\"gridcolor\":\"rgb(232,232,232)\",\"linecolor\":\"rgb(36,36,36)\",\"ticks\":\"outside\",\"title\":{\"standoff\":15},\"zerolinecolor\":\"rgb(36,36,36)\",\"automargin\":true,\"zerolinewidth\":2,\"showgrid\":false,\"showline\":true,\"zeroline\":false},\"scene\":{\"xaxis\":{\"backgroundcolor\":\"white\",\"gridcolor\":\"rgb(232,232,232)\",\"linecolor\":\"rgb(36,36,36)\",\"showbackground\":true,\"ticks\":\"outside\",\"zerolinecolor\":\"rgb(36,36,36)\",\"gridwidth\":2,\"showgrid\":false,\"showline\":true,\"zeroline\":false},\"yaxis\":{\"backgroundcolor\":\"white\",\"gridcolor\":\"rgb(232,232,232)\",\"linecolor\":\"rgb(36,36,36)\",\"showbackground\":true,\"ticks\":\"outside\",\"zerolinecolor\":\"rgb(36,36,36)\",\"gridwidth\":2,\"showgrid\":false,\"showline\":true,\"zeroline\":false},\"zaxis\":{\"backgroundcolor\":\"white\",\"gridcolor\":\"rgb(232,232,232)\",\"linecolor\":\"rgb(36,36,36)\",\"showbackground\":true,\"ticks\":\"outside\",\"zerolinecolor\":\"rgb(36,36,36)\",\"gridwidth\":2,\"showgrid\":false,\"showline\":true,\"zeroline\":false}},\"shapedefaults\":{\"line\":{\"color\":\"#2a3f5f\",\"width\":0},\"fillcolor\":\"black\",\"opacity\":0.3},\"annotationdefaults\":{\"arrowcolor\":\"#2a3f5f\",\"arrowhead\":0,\"arrowwidth\":1},\"geo\":{\"bgcolor\":\"white\",\"landcolor\":\"white\",\"subunitcolor\":\"white\",\"showland\":true,\"showlakes\":true,\"lakecolor\":\"white\"},\"title\":{\"x\":0.05},\"mapbox\":{\"style\":\"light\"}}},\"legend\":{\"title\":{\"text\":\"Legend\"}},\"margin\":{\"b\":60,\"l\":20,\"r\":1,\"t\":30},\"title\":{\"font\":{\"size\":13},\"text\":\"\\u003cb\\u003eTarget Positions\\u003c\\u002fb\\u003e\",\"x\":0.5,\"xanchor\":\"center\",\"yanchor\":\"top\"},\"annotations\":[{\"font\":{\"size\":10},\"showarrow\":false,\"text\":\"\\u003cb\\u003eUNCLASSIFIED\\u002f\\u002fFOUO\\u003c\\u002fb\\u003e\",\"visible\":false,\"x\":0,\"xanchor\":\"left\",\"xref\":\"paper\",\"xshift\":-30,\"y\":1,\"yanchor\":\"top\",\"yref\":\"paper\",\"yshift\":40},{\"font\":{\"size\":10},\"showarrow\":false,\"text\":\"\\u003cb\\u003eUNCLASSIFIED\\u002f\\u002fFOUO\\u003c\\u002fb\\u003e\",\"visible\":false,\"x\":0,\"xanchor\":\"left\",\"xref\":\"paper\",\"xshift\":-30,\"y\":0,\"yanchor\":\"bottom\",\"yref\":\"paper\",\"yshift\":-70},{\"font\":{\"size\":10},\"showarrow\":false,\"text\":\"\\u003cb\\u003eUNCLASSIFIED\\u002f\\u002fFOUO\\u003c\\u002fb\\u003e\",\"visible\":false,\"x\":1,\"xanchor\":\"right\",\"xref\":\"paper\",\"xshift\":65,\"y\":1,\"yanchor\":\"top\",\"yref\":\"paper\",\"yshift\":40},{\"font\":{\"size\":10},\"showarrow\":false,\"text\":\"\\u003cb\\u003eUNCLASSIFIED\\u002f\\u002fFOUO\\u003c\\u002fb\\u003e\",\"visible\":false,\"x\":1,\"xanchor\":\"right\",\"xref\":\"paper\",\"xshift\":65,\"y\":0,\"yanchor\":\"bottom\",\"yref\":\"paper\",\"yshift\":-70},{\"showarrow\":false,\"text\":\"Miss distance 20.10 m\",\"x\":-0.01,\"xref\":\"paper\",\"y\":-0.13,\"yref\":\"paper\"},{\"showarrow\":false,\"text\":\"Missile Info: MSL_1\",\"x\":1.01,\"xref\":\"paper\",\"y\":-0.13,\"yref\":\"paper\"}],\"height\":500,\"width\":650,\"xaxis\":{\"title\":{\"font\":{\"size\":12},\"text\":\"Time (s)\",\"standoff\":1},\"showgrid\":true,\"linecolor\":\"black\",\"linewidth\":1,\"mirror\":true,\"tickmode\":\"auto\",\"tickvals\":[1,3,5,7,9,11],\"ticktext\":[\"One\",\"Three\",\"Five\",\"Seven\",\"Nine\",\"Eleven\"]},\"yaxis\":{\"title\":{\"font\":{\"size\":12},\"text\":\"Position\",\"standoff\":8},\"showgrid\":true,\"linecolor\":\"black\",\"linewidth\":1,\"mirror\":true,\"tickmode\":\"auto\",\"tickvals\":[1,3,5,7,9,11],\"ticktext\":[\"One\",\"Three\",\"Five\",\"Seven\",\"Nine\",\"Eleven\"]}},                        {\"responsive\": true}                    ).then(function(){\n",
       "                            \n",
       "var gd = document.getElementById('a2253f05-758c-4a8d-ab55-141315a5127b');\n",
       "var x = new MutationObserver(function (mutations, observer) {{\n",
       "        var display = window.getComputedStyle(gd).display;\n",
       "        if (!display || display === 'none') {{\n",
       "            console.log([gd, 'removed!']);\n",
       "            Plotly.purge(gd);\n",
       "            observer.disconnect();\n",
       "        }}\n",
       "}});\n",
       "\n",
       "// Listen for the removal of the full notebook cells\n",
       "var notebookContainer = gd.closest('#notebook-container');\n",
       "if (notebookContainer) {{\n",
       "    x.observe(notebookContainer, {childList: true});\n",
       "}}\n",
       "\n",
       "// Listen for the clearing of the current output cell\n",
       "var outputEl = gd.closest('.output');\n",
       "if (outputEl) {{\n",
       "    x.observe(outputEl, {childList: true});\n",
       "}}\n",
       "\n",
       "                        })                };                });            </script>        </div>"
      ]
     },
     "metadata": {},
     "output_type": "display_data"
    }
   ],
   "source": [
    "# Variables\n",
    "id = \"2d\"\n",
    "\n",
    "fig2d = Plot2D(templates[id], data[id])\n",
    "\n",
    "if render_plots:\n",
    "    fig2d.show_plot(\"notebook_connected\")"
   ]
  },
  {
   "cell_type": "code",
   "execution_count": 204,
   "metadata": {},
   "outputs": [
    {
     "name": "stdout",
     "output_type": "stream",
     "text": [
      "         8049 function calls (6531 primitive calls) in 0.002 seconds\n",
      "\n",
      "   Ordered by: standard name\n",
      "\n",
      "   ncalls  tottime  percall  cumtime  percall filename:lineno(function)\n",
      "        1    0.000    0.000    0.002    0.002 <string>:1(<module>)\n",
      "        1    0.000    0.000    0.002    0.002 basedatatypes.py:3285(to_dict)\n",
      "        1    0.000    0.000    0.000    0.000 basedatatypes.py:3308(<listcomp>)\n",
      "        1    0.000    0.000    0.002    0.002 basedatatypes.py:3315(to_plotly_json)\n",
      "   1294/3    0.001    0.000    0.002    0.001 copy.py:128(deepcopy)\n",
      "     1021    0.000    0.000    0.000    0.000 copy.py:182(_deepcopy_atomic)\n",
      "   133/36    0.000    0.000    0.002    0.000 copy.py:201(_deepcopy_list)\n",
      "    134/4    0.000    0.000    0.002    0.001 copy.py:227(_deepcopy_dict)\n",
      "      273    0.000    0.000    0.000    0.000 copy.py:243(_keep_alive)\n",
      "        1    0.000    0.000    0.002    0.002 {built-in method builtins.exec}\n",
      "        6    0.000    0.000    0.000    0.000 {built-in method builtins.getattr}\n",
      "     1837    0.000    0.000    0.000    0.000 {built-in method builtins.id}\n",
      "        6    0.000    0.000    0.000    0.000 {built-in method builtins.issubclass}\n",
      "        6    0.000    0.000    0.000    0.000 {method '__deepcopy__' of 'numpy.ndarray' objects}\n",
      "      611    0.000    0.000    0.000    0.000 {method 'append' of 'list' objects}\n",
      "        1    0.000    0.000    0.000    0.000 {method 'disable' of '_lsprof.Profiler' objects}\n",
      "     2588    0.000    0.000    0.000    0.000 {method 'get' of 'dict' objects}\n",
      "      134    0.000    0.000    0.000    0.000 {method 'items' of 'dict' objects}\n",
      "\n",
      "\n",
      "         8322 function calls (6804 primitive calls) in 0.021 seconds\n",
      "\n",
      "   Ordered by: standard name\n",
      "\n",
      "   ncalls  tottime  percall  cumtime  percall filename:lineno(function)\n",
      "        1    0.000    0.000    0.000    0.000 <frozen codecs>:186(__init__)\n",
      "        1    0.000    0.000    0.000    0.000 <frozen genericpath>:16(exists)\n",
      "        1    0.000    0.000    0.000    0.000 <frozen importlib._bootstrap>:1035(_resolve_name)\n",
      "        1    0.000    0.000    0.000    0.000 <frozen importlib._bootstrap>:1101(_sanity_check)\n",
      "        1    0.000    0.000    0.000    0.000 <frozen importlib._bootstrap>:1165(_find_and_load)\n",
      "        1    0.000    0.000    0.000    0.000 <frozen importlib._bootstrap>:1192(_gcd_import)\n",
      "        1    0.000    0.000    0.001    0.001 <frozen importlib._bootstrap_external>:1127(get_data)\n",
      "        1    0.000    0.000    0.000    0.000 <frozen importlib.util>:73(find_spec)\n",
      "        3    0.000    0.000    0.000    0.000 <frozen ntpath>:107(join)\n",
      "        7    0.000    0.000    0.000    0.000 <frozen ntpath>:154(splitdrive)\n",
      "        1    0.000    0.000    0.000    0.000 <frozen ntpath>:208(split)\n",
      "        1    0.000    0.000    0.000    0.000 <frozen ntpath>:249(dirname)\n",
      "        1    0.000    0.000    0.000    0.000 <frozen ntpath>:35(_get_bothseps)\n",
      "        1    0.000    0.000    0.020    0.020 <string>:1(<module>)\n",
      "        1    0.000    0.000    0.000    0.000 __init__.py:108(import_module)\n",
      "        3    0.000    0.000    0.000    0.000 __init__.py:183(dumps)\n",
      "        1    0.000    0.000    0.010    0.010 _html.py:25(to_html)\n",
      "        1    0.001    0.001    0.020    0.020 _html.py:377(write_html)\n",
      "        2    0.000    0.000    0.000    0.000 _json.py:20(default_engine)\n",
      "        2    0.000    0.000    0.000    0.000 _json.py:70(_safe)\n",
      "        2    0.000    0.000    0.000    0.000 _json.py:78(to_json_plotly)\n",
      "        1    0.000    0.000    0.002    0.002 _utils.py:6(validate_coerce_fig_to_dict)\n",
      "        1    0.000    0.000    0.002    0.002 basedatatypes.py:3285(to_dict)\n",
      "        1    0.000    0.000    0.000    0.000 basedatatypes.py:3308(<listcomp>)\n",
      "        1    0.000    0.000    0.020    0.020 basedatatypes.py:3604(write_html)\n",
      "   1294/3    0.001    0.000    0.002    0.001 copy.py:128(deepcopy)\n",
      "     1021    0.000    0.000    0.000    0.000 copy.py:182(_deepcopy_atomic)\n",
      "   133/36    0.000    0.000    0.002    0.000 copy.py:201(_deepcopy_list)\n",
      "    134/4    0.000    0.000    0.002    0.001 copy.py:227(_deepcopy_dict)\n",
      "      273    0.000    0.000    0.000    0.000 copy.py:243(_keep_alive)\n",
      "        2    0.000    0.000    0.000    0.000 encoder.py:105(__init__)\n",
      "        3    0.000    0.000    0.000    0.000 encoder.py:183(encode)\n",
      "        3    0.000    0.000    0.000    0.000 encoder.py:205(iterencode)\n",
      "        1    0.000    0.000    0.000    0.000 importers.py:23(__getattr__)\n",
      "        1    0.000    0.000    0.000    0.000 offline.py:105(_get_jconfig)\n",
      "        1    0.000    0.000    0.003    0.003 offline.py:41(get_plotlyjs)\n",
      "       28    0.000    0.000    0.000    0.000 optional_imports.py:13(get_module)\n",
      "        1    0.000    0.000    0.001    0.001 pathlib.py:1036(open)\n",
      "        1    0.000    0.000    0.009    0.009 pathlib.py:1070(write_text)\n",
      "        1    0.000    0.000    0.000    0.000 pathlib.py:523(_format_parsed_parts)\n",
      "        1    0.000    0.000    0.000    0.000 pathlib.py:536(__str__)\n",
      "        1    0.000    0.000    0.000    0.000 pathlib.py:546(__fspath__)\n",
      "        1    0.000    0.000    0.001    0.001 pkgutil.py:600(get_data)\n",
      "        1    0.000    0.000    0.000    0.000 tools.py:688(get_config_plotly_server_url)\n",
      "        6    0.000    0.000    0.000    0.000 utils.py:135(encode_as_plotly)\n",
      "        6    0.000    0.000    0.000    0.000 utils.py:143(encode_as_list)\n",
      "        6    0.000    0.000    0.000    0.000 utils.py:151(encode_as_sage)\n",
      "        6    0.000    0.000    0.000    0.000 utils.py:165(encode_as_pandas)\n",
      "        6    0.000    0.000    0.000    0.000 utils.py:181(encode_as_numpy)\n",
      "        6    0.000    0.000    0.000    0.000 utils.py:198(encode_as_datetime)\n",
      "        6    0.000    0.000    0.000    0.000 utils.py:206(encode_as_date)\n",
      "        2    0.000    0.000    0.000    0.000 utils.py:48(encode)\n",
      "        6    0.000    0.000    0.000    0.000 utils.py:85(default)\n",
      "        1    0.000    0.000    0.000    0.000 uuid.py:139(__init__)\n",
      "        1    0.000    0.000    0.000    0.000 uuid.py:280(__str__)\n",
      "        1    0.000    0.000    0.000    0.000 uuid.py:721(uuid4)\n",
      "        1    0.000    0.000    0.021    0.021 {built-in method builtins.exec}\n",
      "        9    0.000    0.000    0.000    0.000 {built-in method builtins.getattr}\n",
      "       14    0.000    0.000    0.000    0.000 {built-in method builtins.hasattr}\n",
      "     1837    0.000    0.000    0.000    0.000 {built-in method builtins.id}\n",
      "       35    0.000    0.000    0.000    0.000 {built-in method builtins.isinstance}\n",
      "        6    0.000    0.000    0.000    0.000 {built-in method builtins.issubclass}\n",
      "       10    0.000    0.000    0.000    0.000 {built-in method builtins.len}\n",
      "        1    0.000    0.000    0.000    0.000 {built-in method from_bytes}\n",
      "        1    0.000    0.000    0.000    0.000 {built-in method io.open_code}\n",
      "        1    0.001    0.001    0.001    0.001 {built-in method io.open}\n",
      "        2    0.000    0.000    0.000    0.000 {built-in method io.text_encoding}\n",
      "       11    0.000    0.000    0.000    0.000 {built-in method nt.fspath}\n",
      "        1    0.000    0.000    0.000    0.000 {built-in method nt.stat}\n",
      "        1    0.000    0.000    0.000    0.000 {built-in method nt.urandom}\n",
      "        6    0.000    0.000    0.000    0.000 {method '__deepcopy__' of 'numpy.ndarray' objects}\n",
      "        2    0.000    0.000    0.000    0.000 {method '__exit__' of '_io._IOBase' objects}\n",
      "      611    0.000    0.000    0.000    0.000 {method 'append' of 'list' objects}\n",
      "        1    0.000    0.000    0.000    0.000 {method 'count' of 'list' objects}\n",
      "        1    0.002    0.002    0.002    0.002 {method 'decode' of 'bytes' objects}\n",
      "        1    0.000    0.000    0.000    0.000 {method 'disable' of '_lsprof.Profiler' objects}\n",
      "        5    0.004    0.001    0.004    0.001 {method 'format' of 'str' objects}\n",
      "     2604    0.000    0.000    0.000    0.000 {method 'get' of 'dict' objects}\n",
      "        1    0.000    0.000    0.000    0.000 {method 'insert' of 'list' objects}\n",
      "      134    0.000    0.000    0.000    0.000 {method 'items' of 'dict' objects}\n",
      "        5    0.000    0.000    0.000    0.000 {method 'join' of 'str' objects}\n",
      "        3    0.000    0.000    0.000    0.000 {method 'pop' of 'dict' objects}\n",
      "        1    0.001    0.001    0.001    0.001 {method 'read' of '_io.BufferedReader' objects}\n",
      "       10    0.000    0.000    0.000    0.000 {method 'replace' of 'str' objects}\n",
      "        1    0.000    0.000    0.000    0.000 {method 'rsplit' of 'str' objects}\n",
      "        1    0.000    0.000    0.000    0.000 {method 'rstrip' of 'str' objects}\n",
      "        1    0.000    0.000    0.000    0.000 {method 'setdefault' of 'dict' objects}\n",
      "        2    0.000    0.000    0.000    0.000 {method 'split' of 'str' objects}\n",
      "        2    0.000    0.000    0.000    0.000 {method 'startswith' of 'str' objects}\n",
      "        1    0.000    0.000    0.000    0.000 {method 'strip' of 'str' objects}\n",
      "        6    0.000    0.000    0.000    0.000 {method 'tolist' of 'numpy.ndarray' objects}\n",
      "        1    0.008    0.008    0.008    0.008 {method 'write' of '_io.TextIOWrapper' objects}\n",
      "\n",
      "\n",
      "         8302 function calls (6776 primitive calls) in 0.105 seconds\n",
      "\n",
      "   Ordered by: standard name\n",
      "\n",
      "   ncalls  tottime  percall  cumtime  percall filename:lineno(function)\n",
      "        5    0.000    0.000    0.000    0.000 <frozen importlib._bootstrap>:1035(_resolve_name)\n",
      "        5    0.000    0.000    0.000    0.000 <frozen importlib._bootstrap>:1101(_sanity_check)\n",
      "        5    0.000    0.000    0.000    0.000 <frozen importlib._bootstrap>:1165(_find_and_load)\n",
      "        5    0.000    0.000    0.000    0.000 <frozen importlib._bootstrap>:1192(_gcd_import)\n",
      "        1    0.000    0.000    0.000    0.000 <frozen importlib._bootstrap>:1207(_handle_fromlist)\n",
      "        1    0.000    0.000    0.105    0.105 <string>:1(<module>)\n",
      "        5    0.000    0.000    0.000    0.000 __init__.py:108(import_module)\n",
      "        1    0.000    0.000    0.000    0.000 __init__.py:183(dumps)\n",
      "        4    0.000    0.000    0.000    0.000 __init__.py:282(__getattr__)\n",
      "        1    0.000    0.000    0.000    0.000 __init__.py:299(loads)\n",
      "        1    0.000    0.000    0.105    0.105 _kaleido.py:150(write_image)\n",
      "        1    0.000    0.000    0.104    0.104 _kaleido.py:25(to_image)\n",
      "        1    0.000    0.000    0.002    0.002 _utils.py:6(validate_coerce_fig_to_dict)\n",
      "        1    0.000    0.000    0.000    0.000 base.py:153(_ensure_kaleido)\n",
      "        1    0.000    0.000    0.102    0.102 base.py:277(_perform_transform)\n",
      "        1    0.000    0.000    0.000    0.000 base64.py:34(_bytes_from_decode_data)\n",
      "        1    0.000    0.000    0.000    0.000 base64.py:65(b64decode)\n",
      "        1    0.000    0.000    0.002    0.002 basedatatypes.py:3285(to_dict)\n",
      "        1    0.000    0.000    0.000    0.000 basedatatypes.py:3308(<listcomp>)\n",
      "        1    0.000    0.000    0.105    0.105 basedatatypes.py:3780(write_image)\n",
      "   1294/3    0.001    0.000    0.002    0.001 copy.py:128(deepcopy)\n",
      "     1021    0.000    0.000    0.000    0.000 copy.py:182(_deepcopy_atomic)\n",
      "   133/36    0.000    0.000    0.002    0.000 copy.py:201(_deepcopy_list)\n",
      "    134/4    0.000    0.000    0.002    0.001 copy.py:227(_deepcopy_dict)\n",
      "      273    0.000    0.000    0.000    0.000 copy.py:243(_keep_alive)\n",
      "        1    0.000    0.000    0.000    0.000 decoder.py:332(decode)\n",
      "        1    0.000    0.000    0.000    0.000 decoder.py:343(raw_decode)\n",
      "        1    0.000    0.000    0.000    0.000 encoder.py:105(__init__)\n",
      "        1    0.000    0.000    0.000    0.000 encoder.py:183(encode)\n",
      "        1    0.000    0.000    0.000    0.000 encoder.py:205(iterencode)\n",
      "      5/3    0.000    0.000    0.000    0.000 importers.py:23(__getattr__)\n",
      "       18    0.000    0.000    0.000    0.000 optional_imports.py:13(get_module)\n",
      "        1    0.000    0.000    0.000    0.000 pathlib.py:1036(open)\n",
      "        1    0.000    0.000    0.001    0.001 pathlib.py:1061(write_bytes)\n",
      "        1    0.000    0.000    0.000    0.000 pathlib.py:523(_format_parsed_parts)\n",
      "        1    0.000    0.000    0.000    0.000 pathlib.py:536(__str__)\n",
      "        1    0.000    0.000    0.000    0.000 pathlib.py:546(__fspath__)\n",
      "        1    0.000    0.000    0.000    0.000 pathlib.py:622(name)\n",
      "        1    0.000    0.000    0.000    0.000 pathlib.py:630(suffix)\n",
      "        1    0.000    0.000    0.102    0.102 plotly.py:38(transform)\n",
      "        1    0.000    0.000    0.000    0.000 subprocess.py:1233(poll)\n",
      "        1    0.000    0.000    0.000    0.000 subprocess.py:1563(_internal_poll)\n",
      "        6    0.000    0.000    0.000    0.000 utils.py:135(encode_as_plotly)\n",
      "        6    0.000    0.000    0.000    0.000 utils.py:143(encode_as_list)\n",
      "        6    0.000    0.000    0.000    0.000 utils.py:151(encode_as_sage)\n",
      "        6    0.000    0.000    0.000    0.000 utils.py:165(encode_as_pandas)\n",
      "        6    0.000    0.000    0.000    0.000 utils.py:181(encode_as_numpy)\n",
      "        6    0.000    0.000    0.000    0.000 utils.py:198(encode_as_datetime)\n",
      "        6    0.000    0.000    0.000    0.000 utils.py:206(encode_as_date)\n",
      "        1    0.000    0.000    0.000    0.000 utils.py:48(encode)\n",
      "        6    0.000    0.000    0.000    0.000 utils.py:85(default)\n",
      "        1    0.000    0.000    0.000    0.000 {built-in method _winapi.WaitForSingleObject}\n",
      "        1    0.000    0.000    0.000    0.000 {built-in method binascii.a2b_base64}\n",
      "        1    0.000    0.000    0.105    0.105 {built-in method builtins.exec}\n",
      "    21/15    0.000    0.000    0.000    0.000 {built-in method builtins.getattr}\n",
      "       13    0.000    0.000    0.000    0.000 {built-in method builtins.hasattr}\n",
      "     1837    0.000    0.000    0.000    0.000 {built-in method builtins.id}\n",
      "       26    0.000    0.000    0.000    0.000 {built-in method builtins.isinstance}\n",
      "        6    0.000    0.000    0.000    0.000 {built-in method builtins.issubclass}\n",
      "        8    0.000    0.000    0.000    0.000 {built-in method builtins.len}\n",
      "        1    0.000    0.000    0.000    0.000 {built-in method io.open}\n",
      "        6    0.000    0.000    0.000    0.000 {method '__deepcopy__' of 'numpy.ndarray' objects}\n",
      "        1    0.000    0.000    0.000    0.000 {method '__exit__' of '_io._IOBase' objects}\n",
      "        1    0.000    0.000    0.000    0.000 {method '__exit__' of '_thread.lock' objects}\n",
      "      611    0.000    0.000    0.000    0.000 {method 'append' of 'list' objects}\n",
      "        1    0.000    0.000    0.000    0.000 {method 'decode' of 'bytes' objects}\n",
      "        1    0.000    0.000    0.000    0.000 {method 'disable' of '_lsprof.Profiler' objects}\n",
      "        3    0.000    0.000    0.000    0.000 {method 'encode' of 'str' objects}\n",
      "        2    0.000    0.000    0.000    0.000 {method 'end' of 're.Match' objects}\n",
      "        1    0.000    0.000    0.000    0.000 {method 'flush' of '_io.BufferedWriter' objects}\n",
      "        5    0.000    0.000    0.000    0.000 {method 'format' of 'str' objects}\n",
      "     2598    0.000    0.000    0.000    0.000 {method 'get' of 'dict' objects}\n",
      "      134    0.000    0.000    0.000    0.000 {method 'items' of 'dict' objects}\n",
      "        7    0.000    0.000    0.000    0.000 {method 'join' of 'str' objects}\n",
      "        1    0.000    0.000    0.000    0.000 {method 'lower' of 'str' objects}\n",
      "        1    0.000    0.000    0.000    0.000 {method 'lstrip' of 'str' objects}\n",
      "        2    0.000    0.000    0.000    0.000 {method 'match' of 're.Pattern' objects}\n",
      "        1    0.101    0.101    0.101    0.101 {method 'readline' of '_io.BufferedReader' objects}\n",
      "        1    0.000    0.000    0.000    0.000 {method 'rfind' of 'str' objects}\n",
      "        5    0.000    0.000    0.000    0.000 {method 'rsplit' of 'str' objects}\n",
      "        5    0.000    0.000    0.000    0.000 {method 'split' of 'str' objects}\n",
      "        6    0.000    0.000    0.000    0.000 {method 'startswith' of 'str' objects}\n",
      "        6    0.000    0.000    0.000    0.000 {method 'tolist' of 'numpy.ndarray' objects}\n",
      "        3    0.000    0.000    0.000    0.000 {method 'write' of '_io.BufferedWriter' objects}\n",
      "\n",
      "\n"
     ]
    }
   ],
   "source": [
    "if generate:\n",
    "    image_dir = working_dir / \"images\"\n",
    "    cProfile.run(\"fig2d.figure.to_plotly_json()\")\n",
    "\n",
    "    html_file = working_dir / \"images\" / \"plot2d.html\"\n",
    "    cProfile.run(\"fig2d.figure.write_html(html_file)\")\n",
    "\n",
    "    png_file = working_dir / \"images\" / \"plot2d.png\"\n",
    "    cProfile.run(\"fig2d.figure.write_image(png_file, engine='kaleido')\")"
   ]
  },
  {
   "cell_type": "markdown",
   "metadata": {},
   "source": [
    "## 3D Plot"
   ]
  },
  {
   "cell_type": "code",
   "execution_count": 205,
   "metadata": {},
   "outputs": [
    {
     "data": {
      "text/html": [
       "        <script type=\"text/javascript\">\n",
       "        window.PlotlyConfig = {MathJaxConfig: 'local'};\n",
       "        if (window.MathJax && window.MathJax.Hub && window.MathJax.Hub.Config) {window.MathJax.Hub.Config({SVG: {font: \"STIX-Web\"}});}\n",
       "        if (typeof require !== 'undefined') {\n",
       "        require.undef(\"plotly\");\n",
       "        requirejs.config({\n",
       "            paths: {\n",
       "                'plotly': ['https://cdn.plot.ly/plotly-2.29.1.min']\n",
       "            }\n",
       "        });\n",
       "        require(['plotly'], function(Plotly) {\n",
       "            window._Plotly = Plotly;\n",
       "        });\n",
       "        }\n",
       "        </script>\n",
       "        "
      ]
     },
     "metadata": {},
     "output_type": "display_data"
    },
    {
     "data": {
      "text/html": [
       "<div>                            <div id=\"4e58ce56-cb78-46e5-a5b8-efd2af6f71ae\" class=\"plotly-graph-div\" style=\"height:500px; width:650px;\"></div>            <script type=\"text/javascript\">                require([\"plotly\"], function(Plotly) {                    window.PLOTLYENV=window.PLOTLYENV || {};                                    if (document.getElementById(\"4e58ce56-cb78-46e5-a5b8-efd2af6f71ae\")) {                    Plotly.newPlot(                        \"4e58ce56-cb78-46e5-a5b8-efd2af6f71ae\",                        [{\"connectgaps\":true,\"line\":{\"dash\":\"solid\",\"width\":2},\"marker\":{\"size\":5,\"symbol\":\"circle\"},\"mode\":\"lines\",\"showlegend\":true,\"x\":[10,20,30,40,50,60],\"y\":[1,2,3,4,5,6],\"z\":[100,110,120,130,140,150],\"type\":\"scatter3d\"}],                        {\"template\":{\"data\":{\"histogram2dcontour\":[{\"type\":\"histogram2dcontour\",\"colorbar\":{\"outlinewidth\":1,\"ticks\":\"outside\",\"tickcolor\":\"rgb(36,36,36)\"},\"colorscale\":[[0.0,\"#440154\"],[0.1111111111111111,\"#482878\"],[0.2222222222222222,\"#3e4989\"],[0.3333333333333333,\"#31688e\"],[0.4444444444444444,\"#26828e\"],[0.5555555555555556,\"#1f9e89\"],[0.6666666666666666,\"#35b779\"],[0.7777777777777778,\"#6ece58\"],[0.8888888888888888,\"#b5de2b\"],[1.0,\"#fde725\"]]}],\"choropleth\":[{\"type\":\"choropleth\",\"colorbar\":{\"outlinewidth\":1,\"ticks\":\"outside\",\"tickcolor\":\"rgb(36,36,36)\"}}],\"histogram2d\":[{\"type\":\"histogram2d\",\"colorbar\":{\"outlinewidth\":1,\"ticks\":\"outside\",\"tickcolor\":\"rgb(36,36,36)\"},\"colorscale\":[[0.0,\"#440154\"],[0.1111111111111111,\"#482878\"],[0.2222222222222222,\"#3e4989\"],[0.3333333333333333,\"#31688e\"],[0.4444444444444444,\"#26828e\"],[0.5555555555555556,\"#1f9e89\"],[0.6666666666666666,\"#35b779\"],[0.7777777777777778,\"#6ece58\"],[0.8888888888888888,\"#b5de2b\"],[1.0,\"#fde725\"]]}],\"heatmap\":[{\"type\":\"heatmap\",\"colorbar\":{\"outlinewidth\":1,\"ticks\":\"outside\",\"tickcolor\":\"rgb(36,36,36)\"},\"colorscale\":[[0.0,\"#440154\"],[0.1111111111111111,\"#482878\"],[0.2222222222222222,\"#3e4989\"],[0.3333333333333333,\"#31688e\"],[0.4444444444444444,\"#26828e\"],[0.5555555555555556,\"#1f9e89\"],[0.6666666666666666,\"#35b779\"],[0.7777777777777778,\"#6ece58\"],[0.8888888888888888,\"#b5de2b\"],[1.0,\"#fde725\"]]}],\"heatmapgl\":[{\"type\":\"heatmapgl\",\"colorbar\":{\"outlinewidth\":1,\"ticks\":\"outside\",\"tickcolor\":\"rgb(36,36,36)\"},\"colorscale\":[[0.0,\"#440154\"],[0.1111111111111111,\"#482878\"],[0.2222222222222222,\"#3e4989\"],[0.3333333333333333,\"#31688e\"],[0.4444444444444444,\"#26828e\"],[0.5555555555555556,\"#1f9e89\"],[0.6666666666666666,\"#35b779\"],[0.7777777777777778,\"#6ece58\"],[0.8888888888888888,\"#b5de2b\"],[1.0,\"#fde725\"]]}],\"contourcarpet\":[{\"type\":\"contourcarpet\",\"colorbar\":{\"outlinewidth\":1,\"ticks\":\"outside\",\"tickcolor\":\"rgb(36,36,36)\"}}],\"contour\":[{\"type\":\"contour\",\"colorbar\":{\"outlinewidth\":1,\"ticks\":\"outside\",\"tickcolor\":\"rgb(36,36,36)\"},\"colorscale\":[[0.0,\"#440154\"],[0.1111111111111111,\"#482878\"],[0.2222222222222222,\"#3e4989\"],[0.3333333333333333,\"#31688e\"],[0.4444444444444444,\"#26828e\"],[0.5555555555555556,\"#1f9e89\"],[0.6666666666666666,\"#35b779\"],[0.7777777777777778,\"#6ece58\"],[0.8888888888888888,\"#b5de2b\"],[1.0,\"#fde725\"]]}],\"surface\":[{\"type\":\"surface\",\"colorbar\":{\"outlinewidth\":1,\"ticks\":\"outside\",\"tickcolor\":\"rgb(36,36,36)\"},\"colorscale\":[[0.0,\"#440154\"],[0.1111111111111111,\"#482878\"],[0.2222222222222222,\"#3e4989\"],[0.3333333333333333,\"#31688e\"],[0.4444444444444444,\"#26828e\"],[0.5555555555555556,\"#1f9e89\"],[0.6666666666666666,\"#35b779\"],[0.7777777777777778,\"#6ece58\"],[0.8888888888888888,\"#b5de2b\"],[1.0,\"#fde725\"]]}],\"mesh3d\":[{\"type\":\"mesh3d\",\"colorbar\":{\"outlinewidth\":1,\"ticks\":\"outside\",\"tickcolor\":\"rgb(36,36,36)\"}}],\"scatter\":[{\"fillpattern\":{\"fillmode\":\"overlay\",\"size\":10,\"solidity\":0.2},\"type\":\"scatter\"}],\"parcoords\":[{\"type\":\"parcoords\",\"line\":{\"colorbar\":{\"outlinewidth\":1,\"ticks\":\"outside\",\"tickcolor\":\"rgb(36,36,36)\"}}}],\"scatterpolargl\":[{\"type\":\"scatterpolargl\",\"marker\":{\"colorbar\":{\"outlinewidth\":1,\"ticks\":\"outside\",\"tickcolor\":\"rgb(36,36,36)\"}}}],\"bar\":[{\"error_x\":{\"color\":\"rgb(36,36,36)\"},\"error_y\":{\"color\":\"rgb(36,36,36)\"},\"marker\":{\"line\":{\"color\":\"white\",\"width\":0.5},\"pattern\":{\"fillmode\":\"overlay\",\"size\":10,\"solidity\":0.2}},\"type\":\"bar\"}],\"scattergeo\":[{\"type\":\"scattergeo\",\"marker\":{\"colorbar\":{\"outlinewidth\":1,\"ticks\":\"outside\",\"tickcolor\":\"rgb(36,36,36)\"}}}],\"scatterpolar\":[{\"type\":\"scatterpolar\",\"marker\":{\"colorbar\":{\"outlinewidth\":1,\"ticks\":\"outside\",\"tickcolor\":\"rgb(36,36,36)\"}}}],\"histogram\":[{\"marker\":{\"pattern\":{\"fillmode\":\"overlay\",\"size\":10,\"solidity\":0.2},\"line\":{\"color\":\"white\",\"width\":0.6}},\"type\":\"histogram\"}],\"scattergl\":[{\"type\":\"scattergl\",\"marker\":{\"colorbar\":{\"outlinewidth\":1,\"ticks\":\"outside\",\"tickcolor\":\"rgb(36,36,36)\"}}}],\"scatter3d\":[{\"type\":\"scatter3d\",\"line\":{\"colorbar\":{\"outlinewidth\":1,\"ticks\":\"outside\",\"tickcolor\":\"rgb(36,36,36)\"}},\"marker\":{\"colorbar\":{\"outlinewidth\":1,\"ticks\":\"outside\",\"tickcolor\":\"rgb(36,36,36)\"}}}],\"scattermapbox\":[{\"type\":\"scattermapbox\",\"marker\":{\"colorbar\":{\"outlinewidth\":1,\"ticks\":\"outside\",\"tickcolor\":\"rgb(36,36,36)\"}}}],\"scatterternary\":[{\"type\":\"scatterternary\",\"marker\":{\"colorbar\":{\"outlinewidth\":1,\"ticks\":\"outside\",\"tickcolor\":\"rgb(36,36,36)\"}}}],\"scattercarpet\":[{\"type\":\"scattercarpet\",\"marker\":{\"colorbar\":{\"outlinewidth\":1,\"ticks\":\"outside\",\"tickcolor\":\"rgb(36,36,36)\"}}}],\"carpet\":[{\"aaxis\":{\"endlinecolor\":\"rgb(36,36,36)\",\"gridcolor\":\"white\",\"linecolor\":\"white\",\"minorgridcolor\":\"white\",\"startlinecolor\":\"rgb(36,36,36)\"},\"baxis\":{\"endlinecolor\":\"rgb(36,36,36)\",\"gridcolor\":\"white\",\"linecolor\":\"white\",\"minorgridcolor\":\"white\",\"startlinecolor\":\"rgb(36,36,36)\"},\"type\":\"carpet\"}],\"table\":[{\"cells\":{\"fill\":{\"color\":\"rgb(237,237,237)\"},\"line\":{\"color\":\"white\"}},\"header\":{\"fill\":{\"color\":\"rgb(217,217,217)\"},\"line\":{\"color\":\"white\"}},\"type\":\"table\"}],\"barpolar\":[{\"marker\":{\"line\":{\"color\":\"white\",\"width\":0.5},\"pattern\":{\"fillmode\":\"overlay\",\"size\":10,\"solidity\":0.2}},\"type\":\"barpolar\"}],\"pie\":[{\"automargin\":true,\"type\":\"pie\"}]},\"layout\":{\"autotypenumbers\":\"strict\",\"colorway\":[\"#1F77B4\",\"#FF7F0E\",\"#2CA02C\",\"#D62728\",\"#9467BD\",\"#8C564B\",\"#E377C2\",\"#7F7F7F\",\"#BCBD22\",\"#17BECF\"],\"font\":{\"color\":\"rgb(36,36,36)\"},\"hovermode\":\"closest\",\"hoverlabel\":{\"align\":\"left\"},\"paper_bgcolor\":\"white\",\"plot_bgcolor\":\"white\",\"polar\":{\"bgcolor\":\"white\",\"angularaxis\":{\"gridcolor\":\"rgb(232,232,232)\",\"linecolor\":\"rgb(36,36,36)\",\"ticks\":\"outside\",\"showgrid\":false,\"showline\":true},\"radialaxis\":{\"gridcolor\":\"rgb(232,232,232)\",\"linecolor\":\"rgb(36,36,36)\",\"ticks\":\"outside\",\"showgrid\":false,\"showline\":true}},\"ternary\":{\"bgcolor\":\"white\",\"aaxis\":{\"gridcolor\":\"rgb(232,232,232)\",\"linecolor\":\"rgb(36,36,36)\",\"ticks\":\"outside\",\"showgrid\":false,\"showline\":true},\"baxis\":{\"gridcolor\":\"rgb(232,232,232)\",\"linecolor\":\"rgb(36,36,36)\",\"ticks\":\"outside\",\"showgrid\":false,\"showline\":true},\"caxis\":{\"gridcolor\":\"rgb(232,232,232)\",\"linecolor\":\"rgb(36,36,36)\",\"ticks\":\"outside\",\"showgrid\":false,\"showline\":true}},\"coloraxis\":{\"colorbar\":{\"outlinewidth\":1,\"ticks\":\"outside\",\"tickcolor\":\"rgb(36,36,36)\"}},\"colorscale\":{\"sequential\":[[0.0,\"#440154\"],[0.1111111111111111,\"#482878\"],[0.2222222222222222,\"#3e4989\"],[0.3333333333333333,\"#31688e\"],[0.4444444444444444,\"#26828e\"],[0.5555555555555556,\"#1f9e89\"],[0.6666666666666666,\"#35b779\"],[0.7777777777777778,\"#6ece58\"],[0.8888888888888888,\"#b5de2b\"],[1.0,\"#fde725\"]],\"sequentialminus\":[[0.0,\"#440154\"],[0.1111111111111111,\"#482878\"],[0.2222222222222222,\"#3e4989\"],[0.3333333333333333,\"#31688e\"],[0.4444444444444444,\"#26828e\"],[0.5555555555555556,\"#1f9e89\"],[0.6666666666666666,\"#35b779\"],[0.7777777777777778,\"#6ece58\"],[0.8888888888888888,\"#b5de2b\"],[1.0,\"#fde725\"]],\"diverging\":[[0.0,\"rgb(103,0,31)\"],[0.1,\"rgb(178,24,43)\"],[0.2,\"rgb(214,96,77)\"],[0.3,\"rgb(244,165,130)\"],[0.4,\"rgb(253,219,199)\"],[0.5,\"rgb(247,247,247)\"],[0.6,\"rgb(209,229,240)\"],[0.7,\"rgb(146,197,222)\"],[0.8,\"rgb(67,147,195)\"],[0.9,\"rgb(33,102,172)\"],[1.0,\"rgb(5,48,97)\"]]},\"xaxis\":{\"gridcolor\":\"rgb(232,232,232)\",\"linecolor\":\"rgb(36,36,36)\",\"ticks\":\"outside\",\"title\":{\"standoff\":15},\"zerolinecolor\":\"rgb(36,36,36)\",\"automargin\":true,\"zerolinewidth\":2,\"showgrid\":false,\"showline\":true,\"zeroline\":false},\"yaxis\":{\"gridcolor\":\"rgb(232,232,232)\",\"linecolor\":\"rgb(36,36,36)\",\"ticks\":\"outside\",\"title\":{\"standoff\":15},\"zerolinecolor\":\"rgb(36,36,36)\",\"automargin\":true,\"zerolinewidth\":2,\"showgrid\":false,\"showline\":true,\"zeroline\":false},\"scene\":{\"xaxis\":{\"backgroundcolor\":\"white\",\"gridcolor\":\"rgb(232,232,232)\",\"linecolor\":\"rgb(36,36,36)\",\"showbackground\":true,\"ticks\":\"outside\",\"zerolinecolor\":\"rgb(36,36,36)\",\"gridwidth\":2,\"showgrid\":false,\"showline\":true,\"zeroline\":false},\"yaxis\":{\"backgroundcolor\":\"white\",\"gridcolor\":\"rgb(232,232,232)\",\"linecolor\":\"rgb(36,36,36)\",\"showbackground\":true,\"ticks\":\"outside\",\"zerolinecolor\":\"rgb(36,36,36)\",\"gridwidth\":2,\"showgrid\":false,\"showline\":true,\"zeroline\":false},\"zaxis\":{\"backgroundcolor\":\"white\",\"gridcolor\":\"rgb(232,232,232)\",\"linecolor\":\"rgb(36,36,36)\",\"showbackground\":true,\"ticks\":\"outside\",\"zerolinecolor\":\"rgb(36,36,36)\",\"gridwidth\":2,\"showgrid\":false,\"showline\":true,\"zeroline\":false}},\"shapedefaults\":{\"line\":{\"color\":\"#2a3f5f\",\"width\":0},\"fillcolor\":\"black\",\"opacity\":0.3},\"annotationdefaults\":{\"arrowcolor\":\"#2a3f5f\",\"arrowhead\":0,\"arrowwidth\":1},\"geo\":{\"bgcolor\":\"white\",\"landcolor\":\"white\",\"subunitcolor\":\"white\",\"showland\":true,\"showlakes\":true,\"lakecolor\":\"white\"},\"title\":{\"x\":0.05},\"mapbox\":{\"style\":\"light\"}}},\"legend\":{\"title\":{\"text\":\"Legend\"}},\"margin\":{\"b\":60,\"l\":20,\"r\":1,\"t\":30},\"title\":{\"font\":{\"size\":13},\"text\":\"\\u003cb\\u003eFlyout\\u003c\\u002fb\\u003e\",\"x\":0.5,\"xanchor\":\"center\",\"yanchor\":\"top\"},\"annotations\":[{\"font\":{\"size\":10},\"showarrow\":false,\"text\":\"\\u003cb\\u003eUNCLASSIFIED\\u002f\\u002fFOUO\\u003c\\u002fb\\u003e\",\"visible\":false,\"x\":0,\"xanchor\":\"left\",\"xref\":\"paper\",\"xshift\":-20,\"y\":1,\"yanchor\":\"top\",\"yref\":\"paper\",\"yshift\":40},{\"font\":{\"size\":10},\"showarrow\":false,\"text\":\"\\u003cb\\u003eUNCLASSIFIED\\u002f\\u002fFOUO\\u003c\\u002fb\\u003e\",\"visible\":false,\"x\":0,\"xanchor\":\"left\",\"xref\":\"paper\",\"xshift\":-20,\"y\":0,\"yanchor\":\"bottom\",\"yref\":\"paper\",\"yshift\":-70},{\"font\":{\"size\":10},\"showarrow\":false,\"text\":\"\\u003cb\\u003eUNCLASSIFIED\\u002f\\u002fFOUO\\u003c\\u002fb\\u003e\",\"visible\":false,\"x\":1,\"xanchor\":\"right\",\"xref\":\"paper\",\"xshift\":65,\"y\":1,\"yanchor\":\"top\",\"yref\":\"paper\",\"yshift\":40},{\"font\":{\"size\":10},\"showarrow\":false,\"text\":\"\\u003cb\\u003eUNCLASSIFIED\\u002f\\u002fFOUO\\u003c\\u002fb\\u003e\",\"visible\":false,\"x\":1,\"xanchor\":\"right\",\"xref\":\"paper\",\"xshift\":65,\"y\":0,\"yanchor\":\"bottom\",\"yref\":\"paper\",\"yshift\":-70},{\"showarrow\":false,\"text\":\"Miss distance 20.10 m\",\"x\":-0.01,\"xref\":\"paper\",\"y\":-0.13,\"yref\":\"paper\"},{\"showarrow\":false,\"text\":\"Missile Info: MSL_1\",\"x\":1.01,\"xref\":\"paper\",\"y\":-0.13,\"yref\":\"paper\"}],\"height\":500,\"width\":650,\"scene\":{\"xaxis\":{\"title\":{\"font\":{\"size\":12},\"text\":\"X Label\"},\"showgrid\":true,\"linecolor\":\"black\",\"linewidth\":1,\"mirror\":true,\"tickmode\":\"auto\",\"tickvals\":[1,3,5,7,9,11],\"ticktext\":[\"One\",\"Three\",\"Five\",\"Seven\",\"Nine\",\"Eleven\"]},\"yaxis\":{\"title\":{\"font\":{\"size\":12},\"text\":\"Y Label\"},\"showgrid\":true,\"linecolor\":\"black\",\"linewidth\":1,\"mirror\":true,\"tickmode\":\"auto\",\"tickvals\":[1,3,5,7,9,11],\"ticktext\":[\"One\",\"Three\",\"Five\",\"Seven\",\"Nine\",\"Eleven\"]},\"zaxis\":{\"title\":{\"font\":{\"size\":12},\"text\":\"Z Label\"},\"showgrid\":true,\"linecolor\":\"black\",\"linewidth\":1,\"mirror\":true,\"tickmode\":\"auto\",\"tickvals\":[1,3,5,7,9,11],\"ticktext\":[\"One\",\"Three\",\"Five\",\"Seven\",\"Nine\",\"Eleven\"]},\"camera\":{\"projection\":{\"type\":\"orthographic\"},\"eye\":{\"x\":-1.25,\"z\":0.8}}}},                        {\"responsive\": true}                    ).then(function(){\n",
       "                            \n",
       "var gd = document.getElementById('4e58ce56-cb78-46e5-a5b8-efd2af6f71ae');\n",
       "var x = new MutationObserver(function (mutations, observer) {{\n",
       "        var display = window.getComputedStyle(gd).display;\n",
       "        if (!display || display === 'none') {{\n",
       "            console.log([gd, 'removed!']);\n",
       "            Plotly.purge(gd);\n",
       "            observer.disconnect();\n",
       "        }}\n",
       "}});\n",
       "\n",
       "// Listen for the removal of the full notebook cells\n",
       "var notebookContainer = gd.closest('#notebook-container');\n",
       "if (notebookContainer) {{\n",
       "    x.observe(notebookContainer, {childList: true});\n",
       "}}\n",
       "\n",
       "// Listen for the clearing of the current output cell\n",
       "var outputEl = gd.closest('.output');\n",
       "if (outputEl) {{\n",
       "    x.observe(outputEl, {childList: true});\n",
       "}}\n",
       "\n",
       "                        })                };                });            </script>        </div>"
      ]
     },
     "metadata": {},
     "output_type": "display_data"
    }
   ],
   "source": [
    "# Variables\n",
    "id = \"3d\"\n",
    "\n",
    "fig3d = Plot3D(templates[id], data[id])\n",
    "\n",
    "if render_plots:\n",
    "    fig3d.show_plot(\"notebook_connected\")"
   ]
  },
  {
   "cell_type": "code",
   "execution_count": 206,
   "metadata": {},
   "outputs": [
    {
     "name": "stdout",
     "output_type": "stream",
     "text": [
      "         8047 function calls (6528 primitive calls) in 0.002 seconds\n",
      "\n",
      "   Ordered by: standard name\n",
      "\n",
      "   ncalls  tottime  percall  cumtime  percall filename:lineno(function)\n",
      "        1    0.000    0.000    0.002    0.002 <string>:1(<module>)\n",
      "        1    0.000    0.000    0.002    0.002 basedatatypes.py:3285(to_dict)\n",
      "        1    0.000    0.000    0.000    0.000 basedatatypes.py:3308(<listcomp>)\n",
      "        1    0.000    0.000    0.002    0.002 basedatatypes.py:3315(to_plotly_json)\n",
      "   1292/3    0.001    0.000    0.002    0.001 copy.py:128(deepcopy)\n",
      "     1019    0.000    0.000    0.000    0.000 copy.py:182(_deepcopy_atomic)\n",
      "   135/38    0.000    0.000    0.002    0.000 copy.py:201(_deepcopy_list)\n",
      "    135/2    0.000    0.000    0.002    0.001 copy.py:227(_deepcopy_dict)\n",
      "      273    0.000    0.000    0.000    0.000 copy.py:243(_keep_alive)\n",
      "        1    0.000    0.000    0.002    0.002 {built-in method builtins.exec}\n",
      "        3    0.000    0.000    0.000    0.000 {built-in method builtins.getattr}\n",
      "     1838    0.000    0.000    0.000    0.000 {built-in method builtins.id}\n",
      "        3    0.000    0.000    0.000    0.000 {built-in method builtins.issubclass}\n",
      "        3    0.000    0.000    0.000    0.000 {method '__deepcopy__' of 'numpy.ndarray' objects}\n",
      "      621    0.000    0.000    0.000    0.000 {method 'append' of 'list' objects}\n",
      "        1    0.000    0.000    0.000    0.000 {method 'disable' of '_lsprof.Profiler' objects}\n",
      "     2584    0.000    0.000    0.000    0.000 {method 'get' of 'dict' objects}\n",
      "      135    0.000    0.000    0.000    0.000 {method 'items' of 'dict' objects}\n",
      "\n",
      "\n",
      "         8275 function calls (6756 primitive calls) in 0.021 seconds\n",
      "\n",
      "   Ordered by: standard name\n",
      "\n",
      "   ncalls  tottime  percall  cumtime  percall filename:lineno(function)\n",
      "        1    0.000    0.000    0.000    0.000 <frozen codecs>:186(__init__)\n",
      "        1    0.000    0.000    0.000    0.000 <frozen genericpath>:16(exists)\n",
      "        1    0.000    0.000    0.000    0.000 <frozen importlib._bootstrap>:1035(_resolve_name)\n",
      "        1    0.000    0.000    0.000    0.000 <frozen importlib._bootstrap>:1101(_sanity_check)\n",
      "        1    0.000    0.000    0.000    0.000 <frozen importlib._bootstrap>:1165(_find_and_load)\n",
      "        1    0.000    0.000    0.000    0.000 <frozen importlib._bootstrap>:1192(_gcd_import)\n",
      "        1    0.000    0.000    0.001    0.001 <frozen importlib._bootstrap_external>:1127(get_data)\n",
      "        1    0.000    0.000    0.000    0.000 <frozen importlib.util>:73(find_spec)\n",
      "        3    0.000    0.000    0.000    0.000 <frozen ntpath>:107(join)\n",
      "        7    0.000    0.000    0.000    0.000 <frozen ntpath>:154(splitdrive)\n",
      "        1    0.000    0.000    0.000    0.000 <frozen ntpath>:208(split)\n",
      "        1    0.000    0.000    0.000    0.000 <frozen ntpath>:249(dirname)\n",
      "        1    0.000    0.000    0.000    0.000 <frozen ntpath>:35(_get_bothseps)\n",
      "        1    0.000    0.000    0.021    0.021 <string>:1(<module>)\n",
      "        1    0.000    0.000    0.000    0.000 __init__.py:108(import_module)\n",
      "        3    0.000    0.000    0.000    0.000 __init__.py:183(dumps)\n",
      "        1    0.000    0.000    0.010    0.010 _html.py:25(to_html)\n",
      "        1    0.001    0.001    0.020    0.020 _html.py:377(write_html)\n",
      "        2    0.000    0.000    0.000    0.000 _json.py:20(default_engine)\n",
      "        2    0.000    0.000    0.000    0.000 _json.py:70(_safe)\n",
      "        2    0.000    0.000    0.000    0.000 _json.py:78(to_json_plotly)\n",
      "        1    0.000    0.000    0.002    0.002 _utils.py:6(validate_coerce_fig_to_dict)\n",
      "        1    0.000    0.000    0.002    0.002 basedatatypes.py:3285(to_dict)\n",
      "        1    0.000    0.000    0.000    0.000 basedatatypes.py:3308(<listcomp>)\n",
      "        1    0.000    0.000    0.021    0.021 basedatatypes.py:3604(write_html)\n",
      "   1292/3    0.001    0.000    0.002    0.001 copy.py:128(deepcopy)\n",
      "     1019    0.000    0.000    0.000    0.000 copy.py:182(_deepcopy_atomic)\n",
      "   135/38    0.000    0.000    0.001    0.000 copy.py:201(_deepcopy_list)\n",
      "    135/2    0.000    0.000    0.002    0.001 copy.py:227(_deepcopy_dict)\n",
      "      273    0.000    0.000    0.000    0.000 copy.py:243(_keep_alive)\n",
      "        2    0.000    0.000    0.000    0.000 encoder.py:105(__init__)\n",
      "        3    0.000    0.000    0.000    0.000 encoder.py:183(encode)\n",
      "        3    0.000    0.000    0.000    0.000 encoder.py:205(iterencode)\n",
      "        1    0.000    0.000    0.000    0.000 importers.py:23(__getattr__)\n",
      "        1    0.000    0.000    0.000    0.000 offline.py:105(_get_jconfig)\n",
      "        1    0.000    0.000    0.003    0.003 offline.py:41(get_plotlyjs)\n",
      "       19    0.000    0.000    0.000    0.000 optional_imports.py:13(get_module)\n",
      "        1    0.000    0.000    0.001    0.001 pathlib.py:1036(open)\n",
      "        1    0.000    0.000    0.009    0.009 pathlib.py:1070(write_text)\n",
      "        1    0.000    0.000    0.000    0.000 pathlib.py:523(_format_parsed_parts)\n",
      "        1    0.000    0.000    0.000    0.000 pathlib.py:536(__str__)\n",
      "        1    0.000    0.000    0.000    0.000 pathlib.py:546(__fspath__)\n",
      "        1    0.000    0.000    0.001    0.001 pkgutil.py:600(get_data)\n",
      "        1    0.000    0.000    0.000    0.000 tools.py:688(get_config_plotly_server_url)\n",
      "        3    0.000    0.000    0.000    0.000 utils.py:135(encode_as_plotly)\n",
      "        3    0.000    0.000    0.000    0.000 utils.py:143(encode_as_list)\n",
      "        3    0.000    0.000    0.000    0.000 utils.py:151(encode_as_sage)\n",
      "        3    0.000    0.000    0.000    0.000 utils.py:165(encode_as_pandas)\n",
      "        3    0.000    0.000    0.000    0.000 utils.py:181(encode_as_numpy)\n",
      "        3    0.000    0.000    0.000    0.000 utils.py:198(encode_as_datetime)\n",
      "        3    0.000    0.000    0.000    0.000 utils.py:206(encode_as_date)\n",
      "        2    0.000    0.000    0.000    0.000 utils.py:48(encode)\n",
      "        3    0.000    0.000    0.000    0.000 utils.py:85(default)\n",
      "        1    0.000    0.000    0.000    0.000 uuid.py:139(__init__)\n",
      "        1    0.000    0.000    0.000    0.000 uuid.py:280(__str__)\n",
      "        1    0.000    0.000    0.000    0.000 uuid.py:721(uuid4)\n",
      "        1    0.000    0.000    0.021    0.021 {built-in method builtins.exec}\n",
      "        6    0.000    0.000    0.000    0.000 {built-in method builtins.getattr}\n",
      "        8    0.000    0.000    0.000    0.000 {built-in method builtins.hasattr}\n",
      "     1838    0.000    0.000    0.000    0.000 {built-in method builtins.id}\n",
      "       32    0.000    0.000    0.000    0.000 {built-in method builtins.isinstance}\n",
      "        3    0.000    0.000    0.000    0.000 {built-in method builtins.issubclass}\n",
      "       10    0.000    0.000    0.000    0.000 {built-in method builtins.len}\n",
      "        1    0.000    0.000    0.000    0.000 {built-in method from_bytes}\n",
      "        1    0.000    0.000    0.000    0.000 {built-in method io.open_code}\n",
      "        1    0.001    0.001    0.001    0.001 {built-in method io.open}\n",
      "        2    0.000    0.000    0.000    0.000 {built-in method io.text_encoding}\n",
      "       11    0.000    0.000    0.000    0.000 {built-in method nt.fspath}\n",
      "        1    0.000    0.000    0.000    0.000 {built-in method nt.stat}\n",
      "        1    0.000    0.000    0.000    0.000 {built-in method nt.urandom}\n",
      "        3    0.000    0.000    0.000    0.000 {method '__deepcopy__' of 'numpy.ndarray' objects}\n",
      "        2    0.000    0.000    0.000    0.000 {method '__exit__' of '_io._IOBase' objects}\n",
      "      621    0.000    0.000    0.000    0.000 {method 'append' of 'list' objects}\n",
      "        1    0.000    0.000    0.000    0.000 {method 'count' of 'list' objects}\n",
      "        1    0.002    0.002    0.002    0.002 {method 'decode' of 'bytes' objects}\n",
      "        1    0.000    0.000    0.000    0.000 {method 'disable' of '_lsprof.Profiler' objects}\n",
      "        5    0.004    0.001    0.004    0.001 {method 'format' of 'str' objects}\n",
      "     2600    0.000    0.000    0.000    0.000 {method 'get' of 'dict' objects}\n",
      "        1    0.000    0.000    0.000    0.000 {method 'insert' of 'list' objects}\n",
      "      135    0.000    0.000    0.000    0.000 {method 'items' of 'dict' objects}\n",
      "        5    0.000    0.000    0.000    0.000 {method 'join' of 'str' objects}\n",
      "        3    0.000    0.000    0.000    0.000 {method 'pop' of 'dict' objects}\n",
      "        1    0.001    0.001    0.001    0.001 {method 'read' of '_io.BufferedReader' objects}\n",
      "       10    0.000    0.000    0.000    0.000 {method 'replace' of 'str' objects}\n",
      "        1    0.000    0.000    0.000    0.000 {method 'rsplit' of 'str' objects}\n",
      "        1    0.000    0.000    0.000    0.000 {method 'rstrip' of 'str' objects}\n",
      "        1    0.000    0.000    0.000    0.000 {method 'setdefault' of 'dict' objects}\n",
      "        2    0.000    0.000    0.000    0.000 {method 'split' of 'str' objects}\n",
      "        2    0.000    0.000    0.000    0.000 {method 'startswith' of 'str' objects}\n",
      "        1    0.000    0.000    0.000    0.000 {method 'strip' of 'str' objects}\n",
      "        3    0.000    0.000    0.000    0.000 {method 'tolist' of 'numpy.ndarray' objects}\n",
      "        1    0.008    0.008    0.008    0.008 {method 'write' of '_io.TextIOWrapper' objects}\n",
      "\n",
      "\n",
      "         8255 function calls (6728 primitive calls) in 0.920 seconds\n",
      "\n",
      "   Ordered by: standard name\n",
      "\n",
      "   ncalls  tottime  percall  cumtime  percall filename:lineno(function)\n",
      "        5    0.000    0.000    0.000    0.000 <frozen importlib._bootstrap>:1035(_resolve_name)\n",
      "        5    0.000    0.000    0.000    0.000 <frozen importlib._bootstrap>:1101(_sanity_check)\n",
      "        5    0.000    0.000    0.000    0.000 <frozen importlib._bootstrap>:1165(_find_and_load)\n",
      "        5    0.000    0.000    0.000    0.000 <frozen importlib._bootstrap>:1192(_gcd_import)\n",
      "        1    0.000    0.000    0.000    0.000 <frozen importlib._bootstrap>:1207(_handle_fromlist)\n",
      "        1    0.000    0.000    0.920    0.920 <string>:1(<module>)\n",
      "        5    0.000    0.000    0.000    0.000 __init__.py:108(import_module)\n",
      "        1    0.000    0.000    0.000    0.000 __init__.py:183(dumps)\n",
      "        4    0.000    0.000    0.000    0.000 __init__.py:282(__getattr__)\n",
      "        1    0.000    0.000    0.000    0.000 __init__.py:299(loads)\n",
      "        1    0.000    0.000    0.920    0.920 _kaleido.py:150(write_image)\n",
      "        1    0.000    0.000    0.919    0.919 _kaleido.py:25(to_image)\n",
      "        1    0.000    0.000    0.002    0.002 _utils.py:6(validate_coerce_fig_to_dict)\n",
      "        1    0.000    0.000    0.000    0.000 base.py:153(_ensure_kaleido)\n",
      "        1    0.000    0.000    0.917    0.917 base.py:277(_perform_transform)\n",
      "        1    0.000    0.000    0.000    0.000 base64.py:34(_bytes_from_decode_data)\n",
      "        1    0.000    0.000    0.000    0.000 base64.py:65(b64decode)\n",
      "        1    0.000    0.000    0.002    0.002 basedatatypes.py:3285(to_dict)\n",
      "        1    0.000    0.000    0.000    0.000 basedatatypes.py:3308(<listcomp>)\n",
      "        1    0.000    0.000    0.920    0.920 basedatatypes.py:3780(write_image)\n",
      "   1292/3    0.001    0.000    0.002    0.001 copy.py:128(deepcopy)\n",
      "     1019    0.000    0.000    0.000    0.000 copy.py:182(_deepcopy_atomic)\n",
      "   135/38    0.000    0.000    0.002    0.000 copy.py:201(_deepcopy_list)\n",
      "    135/2    0.000    0.000    0.002    0.001 copy.py:227(_deepcopy_dict)\n",
      "      273    0.000    0.000    0.000    0.000 copy.py:243(_keep_alive)\n",
      "        1    0.000    0.000    0.000    0.000 decoder.py:332(decode)\n",
      "        1    0.000    0.000    0.000    0.000 decoder.py:343(raw_decode)\n",
      "        1    0.000    0.000    0.000    0.000 encoder.py:105(__init__)\n",
      "        1    0.000    0.000    0.000    0.000 encoder.py:183(encode)\n",
      "        1    0.000    0.000    0.000    0.000 encoder.py:205(iterencode)\n",
      "      5/3    0.000    0.000    0.000    0.000 importers.py:23(__getattr__)\n",
      "        9    0.000    0.000    0.000    0.000 optional_imports.py:13(get_module)\n",
      "        1    0.000    0.000    0.001    0.001 pathlib.py:1036(open)\n",
      "        1    0.000    0.000    0.001    0.001 pathlib.py:1061(write_bytes)\n",
      "        1    0.000    0.000    0.000    0.000 pathlib.py:523(_format_parsed_parts)\n",
      "        1    0.000    0.000    0.000    0.000 pathlib.py:536(__str__)\n",
      "        1    0.000    0.000    0.000    0.000 pathlib.py:546(__fspath__)\n",
      "        1    0.000    0.000    0.000    0.000 pathlib.py:622(name)\n",
      "        1    0.000    0.000    0.000    0.000 pathlib.py:630(suffix)\n",
      "        1    0.000    0.000    0.917    0.917 plotly.py:38(transform)\n",
      "        1    0.000    0.000    0.000    0.000 subprocess.py:1233(poll)\n",
      "        1    0.000    0.000    0.000    0.000 subprocess.py:1563(_internal_poll)\n",
      "        3    0.000    0.000    0.000    0.000 utils.py:135(encode_as_plotly)\n",
      "        3    0.000    0.000    0.000    0.000 utils.py:143(encode_as_list)\n",
      "        3    0.000    0.000    0.000    0.000 utils.py:151(encode_as_sage)\n",
      "        3    0.000    0.000    0.000    0.000 utils.py:165(encode_as_pandas)\n",
      "        3    0.000    0.000    0.000    0.000 utils.py:181(encode_as_numpy)\n",
      "        3    0.000    0.000    0.000    0.000 utils.py:198(encode_as_datetime)\n",
      "        3    0.000    0.000    0.000    0.000 utils.py:206(encode_as_date)\n",
      "        1    0.000    0.000    0.000    0.000 utils.py:48(encode)\n",
      "        3    0.000    0.000    0.000    0.000 utils.py:85(default)\n",
      "        1    0.000    0.000    0.000    0.000 {built-in method _winapi.WaitForSingleObject}\n",
      "        1    0.000    0.000    0.000    0.000 {built-in method binascii.a2b_base64}\n",
      "        1    0.000    0.000    0.920    0.920 {built-in method builtins.exec}\n",
      "    18/12    0.000    0.000    0.000    0.000 {built-in method builtins.getattr}\n",
      "        7    0.000    0.000    0.000    0.000 {built-in method builtins.hasattr}\n",
      "     1838    0.000    0.000    0.000    0.000 {built-in method builtins.id}\n",
      "       23    0.000    0.000    0.000    0.000 {built-in method builtins.isinstance}\n",
      "        3    0.000    0.000    0.000    0.000 {built-in method builtins.issubclass}\n",
      "        8    0.000    0.000    0.000    0.000 {built-in method builtins.len}\n",
      "        1    0.001    0.001    0.001    0.001 {built-in method io.open}\n",
      "        3    0.000    0.000    0.000    0.000 {method '__deepcopy__' of 'numpy.ndarray' objects}\n",
      "        1    0.000    0.000    0.000    0.000 {method '__exit__' of '_io._IOBase' objects}\n",
      "        1    0.000    0.000    0.000    0.000 {method '__exit__' of '_thread.lock' objects}\n",
      "      621    0.000    0.000    0.000    0.000 {method 'append' of 'list' objects}\n",
      "        1    0.000    0.000    0.000    0.000 {method 'decode' of 'bytes' objects}\n",
      "        1    0.000    0.000    0.000    0.000 {method 'disable' of '_lsprof.Profiler' objects}\n",
      "        3    0.000    0.000    0.000    0.000 {method 'encode' of 'str' objects}\n",
      "        2    0.000    0.000    0.000    0.000 {method 'end' of 're.Match' objects}\n",
      "        1    0.000    0.000    0.000    0.000 {method 'flush' of '_io.BufferedWriter' objects}\n",
      "        5    0.000    0.000    0.000    0.000 {method 'format' of 'str' objects}\n",
      "     2594    0.000    0.000    0.000    0.000 {method 'get' of 'dict' objects}\n",
      "      135    0.000    0.000    0.000    0.000 {method 'items' of 'dict' objects}\n",
      "        7    0.000    0.000    0.000    0.000 {method 'join' of 'str' objects}\n",
      "        1    0.000    0.000    0.000    0.000 {method 'lower' of 'str' objects}\n",
      "        1    0.000    0.000    0.000    0.000 {method 'lstrip' of 'str' objects}\n",
      "        2    0.000    0.000    0.000    0.000 {method 'match' of 're.Pattern' objects}\n",
      "        1    0.916    0.916    0.916    0.916 {method 'readline' of '_io.BufferedReader' objects}\n",
      "        1    0.000    0.000    0.000    0.000 {method 'rfind' of 'str' objects}\n",
      "        5    0.000    0.000    0.000    0.000 {method 'rsplit' of 'str' objects}\n",
      "        5    0.000    0.000    0.000    0.000 {method 'split' of 'str' objects}\n",
      "        6    0.000    0.000    0.000    0.000 {method 'startswith' of 'str' objects}\n",
      "        3    0.000    0.000    0.000    0.000 {method 'tolist' of 'numpy.ndarray' objects}\n",
      "        3    0.000    0.000    0.000    0.000 {method 'write' of '_io.BufferedWriter' objects}\n",
      "\n",
      "\n"
     ]
    }
   ],
   "source": [
    "if generate:\n",
    "    image_dir = working_dir / \"images\"\n",
    "    cProfile.run(\"fig3d.figure.to_plotly_json()\")\n",
    "\n",
    "    html_file = working_dir / \"images\" / \"plot3d.html\"\n",
    "    cProfile.run(\"fig3d.figure.write_html(html_file)\")\n",
    "\n",
    "    png_file = working_dir / \"images\" / \"plot3d.png\"\n",
    "    cProfile.run(\"fig3d.figure.write_image(png_file, engine='kaleido')\")"
   ]
  },
  {
   "cell_type": "markdown",
   "metadata": {},
   "source": [
    "## 2D Tick Marks"
   ]
  },
  {
   "cell_type": "code",
   "execution_count": 207,
   "metadata": {},
   "outputs": [
    {
     "data": {
      "text/html": [
       "        <script type=\"text/javascript\">\n",
       "        window.PlotlyConfig = {MathJaxConfig: 'local'};\n",
       "        if (window.MathJax && window.MathJax.Hub && window.MathJax.Hub.Config) {window.MathJax.Hub.Config({SVG: {font: \"STIX-Web\"}});}\n",
       "        if (typeof require !== 'undefined') {\n",
       "        require.undef(\"plotly\");\n",
       "        requirejs.config({\n",
       "            paths: {\n",
       "                'plotly': ['https://cdn.plot.ly/plotly-2.29.1.min']\n",
       "            }\n",
       "        });\n",
       "        require(['plotly'], function(Plotly) {\n",
       "            window._Plotly = Plotly;\n",
       "        });\n",
       "        }\n",
       "        </script>\n",
       "        "
      ]
     },
     "metadata": {},
     "output_type": "display_data"
    },
    {
     "data": {
      "text/html": [
       "<div>                            <div id=\"850c888b-6636-4abf-9707-9d888fa92edd\" class=\"plotly-graph-div\" style=\"height:500px; width:650px;\"></div>            <script type=\"text/javascript\">                require([\"plotly\"], function(Plotly) {                    window.PLOTLYENV=window.PLOTLYENV || {};                                    if (document.getElementById(\"850c888b-6636-4abf-9707-9d888fa92edd\")) {                    Plotly.newPlot(                        \"850c888b-6636-4abf-9707-9d888fa92edd\",                        [{\"connectgaps\":true,\"line\":{\"dash\":\"solid\",\"width\":2},\"marker\":{\"size\":5,\"symbol\":\"circle\"},\"mode\":\"lines\",\"showlegend\":true,\"x\":[0,1,2,3,4,5],\"y\":[10,20,30,40,50,60],\"type\":\"scatter\"},{\"connectgaps\":true,\"line\":{\"dash\":\"dash\",\"width\":2},\"marker\":{\"size\":5,\"symbol\":\"circle\"},\"mode\":\"lines\",\"showlegend\":true,\"x\":[0,1,2,3,4,5],\"y\":[1,2,3,4,5,6],\"type\":\"scatter\"}],                        {\"template\":{\"data\":{\"histogram2dcontour\":[{\"type\":\"histogram2dcontour\",\"colorbar\":{\"outlinewidth\":1,\"ticks\":\"outside\",\"tickcolor\":\"rgb(36,36,36)\"},\"colorscale\":[[0.0,\"#440154\"],[0.1111111111111111,\"#482878\"],[0.2222222222222222,\"#3e4989\"],[0.3333333333333333,\"#31688e\"],[0.4444444444444444,\"#26828e\"],[0.5555555555555556,\"#1f9e89\"],[0.6666666666666666,\"#35b779\"],[0.7777777777777778,\"#6ece58\"],[0.8888888888888888,\"#b5de2b\"],[1.0,\"#fde725\"]]}],\"choropleth\":[{\"type\":\"choropleth\",\"colorbar\":{\"outlinewidth\":1,\"ticks\":\"outside\",\"tickcolor\":\"rgb(36,36,36)\"}}],\"histogram2d\":[{\"type\":\"histogram2d\",\"colorbar\":{\"outlinewidth\":1,\"ticks\":\"outside\",\"tickcolor\":\"rgb(36,36,36)\"},\"colorscale\":[[0.0,\"#440154\"],[0.1111111111111111,\"#482878\"],[0.2222222222222222,\"#3e4989\"],[0.3333333333333333,\"#31688e\"],[0.4444444444444444,\"#26828e\"],[0.5555555555555556,\"#1f9e89\"],[0.6666666666666666,\"#35b779\"],[0.7777777777777778,\"#6ece58\"],[0.8888888888888888,\"#b5de2b\"],[1.0,\"#fde725\"]]}],\"heatmap\":[{\"type\":\"heatmap\",\"colorbar\":{\"outlinewidth\":1,\"ticks\":\"outside\",\"tickcolor\":\"rgb(36,36,36)\"},\"colorscale\":[[0.0,\"#440154\"],[0.1111111111111111,\"#482878\"],[0.2222222222222222,\"#3e4989\"],[0.3333333333333333,\"#31688e\"],[0.4444444444444444,\"#26828e\"],[0.5555555555555556,\"#1f9e89\"],[0.6666666666666666,\"#35b779\"],[0.7777777777777778,\"#6ece58\"],[0.8888888888888888,\"#b5de2b\"],[1.0,\"#fde725\"]]}],\"heatmapgl\":[{\"type\":\"heatmapgl\",\"colorbar\":{\"outlinewidth\":1,\"ticks\":\"outside\",\"tickcolor\":\"rgb(36,36,36)\"},\"colorscale\":[[0.0,\"#440154\"],[0.1111111111111111,\"#482878\"],[0.2222222222222222,\"#3e4989\"],[0.3333333333333333,\"#31688e\"],[0.4444444444444444,\"#26828e\"],[0.5555555555555556,\"#1f9e89\"],[0.6666666666666666,\"#35b779\"],[0.7777777777777778,\"#6ece58\"],[0.8888888888888888,\"#b5de2b\"],[1.0,\"#fde725\"]]}],\"contourcarpet\":[{\"type\":\"contourcarpet\",\"colorbar\":{\"outlinewidth\":1,\"ticks\":\"outside\",\"tickcolor\":\"rgb(36,36,36)\"}}],\"contour\":[{\"type\":\"contour\",\"colorbar\":{\"outlinewidth\":1,\"ticks\":\"outside\",\"tickcolor\":\"rgb(36,36,36)\"},\"colorscale\":[[0.0,\"#440154\"],[0.1111111111111111,\"#482878\"],[0.2222222222222222,\"#3e4989\"],[0.3333333333333333,\"#31688e\"],[0.4444444444444444,\"#26828e\"],[0.5555555555555556,\"#1f9e89\"],[0.6666666666666666,\"#35b779\"],[0.7777777777777778,\"#6ece58\"],[0.8888888888888888,\"#b5de2b\"],[1.0,\"#fde725\"]]}],\"surface\":[{\"type\":\"surface\",\"colorbar\":{\"outlinewidth\":1,\"ticks\":\"outside\",\"tickcolor\":\"rgb(36,36,36)\"},\"colorscale\":[[0.0,\"#440154\"],[0.1111111111111111,\"#482878\"],[0.2222222222222222,\"#3e4989\"],[0.3333333333333333,\"#31688e\"],[0.4444444444444444,\"#26828e\"],[0.5555555555555556,\"#1f9e89\"],[0.6666666666666666,\"#35b779\"],[0.7777777777777778,\"#6ece58\"],[0.8888888888888888,\"#b5de2b\"],[1.0,\"#fde725\"]]}],\"mesh3d\":[{\"type\":\"mesh3d\",\"colorbar\":{\"outlinewidth\":1,\"ticks\":\"outside\",\"tickcolor\":\"rgb(36,36,36)\"}}],\"scatter\":[{\"fillpattern\":{\"fillmode\":\"overlay\",\"size\":10,\"solidity\":0.2},\"type\":\"scatter\"}],\"parcoords\":[{\"type\":\"parcoords\",\"line\":{\"colorbar\":{\"outlinewidth\":1,\"ticks\":\"outside\",\"tickcolor\":\"rgb(36,36,36)\"}}}],\"scatterpolargl\":[{\"type\":\"scatterpolargl\",\"marker\":{\"colorbar\":{\"outlinewidth\":1,\"ticks\":\"outside\",\"tickcolor\":\"rgb(36,36,36)\"}}}],\"bar\":[{\"error_x\":{\"color\":\"rgb(36,36,36)\"},\"error_y\":{\"color\":\"rgb(36,36,36)\"},\"marker\":{\"line\":{\"color\":\"white\",\"width\":0.5},\"pattern\":{\"fillmode\":\"overlay\",\"size\":10,\"solidity\":0.2}},\"type\":\"bar\"}],\"scattergeo\":[{\"type\":\"scattergeo\",\"marker\":{\"colorbar\":{\"outlinewidth\":1,\"ticks\":\"outside\",\"tickcolor\":\"rgb(36,36,36)\"}}}],\"scatterpolar\":[{\"type\":\"scatterpolar\",\"marker\":{\"colorbar\":{\"outlinewidth\":1,\"ticks\":\"outside\",\"tickcolor\":\"rgb(36,36,36)\"}}}],\"histogram\":[{\"marker\":{\"pattern\":{\"fillmode\":\"overlay\",\"size\":10,\"solidity\":0.2},\"line\":{\"color\":\"white\",\"width\":0.6}},\"type\":\"histogram\"}],\"scattergl\":[{\"type\":\"scattergl\",\"marker\":{\"colorbar\":{\"outlinewidth\":1,\"ticks\":\"outside\",\"tickcolor\":\"rgb(36,36,36)\"}}}],\"scatter3d\":[{\"type\":\"scatter3d\",\"line\":{\"colorbar\":{\"outlinewidth\":1,\"ticks\":\"outside\",\"tickcolor\":\"rgb(36,36,36)\"}},\"marker\":{\"colorbar\":{\"outlinewidth\":1,\"ticks\":\"outside\",\"tickcolor\":\"rgb(36,36,36)\"}}}],\"scattermapbox\":[{\"type\":\"scattermapbox\",\"marker\":{\"colorbar\":{\"outlinewidth\":1,\"ticks\":\"outside\",\"tickcolor\":\"rgb(36,36,36)\"}}}],\"scatterternary\":[{\"type\":\"scatterternary\",\"marker\":{\"colorbar\":{\"outlinewidth\":1,\"ticks\":\"outside\",\"tickcolor\":\"rgb(36,36,36)\"}}}],\"scattercarpet\":[{\"type\":\"scattercarpet\",\"marker\":{\"colorbar\":{\"outlinewidth\":1,\"ticks\":\"outside\",\"tickcolor\":\"rgb(36,36,36)\"}}}],\"carpet\":[{\"aaxis\":{\"endlinecolor\":\"rgb(36,36,36)\",\"gridcolor\":\"white\",\"linecolor\":\"white\",\"minorgridcolor\":\"white\",\"startlinecolor\":\"rgb(36,36,36)\"},\"baxis\":{\"endlinecolor\":\"rgb(36,36,36)\",\"gridcolor\":\"white\",\"linecolor\":\"white\",\"minorgridcolor\":\"white\",\"startlinecolor\":\"rgb(36,36,36)\"},\"type\":\"carpet\"}],\"table\":[{\"cells\":{\"fill\":{\"color\":\"rgb(237,237,237)\"},\"line\":{\"color\":\"white\"}},\"header\":{\"fill\":{\"color\":\"rgb(217,217,217)\"},\"line\":{\"color\":\"white\"}},\"type\":\"table\"}],\"barpolar\":[{\"marker\":{\"line\":{\"color\":\"white\",\"width\":0.5},\"pattern\":{\"fillmode\":\"overlay\",\"size\":10,\"solidity\":0.2}},\"type\":\"barpolar\"}],\"pie\":[{\"automargin\":true,\"type\":\"pie\"}]},\"layout\":{\"autotypenumbers\":\"strict\",\"colorway\":[\"#1F77B4\",\"#FF7F0E\",\"#2CA02C\",\"#D62728\",\"#9467BD\",\"#8C564B\",\"#E377C2\",\"#7F7F7F\",\"#BCBD22\",\"#17BECF\"],\"font\":{\"color\":\"rgb(36,36,36)\"},\"hovermode\":\"closest\",\"hoverlabel\":{\"align\":\"left\"},\"paper_bgcolor\":\"white\",\"plot_bgcolor\":\"white\",\"polar\":{\"bgcolor\":\"white\",\"angularaxis\":{\"gridcolor\":\"rgb(232,232,232)\",\"linecolor\":\"rgb(36,36,36)\",\"ticks\":\"outside\",\"showgrid\":false,\"showline\":true},\"radialaxis\":{\"gridcolor\":\"rgb(232,232,232)\",\"linecolor\":\"rgb(36,36,36)\",\"ticks\":\"outside\",\"showgrid\":false,\"showline\":true}},\"ternary\":{\"bgcolor\":\"white\",\"aaxis\":{\"gridcolor\":\"rgb(232,232,232)\",\"linecolor\":\"rgb(36,36,36)\",\"ticks\":\"outside\",\"showgrid\":false,\"showline\":true},\"baxis\":{\"gridcolor\":\"rgb(232,232,232)\",\"linecolor\":\"rgb(36,36,36)\",\"ticks\":\"outside\",\"showgrid\":false,\"showline\":true},\"caxis\":{\"gridcolor\":\"rgb(232,232,232)\",\"linecolor\":\"rgb(36,36,36)\",\"ticks\":\"outside\",\"showgrid\":false,\"showline\":true}},\"coloraxis\":{\"colorbar\":{\"outlinewidth\":1,\"ticks\":\"outside\",\"tickcolor\":\"rgb(36,36,36)\"}},\"colorscale\":{\"sequential\":[[0.0,\"#440154\"],[0.1111111111111111,\"#482878\"],[0.2222222222222222,\"#3e4989\"],[0.3333333333333333,\"#31688e\"],[0.4444444444444444,\"#26828e\"],[0.5555555555555556,\"#1f9e89\"],[0.6666666666666666,\"#35b779\"],[0.7777777777777778,\"#6ece58\"],[0.8888888888888888,\"#b5de2b\"],[1.0,\"#fde725\"]],\"sequentialminus\":[[0.0,\"#440154\"],[0.1111111111111111,\"#482878\"],[0.2222222222222222,\"#3e4989\"],[0.3333333333333333,\"#31688e\"],[0.4444444444444444,\"#26828e\"],[0.5555555555555556,\"#1f9e89\"],[0.6666666666666666,\"#35b779\"],[0.7777777777777778,\"#6ece58\"],[0.8888888888888888,\"#b5de2b\"],[1.0,\"#fde725\"]],\"diverging\":[[0.0,\"rgb(103,0,31)\"],[0.1,\"rgb(178,24,43)\"],[0.2,\"rgb(214,96,77)\"],[0.3,\"rgb(244,165,130)\"],[0.4,\"rgb(253,219,199)\"],[0.5,\"rgb(247,247,247)\"],[0.6,\"rgb(209,229,240)\"],[0.7,\"rgb(146,197,222)\"],[0.8,\"rgb(67,147,195)\"],[0.9,\"rgb(33,102,172)\"],[1.0,\"rgb(5,48,97)\"]]},\"xaxis\":{\"gridcolor\":\"rgb(232,232,232)\",\"linecolor\":\"rgb(36,36,36)\",\"ticks\":\"outside\",\"title\":{\"standoff\":15},\"zerolinecolor\":\"rgb(36,36,36)\",\"automargin\":true,\"zerolinewidth\":2,\"showgrid\":false,\"showline\":true,\"zeroline\":false},\"yaxis\":{\"gridcolor\":\"rgb(232,232,232)\",\"linecolor\":\"rgb(36,36,36)\",\"ticks\":\"outside\",\"title\":{\"standoff\":15},\"zerolinecolor\":\"rgb(36,36,36)\",\"automargin\":true,\"zerolinewidth\":2,\"showgrid\":false,\"showline\":true,\"zeroline\":false},\"scene\":{\"xaxis\":{\"backgroundcolor\":\"white\",\"gridcolor\":\"rgb(232,232,232)\",\"linecolor\":\"rgb(36,36,36)\",\"showbackground\":true,\"ticks\":\"outside\",\"zerolinecolor\":\"rgb(36,36,36)\",\"gridwidth\":2,\"showgrid\":false,\"showline\":true,\"zeroline\":false},\"yaxis\":{\"backgroundcolor\":\"white\",\"gridcolor\":\"rgb(232,232,232)\",\"linecolor\":\"rgb(36,36,36)\",\"showbackground\":true,\"ticks\":\"outside\",\"zerolinecolor\":\"rgb(36,36,36)\",\"gridwidth\":2,\"showgrid\":false,\"showline\":true,\"zeroline\":false},\"zaxis\":{\"backgroundcolor\":\"white\",\"gridcolor\":\"rgb(232,232,232)\",\"linecolor\":\"rgb(36,36,36)\",\"showbackground\":true,\"ticks\":\"outside\",\"zerolinecolor\":\"rgb(36,36,36)\",\"gridwidth\":2,\"showgrid\":false,\"showline\":true,\"zeroline\":false}},\"shapedefaults\":{\"line\":{\"color\":\"#2a3f5f\",\"width\":0},\"fillcolor\":\"black\",\"opacity\":0.3},\"annotationdefaults\":{\"arrowcolor\":\"#2a3f5f\",\"arrowhead\":0,\"arrowwidth\":1},\"geo\":{\"bgcolor\":\"white\",\"landcolor\":\"white\",\"subunitcolor\":\"white\",\"showland\":true,\"showlakes\":true,\"lakecolor\":\"white\"},\"title\":{\"x\":0.05},\"mapbox\":{\"style\":\"light\"}}},\"legend\":{\"title\":{\"text\":\"Legend\"}},\"margin\":{\"b\":60,\"l\":20,\"r\":1,\"t\":30},\"title\":{\"font\":{\"size\":13},\"text\":\"\\u003cb\\u003eTarget Positions\\u003c\\u002fb\\u003e\",\"x\":0.5,\"xanchor\":\"center\",\"yanchor\":\"top\"},\"annotations\":[{\"font\":{\"size\":10},\"showarrow\":false,\"text\":\"\\u003cb\\u003eUNCLASSIFIED\\u002f\\u002fFOUO\\u003c\\u002fb\\u003e\",\"visible\":false,\"x\":0,\"xanchor\":\"left\",\"xref\":\"paper\",\"xshift\":-30,\"y\":1,\"yanchor\":\"top\",\"yref\":\"paper\",\"yshift\":40},{\"font\":{\"size\":10},\"showarrow\":false,\"text\":\"\\u003cb\\u003eUNCLASSIFIED\\u002f\\u002fFOUO\\u003c\\u002fb\\u003e\",\"visible\":false,\"x\":0,\"xanchor\":\"left\",\"xref\":\"paper\",\"xshift\":-30,\"y\":0,\"yanchor\":\"bottom\",\"yref\":\"paper\",\"yshift\":-70},{\"font\":{\"size\":10},\"showarrow\":false,\"text\":\"\\u003cb\\u003eUNCLASSIFIED\\u002f\\u002fFOUO\\u003c\\u002fb\\u003e\",\"visible\":false,\"x\":1,\"xanchor\":\"right\",\"xref\":\"paper\",\"xshift\":65,\"y\":1,\"yanchor\":\"top\",\"yref\":\"paper\",\"yshift\":40},{\"font\":{\"size\":10},\"showarrow\":false,\"text\":\"\\u003cb\\u003eUNCLASSIFIED\\u002f\\u002fFOUO\\u003c\\u002fb\\u003e\",\"visible\":false,\"x\":1,\"xanchor\":\"right\",\"xref\":\"paper\",\"xshift\":65,\"y\":0,\"yanchor\":\"bottom\",\"yref\":\"paper\",\"yshift\":-70},{\"showarrow\":false,\"text\":\"Miss distance 20.10 m\",\"x\":-0.01,\"xref\":\"paper\",\"y\":-0.13,\"yref\":\"paper\"},{\"showarrow\":false,\"text\":\"Missile Info: MSL_1\",\"x\":1.01,\"xref\":\"paper\",\"y\":-0.13,\"yref\":\"paper\"}],\"height\":500,\"width\":650,\"xaxis\":{\"title\":{\"font\":{\"size\":12},\"text\":\"Time (s)\",\"standoff\":1},\"showgrid\":true,\"linecolor\":\"black\",\"linewidth\":1,\"mirror\":true,\"tickmode\":\"array\",\"tickvals\":[1,3,5],\"ticktext\":[\"One\",\"Three\",\"Five\"]},\"yaxis\":{\"title\":{\"font\":{\"size\":12},\"text\":\"Position\",\"standoff\":8},\"showgrid\":true,\"linecolor\":\"black\",\"linewidth\":1,\"mirror\":true,\"tickmode\":\"auto\",\"tickvals\":[1,3,5,7,9,11],\"ticktext\":[\"One\",\"Three\",\"Five\",\"Seven\",\"Nine\",\"Eleven\"]}},                        {\"responsive\": true}                    ).then(function(){\n",
       "                            \n",
       "var gd = document.getElementById('850c888b-6636-4abf-9707-9d888fa92edd');\n",
       "var x = new MutationObserver(function (mutations, observer) {{\n",
       "        var display = window.getComputedStyle(gd).display;\n",
       "        if (!display || display === 'none') {{\n",
       "            console.log([gd, 'removed!']);\n",
       "            Plotly.purge(gd);\n",
       "            observer.disconnect();\n",
       "        }}\n",
       "}});\n",
       "\n",
       "// Listen for the removal of the full notebook cells\n",
       "var notebookContainer = gd.closest('#notebook-container');\n",
       "if (notebookContainer) {{\n",
       "    x.observe(notebookContainer, {childList: true});\n",
       "}}\n",
       "\n",
       "// Listen for the clearing of the current output cell\n",
       "var outputEl = gd.closest('.output');\n",
       "if (outputEl) {{\n",
       "    x.observe(outputEl, {childList: true});\n",
       "}}\n",
       "\n",
       "                        })                };                });            </script>        </div>"
      ]
     },
     "metadata": {},
     "output_type": "display_data"
    }
   ],
   "source": [
    "# Variables\n",
    "id = \"ticks_2d\"\n",
    "\n",
    "fig2dTicks = Plot2D(templates[id], data[id])\n",
    "\n",
    "if render_plots:\n",
    "    fig2dTicks.show_plot(\"notebook_connected\")"
   ]
  },
  {
   "cell_type": "code",
   "execution_count": 208,
   "metadata": {},
   "outputs": [
    {
     "name": "stdout",
     "output_type": "stream",
     "text": [
      "         7862 function calls (6377 primitive calls) in 0.002 seconds\n",
      "\n",
      "   Ordered by: standard name\n",
      "\n",
      "   ncalls  tottime  percall  cumtime  percall filename:lineno(function)\n",
      "        1    0.000    0.000    0.002    0.002 <string>:1(<module>)\n",
      "        1    0.000    0.000    0.002    0.002 basedatatypes.py:3285(to_dict)\n",
      "        1    0.000    0.000    0.000    0.000 basedatatypes.py:3308(<listcomp>)\n",
      "        1    0.000    0.000    0.002    0.002 basedatatypes.py:3315(to_plotly_json)\n",
      "   1263/3    0.001    0.000    0.002    0.001 copy.py:128(deepcopy)\n",
      "      995    0.000    0.000    0.000    0.000 copy.py:182(_deepcopy_atomic)\n",
      "   133/36    0.000    0.000    0.002    0.000 copy.py:201(_deepcopy_list)\n",
      "    131/3    0.000    0.000    0.002    0.001 copy.py:227(_deepcopy_dict)\n",
      "      268    0.000    0.000    0.000    0.000 copy.py:243(_keep_alive)\n",
      "        1    0.000    0.000    0.002    0.002 {built-in method builtins.exec}\n",
      "        4    0.000    0.000    0.000    0.000 {built-in method builtins.getattr}\n",
      "     1798    0.000    0.000    0.000    0.000 {built-in method builtins.id}\n",
      "        4    0.000    0.000    0.000    0.000 {built-in method builtins.issubclass}\n",
      "        4    0.000    0.000    0.000    0.000 {method '__deepcopy__' of 'numpy.ndarray' objects}\n",
      "      599    0.000    0.000    0.000    0.000 {method 'append' of 'list' objects}\n",
      "        1    0.000    0.000    0.000    0.000 {method 'disable' of '_lsprof.Profiler' objects}\n",
      "     2526    0.000    0.000    0.000    0.000 {method 'get' of 'dict' objects}\n",
      "      131    0.000    0.000    0.000    0.000 {method 'items' of 'dict' objects}\n",
      "\n",
      "\n",
      "         8105 function calls (6620 primitive calls) in 0.021 seconds\n",
      "\n",
      "   Ordered by: standard name\n",
      "\n",
      "   ncalls  tottime  percall  cumtime  percall filename:lineno(function)\n",
      "        1    0.000    0.000    0.000    0.000 <frozen codecs>:186(__init__)\n",
      "        1    0.000    0.000    0.000    0.000 <frozen genericpath>:16(exists)\n",
      "        1    0.000    0.000    0.000    0.000 <frozen importlib._bootstrap>:1035(_resolve_name)\n",
      "        1    0.000    0.000    0.000    0.000 <frozen importlib._bootstrap>:1101(_sanity_check)\n",
      "        1    0.000    0.000    0.000    0.000 <frozen importlib._bootstrap>:1165(_find_and_load)\n",
      "        1    0.000    0.000    0.000    0.000 <frozen importlib._bootstrap>:1192(_gcd_import)\n",
      "        1    0.000    0.000    0.001    0.001 <frozen importlib._bootstrap_external>:1127(get_data)\n",
      "        1    0.000    0.000    0.000    0.000 <frozen importlib.util>:73(find_spec)\n",
      "        3    0.000    0.000    0.000    0.000 <frozen ntpath>:107(join)\n",
      "        7    0.000    0.000    0.000    0.000 <frozen ntpath>:154(splitdrive)\n",
      "        1    0.000    0.000    0.000    0.000 <frozen ntpath>:208(split)\n",
      "        1    0.000    0.000    0.000    0.000 <frozen ntpath>:249(dirname)\n",
      "        1    0.000    0.000    0.000    0.000 <frozen ntpath>:35(_get_bothseps)\n",
      "        1    0.000    0.000    0.021    0.021 <string>:1(<module>)\n",
      "        1    0.000    0.000    0.000    0.000 __init__.py:108(import_module)\n",
      "        3    0.000    0.000    0.000    0.000 __init__.py:183(dumps)\n",
      "        1    0.000    0.000    0.011    0.011 _html.py:25(to_html)\n",
      "        1    0.001    0.001    0.021    0.021 _html.py:377(write_html)\n",
      "        2    0.000    0.000    0.000    0.000 _json.py:20(default_engine)\n",
      "        2    0.000    0.000    0.000    0.000 _json.py:70(_safe)\n",
      "        2    0.000    0.000    0.000    0.000 _json.py:78(to_json_plotly)\n",
      "        1    0.000    0.000    0.002    0.002 _utils.py:6(validate_coerce_fig_to_dict)\n",
      "        1    0.000    0.000    0.002    0.002 basedatatypes.py:3285(to_dict)\n",
      "        1    0.000    0.000    0.000    0.000 basedatatypes.py:3308(<listcomp>)\n",
      "        1    0.000    0.000    0.021    0.021 basedatatypes.py:3604(write_html)\n",
      "   1263/3    0.001    0.000    0.002    0.001 copy.py:128(deepcopy)\n",
      "      995    0.000    0.000    0.000    0.000 copy.py:182(_deepcopy_atomic)\n",
      "   133/36    0.000    0.000    0.001    0.000 copy.py:201(_deepcopy_list)\n",
      "    131/3    0.000    0.000    0.002    0.001 copy.py:227(_deepcopy_dict)\n",
      "      268    0.000    0.000    0.000    0.000 copy.py:243(_keep_alive)\n",
      "        2    0.000    0.000    0.000    0.000 encoder.py:105(__init__)\n",
      "        3    0.000    0.000    0.000    0.000 encoder.py:183(encode)\n",
      "        3    0.000    0.000    0.000    0.000 encoder.py:205(iterencode)\n",
      "        1    0.000    0.000    0.000    0.000 importers.py:23(__getattr__)\n",
      "        1    0.000    0.000    0.000    0.000 offline.py:105(_get_jconfig)\n",
      "        1    0.000    0.000    0.004    0.004 offline.py:41(get_plotlyjs)\n",
      "       22    0.000    0.000    0.000    0.000 optional_imports.py:13(get_module)\n",
      "        1    0.000    0.000    0.001    0.001 pathlib.py:1036(open)\n",
      "        1    0.000    0.000    0.009    0.009 pathlib.py:1070(write_text)\n",
      "        1    0.000    0.000    0.000    0.000 pathlib.py:523(_format_parsed_parts)\n",
      "        1    0.000    0.000    0.000    0.000 pathlib.py:536(__str__)\n",
      "        1    0.000    0.000    0.000    0.000 pathlib.py:546(__fspath__)\n",
      "        1    0.000    0.000    0.001    0.001 pkgutil.py:600(get_data)\n",
      "        1    0.000    0.000    0.000    0.000 tools.py:688(get_config_plotly_server_url)\n",
      "        4    0.000    0.000    0.000    0.000 utils.py:135(encode_as_plotly)\n",
      "        4    0.000    0.000    0.000    0.000 utils.py:143(encode_as_list)\n",
      "        4    0.000    0.000    0.000    0.000 utils.py:151(encode_as_sage)\n",
      "        4    0.000    0.000    0.000    0.000 utils.py:165(encode_as_pandas)\n",
      "        4    0.000    0.000    0.000    0.000 utils.py:181(encode_as_numpy)\n",
      "        4    0.000    0.000    0.000    0.000 utils.py:198(encode_as_datetime)\n",
      "        4    0.000    0.000    0.000    0.000 utils.py:206(encode_as_date)\n",
      "        2    0.000    0.000    0.000    0.000 utils.py:48(encode)\n",
      "        4    0.000    0.000    0.000    0.000 utils.py:85(default)\n",
      "        1    0.000    0.000    0.000    0.000 uuid.py:139(__init__)\n",
      "        1    0.000    0.000    0.000    0.000 uuid.py:280(__str__)\n",
      "        1    0.000    0.000    0.000    0.000 uuid.py:721(uuid4)\n",
      "        1    0.000    0.000    0.021    0.021 {built-in method builtins.exec}\n",
      "        7    0.000    0.000    0.000    0.000 {built-in method builtins.getattr}\n",
      "       10    0.000    0.000    0.000    0.000 {built-in method builtins.hasattr}\n",
      "     1798    0.000    0.000    0.000    0.000 {built-in method builtins.id}\n",
      "       33    0.000    0.000    0.000    0.000 {built-in method builtins.isinstance}\n",
      "        4    0.000    0.000    0.000    0.000 {built-in method builtins.issubclass}\n",
      "       10    0.000    0.000    0.000    0.000 {built-in method builtins.len}\n",
      "        1    0.000    0.000    0.000    0.000 {built-in method from_bytes}\n",
      "        1    0.000    0.000    0.000    0.000 {built-in method io.open_code}\n",
      "        1    0.001    0.001    0.001    0.001 {built-in method io.open}\n",
      "        2    0.000    0.000    0.000    0.000 {built-in method io.text_encoding}\n",
      "       11    0.000    0.000    0.000    0.000 {built-in method nt.fspath}\n",
      "        1    0.000    0.000    0.000    0.000 {built-in method nt.stat}\n",
      "        1    0.000    0.000    0.000    0.000 {built-in method nt.urandom}\n",
      "        4    0.000    0.000    0.000    0.000 {method '__deepcopy__' of 'numpy.ndarray' objects}\n",
      "        2    0.000    0.000    0.000    0.000 {method '__exit__' of '_io._IOBase' objects}\n",
      "      599    0.000    0.000    0.000    0.000 {method 'append' of 'list' objects}\n",
      "        1    0.000    0.000    0.000    0.000 {method 'count' of 'list' objects}\n",
      "        1    0.002    0.002    0.002    0.002 {method 'decode' of 'bytes' objects}\n",
      "        1    0.000    0.000    0.000    0.000 {method 'disable' of '_lsprof.Profiler' objects}\n",
      "        5    0.004    0.001    0.004    0.001 {method 'format' of 'str' objects}\n",
      "     2542    0.000    0.000    0.000    0.000 {method 'get' of 'dict' objects}\n",
      "        1    0.000    0.000    0.000    0.000 {method 'insert' of 'list' objects}\n",
      "      131    0.000    0.000    0.000    0.000 {method 'items' of 'dict' objects}\n",
      "        5    0.000    0.000    0.000    0.000 {method 'join' of 'str' objects}\n",
      "        3    0.000    0.000    0.000    0.000 {method 'pop' of 'dict' objects}\n",
      "        1    0.001    0.001    0.001    0.001 {method 'read' of '_io.BufferedReader' objects}\n",
      "       10    0.000    0.000    0.000    0.000 {method 'replace' of 'str' objects}\n",
      "        1    0.000    0.000    0.000    0.000 {method 'rsplit' of 'str' objects}\n",
      "        1    0.000    0.000    0.000    0.000 {method 'rstrip' of 'str' objects}\n",
      "        1    0.000    0.000    0.000    0.000 {method 'setdefault' of 'dict' objects}\n",
      "        2    0.000    0.000    0.000    0.000 {method 'split' of 'str' objects}\n",
      "        2    0.000    0.000    0.000    0.000 {method 'startswith' of 'str' objects}\n",
      "        1    0.000    0.000    0.000    0.000 {method 'strip' of 'str' objects}\n",
      "        4    0.000    0.000    0.000    0.000 {method 'tolist' of 'numpy.ndarray' objects}\n",
      "        1    0.008    0.008    0.008    0.008 {method 'write' of '_io.TextIOWrapper' objects}\n",
      "\n",
      "\n",
      "         8085 function calls (6592 primitive calls) in 0.049 seconds\n",
      "\n",
      "   Ordered by: standard name\n",
      "\n",
      "   ncalls  tottime  percall  cumtime  percall filename:lineno(function)\n",
      "        5    0.000    0.000    0.000    0.000 <frozen importlib._bootstrap>:1035(_resolve_name)\n",
      "        5    0.000    0.000    0.000    0.000 <frozen importlib._bootstrap>:1101(_sanity_check)\n",
      "        5    0.000    0.000    0.000    0.000 <frozen importlib._bootstrap>:1165(_find_and_load)\n",
      "        5    0.000    0.000    0.000    0.000 <frozen importlib._bootstrap>:1192(_gcd_import)\n",
      "        1    0.000    0.000    0.000    0.000 <frozen importlib._bootstrap>:1207(_handle_fromlist)\n",
      "        1    0.000    0.000    0.049    0.049 <string>:1(<module>)\n",
      "        5    0.000    0.000    0.000    0.000 __init__.py:108(import_module)\n",
      "        1    0.000    0.000    0.000    0.000 __init__.py:183(dumps)\n",
      "        4    0.000    0.000    0.000    0.000 __init__.py:282(__getattr__)\n",
      "        1    0.000    0.000    0.000    0.000 __init__.py:299(loads)\n",
      "        1    0.000    0.000    0.049    0.049 _kaleido.py:150(write_image)\n",
      "        1    0.000    0.000    0.048    0.048 _kaleido.py:25(to_image)\n",
      "        1    0.000    0.000    0.002    0.002 _utils.py:6(validate_coerce_fig_to_dict)\n",
      "        1    0.000    0.000    0.000    0.000 base.py:153(_ensure_kaleido)\n",
      "        1    0.000    0.000    0.046    0.046 base.py:277(_perform_transform)\n",
      "        1    0.000    0.000    0.000    0.000 base64.py:34(_bytes_from_decode_data)\n",
      "        1    0.000    0.000    0.000    0.000 base64.py:65(b64decode)\n",
      "        1    0.000    0.000    0.002    0.002 basedatatypes.py:3285(to_dict)\n",
      "        1    0.000    0.000    0.000    0.000 basedatatypes.py:3308(<listcomp>)\n",
      "        1    0.000    0.000    0.049    0.049 basedatatypes.py:3780(write_image)\n",
      "   1263/3    0.001    0.000    0.002    0.001 copy.py:128(deepcopy)\n",
      "      995    0.000    0.000    0.000    0.000 copy.py:182(_deepcopy_atomic)\n",
      "   133/36    0.000    0.000    0.002    0.000 copy.py:201(_deepcopy_list)\n",
      "    131/3    0.000    0.000    0.002    0.001 copy.py:227(_deepcopy_dict)\n",
      "      268    0.000    0.000    0.000    0.000 copy.py:243(_keep_alive)\n",
      "        1    0.000    0.000    0.000    0.000 decoder.py:332(decode)\n",
      "        1    0.000    0.000    0.000    0.000 decoder.py:343(raw_decode)\n",
      "        1    0.000    0.000    0.000    0.000 encoder.py:105(__init__)\n",
      "        1    0.000    0.000    0.000    0.000 encoder.py:183(encode)\n",
      "        1    0.000    0.000    0.000    0.000 encoder.py:205(iterencode)\n",
      "      5/3    0.000    0.000    0.000    0.000 importers.py:23(__getattr__)\n",
      "       12    0.000    0.000    0.000    0.000 optional_imports.py:13(get_module)\n",
      "        1    0.000    0.000    0.000    0.000 pathlib.py:1036(open)\n",
      "        1    0.000    0.000    0.000    0.000 pathlib.py:1061(write_bytes)\n",
      "        1    0.000    0.000    0.000    0.000 pathlib.py:523(_format_parsed_parts)\n",
      "        1    0.000    0.000    0.000    0.000 pathlib.py:536(__str__)\n",
      "        1    0.000    0.000    0.000    0.000 pathlib.py:546(__fspath__)\n",
      "        1    0.000    0.000    0.000    0.000 pathlib.py:622(name)\n",
      "        1    0.000    0.000    0.000    0.000 pathlib.py:630(suffix)\n",
      "        1    0.000    0.000    0.046    0.046 plotly.py:38(transform)\n",
      "        1    0.000    0.000    0.000    0.000 subprocess.py:1233(poll)\n",
      "        1    0.000    0.000    0.000    0.000 subprocess.py:1563(_internal_poll)\n",
      "        4    0.000    0.000    0.000    0.000 utils.py:135(encode_as_plotly)\n",
      "        4    0.000    0.000    0.000    0.000 utils.py:143(encode_as_list)\n",
      "        4    0.000    0.000    0.000    0.000 utils.py:151(encode_as_sage)\n",
      "        4    0.000    0.000    0.000    0.000 utils.py:165(encode_as_pandas)\n",
      "        4    0.000    0.000    0.000    0.000 utils.py:181(encode_as_numpy)\n",
      "        4    0.000    0.000    0.000    0.000 utils.py:198(encode_as_datetime)\n",
      "        4    0.000    0.000    0.000    0.000 utils.py:206(encode_as_date)\n",
      "        1    0.000    0.000    0.000    0.000 utils.py:48(encode)\n",
      "        4    0.000    0.000    0.000    0.000 utils.py:85(default)\n",
      "        1    0.000    0.000    0.000    0.000 {built-in method _winapi.WaitForSingleObject}\n",
      "        1    0.000    0.000    0.000    0.000 {built-in method binascii.a2b_base64}\n",
      "        1    0.000    0.000    0.049    0.049 {built-in method builtins.exec}\n",
      "    19/13    0.000    0.000    0.000    0.000 {built-in method builtins.getattr}\n",
      "        9    0.000    0.000    0.000    0.000 {built-in method builtins.hasattr}\n",
      "     1798    0.000    0.000    0.000    0.000 {built-in method builtins.id}\n",
      "       24    0.000    0.000    0.000    0.000 {built-in method builtins.isinstance}\n",
      "        4    0.000    0.000    0.000    0.000 {built-in method builtins.issubclass}\n",
      "        8    0.000    0.000    0.000    0.000 {built-in method builtins.len}\n",
      "        1    0.000    0.000    0.000    0.000 {built-in method io.open}\n",
      "        4    0.000    0.000    0.000    0.000 {method '__deepcopy__' of 'numpy.ndarray' objects}\n",
      "        1    0.000    0.000    0.000    0.000 {method '__exit__' of '_io._IOBase' objects}\n",
      "        1    0.000    0.000    0.000    0.000 {method '__exit__' of '_thread.lock' objects}\n",
      "      599    0.000    0.000    0.000    0.000 {method 'append' of 'list' objects}\n",
      "        1    0.000    0.000    0.000    0.000 {method 'decode' of 'bytes' objects}\n",
      "        1    0.000    0.000    0.000    0.000 {method 'disable' of '_lsprof.Profiler' objects}\n",
      "        3    0.000    0.000    0.000    0.000 {method 'encode' of 'str' objects}\n",
      "        2    0.000    0.000    0.000    0.000 {method 'end' of 're.Match' objects}\n",
      "        1    0.000    0.000    0.000    0.000 {method 'flush' of '_io.BufferedWriter' objects}\n",
      "        5    0.000    0.000    0.000    0.000 {method 'format' of 'str' objects}\n",
      "     2536    0.000    0.000    0.000    0.000 {method 'get' of 'dict' objects}\n",
      "      131    0.000    0.000    0.000    0.000 {method 'items' of 'dict' objects}\n",
      "        7    0.000    0.000    0.000    0.000 {method 'join' of 'str' objects}\n",
      "        1    0.000    0.000    0.000    0.000 {method 'lower' of 'str' objects}\n",
      "        1    0.000    0.000    0.000    0.000 {method 'lstrip' of 'str' objects}\n",
      "        2    0.000    0.000    0.000    0.000 {method 'match' of 're.Pattern' objects}\n",
      "        1    0.045    0.045    0.045    0.045 {method 'readline' of '_io.BufferedReader' objects}\n",
      "        1    0.000    0.000    0.000    0.000 {method 'rfind' of 'str' objects}\n",
      "        5    0.000    0.000    0.000    0.000 {method 'rsplit' of 'str' objects}\n",
      "        5    0.000    0.000    0.000    0.000 {method 'split' of 'str' objects}\n",
      "        6    0.000    0.000    0.000    0.000 {method 'startswith' of 'str' objects}\n",
      "        4    0.000    0.000    0.000    0.000 {method 'tolist' of 'numpy.ndarray' objects}\n",
      "        3    0.000    0.000    0.000    0.000 {method 'write' of '_io.BufferedWriter' objects}\n",
      "\n",
      "\n"
     ]
    }
   ],
   "source": [
    "if generate:\n",
    "    image_dir = working_dir / \"images\"\n",
    "    cProfile.run(\"fig2dTicks.figure.to_plotly_json()\")\n",
    "\n",
    "    html_file = working_dir / \"images\" / \"plot2dTick.html\"\n",
    "    cProfile.run(\"fig2dTicks.figure.write_html(html_file)\")\n",
    "\n",
    "    png_file = working_dir / \"images\" / \"plot2dTick.png\"\n",
    "    cProfile.run(\"fig2dTicks.figure.write_image(png_file, engine='kaleido')\")"
   ]
  },
  {
   "cell_type": "markdown",
   "metadata": {},
   "source": [
    "## 3D Tick Marks"
   ]
  },
  {
   "cell_type": "code",
   "execution_count": 209,
   "metadata": {},
   "outputs": [
    {
     "data": {
      "text/html": [
       "        <script type=\"text/javascript\">\n",
       "        window.PlotlyConfig = {MathJaxConfig: 'local'};\n",
       "        if (window.MathJax && window.MathJax.Hub && window.MathJax.Hub.Config) {window.MathJax.Hub.Config({SVG: {font: \"STIX-Web\"}});}\n",
       "        if (typeof require !== 'undefined') {\n",
       "        require.undef(\"plotly\");\n",
       "        requirejs.config({\n",
       "            paths: {\n",
       "                'plotly': ['https://cdn.plot.ly/plotly-2.29.1.min']\n",
       "            }\n",
       "        });\n",
       "        require(['plotly'], function(Plotly) {\n",
       "            window._Plotly = Plotly;\n",
       "        });\n",
       "        }\n",
       "        </script>\n",
       "        "
      ]
     },
     "metadata": {},
     "output_type": "display_data"
    },
    {
     "data": {
      "text/html": [
       "<div>                            <div id=\"ad60c741-2335-49d5-a73c-7b44097f41f2\" class=\"plotly-graph-div\" style=\"height:500px; width:650px;\"></div>            <script type=\"text/javascript\">                require([\"plotly\"], function(Plotly) {                    window.PLOTLYENV=window.PLOTLYENV || {};                                    if (document.getElementById(\"ad60c741-2335-49d5-a73c-7b44097f41f2\")) {                    Plotly.newPlot(                        \"ad60c741-2335-49d5-a73c-7b44097f41f2\",                        [{\"connectgaps\":true,\"line\":{\"dash\":\"solid\",\"width\":2},\"marker\":{\"size\":5,\"symbol\":\"circle\"},\"mode\":\"lines\",\"showlegend\":true,\"x\":[10,20,30,40,50,60],\"y\":[1,2,3,4,5,6],\"z\":[100,110,120,130,140,150],\"type\":\"scatter3d\"}],                        {\"template\":{\"data\":{\"histogram2dcontour\":[{\"type\":\"histogram2dcontour\",\"colorbar\":{\"outlinewidth\":1,\"ticks\":\"outside\",\"tickcolor\":\"rgb(36,36,36)\"},\"colorscale\":[[0.0,\"#440154\"],[0.1111111111111111,\"#482878\"],[0.2222222222222222,\"#3e4989\"],[0.3333333333333333,\"#31688e\"],[0.4444444444444444,\"#26828e\"],[0.5555555555555556,\"#1f9e89\"],[0.6666666666666666,\"#35b779\"],[0.7777777777777778,\"#6ece58\"],[0.8888888888888888,\"#b5de2b\"],[1.0,\"#fde725\"]]}],\"choropleth\":[{\"type\":\"choropleth\",\"colorbar\":{\"outlinewidth\":1,\"ticks\":\"outside\",\"tickcolor\":\"rgb(36,36,36)\"}}],\"histogram2d\":[{\"type\":\"histogram2d\",\"colorbar\":{\"outlinewidth\":1,\"ticks\":\"outside\",\"tickcolor\":\"rgb(36,36,36)\"},\"colorscale\":[[0.0,\"#440154\"],[0.1111111111111111,\"#482878\"],[0.2222222222222222,\"#3e4989\"],[0.3333333333333333,\"#31688e\"],[0.4444444444444444,\"#26828e\"],[0.5555555555555556,\"#1f9e89\"],[0.6666666666666666,\"#35b779\"],[0.7777777777777778,\"#6ece58\"],[0.8888888888888888,\"#b5de2b\"],[1.0,\"#fde725\"]]}],\"heatmap\":[{\"type\":\"heatmap\",\"colorbar\":{\"outlinewidth\":1,\"ticks\":\"outside\",\"tickcolor\":\"rgb(36,36,36)\"},\"colorscale\":[[0.0,\"#440154\"],[0.1111111111111111,\"#482878\"],[0.2222222222222222,\"#3e4989\"],[0.3333333333333333,\"#31688e\"],[0.4444444444444444,\"#26828e\"],[0.5555555555555556,\"#1f9e89\"],[0.6666666666666666,\"#35b779\"],[0.7777777777777778,\"#6ece58\"],[0.8888888888888888,\"#b5de2b\"],[1.0,\"#fde725\"]]}],\"heatmapgl\":[{\"type\":\"heatmapgl\",\"colorbar\":{\"outlinewidth\":1,\"ticks\":\"outside\",\"tickcolor\":\"rgb(36,36,36)\"},\"colorscale\":[[0.0,\"#440154\"],[0.1111111111111111,\"#482878\"],[0.2222222222222222,\"#3e4989\"],[0.3333333333333333,\"#31688e\"],[0.4444444444444444,\"#26828e\"],[0.5555555555555556,\"#1f9e89\"],[0.6666666666666666,\"#35b779\"],[0.7777777777777778,\"#6ece58\"],[0.8888888888888888,\"#b5de2b\"],[1.0,\"#fde725\"]]}],\"contourcarpet\":[{\"type\":\"contourcarpet\",\"colorbar\":{\"outlinewidth\":1,\"ticks\":\"outside\",\"tickcolor\":\"rgb(36,36,36)\"}}],\"contour\":[{\"type\":\"contour\",\"colorbar\":{\"outlinewidth\":1,\"ticks\":\"outside\",\"tickcolor\":\"rgb(36,36,36)\"},\"colorscale\":[[0.0,\"#440154\"],[0.1111111111111111,\"#482878\"],[0.2222222222222222,\"#3e4989\"],[0.3333333333333333,\"#31688e\"],[0.4444444444444444,\"#26828e\"],[0.5555555555555556,\"#1f9e89\"],[0.6666666666666666,\"#35b779\"],[0.7777777777777778,\"#6ece58\"],[0.8888888888888888,\"#b5de2b\"],[1.0,\"#fde725\"]]}],\"surface\":[{\"type\":\"surface\",\"colorbar\":{\"outlinewidth\":1,\"ticks\":\"outside\",\"tickcolor\":\"rgb(36,36,36)\"},\"colorscale\":[[0.0,\"#440154\"],[0.1111111111111111,\"#482878\"],[0.2222222222222222,\"#3e4989\"],[0.3333333333333333,\"#31688e\"],[0.4444444444444444,\"#26828e\"],[0.5555555555555556,\"#1f9e89\"],[0.6666666666666666,\"#35b779\"],[0.7777777777777778,\"#6ece58\"],[0.8888888888888888,\"#b5de2b\"],[1.0,\"#fde725\"]]}],\"mesh3d\":[{\"type\":\"mesh3d\",\"colorbar\":{\"outlinewidth\":1,\"ticks\":\"outside\",\"tickcolor\":\"rgb(36,36,36)\"}}],\"scatter\":[{\"fillpattern\":{\"fillmode\":\"overlay\",\"size\":10,\"solidity\":0.2},\"type\":\"scatter\"}],\"parcoords\":[{\"type\":\"parcoords\",\"line\":{\"colorbar\":{\"outlinewidth\":1,\"ticks\":\"outside\",\"tickcolor\":\"rgb(36,36,36)\"}}}],\"scatterpolargl\":[{\"type\":\"scatterpolargl\",\"marker\":{\"colorbar\":{\"outlinewidth\":1,\"ticks\":\"outside\",\"tickcolor\":\"rgb(36,36,36)\"}}}],\"bar\":[{\"error_x\":{\"color\":\"rgb(36,36,36)\"},\"error_y\":{\"color\":\"rgb(36,36,36)\"},\"marker\":{\"line\":{\"color\":\"white\",\"width\":0.5},\"pattern\":{\"fillmode\":\"overlay\",\"size\":10,\"solidity\":0.2}},\"type\":\"bar\"}],\"scattergeo\":[{\"type\":\"scattergeo\",\"marker\":{\"colorbar\":{\"outlinewidth\":1,\"ticks\":\"outside\",\"tickcolor\":\"rgb(36,36,36)\"}}}],\"scatterpolar\":[{\"type\":\"scatterpolar\",\"marker\":{\"colorbar\":{\"outlinewidth\":1,\"ticks\":\"outside\",\"tickcolor\":\"rgb(36,36,36)\"}}}],\"histogram\":[{\"marker\":{\"pattern\":{\"fillmode\":\"overlay\",\"size\":10,\"solidity\":0.2},\"line\":{\"color\":\"white\",\"width\":0.6}},\"type\":\"histogram\"}],\"scattergl\":[{\"type\":\"scattergl\",\"marker\":{\"colorbar\":{\"outlinewidth\":1,\"ticks\":\"outside\",\"tickcolor\":\"rgb(36,36,36)\"}}}],\"scatter3d\":[{\"type\":\"scatter3d\",\"line\":{\"colorbar\":{\"outlinewidth\":1,\"ticks\":\"outside\",\"tickcolor\":\"rgb(36,36,36)\"}},\"marker\":{\"colorbar\":{\"outlinewidth\":1,\"ticks\":\"outside\",\"tickcolor\":\"rgb(36,36,36)\"}}}],\"scattermapbox\":[{\"type\":\"scattermapbox\",\"marker\":{\"colorbar\":{\"outlinewidth\":1,\"ticks\":\"outside\",\"tickcolor\":\"rgb(36,36,36)\"}}}],\"scatterternary\":[{\"type\":\"scatterternary\",\"marker\":{\"colorbar\":{\"outlinewidth\":1,\"ticks\":\"outside\",\"tickcolor\":\"rgb(36,36,36)\"}}}],\"scattercarpet\":[{\"type\":\"scattercarpet\",\"marker\":{\"colorbar\":{\"outlinewidth\":1,\"ticks\":\"outside\",\"tickcolor\":\"rgb(36,36,36)\"}}}],\"carpet\":[{\"aaxis\":{\"endlinecolor\":\"rgb(36,36,36)\",\"gridcolor\":\"white\",\"linecolor\":\"white\",\"minorgridcolor\":\"white\",\"startlinecolor\":\"rgb(36,36,36)\"},\"baxis\":{\"endlinecolor\":\"rgb(36,36,36)\",\"gridcolor\":\"white\",\"linecolor\":\"white\",\"minorgridcolor\":\"white\",\"startlinecolor\":\"rgb(36,36,36)\"},\"type\":\"carpet\"}],\"table\":[{\"cells\":{\"fill\":{\"color\":\"rgb(237,237,237)\"},\"line\":{\"color\":\"white\"}},\"header\":{\"fill\":{\"color\":\"rgb(217,217,217)\"},\"line\":{\"color\":\"white\"}},\"type\":\"table\"}],\"barpolar\":[{\"marker\":{\"line\":{\"color\":\"white\",\"width\":0.5},\"pattern\":{\"fillmode\":\"overlay\",\"size\":10,\"solidity\":0.2}},\"type\":\"barpolar\"}],\"pie\":[{\"automargin\":true,\"type\":\"pie\"}]},\"layout\":{\"autotypenumbers\":\"strict\",\"colorway\":[\"#1F77B4\",\"#FF7F0E\",\"#2CA02C\",\"#D62728\",\"#9467BD\",\"#8C564B\",\"#E377C2\",\"#7F7F7F\",\"#BCBD22\",\"#17BECF\"],\"font\":{\"color\":\"rgb(36,36,36)\"},\"hovermode\":\"closest\",\"hoverlabel\":{\"align\":\"left\"},\"paper_bgcolor\":\"white\",\"plot_bgcolor\":\"white\",\"polar\":{\"bgcolor\":\"white\",\"angularaxis\":{\"gridcolor\":\"rgb(232,232,232)\",\"linecolor\":\"rgb(36,36,36)\",\"ticks\":\"outside\",\"showgrid\":false,\"showline\":true},\"radialaxis\":{\"gridcolor\":\"rgb(232,232,232)\",\"linecolor\":\"rgb(36,36,36)\",\"ticks\":\"outside\",\"showgrid\":false,\"showline\":true}},\"ternary\":{\"bgcolor\":\"white\",\"aaxis\":{\"gridcolor\":\"rgb(232,232,232)\",\"linecolor\":\"rgb(36,36,36)\",\"ticks\":\"outside\",\"showgrid\":false,\"showline\":true},\"baxis\":{\"gridcolor\":\"rgb(232,232,232)\",\"linecolor\":\"rgb(36,36,36)\",\"ticks\":\"outside\",\"showgrid\":false,\"showline\":true},\"caxis\":{\"gridcolor\":\"rgb(232,232,232)\",\"linecolor\":\"rgb(36,36,36)\",\"ticks\":\"outside\",\"showgrid\":false,\"showline\":true}},\"coloraxis\":{\"colorbar\":{\"outlinewidth\":1,\"ticks\":\"outside\",\"tickcolor\":\"rgb(36,36,36)\"}},\"colorscale\":{\"sequential\":[[0.0,\"#440154\"],[0.1111111111111111,\"#482878\"],[0.2222222222222222,\"#3e4989\"],[0.3333333333333333,\"#31688e\"],[0.4444444444444444,\"#26828e\"],[0.5555555555555556,\"#1f9e89\"],[0.6666666666666666,\"#35b779\"],[0.7777777777777778,\"#6ece58\"],[0.8888888888888888,\"#b5de2b\"],[1.0,\"#fde725\"]],\"sequentialminus\":[[0.0,\"#440154\"],[0.1111111111111111,\"#482878\"],[0.2222222222222222,\"#3e4989\"],[0.3333333333333333,\"#31688e\"],[0.4444444444444444,\"#26828e\"],[0.5555555555555556,\"#1f9e89\"],[0.6666666666666666,\"#35b779\"],[0.7777777777777778,\"#6ece58\"],[0.8888888888888888,\"#b5de2b\"],[1.0,\"#fde725\"]],\"diverging\":[[0.0,\"rgb(103,0,31)\"],[0.1,\"rgb(178,24,43)\"],[0.2,\"rgb(214,96,77)\"],[0.3,\"rgb(244,165,130)\"],[0.4,\"rgb(253,219,199)\"],[0.5,\"rgb(247,247,247)\"],[0.6,\"rgb(209,229,240)\"],[0.7,\"rgb(146,197,222)\"],[0.8,\"rgb(67,147,195)\"],[0.9,\"rgb(33,102,172)\"],[1.0,\"rgb(5,48,97)\"]]},\"xaxis\":{\"gridcolor\":\"rgb(232,232,232)\",\"linecolor\":\"rgb(36,36,36)\",\"ticks\":\"outside\",\"title\":{\"standoff\":15},\"zerolinecolor\":\"rgb(36,36,36)\",\"automargin\":true,\"zerolinewidth\":2,\"showgrid\":false,\"showline\":true,\"zeroline\":false},\"yaxis\":{\"gridcolor\":\"rgb(232,232,232)\",\"linecolor\":\"rgb(36,36,36)\",\"ticks\":\"outside\",\"title\":{\"standoff\":15},\"zerolinecolor\":\"rgb(36,36,36)\",\"automargin\":true,\"zerolinewidth\":2,\"showgrid\":false,\"showline\":true,\"zeroline\":false},\"scene\":{\"xaxis\":{\"backgroundcolor\":\"white\",\"gridcolor\":\"rgb(232,232,232)\",\"linecolor\":\"rgb(36,36,36)\",\"showbackground\":true,\"ticks\":\"outside\",\"zerolinecolor\":\"rgb(36,36,36)\",\"gridwidth\":2,\"showgrid\":false,\"showline\":true,\"zeroline\":false},\"yaxis\":{\"backgroundcolor\":\"white\",\"gridcolor\":\"rgb(232,232,232)\",\"linecolor\":\"rgb(36,36,36)\",\"showbackground\":true,\"ticks\":\"outside\",\"zerolinecolor\":\"rgb(36,36,36)\",\"gridwidth\":2,\"showgrid\":false,\"showline\":true,\"zeroline\":false},\"zaxis\":{\"backgroundcolor\":\"white\",\"gridcolor\":\"rgb(232,232,232)\",\"linecolor\":\"rgb(36,36,36)\",\"showbackground\":true,\"ticks\":\"outside\",\"zerolinecolor\":\"rgb(36,36,36)\",\"gridwidth\":2,\"showgrid\":false,\"showline\":true,\"zeroline\":false}},\"shapedefaults\":{\"line\":{\"color\":\"#2a3f5f\",\"width\":0},\"fillcolor\":\"black\",\"opacity\":0.3},\"annotationdefaults\":{\"arrowcolor\":\"#2a3f5f\",\"arrowhead\":0,\"arrowwidth\":1},\"geo\":{\"bgcolor\":\"white\",\"landcolor\":\"white\",\"subunitcolor\":\"white\",\"showland\":true,\"showlakes\":true,\"lakecolor\":\"white\"},\"title\":{\"x\":0.05},\"mapbox\":{\"style\":\"light\"}}},\"legend\":{\"title\":{\"text\":\"Legend\"}},\"margin\":{\"b\":60,\"l\":20,\"r\":1,\"t\":30},\"title\":{\"font\":{\"size\":13},\"text\":\"\\u003cb\\u003eFlyout\\u003c\\u002fb\\u003e\",\"x\":0.5,\"xanchor\":\"center\",\"yanchor\":\"top\"},\"annotations\":[{\"font\":{\"size\":10},\"showarrow\":false,\"text\":\"\\u003cb\\u003eUNCLASSIFIED\\u002f\\u002fFOUO\\u003c\\u002fb\\u003e\",\"visible\":false,\"x\":0,\"xanchor\":\"left\",\"xref\":\"paper\",\"xshift\":-20,\"y\":1,\"yanchor\":\"top\",\"yref\":\"paper\",\"yshift\":40},{\"font\":{\"size\":10},\"showarrow\":false,\"text\":\"\\u003cb\\u003eUNCLASSIFIED\\u002f\\u002fFOUO\\u003c\\u002fb\\u003e\",\"visible\":false,\"x\":0,\"xanchor\":\"left\",\"xref\":\"paper\",\"xshift\":-20,\"y\":0,\"yanchor\":\"bottom\",\"yref\":\"paper\",\"yshift\":-70},{\"font\":{\"size\":10},\"showarrow\":false,\"text\":\"\\u003cb\\u003eUNCLASSIFIED\\u002f\\u002fFOUO\\u003c\\u002fb\\u003e\",\"visible\":false,\"x\":1,\"xanchor\":\"right\",\"xref\":\"paper\",\"xshift\":65,\"y\":1,\"yanchor\":\"top\",\"yref\":\"paper\",\"yshift\":40},{\"font\":{\"size\":10},\"showarrow\":false,\"text\":\"\\u003cb\\u003eUNCLASSIFIED\\u002f\\u002fFOUO\\u003c\\u002fb\\u003e\",\"visible\":false,\"x\":1,\"xanchor\":\"right\",\"xref\":\"paper\",\"xshift\":65,\"y\":0,\"yanchor\":\"bottom\",\"yref\":\"paper\",\"yshift\":-70},{\"showarrow\":false,\"text\":\"Miss distance 20.10 m\",\"x\":-0.01,\"xref\":\"paper\",\"y\":-0.13,\"yref\":\"paper\"},{\"showarrow\":false,\"text\":\"Missile Info: MSL_1\",\"x\":1.01,\"xref\":\"paper\",\"y\":-0.13,\"yref\":\"paper\"}],\"height\":500,\"width\":650,\"scene\":{\"xaxis\":{\"title\":{\"font\":{\"size\":12},\"text\":\"X Label\"},\"showgrid\":true,\"linecolor\":\"black\",\"linewidth\":1,\"mirror\":true,\"tickmode\":\"auto\",\"tickvals\":[1,3,5,7,9,11],\"ticktext\":[\"One\",\"Three\",\"Five\",\"Seven\",\"Nine\",\"Eleven\"]},\"yaxis\":{\"title\":{\"font\":{\"size\":12},\"text\":\"Y Label\"},\"showgrid\":true,\"linecolor\":\"black\",\"linewidth\":1,\"mirror\":true,\"tickmode\":\"array\",\"tickvals\":[1,3,5,7,9,11],\"ticktext\":[\"One\",\"Three\",\"Five\",\"Seven\",\"Nine\",\"Eleven\"]},\"zaxis\":{\"title\":{\"font\":{\"size\":12},\"text\":\"Z Label\"},\"showgrid\":true,\"linecolor\":\"black\",\"linewidth\":1,\"mirror\":true,\"tickmode\":\"auto\",\"tickvals\":[1,3,5,7,9,11],\"ticktext\":[\"One\",\"Three\",\"Five\",\"Seven\",\"Nine\",\"Eleven\"]},\"camera\":{\"projection\":{\"type\":\"orthographic\"},\"eye\":{\"x\":-1.25,\"z\":0.8}}}},                        {\"responsive\": true}                    ).then(function(){\n",
       "                            \n",
       "var gd = document.getElementById('ad60c741-2335-49d5-a73c-7b44097f41f2');\n",
       "var x = new MutationObserver(function (mutations, observer) {{\n",
       "        var display = window.getComputedStyle(gd).display;\n",
       "        if (!display || display === 'none') {{\n",
       "            console.log([gd, 'removed!']);\n",
       "            Plotly.purge(gd);\n",
       "            observer.disconnect();\n",
       "        }}\n",
       "}});\n",
       "\n",
       "// Listen for the removal of the full notebook cells\n",
       "var notebookContainer = gd.closest('#notebook-container');\n",
       "if (notebookContainer) {{\n",
       "    x.observe(notebookContainer, {childList: true});\n",
       "}}\n",
       "\n",
       "// Listen for the clearing of the current output cell\n",
       "var outputEl = gd.closest('.output');\n",
       "if (outputEl) {{\n",
       "    x.observe(outputEl, {childList: true});\n",
       "}}\n",
       "\n",
       "                        })                };                });            </script>        </div>"
      ]
     },
     "metadata": {},
     "output_type": "display_data"
    }
   ],
   "source": [
    "# Variables\n",
    "id = \"ticks_3d\"\n",
    "\n",
    "fig3dTicks = Plot3D(templates[id], data[id])\n",
    "\n",
    "if render_plots:\n",
    "    fig3dTicks.show_plot(\"notebook_connected\")"
   ]
  },
  {
   "cell_type": "code",
   "execution_count": 210,
   "metadata": {},
   "outputs": [
    {
     "name": "stdout",
     "output_type": "stream",
     "text": [
      "         8047 function calls (6528 primitive calls) in 0.002 seconds\n",
      "\n",
      "   Ordered by: standard name\n",
      "\n",
      "   ncalls  tottime  percall  cumtime  percall filename:lineno(function)\n",
      "        1    0.000    0.000    0.002    0.002 <string>:1(<module>)\n",
      "        1    0.000    0.000    0.002    0.002 basedatatypes.py:3285(to_dict)\n",
      "        1    0.000    0.000    0.000    0.000 basedatatypes.py:3308(<listcomp>)\n",
      "        1    0.000    0.000    0.002    0.002 basedatatypes.py:3315(to_plotly_json)\n",
      "   1292/3    0.001    0.000    0.002    0.001 copy.py:128(deepcopy)\n",
      "     1019    0.000    0.000    0.000    0.000 copy.py:182(_deepcopy_atomic)\n",
      "   135/38    0.000    0.000    0.002    0.000 copy.py:201(_deepcopy_list)\n",
      "    135/2    0.000    0.000    0.002    0.001 copy.py:227(_deepcopy_dict)\n",
      "      273    0.000    0.000    0.000    0.000 copy.py:243(_keep_alive)\n",
      "        1    0.000    0.000    0.002    0.002 {built-in method builtins.exec}\n",
      "        3    0.000    0.000    0.000    0.000 {built-in method builtins.getattr}\n",
      "     1838    0.000    0.000    0.000    0.000 {built-in method builtins.id}\n",
      "        3    0.000    0.000    0.000    0.000 {built-in method builtins.issubclass}\n",
      "        3    0.000    0.000    0.000    0.000 {method '__deepcopy__' of 'numpy.ndarray' objects}\n",
      "      621    0.000    0.000    0.000    0.000 {method 'append' of 'list' objects}\n",
      "        1    0.000    0.000    0.000    0.000 {method 'disable' of '_lsprof.Profiler' objects}\n",
      "     2584    0.000    0.000    0.000    0.000 {method 'get' of 'dict' objects}\n",
      "      135    0.000    0.000    0.000    0.000 {method 'items' of 'dict' objects}\n",
      "\n",
      "\n",
      "         8275 function calls (6756 primitive calls) in 0.020 seconds\n",
      "\n",
      "   Ordered by: standard name\n",
      "\n",
      "   ncalls  tottime  percall  cumtime  percall filename:lineno(function)\n",
      "        1    0.000    0.000    0.000    0.000 <frozen codecs>:186(__init__)\n",
      "        1    0.000    0.000    0.000    0.000 <frozen genericpath>:16(exists)\n",
      "        1    0.000    0.000    0.000    0.000 <frozen importlib._bootstrap>:1035(_resolve_name)\n",
      "        1    0.000    0.000    0.000    0.000 <frozen importlib._bootstrap>:1101(_sanity_check)\n",
      "        1    0.000    0.000    0.000    0.000 <frozen importlib._bootstrap>:1165(_find_and_load)\n",
      "        1    0.000    0.000    0.000    0.000 <frozen importlib._bootstrap>:1192(_gcd_import)\n",
      "        1    0.000    0.000    0.001    0.001 <frozen importlib._bootstrap_external>:1127(get_data)\n",
      "        1    0.000    0.000    0.000    0.000 <frozen importlib.util>:73(find_spec)\n",
      "        3    0.000    0.000    0.000    0.000 <frozen ntpath>:107(join)\n",
      "        7    0.000    0.000    0.000    0.000 <frozen ntpath>:154(splitdrive)\n",
      "        1    0.000    0.000    0.000    0.000 <frozen ntpath>:208(split)\n",
      "        1    0.000    0.000    0.000    0.000 <frozen ntpath>:249(dirname)\n",
      "        1    0.000    0.000    0.000    0.000 <frozen ntpath>:35(_get_bothseps)\n",
      "        1    0.000    0.000    0.020    0.020 <string>:1(<module>)\n",
      "        1    0.000    0.000    0.000    0.000 __init__.py:108(import_module)\n",
      "        3    0.000    0.000    0.000    0.000 __init__.py:183(dumps)\n",
      "        1    0.000    0.000    0.010    0.010 _html.py:25(to_html)\n",
      "        1    0.001    0.001    0.020    0.020 _html.py:377(write_html)\n",
      "        2    0.000    0.000    0.000    0.000 _json.py:20(default_engine)\n",
      "        2    0.000    0.000    0.000    0.000 _json.py:70(_safe)\n",
      "        2    0.000    0.000    0.000    0.000 _json.py:78(to_json_plotly)\n",
      "        1    0.000    0.000    0.002    0.002 _utils.py:6(validate_coerce_fig_to_dict)\n",
      "        1    0.000    0.000    0.002    0.002 basedatatypes.py:3285(to_dict)\n",
      "        1    0.000    0.000    0.000    0.000 basedatatypes.py:3308(<listcomp>)\n",
      "        1    0.000    0.000    0.020    0.020 basedatatypes.py:3604(write_html)\n",
      "   1292/3    0.001    0.000    0.002    0.001 copy.py:128(deepcopy)\n",
      "     1019    0.000    0.000    0.000    0.000 copy.py:182(_deepcopy_atomic)\n",
      "   135/38    0.000    0.000    0.001    0.000 copy.py:201(_deepcopy_list)\n",
      "    135/2    0.000    0.000    0.002    0.001 copy.py:227(_deepcopy_dict)\n",
      "      273    0.000    0.000    0.000    0.000 copy.py:243(_keep_alive)\n",
      "        2    0.000    0.000    0.000    0.000 encoder.py:105(__init__)\n",
      "        3    0.000    0.000    0.000    0.000 encoder.py:183(encode)\n",
      "        3    0.000    0.000    0.000    0.000 encoder.py:205(iterencode)\n",
      "        1    0.000    0.000    0.000    0.000 importers.py:23(__getattr__)\n",
      "        1    0.000    0.000    0.000    0.000 offline.py:105(_get_jconfig)\n",
      "        1    0.000    0.000    0.003    0.003 offline.py:41(get_plotlyjs)\n",
      "       19    0.000    0.000    0.000    0.000 optional_imports.py:13(get_module)\n",
      "        1    0.000    0.000    0.001    0.001 pathlib.py:1036(open)\n",
      "        1    0.000    0.000    0.009    0.009 pathlib.py:1070(write_text)\n",
      "        1    0.000    0.000    0.000    0.000 pathlib.py:523(_format_parsed_parts)\n",
      "        1    0.000    0.000    0.000    0.000 pathlib.py:536(__str__)\n",
      "        1    0.000    0.000    0.000    0.000 pathlib.py:546(__fspath__)\n",
      "        1    0.000    0.000    0.001    0.001 pkgutil.py:600(get_data)\n",
      "        1    0.000    0.000    0.000    0.000 tools.py:688(get_config_plotly_server_url)\n",
      "        3    0.000    0.000    0.000    0.000 utils.py:135(encode_as_plotly)\n",
      "        3    0.000    0.000    0.000    0.000 utils.py:143(encode_as_list)\n",
      "        3    0.000    0.000    0.000    0.000 utils.py:151(encode_as_sage)\n",
      "        3    0.000    0.000    0.000    0.000 utils.py:165(encode_as_pandas)\n",
      "        3    0.000    0.000    0.000    0.000 utils.py:181(encode_as_numpy)\n",
      "        3    0.000    0.000    0.000    0.000 utils.py:198(encode_as_datetime)\n",
      "        3    0.000    0.000    0.000    0.000 utils.py:206(encode_as_date)\n",
      "        2    0.000    0.000    0.000    0.000 utils.py:48(encode)\n",
      "        3    0.000    0.000    0.000    0.000 utils.py:85(default)\n",
      "        1    0.000    0.000    0.000    0.000 uuid.py:139(__init__)\n",
      "        1    0.000    0.000    0.000    0.000 uuid.py:280(__str__)\n",
      "        1    0.000    0.000    0.000    0.000 uuid.py:721(uuid4)\n",
      "        1    0.000    0.000    0.020    0.020 {built-in method builtins.exec}\n",
      "        6    0.000    0.000    0.000    0.000 {built-in method builtins.getattr}\n",
      "        8    0.000    0.000    0.000    0.000 {built-in method builtins.hasattr}\n",
      "     1838    0.000    0.000    0.000    0.000 {built-in method builtins.id}\n",
      "       32    0.000    0.000    0.000    0.000 {built-in method builtins.isinstance}\n",
      "        3    0.000    0.000    0.000    0.000 {built-in method builtins.issubclass}\n",
      "       10    0.000    0.000    0.000    0.000 {built-in method builtins.len}\n",
      "        1    0.000    0.000    0.000    0.000 {built-in method from_bytes}\n",
      "        1    0.000    0.000    0.000    0.000 {built-in method io.open_code}\n",
      "        1    0.001    0.001    0.001    0.001 {built-in method io.open}\n",
      "        2    0.000    0.000    0.000    0.000 {built-in method io.text_encoding}\n",
      "       11    0.000    0.000    0.000    0.000 {built-in method nt.fspath}\n",
      "        1    0.000    0.000    0.000    0.000 {built-in method nt.stat}\n",
      "        1    0.000    0.000    0.000    0.000 {built-in method nt.urandom}\n",
      "        3    0.000    0.000    0.000    0.000 {method '__deepcopy__' of 'numpy.ndarray' objects}\n",
      "        2    0.000    0.000    0.000    0.000 {method '__exit__' of '_io._IOBase' objects}\n",
      "      621    0.000    0.000    0.000    0.000 {method 'append' of 'list' objects}\n",
      "        1    0.000    0.000    0.000    0.000 {method 'count' of 'list' objects}\n",
      "        1    0.002    0.002    0.002    0.002 {method 'decode' of 'bytes' objects}\n",
      "        1    0.000    0.000    0.000    0.000 {method 'disable' of '_lsprof.Profiler' objects}\n",
      "        5    0.004    0.001    0.004    0.001 {method 'format' of 'str' objects}\n",
      "     2600    0.000    0.000    0.000    0.000 {method 'get' of 'dict' objects}\n",
      "        1    0.000    0.000    0.000    0.000 {method 'insert' of 'list' objects}\n",
      "      135    0.000    0.000    0.000    0.000 {method 'items' of 'dict' objects}\n",
      "        5    0.000    0.000    0.000    0.000 {method 'join' of 'str' objects}\n",
      "        3    0.000    0.000    0.000    0.000 {method 'pop' of 'dict' objects}\n",
      "        1    0.001    0.001    0.001    0.001 {method 'read' of '_io.BufferedReader' objects}\n",
      "       10    0.000    0.000    0.000    0.000 {method 'replace' of 'str' objects}\n",
      "        1    0.000    0.000    0.000    0.000 {method 'rsplit' of 'str' objects}\n",
      "        1    0.000    0.000    0.000    0.000 {method 'rstrip' of 'str' objects}\n",
      "        1    0.000    0.000    0.000    0.000 {method 'setdefault' of 'dict' objects}\n",
      "        2    0.000    0.000    0.000    0.000 {method 'split' of 'str' objects}\n",
      "        2    0.000    0.000    0.000    0.000 {method 'startswith' of 'str' objects}\n",
      "        1    0.000    0.000    0.000    0.000 {method 'strip' of 'str' objects}\n",
      "        3    0.000    0.000    0.000    0.000 {method 'tolist' of 'numpy.ndarray' objects}\n",
      "        1    0.008    0.008    0.008    0.008 {method 'write' of '_io.TextIOWrapper' objects}\n",
      "\n",
      "\n",
      "         8255 function calls (6728 primitive calls) in 0.897 seconds\n",
      "\n",
      "   Ordered by: standard name\n",
      "\n",
      "   ncalls  tottime  percall  cumtime  percall filename:lineno(function)\n",
      "        5    0.000    0.000    0.000    0.000 <frozen importlib._bootstrap>:1035(_resolve_name)\n",
      "        5    0.000    0.000    0.000    0.000 <frozen importlib._bootstrap>:1101(_sanity_check)\n",
      "        5    0.000    0.000    0.000    0.000 <frozen importlib._bootstrap>:1165(_find_and_load)\n",
      "        5    0.000    0.000    0.000    0.000 <frozen importlib._bootstrap>:1192(_gcd_import)\n",
      "        1    0.000    0.000    0.000    0.000 <frozen importlib._bootstrap>:1207(_handle_fromlist)\n",
      "        1    0.000    0.000    0.897    0.897 <string>:1(<module>)\n",
      "        5    0.000    0.000    0.000    0.000 __init__.py:108(import_module)\n",
      "        1    0.000    0.000    0.000    0.000 __init__.py:183(dumps)\n",
      "        4    0.000    0.000    0.000    0.000 __init__.py:282(__getattr__)\n",
      "        1    0.000    0.000    0.000    0.000 __init__.py:299(loads)\n",
      "        1    0.000    0.000    0.897    0.897 _kaleido.py:150(write_image)\n",
      "        1    0.000    0.000    0.896    0.896 _kaleido.py:25(to_image)\n",
      "        1    0.000    0.000    0.002    0.002 _utils.py:6(validate_coerce_fig_to_dict)\n",
      "        1    0.000    0.000    0.000    0.000 base.py:153(_ensure_kaleido)\n",
      "        1    0.000    0.000    0.894    0.894 base.py:277(_perform_transform)\n",
      "        1    0.000    0.000    0.000    0.000 base64.py:34(_bytes_from_decode_data)\n",
      "        1    0.000    0.000    0.000    0.000 base64.py:65(b64decode)\n",
      "        1    0.000    0.000    0.002    0.002 basedatatypes.py:3285(to_dict)\n",
      "        1    0.000    0.000    0.000    0.000 basedatatypes.py:3308(<listcomp>)\n",
      "        1    0.000    0.000    0.897    0.897 basedatatypes.py:3780(write_image)\n",
      "   1292/3    0.001    0.000    0.002    0.001 copy.py:128(deepcopy)\n",
      "     1019    0.000    0.000    0.000    0.000 copy.py:182(_deepcopy_atomic)\n",
      "   135/38    0.000    0.000    0.001    0.000 copy.py:201(_deepcopy_list)\n",
      "    135/2    0.000    0.000    0.002    0.001 copy.py:227(_deepcopy_dict)\n",
      "      273    0.000    0.000    0.000    0.000 copy.py:243(_keep_alive)\n",
      "        1    0.000    0.000    0.000    0.000 decoder.py:332(decode)\n",
      "        1    0.000    0.000    0.000    0.000 decoder.py:343(raw_decode)\n",
      "        1    0.000    0.000    0.000    0.000 encoder.py:105(__init__)\n",
      "        1    0.000    0.000    0.000    0.000 encoder.py:183(encode)\n",
      "        1    0.000    0.000    0.000    0.000 encoder.py:205(iterencode)\n",
      "      5/3    0.000    0.000    0.000    0.000 importers.py:23(__getattr__)\n",
      "        9    0.000    0.000    0.000    0.000 optional_imports.py:13(get_module)\n",
      "        1    0.000    0.000    0.000    0.000 pathlib.py:1036(open)\n",
      "        1    0.000    0.000    0.000    0.000 pathlib.py:1061(write_bytes)\n",
      "        1    0.000    0.000    0.000    0.000 pathlib.py:523(_format_parsed_parts)\n",
      "        1    0.000    0.000    0.000    0.000 pathlib.py:536(__str__)\n",
      "        1    0.000    0.000    0.000    0.000 pathlib.py:546(__fspath__)\n",
      "        1    0.000    0.000    0.000    0.000 pathlib.py:622(name)\n",
      "        1    0.000    0.000    0.000    0.000 pathlib.py:630(suffix)\n",
      "        1    0.000    0.000    0.894    0.894 plotly.py:38(transform)\n",
      "        1    0.000    0.000    0.000    0.000 subprocess.py:1233(poll)\n",
      "        1    0.000    0.000    0.000    0.000 subprocess.py:1563(_internal_poll)\n",
      "        3    0.000    0.000    0.000    0.000 utils.py:135(encode_as_plotly)\n",
      "        3    0.000    0.000    0.000    0.000 utils.py:143(encode_as_list)\n",
      "        3    0.000    0.000    0.000    0.000 utils.py:151(encode_as_sage)\n",
      "        3    0.000    0.000    0.000    0.000 utils.py:165(encode_as_pandas)\n",
      "        3    0.000    0.000    0.000    0.000 utils.py:181(encode_as_numpy)\n",
      "        3    0.000    0.000    0.000    0.000 utils.py:198(encode_as_datetime)\n",
      "        3    0.000    0.000    0.000    0.000 utils.py:206(encode_as_date)\n",
      "        1    0.000    0.000    0.000    0.000 utils.py:48(encode)\n",
      "        3    0.000    0.000    0.000    0.000 utils.py:85(default)\n",
      "        1    0.000    0.000    0.000    0.000 {built-in method _winapi.WaitForSingleObject}\n",
      "        1    0.000    0.000    0.000    0.000 {built-in method binascii.a2b_base64}\n",
      "        1    0.000    0.000    0.897    0.897 {built-in method builtins.exec}\n",
      "    18/12    0.000    0.000    0.000    0.000 {built-in method builtins.getattr}\n",
      "        7    0.000    0.000    0.000    0.000 {built-in method builtins.hasattr}\n",
      "     1838    0.000    0.000    0.000    0.000 {built-in method builtins.id}\n",
      "       23    0.000    0.000    0.000    0.000 {built-in method builtins.isinstance}\n",
      "        3    0.000    0.000    0.000    0.000 {built-in method builtins.issubclass}\n",
      "        8    0.000    0.000    0.000    0.000 {built-in method builtins.len}\n",
      "        1    0.000    0.000    0.000    0.000 {built-in method io.open}\n",
      "        3    0.000    0.000    0.000    0.000 {method '__deepcopy__' of 'numpy.ndarray' objects}\n",
      "        1    0.000    0.000    0.000    0.000 {method '__exit__' of '_io._IOBase' objects}\n",
      "        1    0.000    0.000    0.000    0.000 {method '__exit__' of '_thread.lock' objects}\n",
      "      621    0.000    0.000    0.000    0.000 {method 'append' of 'list' objects}\n",
      "        1    0.000    0.000    0.000    0.000 {method 'decode' of 'bytes' objects}\n",
      "        1    0.000    0.000    0.000    0.000 {method 'disable' of '_lsprof.Profiler' objects}\n",
      "        3    0.000    0.000    0.000    0.000 {method 'encode' of 'str' objects}\n",
      "        2    0.000    0.000    0.000    0.000 {method 'end' of 're.Match' objects}\n",
      "        1    0.000    0.000    0.000    0.000 {method 'flush' of '_io.BufferedWriter' objects}\n",
      "        5    0.000    0.000    0.000    0.000 {method 'format' of 'str' objects}\n",
      "     2594    0.000    0.000    0.000    0.000 {method 'get' of 'dict' objects}\n",
      "      135    0.000    0.000    0.000    0.000 {method 'items' of 'dict' objects}\n",
      "        7    0.000    0.000    0.000    0.000 {method 'join' of 'str' objects}\n",
      "        1    0.000    0.000    0.000    0.000 {method 'lower' of 'str' objects}\n",
      "        1    0.000    0.000    0.000    0.000 {method 'lstrip' of 'str' objects}\n",
      "        2    0.000    0.000    0.000    0.000 {method 'match' of 're.Pattern' objects}\n",
      "        1    0.893    0.893    0.893    0.893 {method 'readline' of '_io.BufferedReader' objects}\n",
      "        1    0.000    0.000    0.000    0.000 {method 'rfind' of 'str' objects}\n",
      "        5    0.000    0.000    0.000    0.000 {method 'rsplit' of 'str' objects}\n",
      "        5    0.000    0.000    0.000    0.000 {method 'split' of 'str' objects}\n",
      "        6    0.000    0.000    0.000    0.000 {method 'startswith' of 'str' objects}\n",
      "        3    0.000    0.000    0.000    0.000 {method 'tolist' of 'numpy.ndarray' objects}\n",
      "        3    0.000    0.000    0.000    0.000 {method 'write' of '_io.BufferedWriter' objects}\n",
      "\n",
      "\n"
     ]
    }
   ],
   "source": [
    "if generate:\n",
    "    image_dir = working_dir / \"images\"\n",
    "    cProfile.run(\"fig3dTicks.figure.to_plotly_json()\")\n",
    "\n",
    "    html_file = working_dir / \"images\" / \"plot3dTick.html\"\n",
    "    cProfile.run(\"fig3dTicks.figure.write_html(html_file)\")\n",
    "\n",
    "    png_file = working_dir / \"images\" / \"plot3dTick.png\"\n",
    "    cProfile.run(\"fig3dTicks.figure.write_image(png_file, engine='kaleido')\")"
   ]
  },
  {
   "cell_type": "markdown",
   "metadata": {},
   "source": [
    "## Heatmap"
   ]
  },
  {
   "cell_type": "code",
   "execution_count": 211,
   "metadata": {},
   "outputs": [
    {
     "data": {
      "text/html": [
       "        <script type=\"text/javascript\">\n",
       "        window.PlotlyConfig = {MathJaxConfig: 'local'};\n",
       "        if (window.MathJax && window.MathJax.Hub && window.MathJax.Hub.Config) {window.MathJax.Hub.Config({SVG: {font: \"STIX-Web\"}});}\n",
       "        if (typeof require !== 'undefined') {\n",
       "        require.undef(\"plotly\");\n",
       "        requirejs.config({\n",
       "            paths: {\n",
       "                'plotly': ['https://cdn.plot.ly/plotly-2.29.1.min']\n",
       "            }\n",
       "        });\n",
       "        require(['plotly'], function(Plotly) {\n",
       "            window._Plotly = Plotly;\n",
       "        });\n",
       "        }\n",
       "        </script>\n",
       "        "
      ]
     },
     "metadata": {},
     "output_type": "display_data"
    },
    {
     "data": {
      "text/html": [
       "<div>                            <div id=\"a3da416c-9143-4866-acd0-39b5fa1e41cb\" class=\"plotly-graph-div\" style=\"height:500px; width:650px;\"></div>            <script type=\"text/javascript\">                require([\"plotly\"], function(Plotly) {                    window.PLOTLYENV=window.PLOTLYENV || {};                                    if (document.getElementById(\"a3da416c-9143-4866-acd0-39b5fa1e41cb\")) {                    Plotly.newPlot(                        \"a3da416c-9143-4866-acd0-39b5fa1e41cb\",                        [{\"connectgaps\":true,\"line\":{\"dash\":\"solid\",\"width\":2},\"marker\":{\"color\":[1,2,3,4,5,6],\"colorbar\":{\"thickness\":20,\"tickmode\":\"array\",\"title\":{\"font\":{\"size\":12},\"side\":\"right\",\"text\":\"\\u003cb\\u003eColor Bar\\u003c\\u002fb\\u003e\"}},\"colorscale\":[[0.0,\"rgb(53,43,135)\"],[0.00392156862745098,\"rgb(54,44,139)\"],[0.00784313725490196,\"rgb(54,46,142)\"],[0.011764705882352941,\"rgb(54,47,145)\"],[0.01568627450980392,\"rgb(54,49,148)\"],[0.0196078431372549,\"rgb(54,50,151)\"],[0.023529411764705882,\"rgb(54,52,154)\"],[0.027450980392156862,\"rgb(54,53,157)\"],[0.03137254901960784,\"rgb(54,55,160)\"],[0.03529411764705882,\"rgb(54,56,163)\"],[0.0392156862745098,\"rgb(54,58,167)\"],[0.043137254901960784,\"rgb(54,59,170)\"],[0.047058823529411764,\"rgb(53,61,173)\"],[0.050980392156862744,\"rgb(53,62,176)\"],[0.054901960784313725,\"rgb(52,64,179)\"],[0.058823529411764705,\"rgb(51,66,183)\"],[0.06274509803921569,\"rgb(50,67,186)\"],[0.06666666666666667,\"rgb(49,69,189)\"],[0.07058823529411765,\"rgb(48,71,192)\"],[0.07450980392156863,\"rgb(46,72,195)\"],[0.0784313725490196,\"rgb(44,74,199)\"],[0.08235294117647059,\"rgb(42,76,202)\"],[0.08627450980392157,\"rgb(39,78,205)\"],[0.09019607843137255,\"rgb(37,80,209)\"],[0.09411764705882353,\"rgb(33,82,212)\"],[0.09803921568627451,\"rgb(29,85,215)\"],[0.10196078431372549,\"rgb(25,87,217)\"],[0.10588235294117647,\"rgb(21,89,220)\"],[0.10980392156862745,\"rgb(17,91,222)\"],[0.11372549019607843,\"rgb(12,93,223)\"],[0.11764705882352941,\"rgb(8,95,224)\"],[0.12156862745098039,\"rgb(5,97,225)\"],[0.12549019607843137,\"rgb(3,99,226)\"],[0.12941176470588234,\"rgb(2,100,226)\"],[0.13333333333333333,\"rgb(2,102,226)\"],[0.13725490196078433,\"rgb(1,103,226)\"],[0.1411764705882353,\"rgb(1,104,226)\"],[0.14509803921568626,\"rgb(2,105,226)\"],[0.14901960784313725,\"rgb(2,106,226)\"],[0.15294117647058825,\"rgb(3,108,225)\"],[0.1568627450980392,\"rgb(4,109,225)\"],[0.16078431372549018,\"rgb(5,110,225)\"],[0.16470588235294117,\"rgb(6,111,224)\"],[0.16862745098039217,\"rgb(7,112,224)\"],[0.17254901960784313,\"rgb(8,113,223)\"],[0.1764705882352941,\"rgb(9,114,223)\"],[0.1803921568627451,\"rgb(10,115,223)\"],[0.1843137254901961,\"rgb(11,116,222)\"],[0.18823529411764706,\"rgb(12,117,221)\"],[0.19215686274509802,\"rgb(13,118,221)\"],[0.19607843137254902,\"rgb(14,119,220)\"],[0.2,\"rgb(15,120,220)\"],[0.20392156862745098,\"rgb(16,121,219)\"],[0.20784313725490194,\"rgb(16,122,219)\"],[0.21176470588235294,\"rgb(17,123,218)\"],[0.21568627450980393,\"rgb(18,124,218)\"],[0.2196078431372549,\"rgb(18,124,217)\"],[0.22352941176470587,\"rgb(19,125,217)\"],[0.22745098039215686,\"rgb(19,126,216)\"],[0.23137254901960785,\"rgb(19,127,216)\"],[0.23529411764705882,\"rgb(20,128,215)\"],[0.2392156862745098,\"rgb(20,129,214)\"],[0.24313725490196078,\"rgb(20,130,214)\"],[0.24705882352941178,\"rgb(20,131,214)\"],[0.25098039215686274,\"rgb(20,132,213)\"],[0.2549019607843137,\"rgb(20,133,213)\"],[0.2588235294117647,\"rgb(20,134,212)\"],[0.2627450980392157,\"rgb(20,136,212)\"],[0.26666666666666666,\"rgb(20,137,212)\"],[0.27058823529411763,\"rgb(19,138,211)\"],[0.27450980392156865,\"rgb(19,139,211)\"],[0.2784313725490196,\"rgb(18,140,211)\"],[0.2823529411764706,\"rgb(17,141,211)\"],[0.28627450980392155,\"rgb(16,143,211)\"],[0.2901960784313725,\"rgb(15,144,211)\"],[0.29411764705882354,\"rgb(14,145,211)\"],[0.2980392156862745,\"rgb(13,147,211)\"],[0.30196078431372547,\"rgb(12,148,211)\"],[0.3058823529411765,\"rgb(11,149,211)\"],[0.30980392156862746,\"rgb(10,150,210)\"],[0.3137254901960784,\"rgb(10,152,210)\"],[0.3176470588235294,\"rgb(9,153,210)\"],[0.32156862745098036,\"rgb(8,154,210)\"],[0.3254901960784314,\"rgb(8,155,209)\"],[0.32941176470588235,\"rgb(7,156,209)\"],[0.3333333333333333,\"rgb(7,157,208)\"],[0.33725490196078434,\"rgb(7,158,208)\"],[0.3411764705882353,\"rgb(6,159,207)\"],[0.34509803921568627,\"rgb(6,160,206)\"],[0.34901960784313724,\"rgb(6,161,206)\"],[0.3529411764705882,\"rgb(6,162,205)\"],[0.3568627450980392,\"rgb(6,163,204)\"],[0.3607843137254902,\"rgb(6,163,203)\"],[0.36470588235294116,\"rgb(6,164,203)\"],[0.3686274509803922,\"rgb(6,165,202)\"],[0.37254901960784315,\"rgb(6,166,201)\"],[0.3764705882352941,\"rgb(6,166,200)\"],[0.3803921568627451,\"rgb(6,167,199)\"],[0.38431372549019605,\"rgb(6,168,198)\"],[0.38823529411764707,\"rgb(6,169,197)\"],[0.39215686274509803,\"rgb(6,169,196)\"],[0.396078431372549,\"rgb(7,170,195)\"],[0.4,\"rgb(7,171,194)\"],[0.403921568627451,\"rgb(8,171,193)\"],[0.40784313725490196,\"rgb(9,172,192)\"],[0.4117647058823529,\"rgb(10,172,191)\"],[0.4156862745098039,\"rgb(11,173,189)\"],[0.4196078431372549,\"rgb(12,174,188)\"],[0.4235294117647059,\"rgb(13,174,187)\"],[0.42745098039215684,\"rgb(15,175,186)\"],[0.43137254901960786,\"rgb(16,175,185)\"],[0.43529411764705883,\"rgb(18,176,184)\"],[0.4392156862745098,\"rgb(19,177,182)\"],[0.44313725490196076,\"rgb(21,177,181)\"],[0.44705882352941173,\"rgb(23,178,180)\"],[0.45098039215686275,\"rgb(24,178,179)\"],[0.4549019607843137,\"rgb(26,179,177)\"],[0.4588235294117647,\"rgb(28,179,176)\"],[0.4627450980392157,\"rgb(30,180,175)\"],[0.4666666666666667,\"rgb(32,180,173)\"],[0.47058823529411764,\"rgb(34,181,172)\"],[0.4745098039215686,\"rgb(36,181,171)\"],[0.4784313725490196,\"rgb(38,182,169)\"],[0.4823529411764706,\"rgb(41,183,168)\"],[0.48627450980392156,\"rgb(43,183,167)\"],[0.49019607843137253,\"rgb(45,184,165)\"],[0.49411764705882355,\"rgb(47,184,164)\"],[0.4980392156862745,\"rgb(50,184,162)\"],[0.5019607843137255,\"rgb(52,185,161)\"],[0.5058823529411764,\"rgb(54,185,159)\"],[0.5098039215686274,\"rgb(57,186,158)\"],[0.5137254901960784,\"rgb(59,186,156)\"],[0.5176470588235293,\"rgb(62,187,155)\"],[0.5215686274509804,\"rgb(65,187,153)\"],[0.5254901960784314,\"rgb(67,187,152)\"],[0.5294117647058824,\"rgb(70,188,150)\"],[0.5333333333333333,\"rgb(73,188,149)\"],[0.5372549019607843,\"rgb(76,189,147)\"],[0.5411764705882353,\"rgb(78,189,146)\"],[0.5450980392156862,\"rgb(81,189,144)\"],[0.5490196078431373,\"rgb(84,190,143)\"],[0.5529411764705883,\"rgb(87,190,141)\"],[0.5568627450980392,\"rgb(90,190,140)\"],[0.5607843137254902,\"rgb(93,190,138)\"],[0.5647058823529412,\"rgb(96,191,137)\"],[0.5686274509803921,\"rgb(99,191,135)\"],[0.5725490196078431,\"rgb(102,191,134)\"],[0.5764705882352941,\"rgb(105,191,132)\"],[0.580392156862745,\"rgb(108,191,131)\"],[0.5843137254901961,\"rgb(111,191,130)\"],[0.5882352941176471,\"rgb(114,192,129)\"],[0.592156862745098,\"rgb(117,192,127)\"],[0.596078431372549,\"rgb(120,192,126)\"],[0.6,\"rgb(122,192,125)\"],[0.6039215686274509,\"rgb(125,192,124)\"],[0.6078431372549019,\"rgb(128,192,123)\"],[0.611764705882353,\"rgb(131,192,121)\"],[0.615686274509804,\"rgb(133,192,120)\"],[0.6196078431372549,\"rgb(136,192,119)\"],[0.6235294117647059,\"rgb(139,192,118)\"],[0.6274509803921569,\"rgb(141,192,117)\"],[0.6313725490196078,\"rgb(144,192,116)\"],[0.6352941176470588,\"rgb(146,192,115)\"],[0.6392156862745098,\"rgb(149,192,114)\"],[0.6431372549019607,\"rgb(151,191,113)\"],[0.6470588235294118,\"rgb(154,191,112)\"],[0.6509803921568628,\"rgb(156,191,111)\"],[0.6549019607843137,\"rgb(159,191,110)\"],[0.6588235294117647,\"rgb(161,191,109)\"],[0.6627450980392157,\"rgb(163,191,108)\"],[0.6666666666666666,\"rgb(166,191,107)\"],[0.6705882352941176,\"rgb(168,191,106)\"],[0.6745098039215687,\"rgb(170,191,105)\"],[0.6784313725490196,\"rgb(173,190,104)\"],[0.6823529411764706,\"rgb(175,190,104)\"],[0.6862745098039216,\"rgb(177,190,103)\"],[0.6901960784313725,\"rgb(179,190,102)\"],[0.6941176470588235,\"rgb(182,190,101)\"],[0.6980392156862745,\"rgb(184,190,100)\"],[0.7019607843137254,\"rgb(186,190,99)\"],[0.7058823529411764,\"rgb(188,189,98)\"],[0.7098039215686275,\"rgb(190,189,97)\"],[0.7137254901960784,\"rgb(192,189,97)\"],[0.7176470588235294,\"rgb(194,189,96)\"],[0.7215686274509804,\"rgb(197,189,95)\"],[0.7254901960784313,\"rgb(199,189,94)\"],[0.7294117647058823,\"rgb(201,188,93)\"],[0.7333333333333333,\"rgb(203,188,92)\"],[0.7372549019607844,\"rgb(205,188,91)\"],[0.7411764705882353,\"rgb(207,188,91)\"],[0.7450980392156863,\"rgb(209,188,90)\"],[0.7490196078431373,\"rgb(211,187,89)\"],[0.7529411764705882,\"rgb(213,187,88)\"],[0.7568627450980392,\"rgb(215,187,87)\"],[0.7607843137254902,\"rgb(217,187,86)\"],[0.7647058823529411,\"rgb(219,187,85)\"],[0.7686274509803921,\"rgb(221,187,84)\"],[0.7725490196078432,\"rgb(223,186,84)\"],[0.7764705882352941,\"rgb(225,186,83)\"],[0.7803921568627451,\"rgb(227,186,82)\"],[0.7843137254901961,\"rgb(229,186,81)\"],[0.788235294117647,\"rgb(231,186,80)\"],[0.792156862745098,\"rgb(233,186,79)\"],[0.796078431372549,\"rgb(235,186,78)\"],[0.8,\"rgb(237,186,77)\"],[0.803921568627451,\"rgb(239,186,76)\"],[0.807843137254902,\"rgb(241,186,74)\"],[0.8117647058823529,\"rgb(243,186,73)\"],[0.8156862745098039,\"rgb(245,186,72)\"],[0.8196078431372549,\"rgb(247,186,71)\"],[0.8235294117647058,\"rgb(249,187,69)\"],[0.8274509803921568,\"rgb(250,188,67)\"],[0.8313725490196078,\"rgb(252,188,66)\"],[0.8352941176470589,\"rgb(253,189,64)\"],[0.8392156862745098,\"rgb(254,190,62)\"],[0.8431372549019608,\"rgb(255,191,61)\"],[0.8470588235294118,\"rgb(255,193,59)\"],[0.8509803921568627,\"rgb(256,194,58)\"],[0.8549019607843137,\"rgb(256,195,56)\"],[0.8588235294117647,\"rgb(256,196,55)\"],[0.8627450980392157,\"rgb(256,198,54)\"],[0.8666666666666667,\"rgb(255,199,52)\"],[0.8705882352941177,\"rgb(255,200,51)\"],[0.8745098039215686,\"rgb(255,202,50)\"],[0.8784313725490196,\"rgb(254,203,49)\"],[0.8823529411764706,\"rgb(254,204,48)\"],[0.8862745098039215,\"rgb(253,206,47)\"],[0.8901960784313725,\"rgb(253,207,46)\"],[0.8941176470588235,\"rgb(252,208,45)\"],[0.8980392156862745,\"rgb(252,210,44)\"],[0.9019607843137255,\"rgb(251,211,43)\"],[0.9058823529411765,\"rgb(250,212,42)\"],[0.9098039215686274,\"rgb(250,213,41)\"],[0.9137254901960784,\"rgb(249,215,40)\"],[0.9176470588235294,\"rgb(249,216,39)\"],[0.9215686274509803,\"rgb(248,217,38)\"],[0.9254901960784314,\"rgb(248,219,36)\"],[0.9294117647058824,\"rgb(247,220,35)\"],[0.9333333333333333,\"rgb(247,222,34)\"],[0.9372549019607843,\"rgb(246,223,33)\"],[0.9411764705882353,\"rgb(246,225,32)\"],[0.9450980392156862,\"rgb(246,226,31)\"],[0.9490196078431372,\"rgb(246,228,30)\"],[0.9529411764705882,\"rgb(245,229,29)\"],[0.9568627450980391,\"rgb(245,231,28)\"],[0.9607843137254902,\"rgb(245,233,27)\"],[0.9647058823529412,\"rgb(246,234,25)\"],[0.9686274509803922,\"rgb(246,236,24)\"],[0.9725490196078431,\"rgb(246,238,23)\"],[0.9764705882352941,\"rgb(246,240,22)\"],[0.9803921568627451,\"rgb(247,242,21)\"],[0.984313725490196,\"rgb(247,244,19)\"],[0.9882352941176471,\"rgb(248,246,18)\"],[0.9921568627450981,\"rgb(249,248,17)\"],[0.996078431372549,\"rgb(249,250,15)\"],[1.0,\"rgb(250,252,14)\"]],\"showscale\":true,\"size\":5,\"symbol\":\"circle\"},\"mode\":\"markers\",\"showlegend\":false,\"text\":[\"tgt_pos_ned_m__2: 1.000\",\"tgt_pos_ned_m__2: 2.000\",\"tgt_pos_ned_m__2: 3.000\",\"tgt_pos_ned_m__2: 4.000\",\"tgt_pos_ned_m__2: 5.000\",\"tgt_pos_ned_m__2: 6.000\"],\"x\":[10,20,30,40,50,60],\"y\":[100,110,120,130,140,150],\"type\":\"scatter\"}],                        {\"template\":{\"data\":{\"histogram2dcontour\":[{\"type\":\"histogram2dcontour\",\"colorbar\":{\"outlinewidth\":1,\"ticks\":\"outside\",\"tickcolor\":\"rgb(36,36,36)\"},\"colorscale\":[[0.0,\"#440154\"],[0.1111111111111111,\"#482878\"],[0.2222222222222222,\"#3e4989\"],[0.3333333333333333,\"#31688e\"],[0.4444444444444444,\"#26828e\"],[0.5555555555555556,\"#1f9e89\"],[0.6666666666666666,\"#35b779\"],[0.7777777777777778,\"#6ece58\"],[0.8888888888888888,\"#b5de2b\"],[1.0,\"#fde725\"]]}],\"choropleth\":[{\"type\":\"choropleth\",\"colorbar\":{\"outlinewidth\":1,\"ticks\":\"outside\",\"tickcolor\":\"rgb(36,36,36)\"}}],\"histogram2d\":[{\"type\":\"histogram2d\",\"colorbar\":{\"outlinewidth\":1,\"ticks\":\"outside\",\"tickcolor\":\"rgb(36,36,36)\"},\"colorscale\":[[0.0,\"#440154\"],[0.1111111111111111,\"#482878\"],[0.2222222222222222,\"#3e4989\"],[0.3333333333333333,\"#31688e\"],[0.4444444444444444,\"#26828e\"],[0.5555555555555556,\"#1f9e89\"],[0.6666666666666666,\"#35b779\"],[0.7777777777777778,\"#6ece58\"],[0.8888888888888888,\"#b5de2b\"],[1.0,\"#fde725\"]]}],\"heatmap\":[{\"type\":\"heatmap\",\"colorbar\":{\"outlinewidth\":1,\"ticks\":\"outside\",\"tickcolor\":\"rgb(36,36,36)\"},\"colorscale\":[[0.0,\"#440154\"],[0.1111111111111111,\"#482878\"],[0.2222222222222222,\"#3e4989\"],[0.3333333333333333,\"#31688e\"],[0.4444444444444444,\"#26828e\"],[0.5555555555555556,\"#1f9e89\"],[0.6666666666666666,\"#35b779\"],[0.7777777777777778,\"#6ece58\"],[0.8888888888888888,\"#b5de2b\"],[1.0,\"#fde725\"]]}],\"heatmapgl\":[{\"type\":\"heatmapgl\",\"colorbar\":{\"outlinewidth\":1,\"ticks\":\"outside\",\"tickcolor\":\"rgb(36,36,36)\"},\"colorscale\":[[0.0,\"#440154\"],[0.1111111111111111,\"#482878\"],[0.2222222222222222,\"#3e4989\"],[0.3333333333333333,\"#31688e\"],[0.4444444444444444,\"#26828e\"],[0.5555555555555556,\"#1f9e89\"],[0.6666666666666666,\"#35b779\"],[0.7777777777777778,\"#6ece58\"],[0.8888888888888888,\"#b5de2b\"],[1.0,\"#fde725\"]]}],\"contourcarpet\":[{\"type\":\"contourcarpet\",\"colorbar\":{\"outlinewidth\":1,\"ticks\":\"outside\",\"tickcolor\":\"rgb(36,36,36)\"}}],\"contour\":[{\"type\":\"contour\",\"colorbar\":{\"outlinewidth\":1,\"ticks\":\"outside\",\"tickcolor\":\"rgb(36,36,36)\"},\"colorscale\":[[0.0,\"#440154\"],[0.1111111111111111,\"#482878\"],[0.2222222222222222,\"#3e4989\"],[0.3333333333333333,\"#31688e\"],[0.4444444444444444,\"#26828e\"],[0.5555555555555556,\"#1f9e89\"],[0.6666666666666666,\"#35b779\"],[0.7777777777777778,\"#6ece58\"],[0.8888888888888888,\"#b5de2b\"],[1.0,\"#fde725\"]]}],\"surface\":[{\"type\":\"surface\",\"colorbar\":{\"outlinewidth\":1,\"ticks\":\"outside\",\"tickcolor\":\"rgb(36,36,36)\"},\"colorscale\":[[0.0,\"#440154\"],[0.1111111111111111,\"#482878\"],[0.2222222222222222,\"#3e4989\"],[0.3333333333333333,\"#31688e\"],[0.4444444444444444,\"#26828e\"],[0.5555555555555556,\"#1f9e89\"],[0.6666666666666666,\"#35b779\"],[0.7777777777777778,\"#6ece58\"],[0.8888888888888888,\"#b5de2b\"],[1.0,\"#fde725\"]]}],\"mesh3d\":[{\"type\":\"mesh3d\",\"colorbar\":{\"outlinewidth\":1,\"ticks\":\"outside\",\"tickcolor\":\"rgb(36,36,36)\"}}],\"scatter\":[{\"fillpattern\":{\"fillmode\":\"overlay\",\"size\":10,\"solidity\":0.2},\"type\":\"scatter\"}],\"parcoords\":[{\"type\":\"parcoords\",\"line\":{\"colorbar\":{\"outlinewidth\":1,\"ticks\":\"outside\",\"tickcolor\":\"rgb(36,36,36)\"}}}],\"scatterpolargl\":[{\"type\":\"scatterpolargl\",\"marker\":{\"colorbar\":{\"outlinewidth\":1,\"ticks\":\"outside\",\"tickcolor\":\"rgb(36,36,36)\"}}}],\"bar\":[{\"error_x\":{\"color\":\"rgb(36,36,36)\"},\"error_y\":{\"color\":\"rgb(36,36,36)\"},\"marker\":{\"line\":{\"color\":\"white\",\"width\":0.5},\"pattern\":{\"fillmode\":\"overlay\",\"size\":10,\"solidity\":0.2}},\"type\":\"bar\"}],\"scattergeo\":[{\"type\":\"scattergeo\",\"marker\":{\"colorbar\":{\"outlinewidth\":1,\"ticks\":\"outside\",\"tickcolor\":\"rgb(36,36,36)\"}}}],\"scatterpolar\":[{\"type\":\"scatterpolar\",\"marker\":{\"colorbar\":{\"outlinewidth\":1,\"ticks\":\"outside\",\"tickcolor\":\"rgb(36,36,36)\"}}}],\"histogram\":[{\"marker\":{\"pattern\":{\"fillmode\":\"overlay\",\"size\":10,\"solidity\":0.2},\"line\":{\"color\":\"white\",\"width\":0.6}},\"type\":\"histogram\"}],\"scattergl\":[{\"type\":\"scattergl\",\"marker\":{\"colorbar\":{\"outlinewidth\":1,\"ticks\":\"outside\",\"tickcolor\":\"rgb(36,36,36)\"}}}],\"scatter3d\":[{\"type\":\"scatter3d\",\"line\":{\"colorbar\":{\"outlinewidth\":1,\"ticks\":\"outside\",\"tickcolor\":\"rgb(36,36,36)\"}},\"marker\":{\"colorbar\":{\"outlinewidth\":1,\"ticks\":\"outside\",\"tickcolor\":\"rgb(36,36,36)\"}}}],\"scattermapbox\":[{\"type\":\"scattermapbox\",\"marker\":{\"colorbar\":{\"outlinewidth\":1,\"ticks\":\"outside\",\"tickcolor\":\"rgb(36,36,36)\"}}}],\"scatterternary\":[{\"type\":\"scatterternary\",\"marker\":{\"colorbar\":{\"outlinewidth\":1,\"ticks\":\"outside\",\"tickcolor\":\"rgb(36,36,36)\"}}}],\"scattercarpet\":[{\"type\":\"scattercarpet\",\"marker\":{\"colorbar\":{\"outlinewidth\":1,\"ticks\":\"outside\",\"tickcolor\":\"rgb(36,36,36)\"}}}],\"carpet\":[{\"aaxis\":{\"endlinecolor\":\"rgb(36,36,36)\",\"gridcolor\":\"white\",\"linecolor\":\"white\",\"minorgridcolor\":\"white\",\"startlinecolor\":\"rgb(36,36,36)\"},\"baxis\":{\"endlinecolor\":\"rgb(36,36,36)\",\"gridcolor\":\"white\",\"linecolor\":\"white\",\"minorgridcolor\":\"white\",\"startlinecolor\":\"rgb(36,36,36)\"},\"type\":\"carpet\"}],\"table\":[{\"cells\":{\"fill\":{\"color\":\"rgb(237,237,237)\"},\"line\":{\"color\":\"white\"}},\"header\":{\"fill\":{\"color\":\"rgb(217,217,217)\"},\"line\":{\"color\":\"white\"}},\"type\":\"table\"}],\"barpolar\":[{\"marker\":{\"line\":{\"color\":\"white\",\"width\":0.5},\"pattern\":{\"fillmode\":\"overlay\",\"size\":10,\"solidity\":0.2}},\"type\":\"barpolar\"}],\"pie\":[{\"automargin\":true,\"type\":\"pie\"}]},\"layout\":{\"autotypenumbers\":\"strict\",\"colorway\":[\"#1F77B4\",\"#FF7F0E\",\"#2CA02C\",\"#D62728\",\"#9467BD\",\"#8C564B\",\"#E377C2\",\"#7F7F7F\",\"#BCBD22\",\"#17BECF\"],\"font\":{\"color\":\"rgb(36,36,36)\"},\"hovermode\":\"closest\",\"hoverlabel\":{\"align\":\"left\"},\"paper_bgcolor\":\"white\",\"plot_bgcolor\":\"white\",\"polar\":{\"bgcolor\":\"white\",\"angularaxis\":{\"gridcolor\":\"rgb(232,232,232)\",\"linecolor\":\"rgb(36,36,36)\",\"ticks\":\"outside\",\"showgrid\":false,\"showline\":true},\"radialaxis\":{\"gridcolor\":\"rgb(232,232,232)\",\"linecolor\":\"rgb(36,36,36)\",\"ticks\":\"outside\",\"showgrid\":false,\"showline\":true}},\"ternary\":{\"bgcolor\":\"white\",\"aaxis\":{\"gridcolor\":\"rgb(232,232,232)\",\"linecolor\":\"rgb(36,36,36)\",\"ticks\":\"outside\",\"showgrid\":false,\"showline\":true},\"baxis\":{\"gridcolor\":\"rgb(232,232,232)\",\"linecolor\":\"rgb(36,36,36)\",\"ticks\":\"outside\",\"showgrid\":false,\"showline\":true},\"caxis\":{\"gridcolor\":\"rgb(232,232,232)\",\"linecolor\":\"rgb(36,36,36)\",\"ticks\":\"outside\",\"showgrid\":false,\"showline\":true}},\"coloraxis\":{\"colorbar\":{\"outlinewidth\":1,\"ticks\":\"outside\",\"tickcolor\":\"rgb(36,36,36)\"}},\"colorscale\":{\"sequential\":[[0.0,\"#440154\"],[0.1111111111111111,\"#482878\"],[0.2222222222222222,\"#3e4989\"],[0.3333333333333333,\"#31688e\"],[0.4444444444444444,\"#26828e\"],[0.5555555555555556,\"#1f9e89\"],[0.6666666666666666,\"#35b779\"],[0.7777777777777778,\"#6ece58\"],[0.8888888888888888,\"#b5de2b\"],[1.0,\"#fde725\"]],\"sequentialminus\":[[0.0,\"#440154\"],[0.1111111111111111,\"#482878\"],[0.2222222222222222,\"#3e4989\"],[0.3333333333333333,\"#31688e\"],[0.4444444444444444,\"#26828e\"],[0.5555555555555556,\"#1f9e89\"],[0.6666666666666666,\"#35b779\"],[0.7777777777777778,\"#6ece58\"],[0.8888888888888888,\"#b5de2b\"],[1.0,\"#fde725\"]],\"diverging\":[[0.0,\"rgb(103,0,31)\"],[0.1,\"rgb(178,24,43)\"],[0.2,\"rgb(214,96,77)\"],[0.3,\"rgb(244,165,130)\"],[0.4,\"rgb(253,219,199)\"],[0.5,\"rgb(247,247,247)\"],[0.6,\"rgb(209,229,240)\"],[0.7,\"rgb(146,197,222)\"],[0.8,\"rgb(67,147,195)\"],[0.9,\"rgb(33,102,172)\"],[1.0,\"rgb(5,48,97)\"]]},\"xaxis\":{\"gridcolor\":\"rgb(232,232,232)\",\"linecolor\":\"rgb(36,36,36)\",\"ticks\":\"outside\",\"title\":{\"standoff\":15},\"zerolinecolor\":\"rgb(36,36,36)\",\"automargin\":true,\"zerolinewidth\":2,\"showgrid\":false,\"showline\":true,\"zeroline\":false},\"yaxis\":{\"gridcolor\":\"rgb(232,232,232)\",\"linecolor\":\"rgb(36,36,36)\",\"ticks\":\"outside\",\"title\":{\"standoff\":15},\"zerolinecolor\":\"rgb(36,36,36)\",\"automargin\":true,\"zerolinewidth\":2,\"showgrid\":false,\"showline\":true,\"zeroline\":false},\"scene\":{\"xaxis\":{\"backgroundcolor\":\"white\",\"gridcolor\":\"rgb(232,232,232)\",\"linecolor\":\"rgb(36,36,36)\",\"showbackground\":true,\"ticks\":\"outside\",\"zerolinecolor\":\"rgb(36,36,36)\",\"gridwidth\":2,\"showgrid\":false,\"showline\":true,\"zeroline\":false},\"yaxis\":{\"backgroundcolor\":\"white\",\"gridcolor\":\"rgb(232,232,232)\",\"linecolor\":\"rgb(36,36,36)\",\"showbackground\":true,\"ticks\":\"outside\",\"zerolinecolor\":\"rgb(36,36,36)\",\"gridwidth\":2,\"showgrid\":false,\"showline\":true,\"zeroline\":false},\"zaxis\":{\"backgroundcolor\":\"white\",\"gridcolor\":\"rgb(232,232,232)\",\"linecolor\":\"rgb(36,36,36)\",\"showbackground\":true,\"ticks\":\"outside\",\"zerolinecolor\":\"rgb(36,36,36)\",\"gridwidth\":2,\"showgrid\":false,\"showline\":true,\"zeroline\":false}},\"shapedefaults\":{\"line\":{\"color\":\"#2a3f5f\",\"width\":0},\"fillcolor\":\"black\",\"opacity\":0.3},\"annotationdefaults\":{\"arrowcolor\":\"#2a3f5f\",\"arrowhead\":0,\"arrowwidth\":1},\"geo\":{\"bgcolor\":\"white\",\"landcolor\":\"white\",\"subunitcolor\":\"white\",\"showland\":true,\"showlakes\":true,\"lakecolor\":\"white\"},\"title\":{\"x\":0.05},\"mapbox\":{\"style\":\"light\"}}},\"legend\":{\"title\":{\"text\":\"Legend\"}},\"margin\":{\"b\":40,\"l\":20,\"r\":1,\"t\":30},\"title\":{\"font\":{\"size\":13},\"text\":\"\\u003cb\\u003eFlyout\\u003c\\u002fb\\u003e\",\"x\":0.5,\"xanchor\":\"center\",\"yanchor\":\"top\"},\"annotations\":[{\"font\":{\"size\":10},\"showarrow\":false,\"text\":\"\\u003cb\\u003eUNCLASSIFIED\\u002f\\u002fFOUO\\u003c\\u002fb\\u003e\",\"visible\":false,\"x\":0,\"xanchor\":\"left\",\"xref\":\"paper\",\"xshift\":-30,\"y\":1,\"yanchor\":\"top\",\"yref\":\"paper\",\"yshift\":40},{\"font\":{\"size\":10},\"showarrow\":false,\"text\":\"\\u003cb\\u003eUNCLASSIFIED\\u002f\\u002fFOUO\\u003c\\u002fb\\u003e\",\"visible\":false,\"x\":0,\"xanchor\":\"left\",\"xref\":\"paper\",\"xshift\":-30,\"y\":0,\"yanchor\":\"bottom\",\"yref\":\"paper\",\"yshift\":-70},{\"font\":{\"size\":10},\"showarrow\":false,\"text\":\"\\u003cb\\u003eUNCLASSIFIED\\u002f\\u002fFOUO\\u003c\\u002fb\\u003e\",\"visible\":false,\"x\":1,\"xanchor\":\"right\",\"xref\":\"paper\",\"xshift\":0,\"y\":1,\"yanchor\":\"top\",\"yref\":\"paper\",\"yshift\":40},{\"font\":{\"size\":10},\"showarrow\":false,\"text\":\"\\u003cb\\u003eUNCLASSIFIED\\u002f\\u002fFOUO\\u003c\\u002fb\\u003e\",\"visible\":false,\"x\":1,\"xanchor\":\"right\",\"xref\":\"paper\",\"xshift\":0,\"y\":0,\"yanchor\":\"bottom\",\"yref\":\"paper\",\"yshift\":-70}],\"height\":500,\"width\":650,\"xaxis\":{\"title\":{\"font\":{\"size\":12},\"text\":\"X Label\",\"standoff\":1},\"showgrid\":true,\"linecolor\":\"black\",\"linewidth\":1,\"mirror\":true,\"tickmode\":\"auto\",\"tickvals\":[1,3,5,7,9,11],\"ticktext\":[\"One\",\"Three\",\"Five\",\"Seven\",\"Nine\",\"Eleven\"]},\"yaxis\":{\"title\":{\"font\":{\"size\":12},\"text\":\"Y Label\",\"standoff\":8},\"showgrid\":true,\"linecolor\":\"black\",\"linewidth\":1,\"mirror\":true,\"tickmode\":\"auto\",\"tickvals\":[1,3,5,7,9,11],\"ticktext\":[\"One\",\"Three\",\"Five\",\"Seven\",\"Nine\",\"Eleven\"]}},                        {\"responsive\": true}                    ).then(function(){\n",
       "                            \n",
       "var gd = document.getElementById('a3da416c-9143-4866-acd0-39b5fa1e41cb');\n",
       "var x = new MutationObserver(function (mutations, observer) {{\n",
       "        var display = window.getComputedStyle(gd).display;\n",
       "        if (!display || display === 'none') {{\n",
       "            console.log([gd, 'removed!']);\n",
       "            Plotly.purge(gd);\n",
       "            observer.disconnect();\n",
       "        }}\n",
       "}});\n",
       "\n",
       "// Listen for the removal of the full notebook cells\n",
       "var notebookContainer = gd.closest('#notebook-container');\n",
       "if (notebookContainer) {{\n",
       "    x.observe(notebookContainer, {childList: true});\n",
       "}}\n",
       "\n",
       "// Listen for the clearing of the current output cell\n",
       "var outputEl = gd.closest('.output');\n",
       "if (outputEl) {{\n",
       "    x.observe(outputEl, {childList: true});\n",
       "}}\n",
       "\n",
       "                        })                };                });            </script>        </div>"
      ]
     },
     "metadata": {},
     "output_type": "display_data"
    }
   ],
   "source": [
    "# Variables\n",
    "id = \"heatmap\"\n",
    "\n",
    "figHeat = PlotHeatmap(templates[id], data[id])\n",
    "\n",
    "if render_plots:\n",
    "    figHeat.show_plot(\"notebook_connected\")"
   ]
  },
  {
   "cell_type": "code",
   "execution_count": 212,
   "metadata": {},
   "outputs": [
    {
     "name": "stdout",
     "output_type": "stream",
     "text": [
      "         13421 function calls (10926 primitive calls) in 0.004 seconds\n",
      "\n",
      "   Ordered by: standard name\n",
      "\n",
      "   ncalls  tottime  percall  cumtime  percall filename:lineno(function)\n",
      "        1    0.000    0.000    0.004    0.004 <string>:1(<module>)\n",
      "        1    0.000    0.000    0.004    0.004 basedatatypes.py:3285(to_dict)\n",
      "        1    0.000    0.000    0.000    0.000 basedatatypes.py:3308(<listcomp>)\n",
      "        1    0.000    0.000    0.004    0.004 basedatatypes.py:3315(to_plotly_json)\n",
      "   2016/3    0.002    0.000    0.004    0.001 copy.py:128(deepcopy)\n",
      "     1493    0.000    0.000    0.000    0.000 copy.py:182(_deepcopy_atomic)\n",
      "   391/36    0.001    0.000    0.003    0.000 copy.py:201(_deepcopy_list)\n",
      "    129/2    0.000    0.000    0.004    0.002 copy.py:227(_deepcopy_dict)\n",
      "      523    0.000    0.000    0.000    0.000 copy.py:243(_keep_alive)\n",
      "        1    0.000    0.000    0.004    0.004 {built-in method builtins.exec}\n",
      "        3    0.000    0.000    0.000    0.000 {built-in method builtins.getattr}\n",
      "     3062    0.000    0.000    0.000    0.000 {built-in method builtins.id}\n",
      "        3    0.000    0.000    0.000    0.000 {built-in method builtins.issubclass}\n",
      "        3    0.000    0.000    0.000    0.000 {method '__deepcopy__' of 'numpy.ndarray' objects}\n",
      "     1631    0.000    0.000    0.000    0.000 {method 'append' of 'list' objects}\n",
      "        1    0.000    0.000    0.000    0.000 {method 'disable' of '_lsprof.Profiler' objects}\n",
      "     4032    0.000    0.000    0.000    0.000 {method 'get' of 'dict' objects}\n",
      "      129    0.000    0.000    0.000    0.000 {method 'items' of 'dict' objects}\n",
      "\n",
      "\n",
      "         13652 function calls (11157 primitive calls) in 0.022 seconds\n",
      "\n",
      "   Ordered by: standard name\n",
      "\n",
      "   ncalls  tottime  percall  cumtime  percall filename:lineno(function)\n",
      "        1    0.000    0.000    0.000    0.000 <frozen codecs>:186(__init__)\n",
      "        1    0.000    0.000    0.000    0.000 <frozen genericpath>:16(exists)\n",
      "        1    0.000    0.000    0.000    0.000 <frozen importlib._bootstrap>:1035(_resolve_name)\n",
      "        1    0.000    0.000    0.000    0.000 <frozen importlib._bootstrap>:1101(_sanity_check)\n",
      "        1    0.000    0.000    0.000    0.000 <frozen importlib._bootstrap>:1165(_find_and_load)\n",
      "        1    0.000    0.000    0.000    0.000 <frozen importlib._bootstrap>:1192(_gcd_import)\n",
      "        1    0.000    0.000    0.001    0.001 <frozen importlib._bootstrap_external>:1127(get_data)\n",
      "        1    0.000    0.000    0.000    0.000 <frozen importlib.util>:73(find_spec)\n",
      "        3    0.000    0.000    0.000    0.000 <frozen ntpath>:107(join)\n",
      "        7    0.000    0.000    0.000    0.000 <frozen ntpath>:154(splitdrive)\n",
      "        1    0.000    0.000    0.000    0.000 <frozen ntpath>:208(split)\n",
      "        1    0.000    0.000    0.000    0.000 <frozen ntpath>:249(dirname)\n",
      "        1    0.000    0.000    0.000    0.000 <frozen ntpath>:35(_get_bothseps)\n",
      "        1    0.000    0.000    0.022    0.022 <string>:1(<module>)\n",
      "        1    0.000    0.000    0.000    0.000 __init__.py:108(import_module)\n",
      "        3    0.000    0.000    0.001    0.000 __init__.py:183(dumps)\n",
      "        1    0.000    0.000    0.011    0.011 _html.py:25(to_html)\n",
      "        1    0.001    0.001    0.021    0.021 _html.py:377(write_html)\n",
      "        2    0.000    0.000    0.000    0.000 _json.py:20(default_engine)\n",
      "        2    0.000    0.000    0.000    0.000 _json.py:70(_safe)\n",
      "        2    0.000    0.000    0.001    0.000 _json.py:78(to_json_plotly)\n",
      "        1    0.000    0.000    0.003    0.003 _utils.py:6(validate_coerce_fig_to_dict)\n",
      "        1    0.000    0.000    0.003    0.003 basedatatypes.py:3285(to_dict)\n",
      "        1    0.000    0.000    0.000    0.000 basedatatypes.py:3308(<listcomp>)\n",
      "        1    0.000    0.000    0.021    0.021 basedatatypes.py:3604(write_html)\n",
      "   2016/3    0.002    0.000    0.003    0.001 copy.py:128(deepcopy)\n",
      "     1493    0.000    0.000    0.000    0.000 copy.py:182(_deepcopy_atomic)\n",
      "   391/36    0.001    0.000    0.003    0.000 copy.py:201(_deepcopy_list)\n",
      "    129/2    0.000    0.000    0.003    0.002 copy.py:227(_deepcopy_dict)\n",
      "      523    0.000    0.000    0.000    0.000 copy.py:243(_keep_alive)\n",
      "        2    0.000    0.000    0.000    0.000 encoder.py:105(__init__)\n",
      "        3    0.000    0.000    0.001    0.000 encoder.py:183(encode)\n",
      "        3    0.000    0.000    0.000    0.000 encoder.py:205(iterencode)\n",
      "        1    0.000    0.000    0.000    0.000 importers.py:23(__getattr__)\n",
      "        1    0.000    0.000    0.000    0.000 offline.py:105(_get_jconfig)\n",
      "        1    0.000    0.000    0.003    0.003 offline.py:41(get_plotlyjs)\n",
      "       19    0.000    0.000    0.000    0.000 optional_imports.py:13(get_module)\n",
      "        1    0.000    0.000    0.001    0.001 pathlib.py:1036(open)\n",
      "        1    0.000    0.000    0.009    0.009 pathlib.py:1070(write_text)\n",
      "        1    0.000    0.000    0.000    0.000 pathlib.py:523(_format_parsed_parts)\n",
      "        1    0.000    0.000    0.000    0.000 pathlib.py:536(__str__)\n",
      "        1    0.000    0.000    0.000    0.000 pathlib.py:546(__fspath__)\n",
      "        1    0.000    0.000    0.001    0.001 pkgutil.py:600(get_data)\n",
      "        1    0.000    0.000    0.000    0.000 tools.py:688(get_config_plotly_server_url)\n",
      "        3    0.000    0.000    0.000    0.000 utils.py:135(encode_as_plotly)\n",
      "        3    0.000    0.000    0.000    0.000 utils.py:143(encode_as_list)\n",
      "        3    0.000    0.000    0.000    0.000 utils.py:151(encode_as_sage)\n",
      "        3    0.000    0.000    0.000    0.000 utils.py:165(encode_as_pandas)\n",
      "        3    0.000    0.000    0.000    0.000 utils.py:181(encode_as_numpy)\n",
      "        3    0.000    0.000    0.000    0.000 utils.py:198(encode_as_datetime)\n",
      "        3    0.000    0.000    0.000    0.000 utils.py:206(encode_as_date)\n",
      "        2    0.000    0.000    0.001    0.000 utils.py:48(encode)\n",
      "        3    0.000    0.000    0.000    0.000 utils.py:85(default)\n",
      "        1    0.000    0.000    0.000    0.000 uuid.py:139(__init__)\n",
      "        1    0.000    0.000    0.000    0.000 uuid.py:280(__str__)\n",
      "        1    0.000    0.000    0.000    0.000 uuid.py:721(uuid4)\n",
      "        1    0.000    0.000    0.022    0.022 {built-in method builtins.exec}\n",
      "        6    0.000    0.000    0.000    0.000 {built-in method builtins.getattr}\n",
      "        8    0.000    0.000    0.000    0.000 {built-in method builtins.hasattr}\n",
      "     3062    0.000    0.000    0.000    0.000 {built-in method builtins.id}\n",
      "       32    0.000    0.000    0.000    0.000 {built-in method builtins.isinstance}\n",
      "        3    0.000    0.000    0.000    0.000 {built-in method builtins.issubclass}\n",
      "       10    0.000    0.000    0.000    0.000 {built-in method builtins.len}\n",
      "        1    0.000    0.000    0.000    0.000 {built-in method from_bytes}\n",
      "        1    0.000    0.000    0.000    0.000 {built-in method io.open_code}\n",
      "        1    0.001    0.001    0.001    0.001 {built-in method io.open}\n",
      "        2    0.000    0.000    0.000    0.000 {built-in method io.text_encoding}\n",
      "       11    0.000    0.000    0.000    0.000 {built-in method nt.fspath}\n",
      "        1    0.000    0.000    0.000    0.000 {built-in method nt.stat}\n",
      "        1    0.000    0.000    0.000    0.000 {built-in method nt.urandom}\n",
      "        3    0.000    0.000    0.000    0.000 {method '__deepcopy__' of 'numpy.ndarray' objects}\n",
      "        2    0.000    0.000    0.000    0.000 {method '__exit__' of '_io._IOBase' objects}\n",
      "     1631    0.000    0.000    0.000    0.000 {method 'append' of 'list' objects}\n",
      "        1    0.000    0.000    0.000    0.000 {method 'count' of 'list' objects}\n",
      "        1    0.002    0.002    0.002    0.002 {method 'decode' of 'bytes' objects}\n",
      "        1    0.000    0.000    0.000    0.000 {method 'disable' of '_lsprof.Profiler' objects}\n",
      "        5    0.004    0.001    0.004    0.001 {method 'format' of 'str' objects}\n",
      "     4048    0.000    0.000    0.000    0.000 {method 'get' of 'dict' objects}\n",
      "        1    0.000    0.000    0.000    0.000 {method 'insert' of 'list' objects}\n",
      "      129    0.000    0.000    0.000    0.000 {method 'items' of 'dict' objects}\n",
      "        5    0.000    0.000    0.000    0.000 {method 'join' of 'str' objects}\n",
      "        3    0.000    0.000    0.000    0.000 {method 'pop' of 'dict' objects}\n",
      "        1    0.001    0.001    0.001    0.001 {method 'read' of '_io.BufferedReader' objects}\n",
      "       13    0.000    0.000    0.000    0.000 {method 'replace' of 'str' objects}\n",
      "        1    0.000    0.000    0.000    0.000 {method 'rsplit' of 'str' objects}\n",
      "        1    0.000    0.000    0.000    0.000 {method 'rstrip' of 'str' objects}\n",
      "        1    0.000    0.000    0.000    0.000 {method 'setdefault' of 'dict' objects}\n",
      "        2    0.000    0.000    0.000    0.000 {method 'split' of 'str' objects}\n",
      "        2    0.000    0.000    0.000    0.000 {method 'startswith' of 'str' objects}\n",
      "        1    0.000    0.000    0.000    0.000 {method 'strip' of 'str' objects}\n",
      "        3    0.000    0.000    0.000    0.000 {method 'tolist' of 'numpy.ndarray' objects}\n",
      "        1    0.008    0.008    0.008    0.008 {method 'write' of '_io.TextIOWrapper' objects}\n",
      "\n",
      "\n",
      "         13629 function calls (11126 primitive calls) in 0.081 seconds\n",
      "\n",
      "   Ordered by: standard name\n",
      "\n",
      "   ncalls  tottime  percall  cumtime  percall filename:lineno(function)\n",
      "        5    0.000    0.000    0.000    0.000 <frozen importlib._bootstrap>:1035(_resolve_name)\n",
      "        5    0.000    0.000    0.000    0.000 <frozen importlib._bootstrap>:1101(_sanity_check)\n",
      "        5    0.000    0.000    0.000    0.000 <frozen importlib._bootstrap>:1165(_find_and_load)\n",
      "        5    0.000    0.000    0.000    0.000 <frozen importlib._bootstrap>:1192(_gcd_import)\n",
      "        1    0.000    0.000    0.000    0.000 <frozen importlib._bootstrap>:1207(_handle_fromlist)\n",
      "        1    0.000    0.000    0.081    0.081 <string>:1(<module>)\n",
      "        5    0.000    0.000    0.000    0.000 __init__.py:108(import_module)\n",
      "        1    0.000    0.000    0.001    0.001 __init__.py:183(dumps)\n",
      "        4    0.000    0.000    0.000    0.000 __init__.py:282(__getattr__)\n",
      "        1    0.000    0.000    0.000    0.000 __init__.py:299(loads)\n",
      "        1    0.000    0.000    0.081    0.081 _kaleido.py:150(write_image)\n",
      "        1    0.000    0.000    0.081    0.081 _kaleido.py:25(to_image)\n",
      "        1    0.000    0.000    0.004    0.004 _utils.py:6(validate_coerce_fig_to_dict)\n",
      "        1    0.000    0.000    0.000    0.000 base.py:153(_ensure_kaleido)\n",
      "        1    0.000    0.000    0.077    0.077 base.py:277(_perform_transform)\n",
      "        1    0.000    0.000    0.000    0.000 base64.py:34(_bytes_from_decode_data)\n",
      "        1    0.000    0.000    0.000    0.000 base64.py:65(b64decode)\n",
      "        1    0.000    0.000    0.004    0.004 basedatatypes.py:3285(to_dict)\n",
      "        1    0.000    0.000    0.000    0.000 basedatatypes.py:3308(<listcomp>)\n",
      "        1    0.000    0.000    0.081    0.081 basedatatypes.py:3780(write_image)\n",
      "   2016/3    0.002    0.000    0.004    0.001 copy.py:128(deepcopy)\n",
      "     1493    0.000    0.000    0.000    0.000 copy.py:182(_deepcopy_atomic)\n",
      "   391/36    0.001    0.000    0.003    0.000 copy.py:201(_deepcopy_list)\n",
      "    129/2    0.000    0.000    0.004    0.002 copy.py:227(_deepcopy_dict)\n",
      "      523    0.000    0.000    0.000    0.000 copy.py:243(_keep_alive)\n",
      "        1    0.000    0.000    0.000    0.000 decoder.py:332(decode)\n",
      "        1    0.000    0.000    0.000    0.000 decoder.py:343(raw_decode)\n",
      "        1    0.000    0.000    0.000    0.000 encoder.py:105(__init__)\n",
      "        1    0.000    0.000    0.001    0.001 encoder.py:183(encode)\n",
      "        1    0.000    0.000    0.000    0.000 encoder.py:205(iterencode)\n",
      "      5/3    0.000    0.000    0.000    0.000 importers.py:23(__getattr__)\n",
      "        9    0.000    0.000    0.000    0.000 optional_imports.py:13(get_module)\n",
      "        1    0.000    0.000    0.000    0.000 pathlib.py:1036(open)\n",
      "        1    0.000    0.000    0.000    0.000 pathlib.py:1061(write_bytes)\n",
      "        1    0.000    0.000    0.000    0.000 pathlib.py:523(_format_parsed_parts)\n",
      "        1    0.000    0.000    0.000    0.000 pathlib.py:536(__str__)\n",
      "        1    0.000    0.000    0.000    0.000 pathlib.py:546(__fspath__)\n",
      "        1    0.000    0.000    0.000    0.000 pathlib.py:622(name)\n",
      "        1    0.000    0.000    0.000    0.000 pathlib.py:630(suffix)\n",
      "        1    0.000    0.000    0.077    0.077 plotly.py:38(transform)\n",
      "        1    0.000    0.000    0.000    0.000 subprocess.py:1233(poll)\n",
      "        1    0.000    0.000    0.000    0.000 subprocess.py:1563(_internal_poll)\n",
      "        3    0.000    0.000    0.000    0.000 utils.py:135(encode_as_plotly)\n",
      "        3    0.000    0.000    0.000    0.000 utils.py:143(encode_as_list)\n",
      "        3    0.000    0.000    0.000    0.000 utils.py:151(encode_as_sage)\n",
      "        3    0.000    0.000    0.000    0.000 utils.py:165(encode_as_pandas)\n",
      "        3    0.000    0.000    0.000    0.000 utils.py:181(encode_as_numpy)\n",
      "        3    0.000    0.000    0.000    0.000 utils.py:198(encode_as_datetime)\n",
      "        3    0.000    0.000    0.000    0.000 utils.py:206(encode_as_date)\n",
      "        1    0.000    0.000    0.001    0.001 utils.py:48(encode)\n",
      "        3    0.000    0.000    0.000    0.000 utils.py:85(default)\n",
      "        1    0.000    0.000    0.000    0.000 {built-in method _winapi.WaitForSingleObject}\n",
      "        1    0.000    0.000    0.000    0.000 {built-in method binascii.a2b_base64}\n",
      "        1    0.000    0.000    0.081    0.081 {built-in method builtins.exec}\n",
      "    18/12    0.000    0.000    0.000    0.000 {built-in method builtins.getattr}\n",
      "        7    0.000    0.000    0.000    0.000 {built-in method builtins.hasattr}\n",
      "     3062    0.000    0.000    0.000    0.000 {built-in method builtins.id}\n",
      "       23    0.000    0.000    0.000    0.000 {built-in method builtins.isinstance}\n",
      "        3    0.000    0.000    0.000    0.000 {built-in method builtins.issubclass}\n",
      "        8    0.000    0.000    0.000    0.000 {built-in method builtins.len}\n",
      "        1    0.000    0.000    0.000    0.000 {built-in method io.open}\n",
      "        3    0.000    0.000    0.000    0.000 {method '__deepcopy__' of 'numpy.ndarray' objects}\n",
      "        1    0.000    0.000    0.000    0.000 {method '__exit__' of '_io._IOBase' objects}\n",
      "        1    0.000    0.000    0.000    0.000 {method '__exit__' of '_thread.lock' objects}\n",
      "     1631    0.000    0.000    0.000    0.000 {method 'append' of 'list' objects}\n",
      "        1    0.000    0.000    0.000    0.000 {method 'decode' of 'bytes' objects}\n",
      "        1    0.000    0.000    0.000    0.000 {method 'disable' of '_lsprof.Profiler' objects}\n",
      "        3    0.000    0.000    0.000    0.000 {method 'encode' of 'str' objects}\n",
      "        2    0.000    0.000    0.000    0.000 {method 'end' of 're.Match' objects}\n",
      "        1    0.000    0.000    0.000    0.000 {method 'flush' of '_io.BufferedWriter' objects}\n",
      "        5    0.000    0.000    0.000    0.000 {method 'format' of 'str' objects}\n",
      "     4042    0.000    0.000    0.000    0.000 {method 'get' of 'dict' objects}\n",
      "      129    0.000    0.000    0.000    0.000 {method 'items' of 'dict' objects}\n",
      "        7    0.000    0.000    0.000    0.000 {method 'join' of 'str' objects}\n",
      "        1    0.000    0.000    0.000    0.000 {method 'lower' of 'str' objects}\n",
      "        1    0.000    0.000    0.000    0.000 {method 'lstrip' of 'str' objects}\n",
      "        2    0.000    0.000    0.000    0.000 {method 'match' of 're.Pattern' objects}\n",
      "        1    0.076    0.076    0.076    0.076 {method 'readline' of '_io.BufferedReader' objects}\n",
      "        1    0.000    0.000    0.000    0.000 {method 'rfind' of 'str' objects}\n",
      "        5    0.000    0.000    0.000    0.000 {method 'rsplit' of 'str' objects}\n",
      "        5    0.000    0.000    0.000    0.000 {method 'split' of 'str' objects}\n",
      "        6    0.000    0.000    0.000    0.000 {method 'startswith' of 'str' objects}\n",
      "        3    0.000    0.000    0.000    0.000 {method 'tolist' of 'numpy.ndarray' objects}\n",
      "        3    0.000    0.000    0.000    0.000 {method 'write' of '_io.BufferedWriter' objects}\n",
      "\n",
      "\n"
     ]
    }
   ],
   "source": [
    "if generate:\n",
    "    image_dir = working_dir / \"images\"\n",
    "    cProfile.run(\"figHeat.figure.to_plotly_json()\")\n",
    "\n",
    "    html_file = working_dir / \"images\" / \"plot_heatmap.html\"\n",
    "    cProfile.run(\"figHeat.figure.write_html(html_file)\")\n",
    "\n",
    "    png_file = working_dir / \"images\" / \"plot_heatmap.png\"\n",
    "    cProfile.run(\"figHeat.figure.write_image(png_file, engine='kaleido')\")"
   ]
  },
  {
   "cell_type": "markdown",
   "metadata": {},
   "source": [
    "## Subplots"
   ]
  },
  {
   "cell_type": "markdown",
   "metadata": {},
   "source": [
    "### 2D"
   ]
  },
  {
   "cell_type": "code",
   "execution_count": 213,
   "metadata": {},
   "outputs": [
    {
     "data": {
      "text/html": [
       "        <script type=\"text/javascript\">\n",
       "        window.PlotlyConfig = {MathJaxConfig: 'local'};\n",
       "        if (window.MathJax && window.MathJax.Hub && window.MathJax.Hub.Config) {window.MathJax.Hub.Config({SVG: {font: \"STIX-Web\"}});}\n",
       "        if (typeof require !== 'undefined') {\n",
       "        require.undef(\"plotly\");\n",
       "        requirejs.config({\n",
       "            paths: {\n",
       "                'plotly': ['https://cdn.plot.ly/plotly-2.29.1.min']\n",
       "            }\n",
       "        });\n",
       "        require(['plotly'], function(Plotly) {\n",
       "            window._Plotly = Plotly;\n",
       "        });\n",
       "        }\n",
       "        </script>\n",
       "        "
      ]
     },
     "metadata": {},
     "output_type": "display_data"
    },
    {
     "data": {
      "text/html": [
       "<div>                            <div id=\"cbdfe92c-5864-47d8-868f-4677696be3c1\" class=\"plotly-graph-div\" style=\"height:500px; width:650px;\"></div>            <script type=\"text/javascript\">                require([\"plotly\"], function(Plotly) {                    window.PLOTLYENV=window.PLOTLYENV || {};                                    if (document.getElementById(\"cbdfe92c-5864-47d8-868f-4677696be3c1\")) {                    Plotly.newPlot(                        \"cbdfe92c-5864-47d8-868f-4677696be3c1\",                        [{\"connectgaps\":true,\"legendgroup\":\"1-1\",\"legendgrouptitle\":{\"text\":\"Group 1\"},\"line\":{\"dash\":\"solid\",\"width\":2},\"marker\":{\"size\":5,\"symbol\":\"circle\"},\"mode\":\"lines\",\"showlegend\":true,\"x\":[0,1,2,3,4,5],\"y\":[0.1,0.11,0.12,0.13,0.14,0.15],\"type\":\"scatter\",\"xaxis\":\"x\",\"yaxis\":\"y\"},{\"connectgaps\":true,\"legendgroup\":\"2-1\",\"legendgrouptitle\":{\"text\":\"Group 2\"},\"line\":{\"dash\":\"solid\",\"width\":2},\"marker\":{\"size\":5,\"symbol\":\"circle\"},\"mode\":\"lines\",\"showlegend\":true,\"x\":[0,1,2,3,4,5],\"y\":[10,20,30,40,50,60],\"type\":\"scatter\",\"xaxis\":\"x2\",\"yaxis\":\"y2\"},{\"connectgaps\":true,\"legendgroup\":\"3-1\",\"legendgrouptitle\":{\"text\":\"Group 3\"},\"line\":{\"dash\":\"dash\",\"width\":2},\"marker\":{\"size\":5,\"symbol\":\"circle\"},\"mode\":\"lines\",\"showlegend\":true,\"x\":[0,1,2,3,4,5],\"y\":[1,2,3,4,5,6],\"type\":\"scatter\",\"xaxis\":\"x3\",\"yaxis\":\"y3\"}],                        {\"template\":{\"data\":{\"histogram2dcontour\":[{\"type\":\"histogram2dcontour\",\"colorbar\":{\"outlinewidth\":1,\"ticks\":\"outside\",\"tickcolor\":\"rgb(36,36,36)\"},\"colorscale\":[[0.0,\"#440154\"],[0.1111111111111111,\"#482878\"],[0.2222222222222222,\"#3e4989\"],[0.3333333333333333,\"#31688e\"],[0.4444444444444444,\"#26828e\"],[0.5555555555555556,\"#1f9e89\"],[0.6666666666666666,\"#35b779\"],[0.7777777777777778,\"#6ece58\"],[0.8888888888888888,\"#b5de2b\"],[1.0,\"#fde725\"]]}],\"choropleth\":[{\"type\":\"choropleth\",\"colorbar\":{\"outlinewidth\":1,\"ticks\":\"outside\",\"tickcolor\":\"rgb(36,36,36)\"}}],\"histogram2d\":[{\"type\":\"histogram2d\",\"colorbar\":{\"outlinewidth\":1,\"ticks\":\"outside\",\"tickcolor\":\"rgb(36,36,36)\"},\"colorscale\":[[0.0,\"#440154\"],[0.1111111111111111,\"#482878\"],[0.2222222222222222,\"#3e4989\"],[0.3333333333333333,\"#31688e\"],[0.4444444444444444,\"#26828e\"],[0.5555555555555556,\"#1f9e89\"],[0.6666666666666666,\"#35b779\"],[0.7777777777777778,\"#6ece58\"],[0.8888888888888888,\"#b5de2b\"],[1.0,\"#fde725\"]]}],\"heatmap\":[{\"type\":\"heatmap\",\"colorbar\":{\"outlinewidth\":1,\"ticks\":\"outside\",\"tickcolor\":\"rgb(36,36,36)\"},\"colorscale\":[[0.0,\"#440154\"],[0.1111111111111111,\"#482878\"],[0.2222222222222222,\"#3e4989\"],[0.3333333333333333,\"#31688e\"],[0.4444444444444444,\"#26828e\"],[0.5555555555555556,\"#1f9e89\"],[0.6666666666666666,\"#35b779\"],[0.7777777777777778,\"#6ece58\"],[0.8888888888888888,\"#b5de2b\"],[1.0,\"#fde725\"]]}],\"heatmapgl\":[{\"type\":\"heatmapgl\",\"colorbar\":{\"outlinewidth\":1,\"ticks\":\"outside\",\"tickcolor\":\"rgb(36,36,36)\"},\"colorscale\":[[0.0,\"#440154\"],[0.1111111111111111,\"#482878\"],[0.2222222222222222,\"#3e4989\"],[0.3333333333333333,\"#31688e\"],[0.4444444444444444,\"#26828e\"],[0.5555555555555556,\"#1f9e89\"],[0.6666666666666666,\"#35b779\"],[0.7777777777777778,\"#6ece58\"],[0.8888888888888888,\"#b5de2b\"],[1.0,\"#fde725\"]]}],\"contourcarpet\":[{\"type\":\"contourcarpet\",\"colorbar\":{\"outlinewidth\":1,\"ticks\":\"outside\",\"tickcolor\":\"rgb(36,36,36)\"}}],\"contour\":[{\"type\":\"contour\",\"colorbar\":{\"outlinewidth\":1,\"ticks\":\"outside\",\"tickcolor\":\"rgb(36,36,36)\"},\"colorscale\":[[0.0,\"#440154\"],[0.1111111111111111,\"#482878\"],[0.2222222222222222,\"#3e4989\"],[0.3333333333333333,\"#31688e\"],[0.4444444444444444,\"#26828e\"],[0.5555555555555556,\"#1f9e89\"],[0.6666666666666666,\"#35b779\"],[0.7777777777777778,\"#6ece58\"],[0.8888888888888888,\"#b5de2b\"],[1.0,\"#fde725\"]]}],\"surface\":[{\"type\":\"surface\",\"colorbar\":{\"outlinewidth\":1,\"ticks\":\"outside\",\"tickcolor\":\"rgb(36,36,36)\"},\"colorscale\":[[0.0,\"#440154\"],[0.1111111111111111,\"#482878\"],[0.2222222222222222,\"#3e4989\"],[0.3333333333333333,\"#31688e\"],[0.4444444444444444,\"#26828e\"],[0.5555555555555556,\"#1f9e89\"],[0.6666666666666666,\"#35b779\"],[0.7777777777777778,\"#6ece58\"],[0.8888888888888888,\"#b5de2b\"],[1.0,\"#fde725\"]]}],\"mesh3d\":[{\"type\":\"mesh3d\",\"colorbar\":{\"outlinewidth\":1,\"ticks\":\"outside\",\"tickcolor\":\"rgb(36,36,36)\"}}],\"scatter\":[{\"fillpattern\":{\"fillmode\":\"overlay\",\"size\":10,\"solidity\":0.2},\"type\":\"scatter\"}],\"parcoords\":[{\"type\":\"parcoords\",\"line\":{\"colorbar\":{\"outlinewidth\":1,\"ticks\":\"outside\",\"tickcolor\":\"rgb(36,36,36)\"}}}],\"scatterpolargl\":[{\"type\":\"scatterpolargl\",\"marker\":{\"colorbar\":{\"outlinewidth\":1,\"ticks\":\"outside\",\"tickcolor\":\"rgb(36,36,36)\"}}}],\"bar\":[{\"error_x\":{\"color\":\"rgb(36,36,36)\"},\"error_y\":{\"color\":\"rgb(36,36,36)\"},\"marker\":{\"line\":{\"color\":\"white\",\"width\":0.5},\"pattern\":{\"fillmode\":\"overlay\",\"size\":10,\"solidity\":0.2}},\"type\":\"bar\"}],\"scattergeo\":[{\"type\":\"scattergeo\",\"marker\":{\"colorbar\":{\"outlinewidth\":1,\"ticks\":\"outside\",\"tickcolor\":\"rgb(36,36,36)\"}}}],\"scatterpolar\":[{\"type\":\"scatterpolar\",\"marker\":{\"colorbar\":{\"outlinewidth\":1,\"ticks\":\"outside\",\"tickcolor\":\"rgb(36,36,36)\"}}}],\"histogram\":[{\"marker\":{\"pattern\":{\"fillmode\":\"overlay\",\"size\":10,\"solidity\":0.2},\"line\":{\"color\":\"white\",\"width\":0.6}},\"type\":\"histogram\"}],\"scattergl\":[{\"type\":\"scattergl\",\"marker\":{\"colorbar\":{\"outlinewidth\":1,\"ticks\":\"outside\",\"tickcolor\":\"rgb(36,36,36)\"}}}],\"scatter3d\":[{\"type\":\"scatter3d\",\"line\":{\"colorbar\":{\"outlinewidth\":1,\"ticks\":\"outside\",\"tickcolor\":\"rgb(36,36,36)\"}},\"marker\":{\"colorbar\":{\"outlinewidth\":1,\"ticks\":\"outside\",\"tickcolor\":\"rgb(36,36,36)\"}}}],\"scattermapbox\":[{\"type\":\"scattermapbox\",\"marker\":{\"colorbar\":{\"outlinewidth\":1,\"ticks\":\"outside\",\"tickcolor\":\"rgb(36,36,36)\"}}}],\"scatterternary\":[{\"type\":\"scatterternary\",\"marker\":{\"colorbar\":{\"outlinewidth\":1,\"ticks\":\"outside\",\"tickcolor\":\"rgb(36,36,36)\"}}}],\"scattercarpet\":[{\"type\":\"scattercarpet\",\"marker\":{\"colorbar\":{\"outlinewidth\":1,\"ticks\":\"outside\",\"tickcolor\":\"rgb(36,36,36)\"}}}],\"carpet\":[{\"aaxis\":{\"endlinecolor\":\"rgb(36,36,36)\",\"gridcolor\":\"white\",\"linecolor\":\"white\",\"minorgridcolor\":\"white\",\"startlinecolor\":\"rgb(36,36,36)\"},\"baxis\":{\"endlinecolor\":\"rgb(36,36,36)\",\"gridcolor\":\"white\",\"linecolor\":\"white\",\"minorgridcolor\":\"white\",\"startlinecolor\":\"rgb(36,36,36)\"},\"type\":\"carpet\"}],\"table\":[{\"cells\":{\"fill\":{\"color\":\"rgb(237,237,237)\"},\"line\":{\"color\":\"white\"}},\"header\":{\"fill\":{\"color\":\"rgb(217,217,217)\"},\"line\":{\"color\":\"white\"}},\"type\":\"table\"}],\"barpolar\":[{\"marker\":{\"line\":{\"color\":\"white\",\"width\":0.5},\"pattern\":{\"fillmode\":\"overlay\",\"size\":10,\"solidity\":0.2}},\"type\":\"barpolar\"}],\"pie\":[{\"automargin\":true,\"type\":\"pie\"}]},\"layout\":{\"autotypenumbers\":\"strict\",\"colorway\":[\"#1F77B4\",\"#FF7F0E\",\"#2CA02C\",\"#D62728\",\"#9467BD\",\"#8C564B\",\"#E377C2\",\"#7F7F7F\",\"#BCBD22\",\"#17BECF\"],\"font\":{\"color\":\"rgb(36,36,36)\"},\"hovermode\":\"closest\",\"hoverlabel\":{\"align\":\"left\"},\"paper_bgcolor\":\"white\",\"plot_bgcolor\":\"white\",\"polar\":{\"bgcolor\":\"white\",\"angularaxis\":{\"gridcolor\":\"rgb(232,232,232)\",\"linecolor\":\"rgb(36,36,36)\",\"ticks\":\"outside\",\"showgrid\":false,\"showline\":true},\"radialaxis\":{\"gridcolor\":\"rgb(232,232,232)\",\"linecolor\":\"rgb(36,36,36)\",\"ticks\":\"outside\",\"showgrid\":false,\"showline\":true}},\"ternary\":{\"bgcolor\":\"white\",\"aaxis\":{\"gridcolor\":\"rgb(232,232,232)\",\"linecolor\":\"rgb(36,36,36)\",\"ticks\":\"outside\",\"showgrid\":false,\"showline\":true},\"baxis\":{\"gridcolor\":\"rgb(232,232,232)\",\"linecolor\":\"rgb(36,36,36)\",\"ticks\":\"outside\",\"showgrid\":false,\"showline\":true},\"caxis\":{\"gridcolor\":\"rgb(232,232,232)\",\"linecolor\":\"rgb(36,36,36)\",\"ticks\":\"outside\",\"showgrid\":false,\"showline\":true}},\"coloraxis\":{\"colorbar\":{\"outlinewidth\":1,\"ticks\":\"outside\",\"tickcolor\":\"rgb(36,36,36)\"}},\"colorscale\":{\"sequential\":[[0.0,\"#440154\"],[0.1111111111111111,\"#482878\"],[0.2222222222222222,\"#3e4989\"],[0.3333333333333333,\"#31688e\"],[0.4444444444444444,\"#26828e\"],[0.5555555555555556,\"#1f9e89\"],[0.6666666666666666,\"#35b779\"],[0.7777777777777778,\"#6ece58\"],[0.8888888888888888,\"#b5de2b\"],[1.0,\"#fde725\"]],\"sequentialminus\":[[0.0,\"#440154\"],[0.1111111111111111,\"#482878\"],[0.2222222222222222,\"#3e4989\"],[0.3333333333333333,\"#31688e\"],[0.4444444444444444,\"#26828e\"],[0.5555555555555556,\"#1f9e89\"],[0.6666666666666666,\"#35b779\"],[0.7777777777777778,\"#6ece58\"],[0.8888888888888888,\"#b5de2b\"],[1.0,\"#fde725\"]],\"diverging\":[[0.0,\"rgb(103,0,31)\"],[0.1,\"rgb(178,24,43)\"],[0.2,\"rgb(214,96,77)\"],[0.3,\"rgb(244,165,130)\"],[0.4,\"rgb(253,219,199)\"],[0.5,\"rgb(247,247,247)\"],[0.6,\"rgb(209,229,240)\"],[0.7,\"rgb(146,197,222)\"],[0.8,\"rgb(67,147,195)\"],[0.9,\"rgb(33,102,172)\"],[1.0,\"rgb(5,48,97)\"]]},\"xaxis\":{\"gridcolor\":\"rgb(232,232,232)\",\"linecolor\":\"rgb(36,36,36)\",\"ticks\":\"outside\",\"title\":{\"standoff\":15},\"zerolinecolor\":\"rgb(36,36,36)\",\"automargin\":true,\"zerolinewidth\":2,\"showgrid\":false,\"showline\":true,\"zeroline\":false},\"yaxis\":{\"gridcolor\":\"rgb(232,232,232)\",\"linecolor\":\"rgb(36,36,36)\",\"ticks\":\"outside\",\"title\":{\"standoff\":15},\"zerolinecolor\":\"rgb(36,36,36)\",\"automargin\":true,\"zerolinewidth\":2,\"showgrid\":false,\"showline\":true,\"zeroline\":false},\"scene\":{\"xaxis\":{\"backgroundcolor\":\"white\",\"gridcolor\":\"rgb(232,232,232)\",\"linecolor\":\"rgb(36,36,36)\",\"showbackground\":true,\"ticks\":\"outside\",\"zerolinecolor\":\"rgb(36,36,36)\",\"gridwidth\":2,\"showgrid\":false,\"showline\":true,\"zeroline\":false},\"yaxis\":{\"backgroundcolor\":\"white\",\"gridcolor\":\"rgb(232,232,232)\",\"linecolor\":\"rgb(36,36,36)\",\"showbackground\":true,\"ticks\":\"outside\",\"zerolinecolor\":\"rgb(36,36,36)\",\"gridwidth\":2,\"showgrid\":false,\"showline\":true,\"zeroline\":false},\"zaxis\":{\"backgroundcolor\":\"white\",\"gridcolor\":\"rgb(232,232,232)\",\"linecolor\":\"rgb(36,36,36)\",\"showbackground\":true,\"ticks\":\"outside\",\"zerolinecolor\":\"rgb(36,36,36)\",\"gridwidth\":2,\"showgrid\":false,\"showline\":true,\"zeroline\":false}},\"shapedefaults\":{\"line\":{\"color\":\"#2a3f5f\",\"width\":0},\"fillcolor\":\"black\",\"opacity\":0.3},\"annotationdefaults\":{\"arrowcolor\":\"#2a3f5f\",\"arrowhead\":0,\"arrowwidth\":1},\"geo\":{\"bgcolor\":\"white\",\"landcolor\":\"white\",\"subunitcolor\":\"white\",\"showland\":true,\"showlakes\":true,\"lakecolor\":\"white\"},\"title\":{\"x\":0.05},\"mapbox\":{\"style\":\"light\"}}},\"xaxis\":{\"anchor\":\"y\",\"domain\":[0.0,1.0],\"title\":{\"font\":{\"size\":12},\"standoff\":1},\"showgrid\":true,\"linecolor\":\"black\",\"linewidth\":1,\"mirror\":true,\"tickmode\":\"auto\",\"tickvals\":[1,3,5,7,9,11],\"ticktext\":[\"One\",\"Three\",\"Five\",\"Seven\",\"Nine\",\"Eleven\"]},\"yaxis\":{\"anchor\":\"x\",\"domain\":[0.72,1.0],\"title\":{\"font\":{\"size\":12},\"text\":\"Position\",\"standoff\":8},\"showgrid\":true,\"linecolor\":\"black\",\"linewidth\":1,\"mirror\":true,\"tickmode\":\"auto\",\"tickvals\":[1,3,5,7,9,11],\"ticktext\":[\"One\",\"Three\",\"Five\",\"Seven\",\"Nine\",\"Eleven\"]},\"xaxis2\":{\"anchor\":\"y2\",\"domain\":[0.0,1.0],\"title\":{\"font\":{\"size\":12},\"standoff\":1},\"showgrid\":true,\"linecolor\":\"black\",\"linewidth\":1,\"mirror\":true,\"tickmode\":\"auto\",\"tickvals\":[1,3,5,7,9,11],\"ticktext\":[\"One\",\"Three\",\"Five\",\"Seven\",\"Nine\",\"Eleven\"]},\"yaxis2\":{\"anchor\":\"x2\",\"domain\":[0.36,0.6399999999999999],\"title\":{\"font\":{\"size\":12},\"text\":\"Position\",\"standoff\":8},\"showgrid\":true,\"linecolor\":\"black\",\"linewidth\":1,\"mirror\":true,\"tickmode\":\"array\",\"tickvals\":[20,40,50],\"ticktext\":[\"Tweny\",\"Forty\",\"Fifty\"]},\"xaxis3\":{\"anchor\":\"y3\",\"domain\":[0.0,1.0],\"title\":{\"font\":{\"size\":12},\"text\":\"Time (s)\",\"standoff\":1},\"showgrid\":true,\"linecolor\":\"black\",\"linewidth\":1,\"mirror\":true,\"tickmode\":\"array\",\"tickvals\":[1,3,5,7,9,11],\"ticktext\":[\"One\",\"Three\",\"Five\",\"Seven\",\"Nine\",\"Eleven\"]},\"yaxis3\":{\"anchor\":\"x3\",\"domain\":[0.0,0.27999999999999997],\"title\":{\"font\":{\"size\":12},\"text\":\"Position\",\"standoff\":8},\"showgrid\":true,\"linecolor\":\"black\",\"linewidth\":1,\"mirror\":true,\"tickmode\":\"auto\",\"tickvals\":[1,3,5,7,9,11],\"ticktext\":[\"One\",\"Three\",\"Five\",\"Seven\",\"Nine\",\"Eleven\"]},\"annotations\":[{\"font\":{\"size\":16},\"showarrow\":false,\"text\":\"Subplot 1\",\"x\":0.5,\"xanchor\":\"center\",\"xref\":\"paper\",\"y\":1.0,\"yanchor\":\"bottom\",\"yref\":\"paper\"},{\"font\":{\"size\":16},\"showarrow\":false,\"text\":\"Subplot 2\",\"x\":0.5,\"xanchor\":\"center\",\"xref\":\"paper\",\"y\":0.6399999999999999,\"yanchor\":\"bottom\",\"yref\":\"paper\"},{\"font\":{\"size\":16},\"showarrow\":false,\"text\":\"Subplot 3\",\"x\":0.5,\"xanchor\":\"center\",\"xref\":\"paper\",\"y\":0.27999999999999997,\"yanchor\":\"bottom\",\"yref\":\"paper\"},{\"font\":{\"size\":10},\"showarrow\":false,\"text\":\"\\u003cb\\u003eUNCLASSIFIED\\u002f\\u002fFOUO\\u003c\\u002fb\\u003e\",\"visible\":false,\"x\":1,\"xanchor\":\"right\",\"xref\":\"paper\",\"xshift\":65,\"y\":0,\"yanchor\":\"bottom\",\"yref\":\"paper\",\"yshift\":-70},{\"showarrow\":false,\"text\":\"Miss distance 20.10 m\",\"x\":-0.01,\"xref\":\"paper\",\"y\":-0.13,\"yref\":\"paper\"},{\"showarrow\":false,\"text\":\"Missile Info: MSL_1\",\"x\":1.01,\"xref\":\"paper\",\"y\":-0.13,\"yref\":\"paper\"}],\"legend\":{\"title\":{\"text\":\"Legend\"}},\"margin\":{\"b\":60,\"l\":20,\"r\":1,\"t\":30},\"title\":{\"font\":{\"size\":13},\"text\":\"\\u003cb\\u003e\\u003c\\u002fb\\u003e\",\"x\":0.5,\"xanchor\":\"center\",\"yanchor\":\"top\"},\"height\":500,\"width\":650},                        {\"responsive\": true}                    ).then(function(){\n",
       "                            \n",
       "var gd = document.getElementById('cbdfe92c-5864-47d8-868f-4677696be3c1');\n",
       "var x = new MutationObserver(function (mutations, observer) {{\n",
       "        var display = window.getComputedStyle(gd).display;\n",
       "        if (!display || display === 'none') {{\n",
       "            console.log([gd, 'removed!']);\n",
       "            Plotly.purge(gd);\n",
       "            observer.disconnect();\n",
       "        }}\n",
       "}});\n",
       "\n",
       "// Listen for the removal of the full notebook cells\n",
       "var notebookContainer = gd.closest('#notebook-container');\n",
       "if (notebookContainer) {{\n",
       "    x.observe(notebookContainer, {childList: true});\n",
       "}}\n",
       "\n",
       "// Listen for the clearing of the current output cell\n",
       "var outputEl = gd.closest('.output');\n",
       "if (outputEl) {{\n",
       "    x.observe(outputEl, {childList: true});\n",
       "}}\n",
       "\n",
       "                        })                };                });            </script>        </div>"
      ]
     },
     "metadata": {},
     "output_type": "display_data"
    }
   ],
   "source": [
    "# Variables\n",
    "id = \"subplot_2d\"\n",
    "\n",
    "subplots2d = Subplots(templates[id], data[id])\n",
    "\n",
    "if render_plots:\n",
    "    subplots2d.show_plot(\"notebook_connected\")"
   ]
  },
  {
   "cell_type": "code",
   "execution_count": 214,
   "metadata": {},
   "outputs": [
    {
     "name": "stdout",
     "output_type": "stream",
     "text": [
      "         9184 function calls (7461 primitive calls) in 0.003 seconds\n",
      "\n",
      "   Ordered by: standard name\n",
      "\n",
      "   ncalls  tottime  percall  cumtime  percall filename:lineno(function)\n",
      "        1    0.000    0.000    0.003    0.003 <string>:1(<module>)\n",
      "        1    0.000    0.000    0.002    0.002 basedatatypes.py:3285(to_dict)\n",
      "        1    0.000    0.000    0.000    0.000 basedatatypes.py:3308(<listcomp>)\n",
      "        1    0.000    0.000    0.002    0.002 basedatatypes.py:3315(to_plotly_json)\n",
      "   1484/3    0.001    0.000    0.002    0.001 copy.py:128(deepcopy)\n",
      "     1182    0.000    0.000    0.000    0.000 copy.py:182(_deepcopy_atomic)\n",
      "   147/50    0.000    0.000    0.002    0.000 copy.py:201(_deepcopy_list)\n",
      "    149/4    0.000    0.000    0.002    0.001 copy.py:227(_deepcopy_dict)\n",
      "      302    0.000    0.000    0.000    0.000 copy.py:243(_keep_alive)\n",
      "        1    0.000    0.000    0.003    0.003 {built-in method builtins.exec}\n",
      "        6    0.000    0.000    0.000    0.000 {built-in method builtins.getattr}\n",
      "     2085    0.000    0.000    0.000    0.000 {built-in method builtins.id}\n",
      "        6    0.000    0.000    0.000    0.000 {built-in method builtins.issubclass}\n",
      "        6    0.000    0.000    0.000    0.000 {method '__deepcopy__' of 'numpy.ndarray' objects}\n",
      "      694    0.000    0.000    0.000    0.000 {method 'append' of 'list' objects}\n",
      "        1    0.000    0.000    0.000    0.000 {method 'disable' of '_lsprof.Profiler' objects}\n",
      "     2968    0.000    0.000    0.000    0.000 {method 'get' of 'dict' objects}\n",
      "      149    0.000    0.000    0.000    0.000 {method 'items' of 'dict' objects}\n",
      "\n",
      "\n",
      "         9457 function calls (7734 primitive calls) in 0.021 seconds\n",
      "\n",
      "   Ordered by: standard name\n",
      "\n",
      "   ncalls  tottime  percall  cumtime  percall filename:lineno(function)\n",
      "        1    0.000    0.000    0.000    0.000 <frozen codecs>:186(__init__)\n",
      "        1    0.000    0.000    0.000    0.000 <frozen genericpath>:16(exists)\n",
      "        1    0.000    0.000    0.000    0.000 <frozen importlib._bootstrap>:1035(_resolve_name)\n",
      "        1    0.000    0.000    0.000    0.000 <frozen importlib._bootstrap>:1101(_sanity_check)\n",
      "        1    0.000    0.000    0.000    0.000 <frozen importlib._bootstrap>:1165(_find_and_load)\n",
      "        1    0.000    0.000    0.000    0.000 <frozen importlib._bootstrap>:1192(_gcd_import)\n",
      "        1    0.000    0.000    0.001    0.001 <frozen importlib._bootstrap_external>:1127(get_data)\n",
      "        1    0.000    0.000    0.000    0.000 <frozen importlib.util>:73(find_spec)\n",
      "        3    0.000    0.000    0.000    0.000 <frozen ntpath>:107(join)\n",
      "        7    0.000    0.000    0.000    0.000 <frozen ntpath>:154(splitdrive)\n",
      "        1    0.000    0.000    0.000    0.000 <frozen ntpath>:208(split)\n",
      "        1    0.000    0.000    0.000    0.000 <frozen ntpath>:249(dirname)\n",
      "        1    0.000    0.000    0.000    0.000 <frozen ntpath>:35(_get_bothseps)\n",
      "        1    0.000    0.000    0.021    0.021 <string>:1(<module>)\n",
      "        1    0.000    0.000    0.000    0.000 __init__.py:108(import_module)\n",
      "        3    0.000    0.000    0.000    0.000 __init__.py:183(dumps)\n",
      "        1    0.000    0.000    0.011    0.011 _html.py:25(to_html)\n",
      "        1    0.001    0.001    0.021    0.021 _html.py:377(write_html)\n",
      "        2    0.000    0.000    0.000    0.000 _json.py:20(default_engine)\n",
      "        2    0.000    0.000    0.000    0.000 _json.py:70(_safe)\n",
      "        2    0.000    0.000    0.000    0.000 _json.py:78(to_json_plotly)\n",
      "        1    0.000    0.000    0.003    0.003 _utils.py:6(validate_coerce_fig_to_dict)\n",
      "        1    0.000    0.000    0.003    0.003 basedatatypes.py:3285(to_dict)\n",
      "        1    0.000    0.000    0.000    0.000 basedatatypes.py:3308(<listcomp>)\n",
      "        1    0.000    0.000    0.021    0.021 basedatatypes.py:3604(write_html)\n",
      "   1484/3    0.001    0.000    0.003    0.001 copy.py:128(deepcopy)\n",
      "     1182    0.000    0.000    0.000    0.000 copy.py:182(_deepcopy_atomic)\n",
      "   147/50    0.000    0.000    0.002    0.000 copy.py:201(_deepcopy_list)\n",
      "    149/4    0.000    0.000    0.003    0.001 copy.py:227(_deepcopy_dict)\n",
      "      302    0.000    0.000    0.000    0.000 copy.py:243(_keep_alive)\n",
      "        2    0.000    0.000    0.000    0.000 encoder.py:105(__init__)\n",
      "        3    0.000    0.000    0.000    0.000 encoder.py:183(encode)\n",
      "        3    0.000    0.000    0.000    0.000 encoder.py:205(iterencode)\n",
      "        1    0.000    0.000    0.000    0.000 importers.py:23(__getattr__)\n",
      "        1    0.000    0.000    0.000    0.000 offline.py:105(_get_jconfig)\n",
      "        1    0.000    0.000    0.003    0.003 offline.py:41(get_plotlyjs)\n",
      "       28    0.000    0.000    0.000    0.000 optional_imports.py:13(get_module)\n",
      "        1    0.000    0.000    0.001    0.001 pathlib.py:1036(open)\n",
      "        1    0.000    0.000    0.010    0.010 pathlib.py:1070(write_text)\n",
      "        1    0.000    0.000    0.000    0.000 pathlib.py:523(_format_parsed_parts)\n",
      "        1    0.000    0.000    0.000    0.000 pathlib.py:536(__str__)\n",
      "        1    0.000    0.000    0.000    0.000 pathlib.py:546(__fspath__)\n",
      "        1    0.000    0.000    0.001    0.001 pkgutil.py:600(get_data)\n",
      "        1    0.000    0.000    0.000    0.000 tools.py:688(get_config_plotly_server_url)\n",
      "        6    0.000    0.000    0.000    0.000 utils.py:135(encode_as_plotly)\n",
      "        6    0.000    0.000    0.000    0.000 utils.py:143(encode_as_list)\n",
      "        6    0.000    0.000    0.000    0.000 utils.py:151(encode_as_sage)\n",
      "        6    0.000    0.000    0.000    0.000 utils.py:165(encode_as_pandas)\n",
      "        6    0.000    0.000    0.000    0.000 utils.py:181(encode_as_numpy)\n",
      "        6    0.000    0.000    0.000    0.000 utils.py:198(encode_as_datetime)\n",
      "        6    0.000    0.000    0.000    0.000 utils.py:206(encode_as_date)\n",
      "        2    0.000    0.000    0.000    0.000 utils.py:48(encode)\n",
      "        6    0.000    0.000    0.000    0.000 utils.py:85(default)\n",
      "        1    0.000    0.000    0.000    0.000 uuid.py:139(__init__)\n",
      "        1    0.000    0.000    0.000    0.000 uuid.py:280(__str__)\n",
      "        1    0.000    0.000    0.000    0.000 uuid.py:721(uuid4)\n",
      "        1    0.000    0.000    0.021    0.021 {built-in method builtins.exec}\n",
      "        9    0.000    0.000    0.000    0.000 {built-in method builtins.getattr}\n",
      "       14    0.000    0.000    0.000    0.000 {built-in method builtins.hasattr}\n",
      "     2085    0.000    0.000    0.000    0.000 {built-in method builtins.id}\n",
      "       35    0.000    0.000    0.000    0.000 {built-in method builtins.isinstance}\n",
      "        6    0.000    0.000    0.000    0.000 {built-in method builtins.issubclass}\n",
      "       10    0.000    0.000    0.000    0.000 {built-in method builtins.len}\n",
      "        1    0.000    0.000    0.000    0.000 {built-in method from_bytes}\n",
      "        1    0.000    0.000    0.000    0.000 {built-in method io.open_code}\n",
      "        1    0.001    0.001    0.001    0.001 {built-in method io.open}\n",
      "        2    0.000    0.000    0.000    0.000 {built-in method io.text_encoding}\n",
      "       11    0.000    0.000    0.000    0.000 {built-in method nt.fspath}\n",
      "        1    0.000    0.000    0.000    0.000 {built-in method nt.stat}\n",
      "        1    0.000    0.000    0.000    0.000 {built-in method nt.urandom}\n",
      "        6    0.000    0.000    0.000    0.000 {method '__deepcopy__' of 'numpy.ndarray' objects}\n",
      "        2    0.000    0.000    0.000    0.000 {method '__exit__' of '_io._IOBase' objects}\n",
      "      694    0.000    0.000    0.000    0.000 {method 'append' of 'list' objects}\n",
      "        1    0.000    0.000    0.000    0.000 {method 'count' of 'list' objects}\n",
      "        1    0.002    0.002    0.002    0.002 {method 'decode' of 'bytes' objects}\n",
      "        1    0.000    0.000    0.000    0.000 {method 'disable' of '_lsprof.Profiler' objects}\n",
      "        5    0.004    0.001    0.004    0.001 {method 'format' of 'str' objects}\n",
      "     2984    0.000    0.000    0.000    0.000 {method 'get' of 'dict' objects}\n",
      "        1    0.000    0.000    0.000    0.000 {method 'insert' of 'list' objects}\n",
      "      149    0.000    0.000    0.000    0.000 {method 'items' of 'dict' objects}\n",
      "        5    0.000    0.000    0.000    0.000 {method 'join' of 'str' objects}\n",
      "        3    0.000    0.000    0.000    0.000 {method 'pop' of 'dict' objects}\n",
      "        1    0.001    0.001    0.001    0.001 {method 'read' of '_io.BufferedReader' objects}\n",
      "       10    0.000    0.000    0.000    0.000 {method 'replace' of 'str' objects}\n",
      "        1    0.000    0.000    0.000    0.000 {method 'rsplit' of 'str' objects}\n",
      "        1    0.000    0.000    0.000    0.000 {method 'rstrip' of 'str' objects}\n",
      "        1    0.000    0.000    0.000    0.000 {method 'setdefault' of 'dict' objects}\n",
      "        2    0.000    0.000    0.000    0.000 {method 'split' of 'str' objects}\n",
      "        2    0.000    0.000    0.000    0.000 {method 'startswith' of 'str' objects}\n",
      "        1    0.000    0.000    0.000    0.000 {method 'strip' of 'str' objects}\n",
      "        6    0.000    0.000    0.000    0.000 {method 'tolist' of 'numpy.ndarray' objects}\n",
      "        1    0.009    0.009    0.009    0.009 {method 'write' of '_io.TextIOWrapper' objects}\n",
      "\n",
      "\n",
      "         9437 function calls (7706 primitive calls) in 0.078 seconds\n",
      "\n",
      "   Ordered by: standard name\n",
      "\n",
      "   ncalls  tottime  percall  cumtime  percall filename:lineno(function)\n",
      "        5    0.000    0.000    0.000    0.000 <frozen importlib._bootstrap>:1035(_resolve_name)\n",
      "        5    0.000    0.000    0.000    0.000 <frozen importlib._bootstrap>:1101(_sanity_check)\n",
      "        5    0.000    0.000    0.000    0.000 <frozen importlib._bootstrap>:1165(_find_and_load)\n",
      "        5    0.000    0.000    0.000    0.000 <frozen importlib._bootstrap>:1192(_gcd_import)\n",
      "        1    0.000    0.000    0.000    0.000 <frozen importlib._bootstrap>:1207(_handle_fromlist)\n",
      "        1    0.000    0.000    0.078    0.078 <string>:1(<module>)\n",
      "        5    0.000    0.000    0.000    0.000 __init__.py:108(import_module)\n",
      "        1    0.000    0.000    0.000    0.000 __init__.py:183(dumps)\n",
      "        4    0.000    0.000    0.000    0.000 __init__.py:282(__getattr__)\n",
      "        1    0.000    0.000    0.000    0.000 __init__.py:299(loads)\n",
      "        1    0.000    0.000    0.078    0.078 _kaleido.py:150(write_image)\n",
      "        1    0.000    0.000    0.078    0.078 _kaleido.py:25(to_image)\n",
      "        1    0.000    0.000    0.002    0.002 _utils.py:6(validate_coerce_fig_to_dict)\n",
      "        1    0.000    0.000    0.000    0.000 base.py:153(_ensure_kaleido)\n",
      "        1    0.000    0.000    0.075    0.075 base.py:277(_perform_transform)\n",
      "        1    0.000    0.000    0.000    0.000 base64.py:34(_bytes_from_decode_data)\n",
      "        1    0.000    0.000    0.000    0.000 base64.py:65(b64decode)\n",
      "        1    0.000    0.000    0.002    0.002 basedatatypes.py:3285(to_dict)\n",
      "        1    0.000    0.000    0.000    0.000 basedatatypes.py:3308(<listcomp>)\n",
      "        1    0.000    0.000    0.078    0.078 basedatatypes.py:3780(write_image)\n",
      "   1484/3    0.001    0.000    0.002    0.001 copy.py:128(deepcopy)\n",
      "     1182    0.000    0.000    0.000    0.000 copy.py:182(_deepcopy_atomic)\n",
      "   147/50    0.000    0.000    0.002    0.000 copy.py:201(_deepcopy_list)\n",
      "    149/4    0.000    0.000    0.002    0.001 copy.py:227(_deepcopy_dict)\n",
      "      302    0.000    0.000    0.000    0.000 copy.py:243(_keep_alive)\n",
      "        1    0.000    0.000    0.000    0.000 decoder.py:332(decode)\n",
      "        1    0.000    0.000    0.000    0.000 decoder.py:343(raw_decode)\n",
      "        1    0.000    0.000    0.000    0.000 encoder.py:105(__init__)\n",
      "        1    0.000    0.000    0.000    0.000 encoder.py:183(encode)\n",
      "        1    0.000    0.000    0.000    0.000 encoder.py:205(iterencode)\n",
      "      5/3    0.000    0.000    0.000    0.000 importers.py:23(__getattr__)\n",
      "       18    0.000    0.000    0.000    0.000 optional_imports.py:13(get_module)\n",
      "        1    0.000    0.000    0.000    0.000 pathlib.py:1036(open)\n",
      "        1    0.000    0.000    0.000    0.000 pathlib.py:1061(write_bytes)\n",
      "        1    0.000    0.000    0.000    0.000 pathlib.py:523(_format_parsed_parts)\n",
      "        1    0.000    0.000    0.000    0.000 pathlib.py:536(__str__)\n",
      "        1    0.000    0.000    0.000    0.000 pathlib.py:546(__fspath__)\n",
      "        1    0.000    0.000    0.000    0.000 pathlib.py:622(name)\n",
      "        1    0.000    0.000    0.000    0.000 pathlib.py:630(suffix)\n",
      "        1    0.000    0.000    0.075    0.075 plotly.py:38(transform)\n",
      "        1    0.000    0.000    0.000    0.000 subprocess.py:1233(poll)\n",
      "        1    0.000    0.000    0.000    0.000 subprocess.py:1563(_internal_poll)\n",
      "        6    0.000    0.000    0.000    0.000 utils.py:135(encode_as_plotly)\n",
      "        6    0.000    0.000    0.000    0.000 utils.py:143(encode_as_list)\n",
      "        6    0.000    0.000    0.000    0.000 utils.py:151(encode_as_sage)\n",
      "        6    0.000    0.000    0.000    0.000 utils.py:165(encode_as_pandas)\n",
      "        6    0.000    0.000    0.000    0.000 utils.py:181(encode_as_numpy)\n",
      "        6    0.000    0.000    0.000    0.000 utils.py:198(encode_as_datetime)\n",
      "        6    0.000    0.000    0.000    0.000 utils.py:206(encode_as_date)\n",
      "        1    0.000    0.000    0.000    0.000 utils.py:48(encode)\n",
      "        6    0.000    0.000    0.000    0.000 utils.py:85(default)\n",
      "        1    0.000    0.000    0.000    0.000 {built-in method _winapi.WaitForSingleObject}\n",
      "        1    0.000    0.000    0.000    0.000 {built-in method binascii.a2b_base64}\n",
      "        1    0.000    0.000    0.078    0.078 {built-in method builtins.exec}\n",
      "    21/15    0.000    0.000    0.000    0.000 {built-in method builtins.getattr}\n",
      "       13    0.000    0.000    0.000    0.000 {built-in method builtins.hasattr}\n",
      "     2085    0.000    0.000    0.000    0.000 {built-in method builtins.id}\n",
      "       26    0.000    0.000    0.000    0.000 {built-in method builtins.isinstance}\n",
      "        6    0.000    0.000    0.000    0.000 {built-in method builtins.issubclass}\n",
      "        8    0.000    0.000    0.000    0.000 {built-in method builtins.len}\n",
      "        1    0.000    0.000    0.000    0.000 {built-in method io.open}\n",
      "        6    0.000    0.000    0.000    0.000 {method '__deepcopy__' of 'numpy.ndarray' objects}\n",
      "        1    0.000    0.000    0.000    0.000 {method '__exit__' of '_io._IOBase' objects}\n",
      "        1    0.000    0.000    0.000    0.000 {method '__exit__' of '_thread.lock' objects}\n",
      "      694    0.000    0.000    0.000    0.000 {method 'append' of 'list' objects}\n",
      "        1    0.000    0.000    0.000    0.000 {method 'decode' of 'bytes' objects}\n",
      "        1    0.000    0.000    0.000    0.000 {method 'disable' of '_lsprof.Profiler' objects}\n",
      "        3    0.000    0.000    0.000    0.000 {method 'encode' of 'str' objects}\n",
      "        2    0.000    0.000    0.000    0.000 {method 'end' of 're.Match' objects}\n",
      "        1    0.000    0.000    0.000    0.000 {method 'flush' of '_io.BufferedWriter' objects}\n",
      "        5    0.000    0.000    0.000    0.000 {method 'format' of 'str' objects}\n",
      "     2978    0.000    0.000    0.000    0.000 {method 'get' of 'dict' objects}\n",
      "      149    0.000    0.000    0.000    0.000 {method 'items' of 'dict' objects}\n",
      "        7    0.000    0.000    0.000    0.000 {method 'join' of 'str' objects}\n",
      "        1    0.000    0.000    0.000    0.000 {method 'lower' of 'str' objects}\n",
      "        1    0.000    0.000    0.000    0.000 {method 'lstrip' of 'str' objects}\n",
      "        2    0.000    0.000    0.000    0.000 {method 'match' of 're.Pattern' objects}\n",
      "        1    0.074    0.074    0.074    0.074 {method 'readline' of '_io.BufferedReader' objects}\n",
      "        1    0.000    0.000    0.000    0.000 {method 'rfind' of 'str' objects}\n",
      "        5    0.000    0.000    0.000    0.000 {method 'rsplit' of 'str' objects}\n",
      "        5    0.000    0.000    0.000    0.000 {method 'split' of 'str' objects}\n",
      "        6    0.000    0.000    0.000    0.000 {method 'startswith' of 'str' objects}\n",
      "        6    0.000    0.000    0.000    0.000 {method 'tolist' of 'numpy.ndarray' objects}\n",
      "        3    0.000    0.000    0.000    0.000 {method 'write' of '_io.BufferedWriter' objects}\n",
      "\n",
      "\n"
     ]
    }
   ],
   "source": [
    "if generate:\n",
    "    image_dir = working_dir / \"images\"\n",
    "    cProfile.run(\"subplots2d.figure.to_plotly_json()\")\n",
    "\n",
    "    html_file = working_dir / \"images\" / \"subplot_2d.html\"\n",
    "    cProfile.run(\"subplots2d.figure.write_html(html_file)\")\n",
    "\n",
    "    png_file = working_dir / \"images\" / \"subplot_2d.png\"\n",
    "    cProfile.run(\"subplots2d.figure.write_image(png_file, engine='kaleido')\")"
   ]
  },
  {
   "cell_type": "markdown",
   "metadata": {},
   "source": [
    "### 2D Multiple Traces"
   ]
  },
  {
   "cell_type": "code",
   "execution_count": 215,
   "metadata": {},
   "outputs": [
    {
     "data": {
      "text/html": [
       "        <script type=\"text/javascript\">\n",
       "        window.PlotlyConfig = {MathJaxConfig: 'local'};\n",
       "        if (window.MathJax && window.MathJax.Hub && window.MathJax.Hub.Config) {window.MathJax.Hub.Config({SVG: {font: \"STIX-Web\"}});}\n",
       "        if (typeof require !== 'undefined') {\n",
       "        require.undef(\"plotly\");\n",
       "        requirejs.config({\n",
       "            paths: {\n",
       "                'plotly': ['https://cdn.plot.ly/plotly-2.29.1.min']\n",
       "            }\n",
       "        });\n",
       "        require(['plotly'], function(Plotly) {\n",
       "            window._Plotly = Plotly;\n",
       "        });\n",
       "        }\n",
       "        </script>\n",
       "        "
      ]
     },
     "metadata": {},
     "output_type": "display_data"
    },
    {
     "data": {
      "text/html": [
       "<div>                            <div id=\"0ea68a78-4c80-44b8-be43-1b527e499604\" class=\"plotly-graph-div\" style=\"height:500px; width:650px;\"></div>            <script type=\"text/javascript\">                require([\"plotly\"], function(Plotly) {                    window.PLOTLYENV=window.PLOTLYENV || {};                                    if (document.getElementById(\"0ea68a78-4c80-44b8-be43-1b527e499604\")) {                    Plotly.newPlot(                        \"0ea68a78-4c80-44b8-be43-1b527e499604\",                        [{\"connectgaps\":true,\"legendgroup\":\"1-1\",\"legendgrouptitle\":{\"text\":\"Group 1\"},\"line\":{\"dash\":\"solid\",\"width\":2},\"marker\":{\"size\":5,\"symbol\":\"circle\"},\"mode\":\"lines\",\"showlegend\":true,\"x\":[0,1,2,3,4,5],\"y\":[0.1,0.11,0.12,0.13,0.14,0.15],\"type\":\"scatter\",\"xaxis\":\"x\",\"yaxis\":\"y\"},{\"connectgaps\":true,\"legendgroup\":\"2-1\",\"legendgrouptitle\":{\"text\":\"Group 2\"},\"line\":{\"dash\":\"solid\",\"width\":2},\"marker\":{\"size\":5,\"symbol\":\"circle\"},\"mode\":\"lines\",\"showlegend\":true,\"x\":[0,1,2,3,4,5],\"y\":[10,20,30,40,50,60],\"type\":\"scatter\",\"xaxis\":\"x2\",\"yaxis\":\"y2\"},{\"connectgaps\":true,\"legendgroup\":\"2-1\",\"legendgrouptitle\":{\"text\":\"Group 2\"},\"line\":{\"dash\":\"dash\",\"width\":2},\"marker\":{\"size\":5,\"symbol\":\"circle\"},\"mode\":\"lines\",\"showlegend\":true,\"x\":[0,1,2,3,4,5],\"y\":[1,2,3,4,5,6],\"type\":\"scatter\",\"xaxis\":\"x2\",\"yaxis\":\"y2\"}],                        {\"template\":{\"data\":{\"histogram2dcontour\":[{\"type\":\"histogram2dcontour\",\"colorbar\":{\"outlinewidth\":1,\"ticks\":\"outside\",\"tickcolor\":\"rgb(36,36,36)\"},\"colorscale\":[[0.0,\"#440154\"],[0.1111111111111111,\"#482878\"],[0.2222222222222222,\"#3e4989\"],[0.3333333333333333,\"#31688e\"],[0.4444444444444444,\"#26828e\"],[0.5555555555555556,\"#1f9e89\"],[0.6666666666666666,\"#35b779\"],[0.7777777777777778,\"#6ece58\"],[0.8888888888888888,\"#b5de2b\"],[1.0,\"#fde725\"]]}],\"choropleth\":[{\"type\":\"choropleth\",\"colorbar\":{\"outlinewidth\":1,\"ticks\":\"outside\",\"tickcolor\":\"rgb(36,36,36)\"}}],\"histogram2d\":[{\"type\":\"histogram2d\",\"colorbar\":{\"outlinewidth\":1,\"ticks\":\"outside\",\"tickcolor\":\"rgb(36,36,36)\"},\"colorscale\":[[0.0,\"#440154\"],[0.1111111111111111,\"#482878\"],[0.2222222222222222,\"#3e4989\"],[0.3333333333333333,\"#31688e\"],[0.4444444444444444,\"#26828e\"],[0.5555555555555556,\"#1f9e89\"],[0.6666666666666666,\"#35b779\"],[0.7777777777777778,\"#6ece58\"],[0.8888888888888888,\"#b5de2b\"],[1.0,\"#fde725\"]]}],\"heatmap\":[{\"type\":\"heatmap\",\"colorbar\":{\"outlinewidth\":1,\"ticks\":\"outside\",\"tickcolor\":\"rgb(36,36,36)\"},\"colorscale\":[[0.0,\"#440154\"],[0.1111111111111111,\"#482878\"],[0.2222222222222222,\"#3e4989\"],[0.3333333333333333,\"#31688e\"],[0.4444444444444444,\"#26828e\"],[0.5555555555555556,\"#1f9e89\"],[0.6666666666666666,\"#35b779\"],[0.7777777777777778,\"#6ece58\"],[0.8888888888888888,\"#b5de2b\"],[1.0,\"#fde725\"]]}],\"heatmapgl\":[{\"type\":\"heatmapgl\",\"colorbar\":{\"outlinewidth\":1,\"ticks\":\"outside\",\"tickcolor\":\"rgb(36,36,36)\"},\"colorscale\":[[0.0,\"#440154\"],[0.1111111111111111,\"#482878\"],[0.2222222222222222,\"#3e4989\"],[0.3333333333333333,\"#31688e\"],[0.4444444444444444,\"#26828e\"],[0.5555555555555556,\"#1f9e89\"],[0.6666666666666666,\"#35b779\"],[0.7777777777777778,\"#6ece58\"],[0.8888888888888888,\"#b5de2b\"],[1.0,\"#fde725\"]]}],\"contourcarpet\":[{\"type\":\"contourcarpet\",\"colorbar\":{\"outlinewidth\":1,\"ticks\":\"outside\",\"tickcolor\":\"rgb(36,36,36)\"}}],\"contour\":[{\"type\":\"contour\",\"colorbar\":{\"outlinewidth\":1,\"ticks\":\"outside\",\"tickcolor\":\"rgb(36,36,36)\"},\"colorscale\":[[0.0,\"#440154\"],[0.1111111111111111,\"#482878\"],[0.2222222222222222,\"#3e4989\"],[0.3333333333333333,\"#31688e\"],[0.4444444444444444,\"#26828e\"],[0.5555555555555556,\"#1f9e89\"],[0.6666666666666666,\"#35b779\"],[0.7777777777777778,\"#6ece58\"],[0.8888888888888888,\"#b5de2b\"],[1.0,\"#fde725\"]]}],\"surface\":[{\"type\":\"surface\",\"colorbar\":{\"outlinewidth\":1,\"ticks\":\"outside\",\"tickcolor\":\"rgb(36,36,36)\"},\"colorscale\":[[0.0,\"#440154\"],[0.1111111111111111,\"#482878\"],[0.2222222222222222,\"#3e4989\"],[0.3333333333333333,\"#31688e\"],[0.4444444444444444,\"#26828e\"],[0.5555555555555556,\"#1f9e89\"],[0.6666666666666666,\"#35b779\"],[0.7777777777777778,\"#6ece58\"],[0.8888888888888888,\"#b5de2b\"],[1.0,\"#fde725\"]]}],\"mesh3d\":[{\"type\":\"mesh3d\",\"colorbar\":{\"outlinewidth\":1,\"ticks\":\"outside\",\"tickcolor\":\"rgb(36,36,36)\"}}],\"scatter\":[{\"fillpattern\":{\"fillmode\":\"overlay\",\"size\":10,\"solidity\":0.2},\"type\":\"scatter\"}],\"parcoords\":[{\"type\":\"parcoords\",\"line\":{\"colorbar\":{\"outlinewidth\":1,\"ticks\":\"outside\",\"tickcolor\":\"rgb(36,36,36)\"}}}],\"scatterpolargl\":[{\"type\":\"scatterpolargl\",\"marker\":{\"colorbar\":{\"outlinewidth\":1,\"ticks\":\"outside\",\"tickcolor\":\"rgb(36,36,36)\"}}}],\"bar\":[{\"error_x\":{\"color\":\"rgb(36,36,36)\"},\"error_y\":{\"color\":\"rgb(36,36,36)\"},\"marker\":{\"line\":{\"color\":\"white\",\"width\":0.5},\"pattern\":{\"fillmode\":\"overlay\",\"size\":10,\"solidity\":0.2}},\"type\":\"bar\"}],\"scattergeo\":[{\"type\":\"scattergeo\",\"marker\":{\"colorbar\":{\"outlinewidth\":1,\"ticks\":\"outside\",\"tickcolor\":\"rgb(36,36,36)\"}}}],\"scatterpolar\":[{\"type\":\"scatterpolar\",\"marker\":{\"colorbar\":{\"outlinewidth\":1,\"ticks\":\"outside\",\"tickcolor\":\"rgb(36,36,36)\"}}}],\"histogram\":[{\"marker\":{\"pattern\":{\"fillmode\":\"overlay\",\"size\":10,\"solidity\":0.2},\"line\":{\"color\":\"white\",\"width\":0.6}},\"type\":\"histogram\"}],\"scattergl\":[{\"type\":\"scattergl\",\"marker\":{\"colorbar\":{\"outlinewidth\":1,\"ticks\":\"outside\",\"tickcolor\":\"rgb(36,36,36)\"}}}],\"scatter3d\":[{\"type\":\"scatter3d\",\"line\":{\"colorbar\":{\"outlinewidth\":1,\"ticks\":\"outside\",\"tickcolor\":\"rgb(36,36,36)\"}},\"marker\":{\"colorbar\":{\"outlinewidth\":1,\"ticks\":\"outside\",\"tickcolor\":\"rgb(36,36,36)\"}}}],\"scattermapbox\":[{\"type\":\"scattermapbox\",\"marker\":{\"colorbar\":{\"outlinewidth\":1,\"ticks\":\"outside\",\"tickcolor\":\"rgb(36,36,36)\"}}}],\"scatterternary\":[{\"type\":\"scatterternary\",\"marker\":{\"colorbar\":{\"outlinewidth\":1,\"ticks\":\"outside\",\"tickcolor\":\"rgb(36,36,36)\"}}}],\"scattercarpet\":[{\"type\":\"scattercarpet\",\"marker\":{\"colorbar\":{\"outlinewidth\":1,\"ticks\":\"outside\",\"tickcolor\":\"rgb(36,36,36)\"}}}],\"carpet\":[{\"aaxis\":{\"endlinecolor\":\"rgb(36,36,36)\",\"gridcolor\":\"white\",\"linecolor\":\"white\",\"minorgridcolor\":\"white\",\"startlinecolor\":\"rgb(36,36,36)\"},\"baxis\":{\"endlinecolor\":\"rgb(36,36,36)\",\"gridcolor\":\"white\",\"linecolor\":\"white\",\"minorgridcolor\":\"white\",\"startlinecolor\":\"rgb(36,36,36)\"},\"type\":\"carpet\"}],\"table\":[{\"cells\":{\"fill\":{\"color\":\"rgb(237,237,237)\"},\"line\":{\"color\":\"white\"}},\"header\":{\"fill\":{\"color\":\"rgb(217,217,217)\"},\"line\":{\"color\":\"white\"}},\"type\":\"table\"}],\"barpolar\":[{\"marker\":{\"line\":{\"color\":\"white\",\"width\":0.5},\"pattern\":{\"fillmode\":\"overlay\",\"size\":10,\"solidity\":0.2}},\"type\":\"barpolar\"}],\"pie\":[{\"automargin\":true,\"type\":\"pie\"}]},\"layout\":{\"autotypenumbers\":\"strict\",\"colorway\":[\"#1F77B4\",\"#FF7F0E\",\"#2CA02C\",\"#D62728\",\"#9467BD\",\"#8C564B\",\"#E377C2\",\"#7F7F7F\",\"#BCBD22\",\"#17BECF\"],\"font\":{\"color\":\"rgb(36,36,36)\"},\"hovermode\":\"closest\",\"hoverlabel\":{\"align\":\"left\"},\"paper_bgcolor\":\"white\",\"plot_bgcolor\":\"white\",\"polar\":{\"bgcolor\":\"white\",\"angularaxis\":{\"gridcolor\":\"rgb(232,232,232)\",\"linecolor\":\"rgb(36,36,36)\",\"ticks\":\"outside\",\"showgrid\":false,\"showline\":true},\"radialaxis\":{\"gridcolor\":\"rgb(232,232,232)\",\"linecolor\":\"rgb(36,36,36)\",\"ticks\":\"outside\",\"showgrid\":false,\"showline\":true}},\"ternary\":{\"bgcolor\":\"white\",\"aaxis\":{\"gridcolor\":\"rgb(232,232,232)\",\"linecolor\":\"rgb(36,36,36)\",\"ticks\":\"outside\",\"showgrid\":false,\"showline\":true},\"baxis\":{\"gridcolor\":\"rgb(232,232,232)\",\"linecolor\":\"rgb(36,36,36)\",\"ticks\":\"outside\",\"showgrid\":false,\"showline\":true},\"caxis\":{\"gridcolor\":\"rgb(232,232,232)\",\"linecolor\":\"rgb(36,36,36)\",\"ticks\":\"outside\",\"showgrid\":false,\"showline\":true}},\"coloraxis\":{\"colorbar\":{\"outlinewidth\":1,\"ticks\":\"outside\",\"tickcolor\":\"rgb(36,36,36)\"}},\"colorscale\":{\"sequential\":[[0.0,\"#440154\"],[0.1111111111111111,\"#482878\"],[0.2222222222222222,\"#3e4989\"],[0.3333333333333333,\"#31688e\"],[0.4444444444444444,\"#26828e\"],[0.5555555555555556,\"#1f9e89\"],[0.6666666666666666,\"#35b779\"],[0.7777777777777778,\"#6ece58\"],[0.8888888888888888,\"#b5de2b\"],[1.0,\"#fde725\"]],\"sequentialminus\":[[0.0,\"#440154\"],[0.1111111111111111,\"#482878\"],[0.2222222222222222,\"#3e4989\"],[0.3333333333333333,\"#31688e\"],[0.4444444444444444,\"#26828e\"],[0.5555555555555556,\"#1f9e89\"],[0.6666666666666666,\"#35b779\"],[0.7777777777777778,\"#6ece58\"],[0.8888888888888888,\"#b5de2b\"],[1.0,\"#fde725\"]],\"diverging\":[[0.0,\"rgb(103,0,31)\"],[0.1,\"rgb(178,24,43)\"],[0.2,\"rgb(214,96,77)\"],[0.3,\"rgb(244,165,130)\"],[0.4,\"rgb(253,219,199)\"],[0.5,\"rgb(247,247,247)\"],[0.6,\"rgb(209,229,240)\"],[0.7,\"rgb(146,197,222)\"],[0.8,\"rgb(67,147,195)\"],[0.9,\"rgb(33,102,172)\"],[1.0,\"rgb(5,48,97)\"]]},\"xaxis\":{\"gridcolor\":\"rgb(232,232,232)\",\"linecolor\":\"rgb(36,36,36)\",\"ticks\":\"outside\",\"title\":{\"standoff\":15},\"zerolinecolor\":\"rgb(36,36,36)\",\"automargin\":true,\"zerolinewidth\":2,\"showgrid\":false,\"showline\":true,\"zeroline\":false},\"yaxis\":{\"gridcolor\":\"rgb(232,232,232)\",\"linecolor\":\"rgb(36,36,36)\",\"ticks\":\"outside\",\"title\":{\"standoff\":15},\"zerolinecolor\":\"rgb(36,36,36)\",\"automargin\":true,\"zerolinewidth\":2,\"showgrid\":false,\"showline\":true,\"zeroline\":false},\"scene\":{\"xaxis\":{\"backgroundcolor\":\"white\",\"gridcolor\":\"rgb(232,232,232)\",\"linecolor\":\"rgb(36,36,36)\",\"showbackground\":true,\"ticks\":\"outside\",\"zerolinecolor\":\"rgb(36,36,36)\",\"gridwidth\":2,\"showgrid\":false,\"showline\":true,\"zeroline\":false},\"yaxis\":{\"backgroundcolor\":\"white\",\"gridcolor\":\"rgb(232,232,232)\",\"linecolor\":\"rgb(36,36,36)\",\"showbackground\":true,\"ticks\":\"outside\",\"zerolinecolor\":\"rgb(36,36,36)\",\"gridwidth\":2,\"showgrid\":false,\"showline\":true,\"zeroline\":false},\"zaxis\":{\"backgroundcolor\":\"white\",\"gridcolor\":\"rgb(232,232,232)\",\"linecolor\":\"rgb(36,36,36)\",\"showbackground\":true,\"ticks\":\"outside\",\"zerolinecolor\":\"rgb(36,36,36)\",\"gridwidth\":2,\"showgrid\":false,\"showline\":true,\"zeroline\":false}},\"shapedefaults\":{\"line\":{\"color\":\"#2a3f5f\",\"width\":0},\"fillcolor\":\"black\",\"opacity\":0.3},\"annotationdefaults\":{\"arrowcolor\":\"#2a3f5f\",\"arrowhead\":0,\"arrowwidth\":1},\"geo\":{\"bgcolor\":\"white\",\"landcolor\":\"white\",\"subunitcolor\":\"white\",\"showland\":true,\"showlakes\":true,\"lakecolor\":\"white\"},\"title\":{\"x\":0.05},\"mapbox\":{\"style\":\"light\"}}},\"xaxis\":{\"anchor\":\"y\",\"domain\":[0.0,1.0],\"title\":{\"font\":{\"size\":12},\"standoff\":1},\"showgrid\":true,\"linecolor\":\"black\",\"linewidth\":1,\"mirror\":true,\"tickmode\":\"auto\",\"tickvals\":[1,3,5,7,9,11],\"ticktext\":[\"One\",\"Three\",\"Five\",\"Seven\",\"Nine\",\"Eleven\"]},\"yaxis\":{\"anchor\":\"x\",\"domain\":[0.54,1.0],\"title\":{\"font\":{\"size\":12},\"text\":\"Position\",\"standoff\":8},\"showgrid\":true,\"linecolor\":\"black\",\"linewidth\":1,\"mirror\":true,\"tickmode\":\"auto\",\"tickvals\":[1,3,5,7,9,11],\"ticktext\":[\"One\",\"Three\",\"Five\",\"Seven\",\"Nine\",\"Eleven\"]},\"xaxis2\":{\"anchor\":\"y2\",\"domain\":[0.0,1.0],\"title\":{\"font\":{\"size\":12},\"standoff\":1},\"showgrid\":true,\"linecolor\":\"black\",\"linewidth\":1,\"mirror\":true,\"tickmode\":\"array\",\"tickvals\":[1,3,5,7,9,11],\"ticktext\":[\"One\",\"Three\",\"Five\",\"Seven\",\"Nine\",\"Eleven\"]},\"yaxis2\":{\"anchor\":\"x2\",\"domain\":[0.0,0.46],\"title\":{\"font\":{\"size\":12},\"text\":\"Position\",\"standoff\":8},\"showgrid\":true,\"linecolor\":\"black\",\"linewidth\":1,\"mirror\":true,\"tickmode\":\"auto\",\"tickvals\":[1,3,5,7,9,11],\"ticktext\":[\"One\",\"Three\",\"Five\",\"Seven\",\"Nine\",\"Eleven\"]},\"annotations\":[{\"font\":{\"size\":16},\"showarrow\":false,\"text\":\"Subplot 1\",\"x\":0.5,\"xanchor\":\"center\",\"xref\":\"paper\",\"y\":1.0,\"yanchor\":\"bottom\",\"yref\":\"paper\"},{\"font\":{\"size\":16},\"showarrow\":false,\"text\":\"Subplot 2\",\"x\":0.5,\"xanchor\":\"center\",\"xref\":\"paper\",\"y\":0.46,\"yanchor\":\"bottom\",\"yref\":\"paper\"},{\"font\":{\"size\":10},\"showarrow\":false,\"text\":\"\\u003cb\\u003eUNCLASSIFIED\\u002f\\u002fFOUO\\u003c\\u002fb\\u003e\",\"visible\":false,\"x\":1,\"xanchor\":\"right\",\"xref\":\"paper\",\"xshift\":65,\"y\":1,\"yanchor\":\"top\",\"yref\":\"paper\",\"yshift\":40},{\"font\":{\"size\":10},\"showarrow\":false,\"text\":\"\\u003cb\\u003eUNCLASSIFIED\\u002f\\u002fFOUO\\u003c\\u002fb\\u003e\",\"visible\":false,\"x\":1,\"xanchor\":\"right\",\"xref\":\"paper\",\"xshift\":65,\"y\":0,\"yanchor\":\"bottom\",\"yref\":\"paper\",\"yshift\":-70},{\"showarrow\":false,\"text\":\"Miss distance 20.10 m\",\"x\":-0.01,\"xref\":\"paper\",\"y\":-0.13,\"yref\":\"paper\"},{\"showarrow\":false,\"text\":\"Missile Info: MSL_1\",\"x\":1.01,\"xref\":\"paper\",\"y\":-0.13,\"yref\":\"paper\"}],\"legend\":{\"title\":{\"text\":\"Legend\"}},\"margin\":{\"b\":60,\"l\":20,\"r\":1,\"t\":30},\"title\":{\"font\":{\"size\":13},\"text\":\"\\u003cb\\u003e\\u003c\\u002fb\\u003e\",\"x\":0.5,\"xanchor\":\"center\",\"yanchor\":\"top\"},\"height\":500,\"width\":650},                        {\"responsive\": true}                    ).then(function(){\n",
       "                            \n",
       "var gd = document.getElementById('0ea68a78-4c80-44b8-be43-1b527e499604');\n",
       "var x = new MutationObserver(function (mutations, observer) {{\n",
       "        var display = window.getComputedStyle(gd).display;\n",
       "        if (!display || display === 'none') {{\n",
       "            console.log([gd, 'removed!']);\n",
       "            Plotly.purge(gd);\n",
       "            observer.disconnect();\n",
       "        }}\n",
       "}});\n",
       "\n",
       "// Listen for the removal of the full notebook cells\n",
       "var notebookContainer = gd.closest('#notebook-container');\n",
       "if (notebookContainer) {{\n",
       "    x.observe(notebookContainer, {childList: true});\n",
       "}}\n",
       "\n",
       "// Listen for the clearing of the current output cell\n",
       "var outputEl = gd.closest('.output');\n",
       "if (outputEl) {{\n",
       "    x.observe(outputEl, {childList: true});\n",
       "}}\n",
       "\n",
       "                        })                };                });            </script>        </div>"
      ]
     },
     "metadata": {},
     "output_type": "display_data"
    }
   ],
   "source": [
    "# Variables\n",
    "id = \"subplot_2d_multiple\"\n",
    "\n",
    "subplots2d_multiple = Subplots(templates[id], data[id])\n",
    "\n",
    "if render_plots:\n",
    "    subplots2d_multiple.show_plot(\"notebook_connected\")"
   ]
  },
  {
   "cell_type": "code",
   "execution_count": 216,
   "metadata": {},
   "outputs": [
    {
     "name": "stdout",
     "output_type": "stream",
     "text": [
      "         8728 function calls (7087 primitive calls) in 0.003 seconds\n",
      "\n",
      "   Ordered by: standard name\n",
      "\n",
      "   ncalls  tottime  percall  cumtime  percall filename:lineno(function)\n",
      "        1    0.000    0.000    0.002    0.002 <string>:1(<module>)\n",
      "        1    0.000    0.000    0.002    0.002 basedatatypes.py:3285(to_dict)\n",
      "        1    0.000    0.000    0.000    0.000 basedatatypes.py:3308(<listcomp>)\n",
      "        1    0.000    0.000    0.002    0.002 basedatatypes.py:3315(to_plotly_json)\n",
      "   1408/3    0.001    0.000    0.002    0.001 copy.py:128(deepcopy)\n",
      "     1118    0.000    0.000    0.000    0.000 copy.py:182(_deepcopy_atomic)\n",
      "   141/44    0.000    0.000    0.002    0.000 copy.py:201(_deepcopy_list)\n",
      "    143/4    0.000    0.000    0.002    0.001 copy.py:227(_deepcopy_dict)\n",
      "      290    0.000    0.000    0.000    0.000 copy.py:243(_keep_alive)\n",
      "        1    0.000    0.000    0.003    0.003 {built-in method builtins.exec}\n",
      "        6    0.000    0.000    0.000    0.000 {built-in method builtins.getattr}\n",
      "     1985    0.000    0.000    0.000    0.000 {built-in method builtins.id}\n",
      "        6    0.000    0.000    0.000    0.000 {built-in method builtins.issubclass}\n",
      "        6    0.000    0.000    0.000    0.000 {method '__deepcopy__' of 'numpy.ndarray' objects}\n",
      "      660    0.000    0.000    0.000    0.000 {method 'append' of 'list' objects}\n",
      "        1    0.000    0.000    0.000    0.000 {method 'disable' of '_lsprof.Profiler' objects}\n",
      "     2816    0.000    0.000    0.000    0.000 {method 'get' of 'dict' objects}\n",
      "      143    0.000    0.000    0.000    0.000 {method 'items' of 'dict' objects}\n",
      "\n",
      "\n",
      "         9001 function calls (7360 primitive calls) in 0.022 seconds\n",
      "\n",
      "   Ordered by: standard name\n",
      "\n",
      "   ncalls  tottime  percall  cumtime  percall filename:lineno(function)\n",
      "        1    0.000    0.000    0.000    0.000 <frozen codecs>:186(__init__)\n",
      "        1    0.000    0.000    0.000    0.000 <frozen genericpath>:16(exists)\n",
      "        1    0.000    0.000    0.000    0.000 <frozen importlib._bootstrap>:1035(_resolve_name)\n",
      "        1    0.000    0.000    0.000    0.000 <frozen importlib._bootstrap>:1101(_sanity_check)\n",
      "        1    0.000    0.000    0.000    0.000 <frozen importlib._bootstrap>:1165(_find_and_load)\n",
      "        1    0.000    0.000    0.000    0.000 <frozen importlib._bootstrap>:1192(_gcd_import)\n",
      "        1    0.000    0.000    0.001    0.001 <frozen importlib._bootstrap_external>:1127(get_data)\n",
      "        1    0.000    0.000    0.000    0.000 <frozen importlib.util>:73(find_spec)\n",
      "        3    0.000    0.000    0.000    0.000 <frozen ntpath>:107(join)\n",
      "        7    0.000    0.000    0.000    0.000 <frozen ntpath>:154(splitdrive)\n",
      "        1    0.000    0.000    0.000    0.000 <frozen ntpath>:208(split)\n",
      "        1    0.000    0.000    0.000    0.000 <frozen ntpath>:249(dirname)\n",
      "        1    0.000    0.000    0.000    0.000 <frozen ntpath>:35(_get_bothseps)\n",
      "        1    0.000    0.000    0.022    0.022 <string>:1(<module>)\n",
      "        1    0.000    0.000    0.000    0.000 __init__.py:108(import_module)\n",
      "        3    0.000    0.000    0.000    0.000 __init__.py:183(dumps)\n",
      "        1    0.000    0.000    0.010    0.010 _html.py:25(to_html)\n",
      "        1    0.001    0.001    0.022    0.022 _html.py:377(write_html)\n",
      "        2    0.000    0.000    0.000    0.000 _json.py:20(default_engine)\n",
      "        2    0.000    0.000    0.000    0.000 _json.py:70(_safe)\n",
      "        2    0.000    0.000    0.000    0.000 _json.py:78(to_json_plotly)\n",
      "        1    0.000    0.000    0.002    0.002 _utils.py:6(validate_coerce_fig_to_dict)\n",
      "        1    0.000    0.000    0.002    0.002 basedatatypes.py:3285(to_dict)\n",
      "        1    0.000    0.000    0.000    0.000 basedatatypes.py:3308(<listcomp>)\n",
      "        1    0.000    0.000    0.022    0.022 basedatatypes.py:3604(write_html)\n",
      "   1408/3    0.001    0.000    0.002    0.001 copy.py:128(deepcopy)\n",
      "     1118    0.000    0.000    0.000    0.000 copy.py:182(_deepcopy_atomic)\n",
      "   141/44    0.000    0.000    0.002    0.000 copy.py:201(_deepcopy_list)\n",
      "    143/4    0.000    0.000    0.002    0.001 copy.py:227(_deepcopy_dict)\n",
      "      290    0.000    0.000    0.000    0.000 copy.py:243(_keep_alive)\n",
      "        2    0.000    0.000    0.000    0.000 encoder.py:105(__init__)\n",
      "        3    0.000    0.000    0.000    0.000 encoder.py:183(encode)\n",
      "        3    0.000    0.000    0.000    0.000 encoder.py:205(iterencode)\n",
      "        1    0.000    0.000    0.000    0.000 importers.py:23(__getattr__)\n",
      "        1    0.000    0.000    0.000    0.000 offline.py:105(_get_jconfig)\n",
      "        1    0.000    0.000    0.003    0.003 offline.py:41(get_plotlyjs)\n",
      "       28    0.000    0.000    0.000    0.000 optional_imports.py:13(get_module)\n",
      "        1    0.000    0.000    0.001    0.001 pathlib.py:1036(open)\n",
      "        1    0.000    0.000    0.011    0.011 pathlib.py:1070(write_text)\n",
      "        1    0.000    0.000    0.000    0.000 pathlib.py:523(_format_parsed_parts)\n",
      "        1    0.000    0.000    0.000    0.000 pathlib.py:536(__str__)\n",
      "        1    0.000    0.000    0.000    0.000 pathlib.py:546(__fspath__)\n",
      "        1    0.000    0.000    0.001    0.001 pkgutil.py:600(get_data)\n",
      "        1    0.000    0.000    0.000    0.000 tools.py:688(get_config_plotly_server_url)\n",
      "        6    0.000    0.000    0.000    0.000 utils.py:135(encode_as_plotly)\n",
      "        6    0.000    0.000    0.000    0.000 utils.py:143(encode_as_list)\n",
      "        6    0.000    0.000    0.000    0.000 utils.py:151(encode_as_sage)\n",
      "        6    0.000    0.000    0.000    0.000 utils.py:165(encode_as_pandas)\n",
      "        6    0.000    0.000    0.000    0.000 utils.py:181(encode_as_numpy)\n",
      "        6    0.000    0.000    0.000    0.000 utils.py:198(encode_as_datetime)\n",
      "        6    0.000    0.000    0.000    0.000 utils.py:206(encode_as_date)\n",
      "        2    0.000    0.000    0.000    0.000 utils.py:48(encode)\n",
      "        6    0.000    0.000    0.000    0.000 utils.py:85(default)\n",
      "        1    0.000    0.000    0.000    0.000 uuid.py:139(__init__)\n",
      "        1    0.000    0.000    0.000    0.000 uuid.py:280(__str__)\n",
      "        1    0.000    0.000    0.000    0.000 uuid.py:721(uuid4)\n",
      "        1    0.000    0.000    0.022    0.022 {built-in method builtins.exec}\n",
      "        9    0.000    0.000    0.000    0.000 {built-in method builtins.getattr}\n",
      "       14    0.000    0.000    0.000    0.000 {built-in method builtins.hasattr}\n",
      "     1985    0.000    0.000    0.000    0.000 {built-in method builtins.id}\n",
      "       35    0.000    0.000    0.000    0.000 {built-in method builtins.isinstance}\n",
      "        6    0.000    0.000    0.000    0.000 {built-in method builtins.issubclass}\n",
      "       10    0.000    0.000    0.000    0.000 {built-in method builtins.len}\n",
      "        1    0.000    0.000    0.000    0.000 {built-in method from_bytes}\n",
      "        1    0.000    0.000    0.000    0.000 {built-in method io.open_code}\n",
      "        1    0.000    0.000    0.001    0.001 {built-in method io.open}\n",
      "        2    0.000    0.000    0.000    0.000 {built-in method io.text_encoding}\n",
      "       11    0.000    0.000    0.000    0.000 {built-in method nt.fspath}\n",
      "        1    0.000    0.000    0.000    0.000 {built-in method nt.stat}\n",
      "        1    0.000    0.000    0.000    0.000 {built-in method nt.urandom}\n",
      "        6    0.000    0.000    0.000    0.000 {method '__deepcopy__' of 'numpy.ndarray' objects}\n",
      "        2    0.000    0.000    0.000    0.000 {method '__exit__' of '_io._IOBase' objects}\n",
      "      660    0.000    0.000    0.000    0.000 {method 'append' of 'list' objects}\n",
      "        1    0.000    0.000    0.000    0.000 {method 'count' of 'list' objects}\n",
      "        1    0.002    0.002    0.002    0.002 {method 'decode' of 'bytes' objects}\n",
      "        1    0.000    0.000    0.000    0.000 {method 'disable' of '_lsprof.Profiler' objects}\n",
      "        5    0.004    0.001    0.004    0.001 {method 'format' of 'str' objects}\n",
      "     2832    0.000    0.000    0.000    0.000 {method 'get' of 'dict' objects}\n",
      "        1    0.000    0.000    0.000    0.000 {method 'insert' of 'list' objects}\n",
      "      143    0.000    0.000    0.000    0.000 {method 'items' of 'dict' objects}\n",
      "        5    0.000    0.000    0.000    0.000 {method 'join' of 'str' objects}\n",
      "        3    0.000    0.000    0.000    0.000 {method 'pop' of 'dict' objects}\n",
      "        1    0.001    0.001    0.001    0.001 {method 'read' of '_io.BufferedReader' objects}\n",
      "       10    0.000    0.000    0.000    0.000 {method 'replace' of 'str' objects}\n",
      "        1    0.000    0.000    0.000    0.000 {method 'rsplit' of 'str' objects}\n",
      "        1    0.000    0.000    0.000    0.000 {method 'rstrip' of 'str' objects}\n",
      "        1    0.000    0.000    0.000    0.000 {method 'setdefault' of 'dict' objects}\n",
      "        2    0.000    0.000    0.000    0.000 {method 'split' of 'str' objects}\n",
      "        2    0.000    0.000    0.000    0.000 {method 'startswith' of 'str' objects}\n",
      "        1    0.000    0.000    0.000    0.000 {method 'strip' of 'str' objects}\n",
      "        6    0.000    0.000    0.000    0.000 {method 'tolist' of 'numpy.ndarray' objects}\n",
      "        1    0.011    0.011    0.011    0.011 {method 'write' of '_io.TextIOWrapper' objects}\n",
      "\n",
      "\n",
      "         8981 function calls (7332 primitive calls) in 0.069 seconds\n",
      "\n",
      "   Ordered by: standard name\n",
      "\n",
      "   ncalls  tottime  percall  cumtime  percall filename:lineno(function)\n",
      "        5    0.000    0.000    0.000    0.000 <frozen importlib._bootstrap>:1035(_resolve_name)\n",
      "        5    0.000    0.000    0.000    0.000 <frozen importlib._bootstrap>:1101(_sanity_check)\n",
      "        5    0.000    0.000    0.000    0.000 <frozen importlib._bootstrap>:1165(_find_and_load)\n",
      "        5    0.000    0.000    0.000    0.000 <frozen importlib._bootstrap>:1192(_gcd_import)\n",
      "        1    0.000    0.000    0.000    0.000 <frozen importlib._bootstrap>:1207(_handle_fromlist)\n",
      "        1    0.000    0.000    0.068    0.068 <string>:1(<module>)\n",
      "        5    0.000    0.000    0.000    0.000 __init__.py:108(import_module)\n",
      "        1    0.000    0.000    0.000    0.000 __init__.py:183(dumps)\n",
      "        4    0.000    0.000    0.000    0.000 __init__.py:282(__getattr__)\n",
      "        1    0.000    0.000    0.000    0.000 __init__.py:299(loads)\n",
      "        1    0.000    0.000    0.068    0.068 _kaleido.py:150(write_image)\n",
      "        1    0.000    0.000    0.068    0.068 _kaleido.py:25(to_image)\n",
      "        1    0.000    0.000    0.003    0.003 _utils.py:6(validate_coerce_fig_to_dict)\n",
      "        1    0.000    0.000    0.000    0.000 base.py:153(_ensure_kaleido)\n",
      "        1    0.000    0.000    0.065    0.065 base.py:277(_perform_transform)\n",
      "        1    0.000    0.000    0.000    0.000 base64.py:34(_bytes_from_decode_data)\n",
      "        1    0.000    0.000    0.000    0.000 base64.py:65(b64decode)\n",
      "        1    0.000    0.000    0.003    0.003 basedatatypes.py:3285(to_dict)\n",
      "        1    0.000    0.000    0.000    0.000 basedatatypes.py:3308(<listcomp>)\n",
      "        1    0.000    0.000    0.068    0.068 basedatatypes.py:3780(write_image)\n",
      "   1408/3    0.002    0.000    0.003    0.001 copy.py:128(deepcopy)\n",
      "     1118    0.000    0.000    0.000    0.000 copy.py:182(_deepcopy_atomic)\n",
      "   141/44    0.000    0.000    0.002    0.000 copy.py:201(_deepcopy_list)\n",
      "    143/4    0.000    0.000    0.003    0.001 copy.py:227(_deepcopy_dict)\n",
      "      290    0.000    0.000    0.000    0.000 copy.py:243(_keep_alive)\n",
      "        1    0.000    0.000    0.000    0.000 decoder.py:332(decode)\n",
      "        1    0.000    0.000    0.000    0.000 decoder.py:343(raw_decode)\n",
      "        1    0.000    0.000    0.000    0.000 encoder.py:105(__init__)\n",
      "        1    0.000    0.000    0.000    0.000 encoder.py:183(encode)\n",
      "        1    0.000    0.000    0.000    0.000 encoder.py:205(iterencode)\n",
      "      5/3    0.000    0.000    0.000    0.000 importers.py:23(__getattr__)\n",
      "       18    0.000    0.000    0.000    0.000 optional_imports.py:13(get_module)\n",
      "        1    0.000    0.000    0.000    0.000 pathlib.py:1036(open)\n",
      "        1    0.000    0.000    0.000    0.000 pathlib.py:1061(write_bytes)\n",
      "        1    0.000    0.000    0.000    0.000 pathlib.py:523(_format_parsed_parts)\n",
      "        1    0.000    0.000    0.000    0.000 pathlib.py:536(__str__)\n",
      "        1    0.000    0.000    0.000    0.000 pathlib.py:546(__fspath__)\n",
      "        1    0.000    0.000    0.000    0.000 pathlib.py:622(name)\n",
      "        1    0.000    0.000    0.000    0.000 pathlib.py:630(suffix)\n",
      "        1    0.000    0.000    0.065    0.065 plotly.py:38(transform)\n",
      "        1    0.000    0.000    0.000    0.000 subprocess.py:1233(poll)\n",
      "        1    0.000    0.000    0.000    0.000 subprocess.py:1563(_internal_poll)\n",
      "        6    0.000    0.000    0.000    0.000 utils.py:135(encode_as_plotly)\n",
      "        6    0.000    0.000    0.000    0.000 utils.py:143(encode_as_list)\n",
      "        6    0.000    0.000    0.000    0.000 utils.py:151(encode_as_sage)\n",
      "        6    0.000    0.000    0.000    0.000 utils.py:165(encode_as_pandas)\n",
      "        6    0.000    0.000    0.000    0.000 utils.py:181(encode_as_numpy)\n",
      "        6    0.000    0.000    0.000    0.000 utils.py:198(encode_as_datetime)\n",
      "        6    0.000    0.000    0.000    0.000 utils.py:206(encode_as_date)\n",
      "        1    0.000    0.000    0.000    0.000 utils.py:48(encode)\n",
      "        6    0.000    0.000    0.000    0.000 utils.py:85(default)\n",
      "        1    0.000    0.000    0.000    0.000 {built-in method _winapi.WaitForSingleObject}\n",
      "        1    0.000    0.000    0.000    0.000 {built-in method binascii.a2b_base64}\n",
      "        1    0.000    0.000    0.069    0.069 {built-in method builtins.exec}\n",
      "    21/15    0.000    0.000    0.000    0.000 {built-in method builtins.getattr}\n",
      "       13    0.000    0.000    0.000    0.000 {built-in method builtins.hasattr}\n",
      "     1985    0.000    0.000    0.000    0.000 {built-in method builtins.id}\n",
      "       26    0.000    0.000    0.000    0.000 {built-in method builtins.isinstance}\n",
      "        6    0.000    0.000    0.000    0.000 {built-in method builtins.issubclass}\n",
      "        8    0.000    0.000    0.000    0.000 {built-in method builtins.len}\n",
      "        1    0.000    0.000    0.000    0.000 {built-in method io.open}\n",
      "        6    0.000    0.000    0.000    0.000 {method '__deepcopy__' of 'numpy.ndarray' objects}\n",
      "        1    0.000    0.000    0.000    0.000 {method '__exit__' of '_io._IOBase' objects}\n",
      "        1    0.000    0.000    0.000    0.000 {method '__exit__' of '_thread.lock' objects}\n",
      "      660    0.000    0.000    0.000    0.000 {method 'append' of 'list' objects}\n",
      "        1    0.000    0.000    0.000    0.000 {method 'decode' of 'bytes' objects}\n",
      "        1    0.000    0.000    0.000    0.000 {method 'disable' of '_lsprof.Profiler' objects}\n",
      "        3    0.000    0.000    0.000    0.000 {method 'encode' of 'str' objects}\n",
      "        2    0.000    0.000    0.000    0.000 {method 'end' of 're.Match' objects}\n",
      "        1    0.000    0.000    0.000    0.000 {method 'flush' of '_io.BufferedWriter' objects}\n",
      "        5    0.000    0.000    0.000    0.000 {method 'format' of 'str' objects}\n",
      "     2826    0.000    0.000    0.000    0.000 {method 'get' of 'dict' objects}\n",
      "      143    0.000    0.000    0.000    0.000 {method 'items' of 'dict' objects}\n",
      "        7    0.000    0.000    0.000    0.000 {method 'join' of 'str' objects}\n",
      "        1    0.000    0.000    0.000    0.000 {method 'lower' of 'str' objects}\n",
      "        1    0.000    0.000    0.000    0.000 {method 'lstrip' of 'str' objects}\n",
      "        2    0.000    0.000    0.000    0.000 {method 'match' of 're.Pattern' objects}\n",
      "        1    0.064    0.064    0.064    0.064 {method 'readline' of '_io.BufferedReader' objects}\n",
      "        1    0.000    0.000    0.000    0.000 {method 'rfind' of 'str' objects}\n",
      "        5    0.000    0.000    0.000    0.000 {method 'rsplit' of 'str' objects}\n",
      "        5    0.000    0.000    0.000    0.000 {method 'split' of 'str' objects}\n",
      "        6    0.000    0.000    0.000    0.000 {method 'startswith' of 'str' objects}\n",
      "        6    0.000    0.000    0.000    0.000 {method 'tolist' of 'numpy.ndarray' objects}\n",
      "        3    0.000    0.000    0.000    0.000 {method 'write' of '_io.BufferedWriter' objects}\n",
      "\n",
      "\n"
     ]
    }
   ],
   "source": [
    "if generate:\n",
    "    image_dir = working_dir / \"images\"\n",
    "    cProfile.run(\"subplots2d_multiple.figure.to_plotly_json()\")\n",
    "\n",
    "    html_file = working_dir / \"images\" / \"subplot_2d_multiple.html\"\n",
    "    cProfile.run(\"subplots2d_multiple.figure.write_html(html_file)\")\n",
    "\n",
    "    png_file = working_dir / \"images\" / \"subplot_2d_multiple.png\"\n",
    "    cProfile.run(\"subplots2d_multiple.figure.write_image(png_file, engine='kaleido')\")"
   ]
  },
  {
   "cell_type": "markdown",
   "metadata": {},
   "source": [
    "### 3D"
   ]
  },
  {
   "cell_type": "code",
   "execution_count": 217,
   "metadata": {},
   "outputs": [
    {
     "data": {
      "text/html": [
       "        <script type=\"text/javascript\">\n",
       "        window.PlotlyConfig = {MathJaxConfig: 'local'};\n",
       "        if (window.MathJax && window.MathJax.Hub && window.MathJax.Hub.Config) {window.MathJax.Hub.Config({SVG: {font: \"STIX-Web\"}});}\n",
       "        if (typeof require !== 'undefined') {\n",
       "        require.undef(\"plotly\");\n",
       "        requirejs.config({\n",
       "            paths: {\n",
       "                'plotly': ['https://cdn.plot.ly/plotly-2.29.1.min']\n",
       "            }\n",
       "        });\n",
       "        require(['plotly'], function(Plotly) {\n",
       "            window._Plotly = Plotly;\n",
       "        });\n",
       "        }\n",
       "        </script>\n",
       "        "
      ]
     },
     "metadata": {},
     "output_type": "display_data"
    },
    {
     "data": {
      "text/html": [
       "<div>                            <div id=\"3d4fbf84-e2f0-44fd-812d-daedd29f6df4\" class=\"plotly-graph-div\" style=\"height:900px; width:650px;\"></div>            <script type=\"text/javascript\">                require([\"plotly\"], function(Plotly) {                    window.PLOTLYENV=window.PLOTLYENV || {};                                    if (document.getElementById(\"3d4fbf84-e2f0-44fd-812d-daedd29f6df4\")) {                    Plotly.newPlot(                        \"3d4fbf84-e2f0-44fd-812d-daedd29f6df4\",                        [{\"connectgaps\":true,\"legendgroup\":\"1-1\",\"legendgrouptitle\":{\"text\":\"Group 1\"},\"line\":{\"dash\":\"solid\",\"width\":2},\"marker\":{\"size\":5,\"symbol\":\"circle\"},\"mode\":\"lines\",\"showlegend\":true,\"x\":[10,20,30,40,50,60],\"y\":[0.001,0.002,0.003,0.004,0.005,0.006],\"z\":[100,110,120,130,140,150],\"type\":\"scatter3d\",\"scene\":\"scene\"},{\"connectgaps\":true,\"legendgroup\":\"2-1\",\"legendgrouptitle\":{\"text\":\"Group 2\"},\"line\":{\"dash\":\"solid\",\"width\":2},\"marker\":{\"size\":5,\"symbol\":\"circle\"},\"mode\":\"lines\",\"showlegend\":true,\"x\":[100,110,120,130,140,150],\"y\":[0.01,0.02,0.03,0.04,0.05,0.06],\"z\":[1,2,3,4,5,6],\"type\":\"scatter3d\",\"scene\":\"scene2\"},{\"connectgaps\":true,\"legendgroup\":\"3-1\",\"legendgrouptitle\":{\"text\":\"Group 3\"},\"line\":{\"dash\":\"dash\",\"width\":2},\"marker\":{\"size\":5,\"symbol\":\"circle\"},\"mode\":\"lines\",\"showlegend\":true,\"x\":[1,2,3,4,5,6],\"y\":[0.1,0.11,0.12,0.13,0.14,0.15],\"z\":[10,20,30,40,50,60],\"type\":\"scatter3d\",\"scene\":\"scene3\"}],                        {\"template\":{\"data\":{\"histogram2dcontour\":[{\"type\":\"histogram2dcontour\",\"colorbar\":{\"outlinewidth\":1,\"ticks\":\"outside\",\"tickcolor\":\"rgb(36,36,36)\"},\"colorscale\":[[0.0,\"#440154\"],[0.1111111111111111,\"#482878\"],[0.2222222222222222,\"#3e4989\"],[0.3333333333333333,\"#31688e\"],[0.4444444444444444,\"#26828e\"],[0.5555555555555556,\"#1f9e89\"],[0.6666666666666666,\"#35b779\"],[0.7777777777777778,\"#6ece58\"],[0.8888888888888888,\"#b5de2b\"],[1.0,\"#fde725\"]]}],\"choropleth\":[{\"type\":\"choropleth\",\"colorbar\":{\"outlinewidth\":1,\"ticks\":\"outside\",\"tickcolor\":\"rgb(36,36,36)\"}}],\"histogram2d\":[{\"type\":\"histogram2d\",\"colorbar\":{\"outlinewidth\":1,\"ticks\":\"outside\",\"tickcolor\":\"rgb(36,36,36)\"},\"colorscale\":[[0.0,\"#440154\"],[0.1111111111111111,\"#482878\"],[0.2222222222222222,\"#3e4989\"],[0.3333333333333333,\"#31688e\"],[0.4444444444444444,\"#26828e\"],[0.5555555555555556,\"#1f9e89\"],[0.6666666666666666,\"#35b779\"],[0.7777777777777778,\"#6ece58\"],[0.8888888888888888,\"#b5de2b\"],[1.0,\"#fde725\"]]}],\"heatmap\":[{\"type\":\"heatmap\",\"colorbar\":{\"outlinewidth\":1,\"ticks\":\"outside\",\"tickcolor\":\"rgb(36,36,36)\"},\"colorscale\":[[0.0,\"#440154\"],[0.1111111111111111,\"#482878\"],[0.2222222222222222,\"#3e4989\"],[0.3333333333333333,\"#31688e\"],[0.4444444444444444,\"#26828e\"],[0.5555555555555556,\"#1f9e89\"],[0.6666666666666666,\"#35b779\"],[0.7777777777777778,\"#6ece58\"],[0.8888888888888888,\"#b5de2b\"],[1.0,\"#fde725\"]]}],\"heatmapgl\":[{\"type\":\"heatmapgl\",\"colorbar\":{\"outlinewidth\":1,\"ticks\":\"outside\",\"tickcolor\":\"rgb(36,36,36)\"},\"colorscale\":[[0.0,\"#440154\"],[0.1111111111111111,\"#482878\"],[0.2222222222222222,\"#3e4989\"],[0.3333333333333333,\"#31688e\"],[0.4444444444444444,\"#26828e\"],[0.5555555555555556,\"#1f9e89\"],[0.6666666666666666,\"#35b779\"],[0.7777777777777778,\"#6ece58\"],[0.8888888888888888,\"#b5de2b\"],[1.0,\"#fde725\"]]}],\"contourcarpet\":[{\"type\":\"contourcarpet\",\"colorbar\":{\"outlinewidth\":1,\"ticks\":\"outside\",\"tickcolor\":\"rgb(36,36,36)\"}}],\"contour\":[{\"type\":\"contour\",\"colorbar\":{\"outlinewidth\":1,\"ticks\":\"outside\",\"tickcolor\":\"rgb(36,36,36)\"},\"colorscale\":[[0.0,\"#440154\"],[0.1111111111111111,\"#482878\"],[0.2222222222222222,\"#3e4989\"],[0.3333333333333333,\"#31688e\"],[0.4444444444444444,\"#26828e\"],[0.5555555555555556,\"#1f9e89\"],[0.6666666666666666,\"#35b779\"],[0.7777777777777778,\"#6ece58\"],[0.8888888888888888,\"#b5de2b\"],[1.0,\"#fde725\"]]}],\"surface\":[{\"type\":\"surface\",\"colorbar\":{\"outlinewidth\":1,\"ticks\":\"outside\",\"tickcolor\":\"rgb(36,36,36)\"},\"colorscale\":[[0.0,\"#440154\"],[0.1111111111111111,\"#482878\"],[0.2222222222222222,\"#3e4989\"],[0.3333333333333333,\"#31688e\"],[0.4444444444444444,\"#26828e\"],[0.5555555555555556,\"#1f9e89\"],[0.6666666666666666,\"#35b779\"],[0.7777777777777778,\"#6ece58\"],[0.8888888888888888,\"#b5de2b\"],[1.0,\"#fde725\"]]}],\"mesh3d\":[{\"type\":\"mesh3d\",\"colorbar\":{\"outlinewidth\":1,\"ticks\":\"outside\",\"tickcolor\":\"rgb(36,36,36)\"}}],\"scatter\":[{\"fillpattern\":{\"fillmode\":\"overlay\",\"size\":10,\"solidity\":0.2},\"type\":\"scatter\"}],\"parcoords\":[{\"type\":\"parcoords\",\"line\":{\"colorbar\":{\"outlinewidth\":1,\"ticks\":\"outside\",\"tickcolor\":\"rgb(36,36,36)\"}}}],\"scatterpolargl\":[{\"type\":\"scatterpolargl\",\"marker\":{\"colorbar\":{\"outlinewidth\":1,\"ticks\":\"outside\",\"tickcolor\":\"rgb(36,36,36)\"}}}],\"bar\":[{\"error_x\":{\"color\":\"rgb(36,36,36)\"},\"error_y\":{\"color\":\"rgb(36,36,36)\"},\"marker\":{\"line\":{\"color\":\"white\",\"width\":0.5},\"pattern\":{\"fillmode\":\"overlay\",\"size\":10,\"solidity\":0.2}},\"type\":\"bar\"}],\"scattergeo\":[{\"type\":\"scattergeo\",\"marker\":{\"colorbar\":{\"outlinewidth\":1,\"ticks\":\"outside\",\"tickcolor\":\"rgb(36,36,36)\"}}}],\"scatterpolar\":[{\"type\":\"scatterpolar\",\"marker\":{\"colorbar\":{\"outlinewidth\":1,\"ticks\":\"outside\",\"tickcolor\":\"rgb(36,36,36)\"}}}],\"histogram\":[{\"marker\":{\"pattern\":{\"fillmode\":\"overlay\",\"size\":10,\"solidity\":0.2},\"line\":{\"color\":\"white\",\"width\":0.6}},\"type\":\"histogram\"}],\"scattergl\":[{\"type\":\"scattergl\",\"marker\":{\"colorbar\":{\"outlinewidth\":1,\"ticks\":\"outside\",\"tickcolor\":\"rgb(36,36,36)\"}}}],\"scatter3d\":[{\"type\":\"scatter3d\",\"line\":{\"colorbar\":{\"outlinewidth\":1,\"ticks\":\"outside\",\"tickcolor\":\"rgb(36,36,36)\"}},\"marker\":{\"colorbar\":{\"outlinewidth\":1,\"ticks\":\"outside\",\"tickcolor\":\"rgb(36,36,36)\"}}}],\"scattermapbox\":[{\"type\":\"scattermapbox\",\"marker\":{\"colorbar\":{\"outlinewidth\":1,\"ticks\":\"outside\",\"tickcolor\":\"rgb(36,36,36)\"}}}],\"scatterternary\":[{\"type\":\"scatterternary\",\"marker\":{\"colorbar\":{\"outlinewidth\":1,\"ticks\":\"outside\",\"tickcolor\":\"rgb(36,36,36)\"}}}],\"scattercarpet\":[{\"type\":\"scattercarpet\",\"marker\":{\"colorbar\":{\"outlinewidth\":1,\"ticks\":\"outside\",\"tickcolor\":\"rgb(36,36,36)\"}}}],\"carpet\":[{\"aaxis\":{\"endlinecolor\":\"rgb(36,36,36)\",\"gridcolor\":\"white\",\"linecolor\":\"white\",\"minorgridcolor\":\"white\",\"startlinecolor\":\"rgb(36,36,36)\"},\"baxis\":{\"endlinecolor\":\"rgb(36,36,36)\",\"gridcolor\":\"white\",\"linecolor\":\"white\",\"minorgridcolor\":\"white\",\"startlinecolor\":\"rgb(36,36,36)\"},\"type\":\"carpet\"}],\"table\":[{\"cells\":{\"fill\":{\"color\":\"rgb(237,237,237)\"},\"line\":{\"color\":\"white\"}},\"header\":{\"fill\":{\"color\":\"rgb(217,217,217)\"},\"line\":{\"color\":\"white\"}},\"type\":\"table\"}],\"barpolar\":[{\"marker\":{\"line\":{\"color\":\"white\",\"width\":0.5},\"pattern\":{\"fillmode\":\"overlay\",\"size\":10,\"solidity\":0.2}},\"type\":\"barpolar\"}],\"pie\":[{\"automargin\":true,\"type\":\"pie\"}]},\"layout\":{\"autotypenumbers\":\"strict\",\"colorway\":[\"#1F77B4\",\"#FF7F0E\",\"#2CA02C\",\"#D62728\",\"#9467BD\",\"#8C564B\",\"#E377C2\",\"#7F7F7F\",\"#BCBD22\",\"#17BECF\"],\"font\":{\"color\":\"rgb(36,36,36)\"},\"hovermode\":\"closest\",\"hoverlabel\":{\"align\":\"left\"},\"paper_bgcolor\":\"white\",\"plot_bgcolor\":\"white\",\"polar\":{\"bgcolor\":\"white\",\"angularaxis\":{\"gridcolor\":\"rgb(232,232,232)\",\"linecolor\":\"rgb(36,36,36)\",\"ticks\":\"outside\",\"showgrid\":false,\"showline\":true},\"radialaxis\":{\"gridcolor\":\"rgb(232,232,232)\",\"linecolor\":\"rgb(36,36,36)\",\"ticks\":\"outside\",\"showgrid\":false,\"showline\":true}},\"ternary\":{\"bgcolor\":\"white\",\"aaxis\":{\"gridcolor\":\"rgb(232,232,232)\",\"linecolor\":\"rgb(36,36,36)\",\"ticks\":\"outside\",\"showgrid\":false,\"showline\":true},\"baxis\":{\"gridcolor\":\"rgb(232,232,232)\",\"linecolor\":\"rgb(36,36,36)\",\"ticks\":\"outside\",\"showgrid\":false,\"showline\":true},\"caxis\":{\"gridcolor\":\"rgb(232,232,232)\",\"linecolor\":\"rgb(36,36,36)\",\"ticks\":\"outside\",\"showgrid\":false,\"showline\":true}},\"coloraxis\":{\"colorbar\":{\"outlinewidth\":1,\"ticks\":\"outside\",\"tickcolor\":\"rgb(36,36,36)\"}},\"colorscale\":{\"sequential\":[[0.0,\"#440154\"],[0.1111111111111111,\"#482878\"],[0.2222222222222222,\"#3e4989\"],[0.3333333333333333,\"#31688e\"],[0.4444444444444444,\"#26828e\"],[0.5555555555555556,\"#1f9e89\"],[0.6666666666666666,\"#35b779\"],[0.7777777777777778,\"#6ece58\"],[0.8888888888888888,\"#b5de2b\"],[1.0,\"#fde725\"]],\"sequentialminus\":[[0.0,\"#440154\"],[0.1111111111111111,\"#482878\"],[0.2222222222222222,\"#3e4989\"],[0.3333333333333333,\"#31688e\"],[0.4444444444444444,\"#26828e\"],[0.5555555555555556,\"#1f9e89\"],[0.6666666666666666,\"#35b779\"],[0.7777777777777778,\"#6ece58\"],[0.8888888888888888,\"#b5de2b\"],[1.0,\"#fde725\"]],\"diverging\":[[0.0,\"rgb(103,0,31)\"],[0.1,\"rgb(178,24,43)\"],[0.2,\"rgb(214,96,77)\"],[0.3,\"rgb(244,165,130)\"],[0.4,\"rgb(253,219,199)\"],[0.5,\"rgb(247,247,247)\"],[0.6,\"rgb(209,229,240)\"],[0.7,\"rgb(146,197,222)\"],[0.8,\"rgb(67,147,195)\"],[0.9,\"rgb(33,102,172)\"],[1.0,\"rgb(5,48,97)\"]]},\"xaxis\":{\"gridcolor\":\"rgb(232,232,232)\",\"linecolor\":\"rgb(36,36,36)\",\"ticks\":\"outside\",\"title\":{\"standoff\":15},\"zerolinecolor\":\"rgb(36,36,36)\",\"automargin\":true,\"zerolinewidth\":2,\"showgrid\":false,\"showline\":true,\"zeroline\":false},\"yaxis\":{\"gridcolor\":\"rgb(232,232,232)\",\"linecolor\":\"rgb(36,36,36)\",\"ticks\":\"outside\",\"title\":{\"standoff\":15},\"zerolinecolor\":\"rgb(36,36,36)\",\"automargin\":true,\"zerolinewidth\":2,\"showgrid\":false,\"showline\":true,\"zeroline\":false},\"scene\":{\"xaxis\":{\"backgroundcolor\":\"white\",\"gridcolor\":\"rgb(232,232,232)\",\"linecolor\":\"rgb(36,36,36)\",\"showbackground\":true,\"ticks\":\"outside\",\"zerolinecolor\":\"rgb(36,36,36)\",\"gridwidth\":2,\"showgrid\":false,\"showline\":true,\"zeroline\":false},\"yaxis\":{\"backgroundcolor\":\"white\",\"gridcolor\":\"rgb(232,232,232)\",\"linecolor\":\"rgb(36,36,36)\",\"showbackground\":true,\"ticks\":\"outside\",\"zerolinecolor\":\"rgb(36,36,36)\",\"gridwidth\":2,\"showgrid\":false,\"showline\":true,\"zeroline\":false},\"zaxis\":{\"backgroundcolor\":\"white\",\"gridcolor\":\"rgb(232,232,232)\",\"linecolor\":\"rgb(36,36,36)\",\"showbackground\":true,\"ticks\":\"outside\",\"zerolinecolor\":\"rgb(36,36,36)\",\"gridwidth\":2,\"showgrid\":false,\"showline\":true,\"zeroline\":false}},\"shapedefaults\":{\"line\":{\"color\":\"#2a3f5f\",\"width\":0},\"fillcolor\":\"black\",\"opacity\":0.3},\"annotationdefaults\":{\"arrowcolor\":\"#2a3f5f\",\"arrowhead\":0,\"arrowwidth\":1},\"geo\":{\"bgcolor\":\"white\",\"landcolor\":\"white\",\"subunitcolor\":\"white\",\"showland\":true,\"showlakes\":true,\"lakecolor\":\"white\"},\"title\":{\"x\":0.05},\"mapbox\":{\"style\":\"light\"}}},\"scene\":{\"domain\":{\"x\":[0.0,1.0],\"y\":[0.72,1.0]},\"xaxis\":{\"title\":{\"font\":{\"size\":12},\"text\":\"X Label\"},\"showgrid\":true,\"linecolor\":\"black\",\"linewidth\":1,\"mirror\":true,\"tickmode\":\"auto\",\"tickvals\":[1,3,5,7,9,11],\"ticktext\":[\"One\",\"Three\",\"Five\",\"Seven\",\"Nine\",\"Eleven\"]},\"yaxis\":{\"title\":{\"font\":{\"size\":12},\"text\":\"Y Label\"},\"showgrid\":true,\"linecolor\":\"black\",\"linewidth\":1,\"mirror\":true,\"tickmode\":\"auto\",\"tickvals\":[1,3,5,7,9,11],\"ticktext\":[\"One\",\"Three\",\"Five\",\"Seven\",\"Nine\",\"Eleven\"]},\"zaxis\":{\"title\":{\"font\":{\"size\":12},\"text\":\"Z Label\"},\"showgrid\":true,\"linecolor\":\"black\",\"linewidth\":1,\"mirror\":true,\"tickmode\":\"auto\",\"tickvals\":[1,3,5,7,9,11],\"ticktext\":[\"One\",\"Three\",\"Five\",\"Seven\",\"Nine\",\"Eleven\"]},\"camera\":{\"projection\":{\"type\":\"orthographic\"},\"eye\":{\"x\":-1.25,\"z\":0.8}}},\"scene2\":{\"domain\":{\"x\":[0.0,1.0],\"y\":[0.36,0.6399999999999999]},\"xaxis\":{\"title\":{\"font\":{\"size\":12},\"text\":\"X Label\"},\"showgrid\":true,\"linecolor\":\"black\",\"linewidth\":1,\"mirror\":true,\"tickmode\":\"auto\",\"tickvals\":[1,3,5,7,9,11],\"ticktext\":[\"One\",\"Three\",\"Five\",\"Seven\",\"Nine\",\"Eleven\"]},\"yaxis\":{\"title\":{\"font\":{\"size\":12},\"text\":\"Y Label\"},\"showgrid\":true,\"linecolor\":\"black\",\"linewidth\":1,\"mirror\":true,\"tickmode\":\"auto\",\"tickvals\":[1,3,5,7,9,11],\"ticktext\":[\"One\",\"Three\",\"Five\",\"Seven\",\"Nine\",\"Eleven\"]},\"zaxis\":{\"title\":{\"font\":{\"size\":12},\"text\":\"Z Label\"},\"showgrid\":true,\"linecolor\":\"black\",\"linewidth\":1,\"mirror\":true,\"tickmode\":\"auto\",\"tickvals\":[1,3,5,7,9,11],\"ticktext\":[\"One\",\"Three\",\"Five\",\"Seven\",\"Nine\",\"Eleven\"]},\"camera\":{\"projection\":{\"type\":\"orthographic\"},\"eye\":{\"x\":-1.25,\"z\":0.8}}},\"scene3\":{\"domain\":{\"x\":[0.0,1.0],\"y\":[0.0,0.27999999999999997]},\"xaxis\":{\"title\":{\"font\":{\"size\":12},\"text\":\"X Label\"},\"showgrid\":true,\"linecolor\":\"black\",\"linewidth\":1,\"mirror\":true,\"tickmode\":\"auto\",\"tickvals\":[1,3,5,7,9,11],\"ticktext\":[\"One\",\"Three\",\"Five\",\"Seven\",\"Nine\",\"Eleven\"]},\"yaxis\":{\"title\":{\"font\":{\"size\":12},\"text\":\"Y Label\"},\"showgrid\":true,\"linecolor\":\"black\",\"linewidth\":1,\"mirror\":true,\"tickmode\":\"auto\",\"tickvals\":[1,3,5,7,9,11],\"ticktext\":[\"One\",\"Three\",\"Five\",\"Seven\",\"Nine\",\"Eleven\"]},\"zaxis\":{\"title\":{\"font\":{\"size\":12},\"text\":\"Z Label\"},\"showgrid\":true,\"linecolor\":\"black\",\"linewidth\":1,\"mirror\":true,\"tickmode\":\"auto\",\"tickvals\":[1,3,5,7,9,11],\"ticktext\":[\"One\",\"Three\",\"Five\",\"Seven\",\"Nine\",\"Eleven\"]},\"camera\":{\"projection\":{\"type\":\"orthographic\"},\"eye\":{\"x\":-1.25,\"z\":0.8}}},\"annotations\":[{\"font\":{\"size\":16},\"showarrow\":false,\"text\":\"Subplot 1\",\"x\":0.5,\"xanchor\":\"center\",\"xref\":\"paper\",\"y\":1.0,\"yanchor\":\"bottom\",\"yref\":\"paper\"},{\"font\":{\"size\":16},\"showarrow\":false,\"text\":\"Subplot 2\",\"x\":0.5,\"xanchor\":\"center\",\"xref\":\"paper\",\"y\":0.6399999999999999,\"yanchor\":\"bottom\",\"yref\":\"paper\"},{\"font\":{\"size\":16},\"showarrow\":false,\"text\":\"Subplot 3\",\"x\":0.5,\"xanchor\":\"center\",\"xref\":\"paper\",\"y\":0.27999999999999997,\"yanchor\":\"bottom\",\"yref\":\"paper\"},{\"font\":{\"size\":10},\"showarrow\":false,\"text\":\"\\u003cb\\u003eUNCLASSIFIED\\u002f\\u002fFOUO\\u003c\\u002fb\\u003e\",\"visible\":false,\"x\":1,\"xanchor\":\"right\",\"xref\":\"paper\",\"xshift\":65,\"y\":0,\"yanchor\":\"bottom\",\"yref\":\"paper\",\"yshift\":-70},{\"showarrow\":false,\"text\":\"Miss distance 20.10 m\",\"x\":-0.01,\"xref\":\"paper\",\"y\":-0.13,\"yref\":\"paper\"},{\"showarrow\":false,\"text\":\"Missile Info: MSL_1\",\"x\":1.01,\"xref\":\"paper\",\"y\":-0.13,\"yref\":\"paper\"}],\"legend\":{\"title\":{\"text\":\"Legend\"}},\"margin\":{\"b\":60,\"l\":20,\"r\":1,\"t\":30},\"title\":{\"font\":{\"size\":13},\"text\":\"\\u003cb\\u003e\\u003c\\u002fb\\u003e\",\"x\":0.5,\"xanchor\":\"center\",\"yanchor\":\"top\"},\"height\":900,\"width\":650},                        {\"responsive\": true}                    ).then(function(){\n",
       "                            \n",
       "var gd = document.getElementById('3d4fbf84-e2f0-44fd-812d-daedd29f6df4');\n",
       "var x = new MutationObserver(function (mutations, observer) {{\n",
       "        var display = window.getComputedStyle(gd).display;\n",
       "        if (!display || display === 'none') {{\n",
       "            console.log([gd, 'removed!']);\n",
       "            Plotly.purge(gd);\n",
       "            observer.disconnect();\n",
       "        }}\n",
       "}});\n",
       "\n",
       "// Listen for the removal of the full notebook cells\n",
       "var notebookContainer = gd.closest('#notebook-container');\n",
       "if (notebookContainer) {{\n",
       "    x.observe(notebookContainer, {childList: true});\n",
       "}}\n",
       "\n",
       "// Listen for the clearing of the current output cell\n",
       "var outputEl = gd.closest('.output');\n",
       "if (outputEl) {{\n",
       "    x.observe(outputEl, {childList: true});\n",
       "}}\n",
       "\n",
       "                        })                };                });            </script>        </div>"
      ]
     },
     "metadata": {},
     "output_type": "display_data"
    }
   ],
   "source": [
    "# Variables\n",
    "id = \"subplot_3d\"\n",
    "\n",
    "subplots3d = Subplots(templates[id], data[id])\n",
    "\n",
    "if render_plots:\n",
    "    subplots3d.show_plot(\"notebook_connected\")"
   ]
  },
  {
   "cell_type": "code",
   "execution_count": 218,
   "metadata": {},
   "outputs": [
    {
     "name": "stdout",
     "output_type": "stream",
     "text": [
      "         10095 function calls (8206 primitive calls) in 0.003 seconds\n",
      "\n",
      "   Ordered by: standard name\n",
      "\n",
      "   ncalls  tottime  percall  cumtime  percall filename:lineno(function)\n",
      "        1    0.000    0.000    0.003    0.003 <string>:1(<module>)\n",
      "        1    0.000    0.000    0.003    0.003 basedatatypes.py:3285(to_dict)\n",
      "        1    0.000    0.000    0.000    0.000 basedatatypes.py:3308(<listcomp>)\n",
      "        1    0.000    0.000    0.003    0.003 basedatatypes.py:3315(to_plotly_json)\n",
      "   1626/3    0.001    0.000    0.003    0.001 copy.py:128(deepcopy)\n",
      "     1291    0.000    0.000    0.000    0.000 copy.py:182(_deepcopy_atomic)\n",
      "   153/56    0.000    0.000    0.002    0.000 copy.py:201(_deepcopy_list)\n",
      "    173/4    0.000    0.000    0.003    0.001 copy.py:227(_deepcopy_dict)\n",
      "      335    0.000    0.000    0.000    0.000 copy.py:243(_keep_alive)\n",
      "        1    0.000    0.000    0.003    0.003 {built-in method builtins.exec}\n",
      "        9    0.000    0.000    0.000    0.000 {built-in method builtins.getattr}\n",
      "     2290    0.000    0.000    0.000    0.000 {built-in method builtins.id}\n",
      "        9    0.000    0.000    0.000    0.000 {built-in method builtins.issubclass}\n",
      "        9    0.000    0.000    0.000    0.000 {method '__deepcopy__' of 'numpy.ndarray' objects}\n",
      "      769    0.000    0.000    0.000    0.000 {method 'append' of 'list' objects}\n",
      "        1    0.000    0.000    0.000    0.000 {method 'disable' of '_lsprof.Profiler' objects}\n",
      "     3252    0.000    0.000    0.000    0.000 {method 'get' of 'dict' objects}\n",
      "      173    0.000    0.000    0.000    0.000 {method 'items' of 'dict' objects}\n",
      "\n",
      "\n",
      "         10413 function calls (8524 primitive calls) in 0.021 seconds\n",
      "\n",
      "   Ordered by: standard name\n",
      "\n",
      "   ncalls  tottime  percall  cumtime  percall filename:lineno(function)\n",
      "        1    0.000    0.000    0.000    0.000 <frozen codecs>:186(__init__)\n",
      "        1    0.000    0.000    0.000    0.000 <frozen genericpath>:16(exists)\n",
      "        1    0.000    0.000    0.000    0.000 <frozen importlib._bootstrap>:1035(_resolve_name)\n",
      "        1    0.000    0.000    0.000    0.000 <frozen importlib._bootstrap>:1101(_sanity_check)\n",
      "        1    0.000    0.000    0.000    0.000 <frozen importlib._bootstrap>:1165(_find_and_load)\n",
      "        1    0.000    0.000    0.000    0.000 <frozen importlib._bootstrap>:1192(_gcd_import)\n",
      "        1    0.000    0.000    0.001    0.001 <frozen importlib._bootstrap_external>:1127(get_data)\n",
      "        1    0.000    0.000    0.000    0.000 <frozen importlib.util>:73(find_spec)\n",
      "        3    0.000    0.000    0.000    0.000 <frozen ntpath>:107(join)\n",
      "        7    0.000    0.000    0.000    0.000 <frozen ntpath>:154(splitdrive)\n",
      "        1    0.000    0.000    0.000    0.000 <frozen ntpath>:208(split)\n",
      "        1    0.000    0.000    0.000    0.000 <frozen ntpath>:249(dirname)\n",
      "        1    0.000    0.000    0.000    0.000 <frozen ntpath>:35(_get_bothseps)\n",
      "        1    0.000    0.000    0.021    0.021 <string>:1(<module>)\n",
      "        1    0.000    0.000    0.000    0.000 __init__.py:108(import_module)\n",
      "        3    0.000    0.000    0.000    0.000 __init__.py:183(dumps)\n",
      "        1    0.000    0.000    0.011    0.011 _html.py:25(to_html)\n",
      "        1    0.001    0.001    0.021    0.021 _html.py:377(write_html)\n",
      "        2    0.000    0.000    0.000    0.000 _json.py:20(default_engine)\n",
      "        2    0.000    0.000    0.000    0.000 _json.py:70(_safe)\n",
      "        2    0.000    0.000    0.001    0.000 _json.py:78(to_json_plotly)\n",
      "        1    0.000    0.000    0.003    0.003 _utils.py:6(validate_coerce_fig_to_dict)\n",
      "        1    0.000    0.000    0.003    0.003 basedatatypes.py:3285(to_dict)\n",
      "        1    0.000    0.000    0.000    0.000 basedatatypes.py:3308(<listcomp>)\n",
      "        1    0.000    0.000    0.021    0.021 basedatatypes.py:3604(write_html)\n",
      "   1626/3    0.001    0.000    0.003    0.001 copy.py:128(deepcopy)\n",
      "     1291    0.000    0.000    0.000    0.000 copy.py:182(_deepcopy_atomic)\n",
      "   153/56    0.000    0.000    0.002    0.000 copy.py:201(_deepcopy_list)\n",
      "    173/4    0.000    0.000    0.003    0.001 copy.py:227(_deepcopy_dict)\n",
      "      335    0.000    0.000    0.000    0.000 copy.py:243(_keep_alive)\n",
      "        2    0.000    0.000    0.000    0.000 encoder.py:105(__init__)\n",
      "        3    0.000    0.000    0.000    0.000 encoder.py:183(encode)\n",
      "        3    0.000    0.000    0.000    0.000 encoder.py:205(iterencode)\n",
      "        1    0.000    0.000    0.000    0.000 importers.py:23(__getattr__)\n",
      "        1    0.000    0.000    0.000    0.000 offline.py:105(_get_jconfig)\n",
      "        1    0.000    0.000    0.003    0.003 offline.py:41(get_plotlyjs)\n",
      "       37    0.000    0.000    0.000    0.000 optional_imports.py:13(get_module)\n",
      "        1    0.000    0.000    0.001    0.001 pathlib.py:1036(open)\n",
      "        1    0.000    0.000    0.009    0.009 pathlib.py:1070(write_text)\n",
      "        1    0.000    0.000    0.000    0.000 pathlib.py:523(_format_parsed_parts)\n",
      "        1    0.000    0.000    0.000    0.000 pathlib.py:536(__str__)\n",
      "        1    0.000    0.000    0.000    0.000 pathlib.py:546(__fspath__)\n",
      "        1    0.000    0.000    0.001    0.001 pkgutil.py:600(get_data)\n",
      "        1    0.000    0.000    0.000    0.000 tools.py:688(get_config_plotly_server_url)\n",
      "        9    0.000    0.000    0.000    0.000 utils.py:135(encode_as_plotly)\n",
      "        9    0.000    0.000    0.000    0.000 utils.py:143(encode_as_list)\n",
      "        9    0.000    0.000    0.000    0.000 utils.py:151(encode_as_sage)\n",
      "        9    0.000    0.000    0.000    0.000 utils.py:165(encode_as_pandas)\n",
      "        9    0.000    0.000    0.000    0.000 utils.py:181(encode_as_numpy)\n",
      "        9    0.000    0.000    0.000    0.000 utils.py:198(encode_as_datetime)\n",
      "        9    0.000    0.000    0.000    0.000 utils.py:206(encode_as_date)\n",
      "        2    0.000    0.000    0.000    0.000 utils.py:48(encode)\n",
      "        9    0.000    0.000    0.000    0.000 utils.py:85(default)\n",
      "        1    0.000    0.000    0.000    0.000 uuid.py:139(__init__)\n",
      "        1    0.000    0.000    0.000    0.000 uuid.py:280(__str__)\n",
      "        1    0.000    0.000    0.000    0.000 uuid.py:721(uuid4)\n",
      "        1    0.000    0.000    0.021    0.021 {built-in method builtins.exec}\n",
      "       12    0.000    0.000    0.000    0.000 {built-in method builtins.getattr}\n",
      "       20    0.000    0.000    0.000    0.000 {built-in method builtins.hasattr}\n",
      "     2290    0.000    0.000    0.000    0.000 {built-in method builtins.id}\n",
      "       38    0.000    0.000    0.000    0.000 {built-in method builtins.isinstance}\n",
      "        9    0.000    0.000    0.000    0.000 {built-in method builtins.issubclass}\n",
      "       10    0.000    0.000    0.000    0.000 {built-in method builtins.len}\n",
      "        1    0.000    0.000    0.000    0.000 {built-in method from_bytes}\n",
      "        1    0.000    0.000    0.000    0.000 {built-in method io.open_code}\n",
      "        1    0.001    0.001    0.001    0.001 {built-in method io.open}\n",
      "        2    0.000    0.000    0.000    0.000 {built-in method io.text_encoding}\n",
      "       11    0.000    0.000    0.000    0.000 {built-in method nt.fspath}\n",
      "        1    0.000    0.000    0.000    0.000 {built-in method nt.stat}\n",
      "        1    0.000    0.000    0.000    0.000 {built-in method nt.urandom}\n",
      "        9    0.000    0.000    0.000    0.000 {method '__deepcopy__' of 'numpy.ndarray' objects}\n",
      "        2    0.000    0.000    0.000    0.000 {method '__exit__' of '_io._IOBase' objects}\n",
      "      769    0.000    0.000    0.000    0.000 {method 'append' of 'list' objects}\n",
      "        1    0.000    0.000    0.000    0.000 {method 'count' of 'list' objects}\n",
      "        1    0.002    0.002    0.002    0.002 {method 'decode' of 'bytes' objects}\n",
      "        1    0.000    0.000    0.000    0.000 {method 'disable' of '_lsprof.Profiler' objects}\n",
      "        5    0.004    0.001    0.004    0.001 {method 'format' of 'str' objects}\n",
      "     3268    0.000    0.000    0.000    0.000 {method 'get' of 'dict' objects}\n",
      "        1    0.000    0.000    0.000    0.000 {method 'insert' of 'list' objects}\n",
      "      173    0.000    0.000    0.000    0.000 {method 'items' of 'dict' objects}\n",
      "        5    0.000    0.000    0.000    0.000 {method 'join' of 'str' objects}\n",
      "        3    0.000    0.000    0.000    0.000 {method 'pop' of 'dict' objects}\n",
      "        1    0.001    0.001    0.001    0.001 {method 'read' of '_io.BufferedReader' objects}\n",
      "       10    0.000    0.000    0.000    0.000 {method 'replace' of 'str' objects}\n",
      "        1    0.000    0.000    0.000    0.000 {method 'rsplit' of 'str' objects}\n",
      "        1    0.000    0.000    0.000    0.000 {method 'rstrip' of 'str' objects}\n",
      "        1    0.000    0.000    0.000    0.000 {method 'setdefault' of 'dict' objects}\n",
      "        2    0.000    0.000    0.000    0.000 {method 'split' of 'str' objects}\n",
      "        2    0.000    0.000    0.000    0.000 {method 'startswith' of 'str' objects}\n",
      "        1    0.000    0.000    0.000    0.000 {method 'strip' of 'str' objects}\n",
      "        9    0.000    0.000    0.000    0.000 {method 'tolist' of 'numpy.ndarray' objects}\n",
      "        1    0.008    0.008    0.008    0.008 {method 'write' of '_io.TextIOWrapper' objects}\n",
      "\n",
      "\n",
      "         10393 function calls (8496 primitive calls) in 1.199 seconds\n",
      "\n",
      "   Ordered by: standard name\n",
      "\n",
      "   ncalls  tottime  percall  cumtime  percall filename:lineno(function)\n",
      "        5    0.000    0.000    0.000    0.000 <frozen importlib._bootstrap>:1035(_resolve_name)\n",
      "        5    0.000    0.000    0.000    0.000 <frozen importlib._bootstrap>:1101(_sanity_check)\n",
      "        5    0.000    0.000    0.000    0.000 <frozen importlib._bootstrap>:1165(_find_and_load)\n",
      "        5    0.000    0.000    0.000    0.000 <frozen importlib._bootstrap>:1192(_gcd_import)\n",
      "        1    0.000    0.000    0.000    0.000 <frozen importlib._bootstrap>:1207(_handle_fromlist)\n",
      "        1    0.000    0.000    1.199    1.199 <string>:1(<module>)\n",
      "        5    0.000    0.000    0.000    0.000 __init__.py:108(import_module)\n",
      "        1    0.000    0.000    0.000    0.000 __init__.py:183(dumps)\n",
      "        4    0.000    0.000    0.000    0.000 __init__.py:282(__getattr__)\n",
      "        1    0.000    0.000    0.000    0.000 __init__.py:299(loads)\n",
      "        1    0.000    0.000    1.199    1.199 _kaleido.py:150(write_image)\n",
      "        1    0.000    0.000    1.198    1.198 _kaleido.py:25(to_image)\n",
      "        1    0.000    0.000    0.003    0.003 _utils.py:6(validate_coerce_fig_to_dict)\n",
      "        1    0.000    0.000    0.000    0.000 base.py:153(_ensure_kaleido)\n",
      "        1    0.000    0.000    1.194    1.194 base.py:277(_perform_transform)\n",
      "        1    0.000    0.000    0.000    0.000 base64.py:34(_bytes_from_decode_data)\n",
      "        1    0.000    0.000    0.000    0.000 base64.py:65(b64decode)\n",
      "        1    0.000    0.000    0.003    0.003 basedatatypes.py:3285(to_dict)\n",
      "        1    0.000    0.000    0.000    0.000 basedatatypes.py:3308(<listcomp>)\n",
      "        1    0.000    0.000    1.199    1.199 basedatatypes.py:3780(write_image)\n",
      "   1626/3    0.001    0.000    0.003    0.001 copy.py:128(deepcopy)\n",
      "     1291    0.000    0.000    0.000    0.000 copy.py:182(_deepcopy_atomic)\n",
      "   153/56    0.000    0.000    0.002    0.000 copy.py:201(_deepcopy_list)\n",
      "    173/4    0.000    0.000    0.003    0.001 copy.py:227(_deepcopy_dict)\n",
      "      335    0.000    0.000    0.000    0.000 copy.py:243(_keep_alive)\n",
      "        1    0.000    0.000    0.000    0.000 decoder.py:332(decode)\n",
      "        1    0.000    0.000    0.000    0.000 decoder.py:343(raw_decode)\n",
      "        1    0.000    0.000    0.000    0.000 encoder.py:105(__init__)\n",
      "        1    0.000    0.000    0.000    0.000 encoder.py:183(encode)\n",
      "        1    0.000    0.000    0.000    0.000 encoder.py:205(iterencode)\n",
      "      5/3    0.000    0.000    0.000    0.000 importers.py:23(__getattr__)\n",
      "       27    0.000    0.000    0.000    0.000 optional_imports.py:13(get_module)\n",
      "        1    0.000    0.000    0.000    0.000 pathlib.py:1036(open)\n",
      "        1    0.000    0.000    0.001    0.001 pathlib.py:1061(write_bytes)\n",
      "        1    0.000    0.000    0.000    0.000 pathlib.py:523(_format_parsed_parts)\n",
      "        1    0.000    0.000    0.000    0.000 pathlib.py:536(__str__)\n",
      "        1    0.000    0.000    0.000    0.000 pathlib.py:546(__fspath__)\n",
      "        1    0.000    0.000    0.000    0.000 pathlib.py:622(name)\n",
      "        1    0.000    0.000    0.000    0.000 pathlib.py:630(suffix)\n",
      "        1    0.000    0.000    1.195    1.195 plotly.py:38(transform)\n",
      "        1    0.000    0.000    0.000    0.000 subprocess.py:1233(poll)\n",
      "        1    0.000    0.000    0.000    0.000 subprocess.py:1563(_internal_poll)\n",
      "        9    0.000    0.000    0.000    0.000 utils.py:135(encode_as_plotly)\n",
      "        9    0.000    0.000    0.000    0.000 utils.py:143(encode_as_list)\n",
      "        9    0.000    0.000    0.000    0.000 utils.py:151(encode_as_sage)\n",
      "        9    0.000    0.000    0.000    0.000 utils.py:165(encode_as_pandas)\n",
      "        9    0.000    0.000    0.000    0.000 utils.py:181(encode_as_numpy)\n",
      "        9    0.000    0.000    0.000    0.000 utils.py:198(encode_as_datetime)\n",
      "        9    0.000    0.000    0.000    0.000 utils.py:206(encode_as_date)\n",
      "        1    0.000    0.000    0.000    0.000 utils.py:48(encode)\n",
      "        9    0.000    0.000    0.000    0.000 utils.py:85(default)\n",
      "        1    0.000    0.000    0.000    0.000 {built-in method _winapi.WaitForSingleObject}\n",
      "        1    0.000    0.000    0.000    0.000 {built-in method binascii.a2b_base64}\n",
      "        1    0.000    0.000    1.199    1.199 {built-in method builtins.exec}\n",
      "    24/18    0.000    0.000    0.000    0.000 {built-in method builtins.getattr}\n",
      "       19    0.000    0.000    0.000    0.000 {built-in method builtins.hasattr}\n",
      "     2290    0.000    0.000    0.000    0.000 {built-in method builtins.id}\n",
      "       29    0.000    0.000    0.000    0.000 {built-in method builtins.isinstance}\n",
      "        9    0.000    0.000    0.000    0.000 {built-in method builtins.issubclass}\n",
      "        8    0.000    0.000    0.000    0.000 {built-in method builtins.len}\n",
      "        1    0.000    0.000    0.000    0.000 {built-in method io.open}\n",
      "        9    0.000    0.000    0.000    0.000 {method '__deepcopy__' of 'numpy.ndarray' objects}\n",
      "        1    0.000    0.000    0.000    0.000 {method '__exit__' of '_io._IOBase' objects}\n",
      "        1    0.000    0.000    0.000    0.000 {method '__exit__' of '_thread.lock' objects}\n",
      "      769    0.000    0.000    0.000    0.000 {method 'append' of 'list' objects}\n",
      "        1    0.000    0.000    0.000    0.000 {method 'decode' of 'bytes' objects}\n",
      "        1    0.000    0.000    0.000    0.000 {method 'disable' of '_lsprof.Profiler' objects}\n",
      "        3    0.000    0.000    0.000    0.000 {method 'encode' of 'str' objects}\n",
      "        2    0.000    0.000    0.000    0.000 {method 'end' of 're.Match' objects}\n",
      "        1    0.000    0.000    0.000    0.000 {method 'flush' of '_io.BufferedWriter' objects}\n",
      "        5    0.000    0.000    0.000    0.000 {method 'format' of 'str' objects}\n",
      "     3262    0.000    0.000    0.000    0.000 {method 'get' of 'dict' objects}\n",
      "      173    0.000    0.000    0.000    0.000 {method 'items' of 'dict' objects}\n",
      "        7    0.000    0.000    0.000    0.000 {method 'join' of 'str' objects}\n",
      "        1    0.000    0.000    0.000    0.000 {method 'lower' of 'str' objects}\n",
      "        1    0.000    0.000    0.000    0.000 {method 'lstrip' of 'str' objects}\n",
      "        2    0.000    0.000    0.000    0.000 {method 'match' of 're.Pattern' objects}\n",
      "        1    1.193    1.193    1.193    1.193 {method 'readline' of '_io.BufferedReader' objects}\n",
      "        1    0.000    0.000    0.000    0.000 {method 'rfind' of 'str' objects}\n",
      "        5    0.000    0.000    0.000    0.000 {method 'rsplit' of 'str' objects}\n",
      "        5    0.000    0.000    0.000    0.000 {method 'split' of 'str' objects}\n",
      "        6    0.000    0.000    0.000    0.000 {method 'startswith' of 'str' objects}\n",
      "        9    0.000    0.000    0.000    0.000 {method 'tolist' of 'numpy.ndarray' objects}\n",
      "        3    0.000    0.000    0.000    0.000 {method 'write' of '_io.BufferedWriter' objects}\n",
      "\n",
      "\n"
     ]
    }
   ],
   "source": [
    "if generate:\n",
    "    image_dir = working_dir / \"images\"\n",
    "    cProfile.run(\"subplots3d.figure.to_plotly_json()\")\n",
    "\n",
    "    html_file = working_dir / \"images\" / \"subplot_3d.html\"\n",
    "    cProfile.run(\"subplots3d.figure.write_html(html_file)\")\n",
    "\n",
    "    png_file = working_dir / \"images\" / \"subplot_3d.png\"\n",
    "    cProfile.run(\"subplots3d.figure.write_image(png_file, engine='kaleido')\")"
   ]
  },
  {
   "cell_type": "markdown",
   "metadata": {},
   "source": [
    "### Mixed 3-2-2"
   ]
  },
  {
   "cell_type": "code",
   "execution_count": 219,
   "metadata": {},
   "outputs": [
    {
     "data": {
      "text/html": [
       "        <script type=\"text/javascript\">\n",
       "        window.PlotlyConfig = {MathJaxConfig: 'local'};\n",
       "        if (window.MathJax && window.MathJax.Hub && window.MathJax.Hub.Config) {window.MathJax.Hub.Config({SVG: {font: \"STIX-Web\"}});}\n",
       "        if (typeof require !== 'undefined') {\n",
       "        require.undef(\"plotly\");\n",
       "        requirejs.config({\n",
       "            paths: {\n",
       "                'plotly': ['https://cdn.plot.ly/plotly-2.29.1.min']\n",
       "            }\n",
       "        });\n",
       "        require(['plotly'], function(Plotly) {\n",
       "            window._Plotly = Plotly;\n",
       "        });\n",
       "        }\n",
       "        </script>\n",
       "        "
      ]
     },
     "metadata": {},
     "output_type": "display_data"
    },
    {
     "data": {
      "text/html": [
       "<div>                            <div id=\"81f092de-9788-45ca-b877-542e54e63d2d\" class=\"plotly-graph-div\" style=\"height:900px; width:650px;\"></div>            <script type=\"text/javascript\">                require([\"plotly\"], function(Plotly) {                    window.PLOTLYENV=window.PLOTLYENV || {};                                    if (document.getElementById(\"81f092de-9788-45ca-b877-542e54e63d2d\")) {                    Plotly.newPlot(                        \"81f092de-9788-45ca-b877-542e54e63d2d\",                        [{\"connectgaps\":true,\"legendgroup\":\"1-1\",\"legendgrouptitle\":{\"text\":\"Group 1\"},\"line\":{\"dash\":\"solid\",\"width\":2},\"marker\":{\"size\":5,\"symbol\":\"circle\"},\"mode\":\"lines\",\"showlegend\":true,\"x\":[10,20,30,40,50,60],\"y\":[0.001,0.002,0.003,0.004,0.005,0.006],\"z\":[100,110,120,130,140,150],\"type\":\"scatter3d\",\"scene\":\"scene\"},{\"connectgaps\":true,\"legendgroup\":\"2-1\",\"legendgrouptitle\":{\"text\":\"Group 2\"},\"line\":{\"dash\":\"solid\",\"width\":2},\"marker\":{\"size\":5,\"symbol\":\"circle\"},\"mode\":\"lines\",\"showlegend\":true,\"x\":[0,1,2,3,4,5],\"y\":[10,20,30,40,50,60],\"type\":\"scatter\",\"xaxis\":\"x\",\"yaxis\":\"y\"},{\"connectgaps\":true,\"legendgroup\":\"3-1\",\"legendgrouptitle\":{\"text\":\"Group 3\"},\"line\":{\"dash\":\"dash\",\"width\":2},\"marker\":{\"size\":5,\"symbol\":\"circle\"},\"mode\":\"lines\",\"showlegend\":true,\"x\":[0,1,2,3,4,5],\"y\":[1,2,3,4,5,6],\"type\":\"scatter\",\"xaxis\":\"x2\",\"yaxis\":\"y2\"}],                        {\"template\":{\"data\":{\"histogram2dcontour\":[{\"type\":\"histogram2dcontour\",\"colorbar\":{\"outlinewidth\":1,\"ticks\":\"outside\",\"tickcolor\":\"rgb(36,36,36)\"},\"colorscale\":[[0.0,\"#440154\"],[0.1111111111111111,\"#482878\"],[0.2222222222222222,\"#3e4989\"],[0.3333333333333333,\"#31688e\"],[0.4444444444444444,\"#26828e\"],[0.5555555555555556,\"#1f9e89\"],[0.6666666666666666,\"#35b779\"],[0.7777777777777778,\"#6ece58\"],[0.8888888888888888,\"#b5de2b\"],[1.0,\"#fde725\"]]}],\"choropleth\":[{\"type\":\"choropleth\",\"colorbar\":{\"outlinewidth\":1,\"ticks\":\"outside\",\"tickcolor\":\"rgb(36,36,36)\"}}],\"histogram2d\":[{\"type\":\"histogram2d\",\"colorbar\":{\"outlinewidth\":1,\"ticks\":\"outside\",\"tickcolor\":\"rgb(36,36,36)\"},\"colorscale\":[[0.0,\"#440154\"],[0.1111111111111111,\"#482878\"],[0.2222222222222222,\"#3e4989\"],[0.3333333333333333,\"#31688e\"],[0.4444444444444444,\"#26828e\"],[0.5555555555555556,\"#1f9e89\"],[0.6666666666666666,\"#35b779\"],[0.7777777777777778,\"#6ece58\"],[0.8888888888888888,\"#b5de2b\"],[1.0,\"#fde725\"]]}],\"heatmap\":[{\"type\":\"heatmap\",\"colorbar\":{\"outlinewidth\":1,\"ticks\":\"outside\",\"tickcolor\":\"rgb(36,36,36)\"},\"colorscale\":[[0.0,\"#440154\"],[0.1111111111111111,\"#482878\"],[0.2222222222222222,\"#3e4989\"],[0.3333333333333333,\"#31688e\"],[0.4444444444444444,\"#26828e\"],[0.5555555555555556,\"#1f9e89\"],[0.6666666666666666,\"#35b779\"],[0.7777777777777778,\"#6ece58\"],[0.8888888888888888,\"#b5de2b\"],[1.0,\"#fde725\"]]}],\"heatmapgl\":[{\"type\":\"heatmapgl\",\"colorbar\":{\"outlinewidth\":1,\"ticks\":\"outside\",\"tickcolor\":\"rgb(36,36,36)\"},\"colorscale\":[[0.0,\"#440154\"],[0.1111111111111111,\"#482878\"],[0.2222222222222222,\"#3e4989\"],[0.3333333333333333,\"#31688e\"],[0.4444444444444444,\"#26828e\"],[0.5555555555555556,\"#1f9e89\"],[0.6666666666666666,\"#35b779\"],[0.7777777777777778,\"#6ece58\"],[0.8888888888888888,\"#b5de2b\"],[1.0,\"#fde725\"]]}],\"contourcarpet\":[{\"type\":\"contourcarpet\",\"colorbar\":{\"outlinewidth\":1,\"ticks\":\"outside\",\"tickcolor\":\"rgb(36,36,36)\"}}],\"contour\":[{\"type\":\"contour\",\"colorbar\":{\"outlinewidth\":1,\"ticks\":\"outside\",\"tickcolor\":\"rgb(36,36,36)\"},\"colorscale\":[[0.0,\"#440154\"],[0.1111111111111111,\"#482878\"],[0.2222222222222222,\"#3e4989\"],[0.3333333333333333,\"#31688e\"],[0.4444444444444444,\"#26828e\"],[0.5555555555555556,\"#1f9e89\"],[0.6666666666666666,\"#35b779\"],[0.7777777777777778,\"#6ece58\"],[0.8888888888888888,\"#b5de2b\"],[1.0,\"#fde725\"]]}],\"surface\":[{\"type\":\"surface\",\"colorbar\":{\"outlinewidth\":1,\"ticks\":\"outside\",\"tickcolor\":\"rgb(36,36,36)\"},\"colorscale\":[[0.0,\"#440154\"],[0.1111111111111111,\"#482878\"],[0.2222222222222222,\"#3e4989\"],[0.3333333333333333,\"#31688e\"],[0.4444444444444444,\"#26828e\"],[0.5555555555555556,\"#1f9e89\"],[0.6666666666666666,\"#35b779\"],[0.7777777777777778,\"#6ece58\"],[0.8888888888888888,\"#b5de2b\"],[1.0,\"#fde725\"]]}],\"mesh3d\":[{\"type\":\"mesh3d\",\"colorbar\":{\"outlinewidth\":1,\"ticks\":\"outside\",\"tickcolor\":\"rgb(36,36,36)\"}}],\"scatter\":[{\"fillpattern\":{\"fillmode\":\"overlay\",\"size\":10,\"solidity\":0.2},\"type\":\"scatter\"}],\"parcoords\":[{\"type\":\"parcoords\",\"line\":{\"colorbar\":{\"outlinewidth\":1,\"ticks\":\"outside\",\"tickcolor\":\"rgb(36,36,36)\"}}}],\"scatterpolargl\":[{\"type\":\"scatterpolargl\",\"marker\":{\"colorbar\":{\"outlinewidth\":1,\"ticks\":\"outside\",\"tickcolor\":\"rgb(36,36,36)\"}}}],\"bar\":[{\"error_x\":{\"color\":\"rgb(36,36,36)\"},\"error_y\":{\"color\":\"rgb(36,36,36)\"},\"marker\":{\"line\":{\"color\":\"white\",\"width\":0.5},\"pattern\":{\"fillmode\":\"overlay\",\"size\":10,\"solidity\":0.2}},\"type\":\"bar\"}],\"scattergeo\":[{\"type\":\"scattergeo\",\"marker\":{\"colorbar\":{\"outlinewidth\":1,\"ticks\":\"outside\",\"tickcolor\":\"rgb(36,36,36)\"}}}],\"scatterpolar\":[{\"type\":\"scatterpolar\",\"marker\":{\"colorbar\":{\"outlinewidth\":1,\"ticks\":\"outside\",\"tickcolor\":\"rgb(36,36,36)\"}}}],\"histogram\":[{\"marker\":{\"pattern\":{\"fillmode\":\"overlay\",\"size\":10,\"solidity\":0.2},\"line\":{\"color\":\"white\",\"width\":0.6}},\"type\":\"histogram\"}],\"scattergl\":[{\"type\":\"scattergl\",\"marker\":{\"colorbar\":{\"outlinewidth\":1,\"ticks\":\"outside\",\"tickcolor\":\"rgb(36,36,36)\"}}}],\"scatter3d\":[{\"type\":\"scatter3d\",\"line\":{\"colorbar\":{\"outlinewidth\":1,\"ticks\":\"outside\",\"tickcolor\":\"rgb(36,36,36)\"}},\"marker\":{\"colorbar\":{\"outlinewidth\":1,\"ticks\":\"outside\",\"tickcolor\":\"rgb(36,36,36)\"}}}],\"scattermapbox\":[{\"type\":\"scattermapbox\",\"marker\":{\"colorbar\":{\"outlinewidth\":1,\"ticks\":\"outside\",\"tickcolor\":\"rgb(36,36,36)\"}}}],\"scatterternary\":[{\"type\":\"scatterternary\",\"marker\":{\"colorbar\":{\"outlinewidth\":1,\"ticks\":\"outside\",\"tickcolor\":\"rgb(36,36,36)\"}}}],\"scattercarpet\":[{\"type\":\"scattercarpet\",\"marker\":{\"colorbar\":{\"outlinewidth\":1,\"ticks\":\"outside\",\"tickcolor\":\"rgb(36,36,36)\"}}}],\"carpet\":[{\"aaxis\":{\"endlinecolor\":\"rgb(36,36,36)\",\"gridcolor\":\"white\",\"linecolor\":\"white\",\"minorgridcolor\":\"white\",\"startlinecolor\":\"rgb(36,36,36)\"},\"baxis\":{\"endlinecolor\":\"rgb(36,36,36)\",\"gridcolor\":\"white\",\"linecolor\":\"white\",\"minorgridcolor\":\"white\",\"startlinecolor\":\"rgb(36,36,36)\"},\"type\":\"carpet\"}],\"table\":[{\"cells\":{\"fill\":{\"color\":\"rgb(237,237,237)\"},\"line\":{\"color\":\"white\"}},\"header\":{\"fill\":{\"color\":\"rgb(217,217,217)\"},\"line\":{\"color\":\"white\"}},\"type\":\"table\"}],\"barpolar\":[{\"marker\":{\"line\":{\"color\":\"white\",\"width\":0.5},\"pattern\":{\"fillmode\":\"overlay\",\"size\":10,\"solidity\":0.2}},\"type\":\"barpolar\"}],\"pie\":[{\"automargin\":true,\"type\":\"pie\"}]},\"layout\":{\"autotypenumbers\":\"strict\",\"colorway\":[\"#1F77B4\",\"#FF7F0E\",\"#2CA02C\",\"#D62728\",\"#9467BD\",\"#8C564B\",\"#E377C2\",\"#7F7F7F\",\"#BCBD22\",\"#17BECF\"],\"font\":{\"color\":\"rgb(36,36,36)\"},\"hovermode\":\"closest\",\"hoverlabel\":{\"align\":\"left\"},\"paper_bgcolor\":\"white\",\"plot_bgcolor\":\"white\",\"polar\":{\"bgcolor\":\"white\",\"angularaxis\":{\"gridcolor\":\"rgb(232,232,232)\",\"linecolor\":\"rgb(36,36,36)\",\"ticks\":\"outside\",\"showgrid\":false,\"showline\":true},\"radialaxis\":{\"gridcolor\":\"rgb(232,232,232)\",\"linecolor\":\"rgb(36,36,36)\",\"ticks\":\"outside\",\"showgrid\":false,\"showline\":true}},\"ternary\":{\"bgcolor\":\"white\",\"aaxis\":{\"gridcolor\":\"rgb(232,232,232)\",\"linecolor\":\"rgb(36,36,36)\",\"ticks\":\"outside\",\"showgrid\":false,\"showline\":true},\"baxis\":{\"gridcolor\":\"rgb(232,232,232)\",\"linecolor\":\"rgb(36,36,36)\",\"ticks\":\"outside\",\"showgrid\":false,\"showline\":true},\"caxis\":{\"gridcolor\":\"rgb(232,232,232)\",\"linecolor\":\"rgb(36,36,36)\",\"ticks\":\"outside\",\"showgrid\":false,\"showline\":true}},\"coloraxis\":{\"colorbar\":{\"outlinewidth\":1,\"ticks\":\"outside\",\"tickcolor\":\"rgb(36,36,36)\"}},\"colorscale\":{\"sequential\":[[0.0,\"#440154\"],[0.1111111111111111,\"#482878\"],[0.2222222222222222,\"#3e4989\"],[0.3333333333333333,\"#31688e\"],[0.4444444444444444,\"#26828e\"],[0.5555555555555556,\"#1f9e89\"],[0.6666666666666666,\"#35b779\"],[0.7777777777777778,\"#6ece58\"],[0.8888888888888888,\"#b5de2b\"],[1.0,\"#fde725\"]],\"sequentialminus\":[[0.0,\"#440154\"],[0.1111111111111111,\"#482878\"],[0.2222222222222222,\"#3e4989\"],[0.3333333333333333,\"#31688e\"],[0.4444444444444444,\"#26828e\"],[0.5555555555555556,\"#1f9e89\"],[0.6666666666666666,\"#35b779\"],[0.7777777777777778,\"#6ece58\"],[0.8888888888888888,\"#b5de2b\"],[1.0,\"#fde725\"]],\"diverging\":[[0.0,\"rgb(103,0,31)\"],[0.1,\"rgb(178,24,43)\"],[0.2,\"rgb(214,96,77)\"],[0.3,\"rgb(244,165,130)\"],[0.4,\"rgb(253,219,199)\"],[0.5,\"rgb(247,247,247)\"],[0.6,\"rgb(209,229,240)\"],[0.7,\"rgb(146,197,222)\"],[0.8,\"rgb(67,147,195)\"],[0.9,\"rgb(33,102,172)\"],[1.0,\"rgb(5,48,97)\"]]},\"xaxis\":{\"gridcolor\":\"rgb(232,232,232)\",\"linecolor\":\"rgb(36,36,36)\",\"ticks\":\"outside\",\"title\":{\"standoff\":15},\"zerolinecolor\":\"rgb(36,36,36)\",\"automargin\":true,\"zerolinewidth\":2,\"showgrid\":false,\"showline\":true,\"zeroline\":false},\"yaxis\":{\"gridcolor\":\"rgb(232,232,232)\",\"linecolor\":\"rgb(36,36,36)\",\"ticks\":\"outside\",\"title\":{\"standoff\":15},\"zerolinecolor\":\"rgb(36,36,36)\",\"automargin\":true,\"zerolinewidth\":2,\"showgrid\":false,\"showline\":true,\"zeroline\":false},\"scene\":{\"xaxis\":{\"backgroundcolor\":\"white\",\"gridcolor\":\"rgb(232,232,232)\",\"linecolor\":\"rgb(36,36,36)\",\"showbackground\":true,\"ticks\":\"outside\",\"zerolinecolor\":\"rgb(36,36,36)\",\"gridwidth\":2,\"showgrid\":false,\"showline\":true,\"zeroline\":false},\"yaxis\":{\"backgroundcolor\":\"white\",\"gridcolor\":\"rgb(232,232,232)\",\"linecolor\":\"rgb(36,36,36)\",\"showbackground\":true,\"ticks\":\"outside\",\"zerolinecolor\":\"rgb(36,36,36)\",\"gridwidth\":2,\"showgrid\":false,\"showline\":true,\"zeroline\":false},\"zaxis\":{\"backgroundcolor\":\"white\",\"gridcolor\":\"rgb(232,232,232)\",\"linecolor\":\"rgb(36,36,36)\",\"showbackground\":true,\"ticks\":\"outside\",\"zerolinecolor\":\"rgb(36,36,36)\",\"gridwidth\":2,\"showgrid\":false,\"showline\":true,\"zeroline\":false}},\"shapedefaults\":{\"line\":{\"color\":\"#2a3f5f\",\"width\":0},\"fillcolor\":\"black\",\"opacity\":0.3},\"annotationdefaults\":{\"arrowcolor\":\"#2a3f5f\",\"arrowhead\":0,\"arrowwidth\":1},\"geo\":{\"bgcolor\":\"white\",\"landcolor\":\"white\",\"subunitcolor\":\"white\",\"showland\":true,\"showlakes\":true,\"lakecolor\":\"white\"},\"title\":{\"x\":0.05},\"mapbox\":{\"style\":\"light\"}}},\"scene\":{\"domain\":{\"x\":[0.0,1.0],\"y\":[0.45,1]},\"xaxis\":{\"title\":{\"font\":{\"size\":12},\"text\":\"X Label\"},\"showgrid\":true,\"linecolor\":\"black\",\"linewidth\":1,\"mirror\":true,\"tickmode\":\"auto\",\"tickvals\":[1,3,5,7,9,11],\"ticktext\":[\"One\",\"Three\",\"Five\",\"Seven\",\"Nine\",\"Eleven\"]},\"yaxis\":{\"title\":{\"font\":{\"size\":12},\"text\":\"Y Label\"},\"showgrid\":true,\"linecolor\":\"black\",\"linewidth\":1,\"mirror\":true,\"tickmode\":\"auto\",\"tickvals\":[1,3,5,7,9,11],\"ticktext\":[\"One\",\"Three\",\"Five\",\"Seven\",\"Nine\",\"Eleven\"]},\"zaxis\":{\"title\":{\"font\":{\"size\":12},\"text\":\"Z Label\"},\"showgrid\":true,\"linecolor\":\"black\",\"linewidth\":1,\"mirror\":true,\"tickmode\":\"auto\",\"tickvals\":[1,3,5,7,9,11],\"ticktext\":[\"One\",\"Three\",\"Five\",\"Seven\",\"Nine\",\"Eleven\"]},\"camera\":{\"projection\":{\"type\":\"orthographic\"},\"eye\":{\"x\":-1.25,\"z\":0.8}}},\"xaxis\":{\"anchor\":\"y\",\"domain\":[0.0,1.0],\"title\":{\"font\":{\"size\":12},\"standoff\":1},\"showgrid\":true,\"linecolor\":\"black\",\"linewidth\":1,\"mirror\":true,\"tickmode\":\"auto\",\"tickvals\":[1,3,5,7,9,11],\"ticktext\":[\"One\",\"Three\",\"Five\",\"Seven\",\"Nine\",\"Eleven\"]},\"yaxis\":{\"anchor\":\"x\",\"domain\":[0.25,0.44],\"title\":{\"font\":{\"size\":12},\"text\":\"Position\",\"standoff\":8},\"showgrid\":true,\"linecolor\":\"black\",\"linewidth\":1,\"mirror\":true,\"tickmode\":\"auto\",\"tickvals\":[1,3,5,7,9,11],\"ticktext\":[\"One\",\"Three\",\"Five\",\"Seven\",\"Nine\",\"Eleven\"]},\"xaxis2\":{\"anchor\":\"y2\",\"domain\":[0.0,1.0],\"title\":{\"font\":{\"size\":12},\"text\":\"Time (s)\",\"standoff\":1},\"showgrid\":true,\"linecolor\":\"black\",\"linewidth\":1,\"mirror\":true,\"tickmode\":\"auto\",\"tickvals\":[1,3,5,7,9,11],\"ticktext\":[\"One\",\"Three\",\"Five\",\"Seven\",\"Nine\",\"Eleven\"]},\"yaxis2\":{\"anchor\":\"x2\",\"domain\":[0,0.21],\"title\":{\"font\":{\"size\":12},\"text\":\"Position\",\"standoff\":8},\"showgrid\":true,\"linecolor\":\"black\",\"linewidth\":1,\"mirror\":true,\"tickmode\":\"auto\",\"tickvals\":[1,3,5,7,9,11],\"ticktext\":[\"One\",\"Three\",\"Five\",\"Seven\",\"Nine\",\"Eleven\"]},\"legend\":{\"title\":{\"text\":\"Legend\"}},\"margin\":{\"b\":60,\"l\":20,\"r\":1,\"t\":30},\"title\":{\"font\":{\"size\":13},\"text\":\"\\u003cb\\u003eMixed Subplot: 3-2-2\\u003c\\u002fb\\u003e\",\"x\":0.5,\"xanchor\":\"center\",\"yanchor\":\"top\"},\"annotations\":[{\"font\":{\"size\":10},\"showarrow\":false,\"text\":\"\\u003cb\\u003eUNCLASSIFIED\\u002f\\u002fFOUO\\u003c\\u002fb\\u003e\",\"visible\":false,\"x\":0,\"xanchor\":\"left\",\"xref\":\"paper\",\"xshift\":-20,\"y\":1,\"yanchor\":\"top\",\"yref\":\"paper\",\"yshift\":40},{\"font\":{\"size\":10},\"showarrow\":false,\"text\":\"\\u003cb\\u003eUNCLASSIFIED\\u002f\\u002fFOUO\\u003c\\u002fb\\u003e\",\"visible\":false,\"x\":0,\"xanchor\":\"left\",\"xref\":\"paper\",\"xshift\":-20,\"y\":0,\"yanchor\":\"bottom\",\"yref\":\"paper\",\"yshift\":-70},{\"font\":{\"size\":10},\"showarrow\":false,\"text\":\"\\u003cb\\u003eUNCLASSIFIED\\u002f\\u002fFOUO\\u003c\\u002fb\\u003e\",\"visible\":false,\"x\":1,\"xanchor\":\"right\",\"xref\":\"paper\",\"xshift\":65,\"y\":1,\"yanchor\":\"top\",\"yref\":\"paper\",\"yshift\":40},{\"font\":{\"size\":10},\"showarrow\":false,\"text\":\"\\u003cb\\u003eUNCLASSIFIED\\u002f\\u002fFOUO\\u003c\\u002fb\\u003e\",\"visible\":false,\"x\":1,\"xanchor\":\"right\",\"xref\":\"paper\",\"xshift\":65,\"y\":0,\"yanchor\":\"bottom\",\"yref\":\"paper\",\"yshift\":-70},{\"showarrow\":false,\"text\":\"Miss distance 20.10 m\",\"x\":-0.01,\"xref\":\"paper\",\"y\":-0.13,\"yref\":\"paper\"},{\"showarrow\":false,\"text\":\"Missile Info: MSL_1\",\"x\":1.01,\"xref\":\"paper\",\"y\":-0.13,\"yref\":\"paper\"}],\"height\":900,\"width\":650},                        {\"responsive\": true}                    ).then(function(){\n",
       "                            \n",
       "var gd = document.getElementById('81f092de-9788-45ca-b877-542e54e63d2d');\n",
       "var x = new MutationObserver(function (mutations, observer) {{\n",
       "        var display = window.getComputedStyle(gd).display;\n",
       "        if (!display || display === 'none') {{\n",
       "            console.log([gd, 'removed!']);\n",
       "            Plotly.purge(gd);\n",
       "            observer.disconnect();\n",
       "        }}\n",
       "}});\n",
       "\n",
       "// Listen for the removal of the full notebook cells\n",
       "var notebookContainer = gd.closest('#notebook-container');\n",
       "if (notebookContainer) {{\n",
       "    x.observe(notebookContainer, {childList: true});\n",
       "}}\n",
       "\n",
       "// Listen for the clearing of the current output cell\n",
       "var outputEl = gd.closest('.output');\n",
       "if (outputEl) {{\n",
       "    x.observe(outputEl, {childList: true});\n",
       "}}\n",
       "\n",
       "                        })                };                });            </script>        </div>"
      ]
     },
     "metadata": {},
     "output_type": "display_data"
    }
   ],
   "source": [
    "# Variables\n",
    "id = \"mixed_3-2-2\"\n",
    "\n",
    "fig_mixed_322 = Subplots(templates[id], data[id])\n",
    "\n",
    "if render_plots:\n",
    "    fig_mixed_322.show_plot(\"notebook_connected\")"
   ]
  },
  {
   "cell_type": "code",
   "execution_count": 220,
   "metadata": {},
   "outputs": [
    {
     "name": "stdout",
     "output_type": "stream",
     "text": [
      "         9605 function calls (7804 primitive calls) in 0.003 seconds\n",
      "\n",
      "   Ordered by: standard name\n",
      "\n",
      "   ncalls  tottime  percall  cumtime  percall filename:lineno(function)\n",
      "        1    0.000    0.000    0.003    0.003 <string>:1(<module>)\n",
      "        1    0.000    0.000    0.003    0.003 basedatatypes.py:3285(to_dict)\n",
      "        1    0.000    0.000    0.000    0.000 basedatatypes.py:3308(<listcomp>)\n",
      "        1    0.000    0.000    0.003    0.003 basedatatypes.py:3315(to_plotly_json)\n",
      "   1554/3    0.001    0.000    0.003    0.001 copy.py:128(deepcopy)\n",
      "     1241    0.000    0.000    0.000    0.000 copy.py:182(_deepcopy_atomic)\n",
      "   149/52    0.000    0.000    0.002    0.000 copy.py:201(_deepcopy_list)\n",
      "    157/4    0.000    0.000    0.003    0.001 copy.py:227(_deepcopy_dict)\n",
      "      313    0.000    0.000    0.000    0.000 copy.py:243(_keep_alive)\n",
      "        1    0.000    0.000    0.003    0.003 {built-in method builtins.exec}\n",
      "        7    0.000    0.000    0.000    0.000 {built-in method builtins.getattr}\n",
      "     2176    0.000    0.000    0.000    0.000 {built-in method builtins.id}\n",
      "        7    0.000    0.000    0.000    0.000 {built-in method builtins.issubclass}\n",
      "        7    0.000    0.000    0.000    0.000 {method '__deepcopy__' of 'numpy.ndarray' objects}\n",
      "      723    0.000    0.000    0.000    0.000 {method 'append' of 'list' objects}\n",
      "        1    0.000    0.000    0.000    0.000 {method 'disable' of '_lsprof.Profiler' objects}\n",
      "     3108    0.000    0.000    0.000    0.000 {method 'get' of 'dict' objects}\n",
      "      157    0.000    0.000    0.000    0.000 {method 'items' of 'dict' objects}\n",
      "\n",
      "\n",
      "         9893 function calls (8092 primitive calls) in 0.021 seconds\n",
      "\n",
      "   Ordered by: standard name\n",
      "\n",
      "   ncalls  tottime  percall  cumtime  percall filename:lineno(function)\n",
      "        1    0.000    0.000    0.000    0.000 <frozen codecs>:186(__init__)\n",
      "        1    0.000    0.000    0.000    0.000 <frozen genericpath>:16(exists)\n",
      "        1    0.000    0.000    0.000    0.000 <frozen importlib._bootstrap>:1035(_resolve_name)\n",
      "        1    0.000    0.000    0.000    0.000 <frozen importlib._bootstrap>:1101(_sanity_check)\n",
      "        1    0.000    0.000    0.000    0.000 <frozen importlib._bootstrap>:1165(_find_and_load)\n",
      "        1    0.000    0.000    0.000    0.000 <frozen importlib._bootstrap>:1192(_gcd_import)\n",
      "        1    0.000    0.000    0.001    0.001 <frozen importlib._bootstrap_external>:1127(get_data)\n",
      "        1    0.000    0.000    0.000    0.000 <frozen importlib.util>:73(find_spec)\n",
      "        3    0.000    0.000    0.000    0.000 <frozen ntpath>:107(join)\n",
      "        7    0.000    0.000    0.000    0.000 <frozen ntpath>:154(splitdrive)\n",
      "        1    0.000    0.000    0.000    0.000 <frozen ntpath>:208(split)\n",
      "        1    0.000    0.000    0.000    0.000 <frozen ntpath>:249(dirname)\n",
      "        1    0.000    0.000    0.000    0.000 <frozen ntpath>:35(_get_bothseps)\n",
      "        1    0.000    0.000    0.021    0.021 <string>:1(<module>)\n",
      "        1    0.000    0.000    0.000    0.000 __init__.py:108(import_module)\n",
      "        3    0.000    0.000    0.000    0.000 __init__.py:183(dumps)\n",
      "        1    0.000    0.000    0.011    0.011 _html.py:25(to_html)\n",
      "        1    0.000    0.000    0.021    0.021 _html.py:377(write_html)\n",
      "        2    0.000    0.000    0.000    0.000 _json.py:20(default_engine)\n",
      "        2    0.000    0.000    0.000    0.000 _json.py:70(_safe)\n",
      "        2    0.000    0.000    0.000    0.000 _json.py:78(to_json_plotly)\n",
      "        1    0.000    0.000    0.003    0.003 _utils.py:6(validate_coerce_fig_to_dict)\n",
      "        1    0.000    0.000    0.003    0.003 basedatatypes.py:3285(to_dict)\n",
      "        1    0.000    0.000    0.000    0.000 basedatatypes.py:3308(<listcomp>)\n",
      "        1    0.000    0.000    0.021    0.021 basedatatypes.py:3604(write_html)\n",
      "   1554/3    0.001    0.000    0.003    0.001 copy.py:128(deepcopy)\n",
      "     1241    0.000    0.000    0.000    0.000 copy.py:182(_deepcopy_atomic)\n",
      "   149/52    0.000    0.000    0.002    0.000 copy.py:201(_deepcopy_list)\n",
      "    157/4    0.000    0.000    0.003    0.001 copy.py:227(_deepcopy_dict)\n",
      "      313    0.000    0.000    0.000    0.000 copy.py:243(_keep_alive)\n",
      "        2    0.000    0.000    0.000    0.000 encoder.py:105(__init__)\n",
      "        3    0.000    0.000    0.000    0.000 encoder.py:183(encode)\n",
      "        3    0.000    0.000    0.000    0.000 encoder.py:205(iterencode)\n",
      "        1    0.000    0.000    0.000    0.000 importers.py:23(__getattr__)\n",
      "        1    0.000    0.000    0.000    0.000 offline.py:105(_get_jconfig)\n",
      "        1    0.000    0.000    0.003    0.003 offline.py:41(get_plotlyjs)\n",
      "       31    0.000    0.000    0.000    0.000 optional_imports.py:13(get_module)\n",
      "        1    0.000    0.000    0.001    0.001 pathlib.py:1036(open)\n",
      "        1    0.000    0.000    0.010    0.010 pathlib.py:1070(write_text)\n",
      "        1    0.000    0.000    0.000    0.000 pathlib.py:523(_format_parsed_parts)\n",
      "        1    0.000    0.000    0.000    0.000 pathlib.py:536(__str__)\n",
      "        1    0.000    0.000    0.000    0.000 pathlib.py:546(__fspath__)\n",
      "        1    0.000    0.000    0.001    0.001 pkgutil.py:600(get_data)\n",
      "        1    0.000    0.000    0.000    0.000 tools.py:688(get_config_plotly_server_url)\n",
      "        7    0.000    0.000    0.000    0.000 utils.py:135(encode_as_plotly)\n",
      "        7    0.000    0.000    0.000    0.000 utils.py:143(encode_as_list)\n",
      "        7    0.000    0.000    0.000    0.000 utils.py:151(encode_as_sage)\n",
      "        7    0.000    0.000    0.000    0.000 utils.py:165(encode_as_pandas)\n",
      "        7    0.000    0.000    0.000    0.000 utils.py:181(encode_as_numpy)\n",
      "        7    0.000    0.000    0.000    0.000 utils.py:198(encode_as_datetime)\n",
      "        7    0.000    0.000    0.000    0.000 utils.py:206(encode_as_date)\n",
      "        2    0.000    0.000    0.000    0.000 utils.py:48(encode)\n",
      "        7    0.000    0.000    0.000    0.000 utils.py:85(default)\n",
      "        1    0.000    0.000    0.000    0.000 uuid.py:139(__init__)\n",
      "        1    0.000    0.000    0.000    0.000 uuid.py:280(__str__)\n",
      "        1    0.000    0.000    0.000    0.000 uuid.py:721(uuid4)\n",
      "        1    0.000    0.000    0.021    0.021 {built-in method builtins.exec}\n",
      "       10    0.000    0.000    0.000    0.000 {built-in method builtins.getattr}\n",
      "       16    0.000    0.000    0.000    0.000 {built-in method builtins.hasattr}\n",
      "     2176    0.000    0.000    0.000    0.000 {built-in method builtins.id}\n",
      "       36    0.000    0.000    0.000    0.000 {built-in method builtins.isinstance}\n",
      "        7    0.000    0.000    0.000    0.000 {built-in method builtins.issubclass}\n",
      "       10    0.000    0.000    0.000    0.000 {built-in method builtins.len}\n",
      "        1    0.000    0.000    0.000    0.000 {built-in method from_bytes}\n",
      "        1    0.000    0.000    0.000    0.000 {built-in method io.open_code}\n",
      "        1    0.001    0.001    0.001    0.001 {built-in method io.open}\n",
      "        2    0.000    0.000    0.000    0.000 {built-in method io.text_encoding}\n",
      "       11    0.000    0.000    0.000    0.000 {built-in method nt.fspath}\n",
      "        1    0.000    0.000    0.000    0.000 {built-in method nt.stat}\n",
      "        1    0.000    0.000    0.000    0.000 {built-in method nt.urandom}\n",
      "        7    0.000    0.000    0.000    0.000 {method '__deepcopy__' of 'numpy.ndarray' objects}\n",
      "        2    0.000    0.000    0.000    0.000 {method '__exit__' of '_io._IOBase' objects}\n",
      "      723    0.000    0.000    0.000    0.000 {method 'append' of 'list' objects}\n",
      "        1    0.000    0.000    0.000    0.000 {method 'count' of 'list' objects}\n",
      "        1    0.002    0.002    0.002    0.002 {method 'decode' of 'bytes' objects}\n",
      "        1    0.000    0.000    0.000    0.000 {method 'disable' of '_lsprof.Profiler' objects}\n",
      "        5    0.004    0.001    0.004    0.001 {method 'format' of 'str' objects}\n",
      "     3124    0.000    0.000    0.000    0.000 {method 'get' of 'dict' objects}\n",
      "        1    0.000    0.000    0.000    0.000 {method 'insert' of 'list' objects}\n",
      "      157    0.000    0.000    0.000    0.000 {method 'items' of 'dict' objects}\n",
      "        5    0.000    0.000    0.000    0.000 {method 'join' of 'str' objects}\n",
      "        3    0.000    0.000    0.000    0.000 {method 'pop' of 'dict' objects}\n",
      "        1    0.001    0.001    0.001    0.001 {method 'read' of '_io.BufferedReader' objects}\n",
      "       10    0.000    0.000    0.000    0.000 {method 'replace' of 'str' objects}\n",
      "        1    0.000    0.000    0.000    0.000 {method 'rsplit' of 'str' objects}\n",
      "        1    0.000    0.000    0.000    0.000 {method 'rstrip' of 'str' objects}\n",
      "        1    0.000    0.000    0.000    0.000 {method 'setdefault' of 'dict' objects}\n",
      "        2    0.000    0.000    0.000    0.000 {method 'split' of 'str' objects}\n",
      "        2    0.000    0.000    0.000    0.000 {method 'startswith' of 'str' objects}\n",
      "        1    0.000    0.000    0.000    0.000 {method 'strip' of 'str' objects}\n",
      "        7    0.000    0.000    0.000    0.000 {method 'tolist' of 'numpy.ndarray' objects}\n",
      "        1    0.009    0.009    0.009    0.009 {method 'write' of '_io.TextIOWrapper' objects}\n",
      "\n",
      "\n",
      "         9873 function calls (8064 primitive calls) in 0.983 seconds\n",
      "\n",
      "   Ordered by: standard name\n",
      "\n",
      "   ncalls  tottime  percall  cumtime  percall filename:lineno(function)\n",
      "        5    0.000    0.000    0.000    0.000 <frozen importlib._bootstrap>:1035(_resolve_name)\n",
      "        5    0.000    0.000    0.000    0.000 <frozen importlib._bootstrap>:1101(_sanity_check)\n",
      "        5    0.000    0.000    0.000    0.000 <frozen importlib._bootstrap>:1165(_find_and_load)\n",
      "        5    0.000    0.000    0.000    0.000 <frozen importlib._bootstrap>:1192(_gcd_import)\n",
      "        1    0.000    0.000    0.000    0.000 <frozen importlib._bootstrap>:1207(_handle_fromlist)\n",
      "        1    0.000    0.000    0.983    0.983 <string>:1(<module>)\n",
      "        5    0.000    0.000    0.000    0.000 __init__.py:108(import_module)\n",
      "        1    0.000    0.000    0.000    0.000 __init__.py:183(dumps)\n",
      "        4    0.000    0.000    0.000    0.000 __init__.py:282(__getattr__)\n",
      "        1    0.000    0.000    0.000    0.000 __init__.py:299(loads)\n",
      "        1    0.000    0.000    0.983    0.983 _kaleido.py:150(write_image)\n",
      "        1    0.000    0.000    0.982    0.982 _kaleido.py:25(to_image)\n",
      "        1    0.000    0.000    0.003    0.003 _utils.py:6(validate_coerce_fig_to_dict)\n",
      "        1    0.000    0.000    0.000    0.000 base.py:153(_ensure_kaleido)\n",
      "        1    0.000    0.000    0.979    0.979 base.py:277(_perform_transform)\n",
      "        1    0.000    0.000    0.000    0.000 base64.py:34(_bytes_from_decode_data)\n",
      "        1    0.000    0.000    0.000    0.000 base64.py:65(b64decode)\n",
      "        1    0.000    0.000    0.003    0.003 basedatatypes.py:3285(to_dict)\n",
      "        1    0.000    0.000    0.000    0.000 basedatatypes.py:3308(<listcomp>)\n",
      "        1    0.000    0.000    0.983    0.983 basedatatypes.py:3780(write_image)\n",
      "   1554/3    0.001    0.000    0.003    0.001 copy.py:128(deepcopy)\n",
      "     1241    0.000    0.000    0.000    0.000 copy.py:182(_deepcopy_atomic)\n",
      "   149/52    0.000    0.000    0.002    0.000 copy.py:201(_deepcopy_list)\n",
      "    157/4    0.000    0.000    0.003    0.001 copy.py:227(_deepcopy_dict)\n",
      "      313    0.000    0.000    0.000    0.000 copy.py:243(_keep_alive)\n",
      "        1    0.000    0.000    0.000    0.000 decoder.py:332(decode)\n",
      "        1    0.000    0.000    0.000    0.000 decoder.py:343(raw_decode)\n",
      "        1    0.000    0.000    0.000    0.000 encoder.py:105(__init__)\n",
      "        1    0.000    0.000    0.000    0.000 encoder.py:183(encode)\n",
      "        1    0.000    0.000    0.000    0.000 encoder.py:205(iterencode)\n",
      "      5/3    0.000    0.000    0.000    0.000 importers.py:23(__getattr__)\n",
      "       21    0.000    0.000    0.000    0.000 optional_imports.py:13(get_module)\n",
      "        1    0.000    0.000    0.001    0.001 pathlib.py:1036(open)\n",
      "        1    0.000    0.000    0.001    0.001 pathlib.py:1061(write_bytes)\n",
      "        1    0.000    0.000    0.000    0.000 pathlib.py:523(_format_parsed_parts)\n",
      "        1    0.000    0.000    0.000    0.000 pathlib.py:536(__str__)\n",
      "        1    0.000    0.000    0.000    0.000 pathlib.py:546(__fspath__)\n",
      "        1    0.000    0.000    0.000    0.000 pathlib.py:622(name)\n",
      "        1    0.000    0.000    0.000    0.000 pathlib.py:630(suffix)\n",
      "        1    0.000    0.000    0.979    0.979 plotly.py:38(transform)\n",
      "        1    0.000    0.000    0.000    0.000 subprocess.py:1233(poll)\n",
      "        1    0.000    0.000    0.000    0.000 subprocess.py:1563(_internal_poll)\n",
      "        7    0.000    0.000    0.000    0.000 utils.py:135(encode_as_plotly)\n",
      "        7    0.000    0.000    0.000    0.000 utils.py:143(encode_as_list)\n",
      "        7    0.000    0.000    0.000    0.000 utils.py:151(encode_as_sage)\n",
      "        7    0.000    0.000    0.000    0.000 utils.py:165(encode_as_pandas)\n",
      "        7    0.000    0.000    0.000    0.000 utils.py:181(encode_as_numpy)\n",
      "        7    0.000    0.000    0.000    0.000 utils.py:198(encode_as_datetime)\n",
      "        7    0.000    0.000    0.000    0.000 utils.py:206(encode_as_date)\n",
      "        1    0.000    0.000    0.000    0.000 utils.py:48(encode)\n",
      "        7    0.000    0.000    0.000    0.000 utils.py:85(default)\n",
      "        1    0.000    0.000    0.000    0.000 {built-in method _winapi.WaitForSingleObject}\n",
      "        1    0.000    0.000    0.000    0.000 {built-in method binascii.a2b_base64}\n",
      "        1    0.000    0.000    0.983    0.983 {built-in method builtins.exec}\n",
      "    22/16    0.000    0.000    0.000    0.000 {built-in method builtins.getattr}\n",
      "       15    0.000    0.000    0.000    0.000 {built-in method builtins.hasattr}\n",
      "     2176    0.000    0.000    0.000    0.000 {built-in method builtins.id}\n",
      "       27    0.000    0.000    0.000    0.000 {built-in method builtins.isinstance}\n",
      "        7    0.000    0.000    0.000    0.000 {built-in method builtins.issubclass}\n",
      "        8    0.000    0.000    0.000    0.000 {built-in method builtins.len}\n",
      "        1    0.001    0.001    0.001    0.001 {built-in method io.open}\n",
      "        7    0.000    0.000    0.000    0.000 {method '__deepcopy__' of 'numpy.ndarray' objects}\n",
      "        1    0.000    0.000    0.000    0.000 {method '__exit__' of '_io._IOBase' objects}\n",
      "        1    0.000    0.000    0.000    0.000 {method '__exit__' of '_thread.lock' objects}\n",
      "      723    0.000    0.000    0.000    0.000 {method 'append' of 'list' objects}\n",
      "        1    0.000    0.000    0.000    0.000 {method 'decode' of 'bytes' objects}\n",
      "        1    0.000    0.000    0.000    0.000 {method 'disable' of '_lsprof.Profiler' objects}\n",
      "        3    0.000    0.000    0.000    0.000 {method 'encode' of 'str' objects}\n",
      "        2    0.000    0.000    0.000    0.000 {method 'end' of 're.Match' objects}\n",
      "        1    0.000    0.000    0.000    0.000 {method 'flush' of '_io.BufferedWriter' objects}\n",
      "        5    0.000    0.000    0.000    0.000 {method 'format' of 'str' objects}\n",
      "     3118    0.000    0.000    0.000    0.000 {method 'get' of 'dict' objects}\n",
      "      157    0.000    0.000    0.000    0.000 {method 'items' of 'dict' objects}\n",
      "        7    0.000    0.000    0.000    0.000 {method 'join' of 'str' objects}\n",
      "        1    0.000    0.000    0.000    0.000 {method 'lower' of 'str' objects}\n",
      "        1    0.000    0.000    0.000    0.000 {method 'lstrip' of 'str' objects}\n",
      "        2    0.000    0.000    0.000    0.000 {method 'match' of 're.Pattern' objects}\n",
      "        1    0.978    0.978    0.978    0.978 {method 'readline' of '_io.BufferedReader' objects}\n",
      "        1    0.000    0.000    0.000    0.000 {method 'rfind' of 'str' objects}\n",
      "        5    0.000    0.000    0.000    0.000 {method 'rsplit' of 'str' objects}\n",
      "        5    0.000    0.000    0.000    0.000 {method 'split' of 'str' objects}\n",
      "        6    0.000    0.000    0.000    0.000 {method 'startswith' of 'str' objects}\n",
      "        7    0.000    0.000    0.000    0.000 {method 'tolist' of 'numpy.ndarray' objects}\n",
      "        3    0.000    0.000    0.000    0.000 {method 'write' of '_io.BufferedWriter' objects}\n",
      "\n",
      "\n"
     ]
    }
   ],
   "source": [
    "if generate:\n",
    "    image_dir = working_dir / \"images\"\n",
    "    cProfile.run(\"fig_mixed_322.figure.to_plotly_json()\")\n",
    "\n",
    "    html_file = working_dir / \"images\" / \"subplot_mixed.html\"\n",
    "    cProfile.run(\"fig_mixed_322.figure.write_html(html_file)\")\n",
    "\n",
    "    png_file = working_dir / \"images\" / \"subplot_mixed.png\"\n",
    "    cProfile.run(\"fig_mixed_322.figure.write_image(png_file, engine='kaleido')\")"
   ]
  }
 ],
 "metadata": {
  "kernelspec": {
   "display_name": "playground",
   "language": "python",
   "name": "python3"
  },
  "language_info": {
   "codemirror_mode": {
    "name": "ipython",
    "version": 3
   },
   "file_extension": ".py",
   "mimetype": "text/x-python",
   "name": "python",
   "nbconvert_exporter": "python",
   "pygments_lexer": "ipython3",
   "version": "3.11.7"
  }
 },
 "nbformat": 4,
 "nbformat_minor": 2
}
